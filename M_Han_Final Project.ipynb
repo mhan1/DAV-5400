{
 "cells": [
  {
   "cell_type": "markdown",
   "metadata": {},
   "source": [
    "# Final Project"
   ]
  },
  {
   "cell_type": "markdown",
   "metadata": {},
   "source": [
    "## Introduction\n",
    " In the state of New York, New York City which comprises five boroughs such as Manhattan, Queens, Brooklyn, Bronx and Staten Island, is the largest city in the United States. The estimated population for New York City is 8.6 million in 2017, and it is expected to reach 9 million by 2040. In order to serve this huge population, the number of open restaurants in New York City should be high enough, as we can easily imagine. As of December 31 of 2017, there are 26.7K open restaurants in New York City. This plethora of eateries offered in New York City can overwhelm New Yorkers when they need to decide where to go and what to eat. In addition, the average American eats about 4.2 commercially prepared meals per week as of 2017, in other words, as a nation, Americans eat out between four and five times a week on average which is equivalent to 18.2 meals in a month. \n",
    "\n",
    " Considering all of these, I was motivated to analyze the open restaurants in New York City, to provide New Yorkers with valuable insights regarding where to eat based on sound grounding. Despite the fact that there are a lot of reviews of restaurants available at our finger tip, it is hard to know if the restaurants of interest comply with the City and State food safety regulations through most of those reviews by customers that many people rely on when they eat outside the home. Hence, I expect my research questions in this project to help New Yorkers and visitors make better decisions when they consider eating out in New York City."
   ]
  },
  {
   "cell_type": "markdown",
   "metadata": {},
   "source": [
    "## Research Questions\n",
    "\n",
    "I want to divide my research questions by two different perspectives for better clarity.\n",
    "One is for recommended restaurants, and another is for restaurants to avoid.\n",
    "\n",
    "For recommended restaurants,\n",
    "<br>\n",
    "1) What are the restaurants that did not violate the City and State food safety regulations in each borough?\n",
    "<br>\n",
    "2) Among those restaurants that did not violate the food safety regulations, what are the restaurants that had the best reviews/rankings in each borough?\n",
    "<br>\n",
    "3) Are those restaurants getting better over time and/or keep hygiene constantly?\n",
    "\n",
    "For restaurants to avoid,\n",
    "<br>\n",
    "1) What are the restaurants that violated the City and State food safety regulations in each borough?\n",
    "<br>\n",
    "2) Among those restaurants that violated the food safety regulations, what are the restaurants that had the worst reviews/rankings in each borough?\n",
    "<br>\n",
    "3) Are those restaurants getting better over time?\n",
    "<br>\n",
    "\n",
    "Additional question by using the best restaurants recommended by Yelp,\n",
    "<br>Are the best restaurants recommended by Yelp compliant with the food safety regulation?  \n",
    "\n",
    "By answering above research questions, I can find insights on which restaurants in each borough in New York City are complying with the food safety regulations and also which restaurants are favored by the customers. This insigt will be a sound grounding for me to recommend these restaurants to those who struggle with deciding where to eat outside the home. Additionally, I will be able to find out if those recommended restaurants keep their hygiene over the years constantly. On the other hand, the restaurants to avoid will be analyzed as well in the same way that I will perform for the recommended restaurants with opposite values for each parameter to consider. The answers to the research questions will be a great help for those who seek reasonable foundations to rely on when they eat out, instead of solely depending on lay opinions or reviews."
   ]
  },
  {
   "cell_type": "markdown",
   "metadata": {},
   "source": [
    "## Data to be Used\n",
    "\n",
    "The first dataset containing the Department of Health and Mental Hygiene New York City Restaurant Inspection Results will be downloaded from NYC OpenData website in CSV format, and I will load this dataset into Jupyter notebook for analysis.\n",
    "Because of the limitations of Github repository(100MB), I truncated the dataset to contain the records from May 2017, and also deleted rows that contain missing values.\n",
    "<br>\n",
    "The second dataset containing the reviews of restaurants from Yelp.com will be read as JSON format accessible via the web API.\n",
    "\n",
    "#### Attribute information\n",
    "\n",
    "1. CAMIS: Unique identifier for the establishment (restaurant)\n",
    "2. DBA: Establishment (restaurant) name\n",
    "3. BORO: Borough of establishment (restaurant) location\n",
    "4. BUILDING: Building number for establishment (restaurant) location\n",
    "5. STREET: Street name for establishment (restaurant) location\n",
    "6. ZIPCODE: Zip code of establishment (restaurant) location\n",
    "7. PHONE: Phone number\n",
    "8. CUISINE DESCRIPTION: Establishment (restaurant) cuisine\n",
    "9. INSPECTION DATE\t　\n",
    "10. ACTION: Action associated with each establishment (restaurant) inspection\n",
    "11. VIOLATION CODE: Violation code associated with an establishment (restaurant) inspection\n",
    "12. VIOLATION DESCRIPTION: Violation description associated with an establishment  (restaurant) inspection\n",
    "13. CRITICAL FLAG: Indicator of critical violation\n",
    "14. SCORE: Total score for a particular inspection\n",
    "<br>  Restaurants with a score between 0 and 13 points earn an A, those with 14 to 27 points receive a B and those with 28\n",
    "or more a C.\n",
    "15. GRADE: Grade associated with the inspection<br>\n",
    "• N= Not Yet Graded<br>\n",
    "• A = Grade A<br>\n",
    "• B = Grade B<br>\n",
    "• C = Grade C<br>\n",
    "• Z = Grade Pending<br>\n",
    "• P=Grade Pending issued on re-opening following an initial inspection that resulted in a closure\n",
    "\n",
    "16. GRADE DATE: Date when grade was issued to the establishment (restaurant)\n",
    "17. RECORD DATE: Date record was added to dataset\n",
    "18. INSPECTION TYPE: A combination of the inspection program and the type of inspection performed"
   ]
  },
  {
   "cell_type": "markdown",
   "metadata": {},
   "source": [
    "## References\n",
    "\n",
    "1) DOHMH New York City Restaurant Inspection Results\n",
    "<br>\n",
    "https://data.cityofnewyork.us/Health/DOHMH-New-York-City-Restaurant-Inspection-Results/43nn-pn8j\n",
    "\n",
    "2) Get started with the Yelp Fusion API\n",
    "<br>\n",
    "https://www.yelp.com/developers/documentation/v3/get_started\n",
    "\n",
    "3) World Popultion Review\n",
    "<br>\n",
    "http://worldpopulationreview.com/us-cities/new-york-city-population/\n",
    "\n",
    "4) Burdens abound, but NYC restaurants' numbers are growing\n",
    "<br>\n",
    "https://www.crainsnewyork.com/article/20180412/BLOGS01/180419940/burdens-abound-but-nyc-restaurants-numbers-are-growing\n",
    "\n",
    "5) Don’t Eat Out as Often (188/365)\n",
    "<br>\n",
    "https://www.thesimpledollar.com/dont-eat-out-as-often-188365/\n",
    "\n",
    "6) How we score and grade\n",
    "<br>\n",
    "https://www1.nyc.gov/assets/doh/downloads/pdf/rii/how-we-score-grade.pdf"
   ]
  },
  {
   "cell_type": "markdown",
   "metadata": {},
   "source": [
    "## Approach\n",
    "\n",
    "First of all, I will conduct EDA(exploratory data analysis) to describe and/or validate my dataset. After that, I will transform my datasets into appropriate format for analysis(Data Wrangling).\n",
    "<br>\n",
    "For recommended restaurants,\n",
    "<br>\n",
    "1) What are the best restaurants that are compliant with the City and State food safety regulations?\n",
    "- I will extract the most recent inspectino date, and then find the restaurants who received the lowest \"Score\" for the inspections. I will choose the top 5 restaurants.\n",
    "\n",
    "<br>\n",
    "2) Among those recommended restaurants, what are the restaurnats that had the best star ratings?\n",
    "\n",
    "- I will merge the dataset from Yelp, which contains the star ratings and reveiws of the restaurants, by using the \"restaurant name\" of each restaurant selected as the top recommended restaurants as a join key.\n",
    "\n",
    "- I will assess the star ratings and reviews and draw conclusions.\n",
    "\n",
    "<br>\n",
    "3) Are those restaurants getting better over time and/or keep hygiene constantly?\n",
    "\n",
    "- I will create the line plot by using the \"Score\"(dependent variable) and \"Inspection Date\"(independent variable) columns as respective variable to see the trends over time.\n",
    "\n",
    "For restaurants to avoid, I will conduct the same procedures as described above, using appropriate values for each parameter to consider. For example, I will use the highest \"SCORE\" to select the worst 5 restaurants in NYC.  \n",
    "\n",
    "In addition, when I merged the dataset from Yelp with respective \"best\" and \"worst\" restaurants described above, the merged dataset will include the latitude and longitude in one of the columns, \"coordinates\". By using the latitude and longitude, I will generate the map(geoplots) to locate the best and worst restaurants in New York City."
   ]
  },
  {
   "cell_type": "markdown",
   "metadata": {},
   "source": [
    "### Phase 1: Loading the data and Data wrangling"
   ]
  },
  {
   "cell_type": "code",
   "execution_count": 17,
   "metadata": {},
   "outputs": [],
   "source": [
    "#importing necessary libraries\n",
    "import pandas as pd\n",
    "import numpy as np\n",
    "import seaborn as sns\n",
    "import matplotlib.pyplot as plt"
   ]
  },
  {
   "cell_type": "code",
   "execution_count": 35,
   "metadata": {},
   "outputs": [],
   "source": [
    "#loading the data\n",
    "df = pd.read_csv('https://raw.githubusercontent.com/mhan1/analytical-programming/master/NYC_RESTAURANTS.csv')"
   ]
  },
  {
   "cell_type": "code",
   "execution_count": 36,
   "metadata": {},
   "outputs": [
    {
     "data": {
      "text/html": [
       "<div>\n",
       "<style scoped>\n",
       "    .dataframe tbody tr th:only-of-type {\n",
       "        vertical-align: middle;\n",
       "    }\n",
       "\n",
       "    .dataframe tbody tr th {\n",
       "        vertical-align: top;\n",
       "    }\n",
       "\n",
       "    .dataframe thead th {\n",
       "        text-align: right;\n",
       "    }\n",
       "</style>\n",
       "<table border=\"1\" class=\"dataframe\">\n",
       "  <thead>\n",
       "    <tr style=\"text-align: right;\">\n",
       "      <th></th>\n",
       "      <th>CAMIS</th>\n",
       "      <th>DBA</th>\n",
       "      <th>BORO</th>\n",
       "      <th>BUILDING</th>\n",
       "      <th>STREET</th>\n",
       "      <th>ZIPCODE</th>\n",
       "      <th>PHONE</th>\n",
       "      <th>CUISINE DESCRIPTION</th>\n",
       "      <th>INSPECTION DATE</th>\n",
       "      <th>ACTION</th>\n",
       "      <th>VIOLATION CODE</th>\n",
       "      <th>VIOLATION DESCRIPTION</th>\n",
       "      <th>CRITICAL FLAG</th>\n",
       "      <th>SCORE</th>\n",
       "      <th>GRADE</th>\n",
       "      <th>GRADE DATE</th>\n",
       "      <th>RECORD DATE</th>\n",
       "      <th>INSPECTION TYPE</th>\n",
       "    </tr>\n",
       "  </thead>\n",
       "  <tbody>\n",
       "    <tr>\n",
       "      <th>0</th>\n",
       "      <td>40366132</td>\n",
       "      <td>DENINO'S PIZZERIA TAVERN</td>\n",
       "      <td>STATEN ISLAND</td>\n",
       "      <td>524</td>\n",
       "      <td>PORT RICHMOND AVENUE</td>\n",
       "      <td>10302.0</td>\n",
       "      <td>7184429401</td>\n",
       "      <td>Pizza/Italian</td>\n",
       "      <td>5/1/2017</td>\n",
       "      <td>Violations were cited in the following area(s).</td>\n",
       "      <td>02B</td>\n",
       "      <td>Hot food item not held at or above 140Âº F.</td>\n",
       "      <td>Critical</td>\n",
       "      <td>10.0</td>\n",
       "      <td>A</td>\n",
       "      <td>5/1/2017</td>\n",
       "      <td>5/4/2019</td>\n",
       "      <td>Cycle Inspection / Re-inspection</td>\n",
       "    </tr>\n",
       "    <tr>\n",
       "      <th>1</th>\n",
       "      <td>40366132</td>\n",
       "      <td>DENINO'S PIZZERIA TAVERN</td>\n",
       "      <td>STATEN ISLAND</td>\n",
       "      <td>524</td>\n",
       "      <td>PORT RICHMOND AVENUE</td>\n",
       "      <td>10302.0</td>\n",
       "      <td>7184429401</td>\n",
       "      <td>Pizza/Italian</td>\n",
       "      <td>5/1/2017</td>\n",
       "      <td>Violations were cited in the following area(s).</td>\n",
       "      <td>10F</td>\n",
       "      <td>Non-food contact surface improperly constructe...</td>\n",
       "      <td>Not Critical</td>\n",
       "      <td>10.0</td>\n",
       "      <td>A</td>\n",
       "      <td>5/1/2017</td>\n",
       "      <td>5/4/2019</td>\n",
       "      <td>Cycle Inspection / Re-inspection</td>\n",
       "    </tr>\n",
       "    <tr>\n",
       "      <th>2</th>\n",
       "      <td>40367442</td>\n",
       "      <td>BUDDY'S WONDER BAR</td>\n",
       "      <td>STATEN ISLAND</td>\n",
       "      <td>17</td>\n",
       "      <td>HARRISON AVENUE</td>\n",
       "      <td>10302.0</td>\n",
       "      <td>7184429768</td>\n",
       "      <td>American</td>\n",
       "      <td>5/1/2017</td>\n",
       "      <td>Violations were cited in the following area(s).</td>\n",
       "      <td>04A</td>\n",
       "      <td>Food Protection Certificate not held by superv...</td>\n",
       "      <td>Critical</td>\n",
       "      <td>27.0</td>\n",
       "      <td>NaN</td>\n",
       "      <td>NaN</td>\n",
       "      <td>5/4/2019</td>\n",
       "      <td>Cycle Inspection / Initial Inspection</td>\n",
       "    </tr>\n",
       "    <tr>\n",
       "      <th>3</th>\n",
       "      <td>40367442</td>\n",
       "      <td>BUDDY'S WONDER BAR</td>\n",
       "      <td>STATEN ISLAND</td>\n",
       "      <td>17</td>\n",
       "      <td>HARRISON AVENUE</td>\n",
       "      <td>10302.0</td>\n",
       "      <td>7184429768</td>\n",
       "      <td>American</td>\n",
       "      <td>5/1/2017</td>\n",
       "      <td>Violations were cited in the following area(s).</td>\n",
       "      <td>04L</td>\n",
       "      <td>Evidence of mice or live mice present in facil...</td>\n",
       "      <td>Critical</td>\n",
       "      <td>27.0</td>\n",
       "      <td>NaN</td>\n",
       "      <td>NaN</td>\n",
       "      <td>5/4/2019</td>\n",
       "      <td>Cycle Inspection / Initial Inspection</td>\n",
       "    </tr>\n",
       "    <tr>\n",
       "      <th>4</th>\n",
       "      <td>40367442</td>\n",
       "      <td>BUDDY'S WONDER BAR</td>\n",
       "      <td>STATEN ISLAND</td>\n",
       "      <td>17</td>\n",
       "      <td>HARRISON AVENUE</td>\n",
       "      <td>10302.0</td>\n",
       "      <td>7184429768</td>\n",
       "      <td>American</td>\n",
       "      <td>5/1/2017</td>\n",
       "      <td>Violations were cited in the following area(s).</td>\n",
       "      <td>06D</td>\n",
       "      <td>Food contact surface not properly washed, rins...</td>\n",
       "      <td>Critical</td>\n",
       "      <td>27.0</td>\n",
       "      <td>NaN</td>\n",
       "      <td>NaN</td>\n",
       "      <td>5/4/2019</td>\n",
       "      <td>Cycle Inspection / Initial Inspection</td>\n",
       "    </tr>\n",
       "  </tbody>\n",
       "</table>\n",
       "</div>"
      ],
      "text/plain": [
       "      CAMIS                       DBA           BORO BUILDING  \\\n",
       "0  40366132  DENINO'S PIZZERIA TAVERN  STATEN ISLAND      524   \n",
       "1  40366132  DENINO'S PIZZERIA TAVERN  STATEN ISLAND      524   \n",
       "2  40367442        BUDDY'S WONDER BAR  STATEN ISLAND       17   \n",
       "3  40367442        BUDDY'S WONDER BAR  STATEN ISLAND       17   \n",
       "4  40367442        BUDDY'S WONDER BAR  STATEN ISLAND       17   \n",
       "\n",
       "                 STREET  ZIPCODE       PHONE CUISINE DESCRIPTION  \\\n",
       "0  PORT RICHMOND AVENUE  10302.0  7184429401       Pizza/Italian   \n",
       "1  PORT RICHMOND AVENUE  10302.0  7184429401       Pizza/Italian   \n",
       "2       HARRISON AVENUE  10302.0  7184429768            American   \n",
       "3       HARRISON AVENUE  10302.0  7184429768            American   \n",
       "4       HARRISON AVENUE  10302.0  7184429768            American   \n",
       "\n",
       "  INSPECTION DATE                                           ACTION  \\\n",
       "0        5/1/2017  Violations were cited in the following area(s).   \n",
       "1        5/1/2017  Violations were cited in the following area(s).   \n",
       "2        5/1/2017  Violations were cited in the following area(s).   \n",
       "3        5/1/2017  Violations were cited in the following area(s).   \n",
       "4        5/1/2017  Violations were cited in the following area(s).   \n",
       "\n",
       "  VIOLATION CODE                              VIOLATION DESCRIPTION  \\\n",
       "0            02B        Hot food item not held at or above 140Âº F.   \n",
       "1            10F  Non-food contact surface improperly constructe...   \n",
       "2            04A  Food Protection Certificate not held by superv...   \n",
       "3            04L  Evidence of mice or live mice present in facil...   \n",
       "4            06D  Food contact surface not properly washed, rins...   \n",
       "\n",
       "  CRITICAL FLAG  SCORE GRADE GRADE DATE RECORD DATE  \\\n",
       "0      Critical   10.0     A   5/1/2017    5/4/2019   \n",
       "1  Not Critical   10.0     A   5/1/2017    5/4/2019   \n",
       "2      Critical   27.0   NaN        NaN    5/4/2019   \n",
       "3      Critical   27.0   NaN        NaN    5/4/2019   \n",
       "4      Critical   27.0   NaN        NaN    5/4/2019   \n",
       "\n",
       "                         INSPECTION TYPE  \n",
       "0       Cycle Inspection / Re-inspection  \n",
       "1       Cycle Inspection / Re-inspection  \n",
       "2  Cycle Inspection / Initial Inspection  \n",
       "3  Cycle Inspection / Initial Inspection  \n",
       "4  Cycle Inspection / Initial Inspection  "
      ]
     },
     "execution_count": 36,
     "metadata": {},
     "output_type": "execute_result"
    }
   ],
   "source": [
    "df.head()"
   ]
  },
  {
   "cell_type": "code",
   "execution_count": 37,
   "metadata": {},
   "outputs": [
    {
     "data": {
      "text/plain": [
       "(263755, 18)"
      ]
     },
     "execution_count": 37,
     "metadata": {},
     "output_type": "execute_result"
    }
   ],
   "source": [
    "df.shape"
   ]
  },
  {
   "cell_type": "code",
   "execution_count": 38,
   "metadata": {},
   "outputs": [
    {
     "data": {
      "text/plain": [
       "Index(['CAMIS', 'DBA', 'BORO', 'BUILDING', 'STREET', 'ZIPCODE', 'PHONE',\n",
       "       'CUISINE DESCRIPTION', 'INSPECTION DATE', 'ACTION', 'VIOLATION CODE',\n",
       "       'VIOLATION DESCRIPTION', 'CRITICAL FLAG', 'SCORE', 'GRADE',\n",
       "       'GRADE DATE', 'RECORD DATE', 'INSPECTION TYPE'],\n",
       "      dtype='object')"
      ]
     },
     "execution_count": 38,
     "metadata": {},
     "output_type": "execute_result"
    }
   ],
   "source": [
    "df.columns"
   ]
  },
  {
   "cell_type": "code",
   "execution_count": 155,
   "metadata": {},
   "outputs": [
    {
     "data": {
      "text/html": [
       "<div>\n",
       "<style scoped>\n",
       "    .dataframe tbody tr th:only-of-type {\n",
       "        vertical-align: middle;\n",
       "    }\n",
       "\n",
       "    .dataframe tbody tr th {\n",
       "        vertical-align: top;\n",
       "    }\n",
       "\n",
       "    .dataframe thead th {\n",
       "        text-align: right;\n",
       "    }\n",
       "</style>\n",
       "<table border=\"1\" class=\"dataframe\">\n",
       "  <thead>\n",
       "    <tr style=\"text-align: right;\">\n",
       "      <th></th>\n",
       "      <th>DBA</th>\n",
       "      <th>BORO</th>\n",
       "      <th>BUILDING</th>\n",
       "      <th>STREET</th>\n",
       "      <th>PHONE</th>\n",
       "      <th>CUISINE DESCRIPTION</th>\n",
       "      <th>INSPECTION DATE</th>\n",
       "      <th>ACTION</th>\n",
       "      <th>VIOLATION DESCRIPTION</th>\n",
       "      <th>SCORE</th>\n",
       "      <th>GRADE</th>\n",
       "    </tr>\n",
       "  </thead>\n",
       "  <tbody>\n",
       "    <tr>\n",
       "      <th>0</th>\n",
       "      <td>DENINO'S PIZZERIA TAVERN</td>\n",
       "      <td>STATEN ISLAND</td>\n",
       "      <td>524</td>\n",
       "      <td>PORT RICHMOND AVENUE</td>\n",
       "      <td>7184429401</td>\n",
       "      <td>Pizza/Italian</td>\n",
       "      <td>5/1/2017</td>\n",
       "      <td>Violations were cited in the following area(s).</td>\n",
       "      <td>Hot food item not held at or above 140Âº F.</td>\n",
       "      <td>10.0</td>\n",
       "      <td>A</td>\n",
       "    </tr>\n",
       "    <tr>\n",
       "      <th>1</th>\n",
       "      <td>DENINO'S PIZZERIA TAVERN</td>\n",
       "      <td>STATEN ISLAND</td>\n",
       "      <td>524</td>\n",
       "      <td>PORT RICHMOND AVENUE</td>\n",
       "      <td>7184429401</td>\n",
       "      <td>Pizza/Italian</td>\n",
       "      <td>5/1/2017</td>\n",
       "      <td>Violations were cited in the following area(s).</td>\n",
       "      <td>Non-food contact surface improperly constructe...</td>\n",
       "      <td>10.0</td>\n",
       "      <td>A</td>\n",
       "    </tr>\n",
       "    <tr>\n",
       "      <th>2</th>\n",
       "      <td>BUDDY'S WONDER BAR</td>\n",
       "      <td>STATEN ISLAND</td>\n",
       "      <td>17</td>\n",
       "      <td>HARRISON AVENUE</td>\n",
       "      <td>7184429768</td>\n",
       "      <td>American</td>\n",
       "      <td>5/1/2017</td>\n",
       "      <td>Violations were cited in the following area(s).</td>\n",
       "      <td>Food Protection Certificate not held by superv...</td>\n",
       "      <td>27.0</td>\n",
       "      <td>NaN</td>\n",
       "    </tr>\n",
       "  </tbody>\n",
       "</table>\n",
       "</div>"
      ],
      "text/plain": [
       "                        DBA           BORO BUILDING                STREET  \\\n",
       "0  DENINO'S PIZZERIA TAVERN  STATEN ISLAND      524  PORT RICHMOND AVENUE   \n",
       "1  DENINO'S PIZZERIA TAVERN  STATEN ISLAND      524  PORT RICHMOND AVENUE   \n",
       "2        BUDDY'S WONDER BAR  STATEN ISLAND       17       HARRISON AVENUE   \n",
       "\n",
       "        PHONE CUISINE DESCRIPTION INSPECTION DATE  \\\n",
       "0  7184429401       Pizza/Italian        5/1/2017   \n",
       "1  7184429401       Pizza/Italian        5/1/2017   \n",
       "2  7184429768            American        5/1/2017   \n",
       "\n",
       "                                            ACTION  \\\n",
       "0  Violations were cited in the following area(s).   \n",
       "1  Violations were cited in the following area(s).   \n",
       "2  Violations were cited in the following area(s).   \n",
       "\n",
       "                               VIOLATION DESCRIPTION  SCORE GRADE  \n",
       "0        Hot food item not held at or above 140Âº F.   10.0     A  \n",
       "1  Non-food contact surface improperly constructe...   10.0     A  \n",
       "2  Food Protection Certificate not held by superv...   27.0   NaN  "
      ]
     },
     "execution_count": 155,
     "metadata": {},
     "output_type": "execute_result"
    }
   ],
   "source": [
    "#creating a pandas DataFrame with a subset of the columns in the dataset.\n",
    "df1 = df[['DBA','BORO','BUILDING', 'STREET', 'PHONE', 'CUISINE DESCRIPTION', 'INSPECTION DATE', \n",
    "          'ACTION', 'VIOLATION DESCRIPTION', 'SCORE', 'GRADE']]\n",
    "df1.head(3)"
   ]
  },
  {
   "cell_type": "code",
   "execution_count": 156,
   "metadata": {},
   "outputs": [
    {
     "name": "stdout",
     "output_type": "stream",
     "text": [
      "<class 'pandas.core.frame.DataFrame'>\n",
      "RangeIndex: 263755 entries, 0 to 263754\n",
      "Data columns (total 11 columns):\n",
      "DBA                      263751 non-null object\n",
      "BORO                     263755 non-null object\n",
      "BUILDING                 263596 non-null object\n",
      "STREET                   263755 non-null object\n",
      "PHONE                    263742 non-null object\n",
      "CUISINE DESCRIPTION      263755 non-null object\n",
      "INSPECTION DATE          263755 non-null object\n",
      "ACTION                   263755 non-null object\n",
      "VIOLATION DESCRIPTION    258164 non-null object\n",
      "SCORE                    252774 non-null float64\n",
      "GRADE                    132573 non-null object\n",
      "dtypes: float64(1), object(10)\n",
      "memory usage: 22.1+ MB\n"
     ]
    }
   ],
   "source": [
    "df1.info()"
   ]
  },
  {
   "cell_type": "code",
   "execution_count": 157,
   "metadata": {},
   "outputs": [
    {
     "data": {
      "text/plain": [
       "'5/1/2017'"
      ]
     },
     "execution_count": 157,
     "metadata": {},
     "output_type": "execute_result"
    }
   ],
   "source": [
    "#checking the first value of INSPECTION DATE column\n",
    "df1['INSPECTION DATE'][0]"
   ]
  },
  {
   "cell_type": "code",
   "execution_count": 158,
   "metadata": {},
   "outputs": [
    {
     "data": {
      "text/plain": [
       "str"
      ]
     },
     "execution_count": 158,
     "metadata": {},
     "output_type": "execute_result"
    }
   ],
   "source": [
    "#checking the data type of INSEPCTION DATE column first value\n",
    "type(df1['INSPECTION DATE'][0])"
   ]
  },
  {
   "cell_type": "code",
   "execution_count": 159,
   "metadata": {},
   "outputs": [
    {
     "name": "stderr",
     "output_type": "stream",
     "text": [
      "C:\\Users\\Minyeong\\Anaconda3\\lib\\site-packages\\ipykernel_launcher.py:2: SettingWithCopyWarning: \n",
      "A value is trying to be set on a copy of a slice from a DataFrame.\n",
      "Try using .loc[row_indexer,col_indexer] = value instead\n",
      "\n",
      "See the caveats in the documentation: http://pandas.pydata.org/pandas-docs/stable/indexing.html#indexing-view-versus-copy\n",
      "  \n"
     ]
    }
   ],
   "source": [
    "#transforming the data type of INSPECTION DATE column into datetime\n",
    "df1['INSPECTION DATE'] = pd.to_datetime(df['INSPECTION DATE'])"
   ]
  },
  {
   "cell_type": "code",
   "execution_count": 160,
   "metadata": {},
   "outputs": [
    {
     "data": {
      "text/plain": [
       "Timestamp('2017-05-01 00:00:00')"
      ]
     },
     "execution_count": 160,
     "metadata": {},
     "output_type": "execute_result"
    }
   ],
   "source": [
    "#sanity check for the first value of INSPECTION DATE column\n",
    "df1['INSPECTION DATE'][0]"
   ]
  },
  {
   "cell_type": "code",
   "execution_count": 161,
   "metadata": {},
   "outputs": [
    {
     "data": {
      "text/plain": [
       "pandas._libs.tslibs.timestamps.Timestamp"
      ]
     },
     "execution_count": 161,
     "metadata": {},
     "output_type": "execute_result"
    }
   ],
   "source": [
    "#checking the data type after converting into datetime\n",
    "type(df1['INSPECTION DATE'][0])"
   ]
  },
  {
   "cell_type": "code",
   "execution_count": 162,
   "metadata": {},
   "outputs": [
    {
     "name": "stdout",
     "output_type": "stream",
     "text": [
      "<class 'pandas.core.frame.DataFrame'>\n",
      "RangeIndex: 263755 entries, 0 to 263754\n",
      "Data columns (total 11 columns):\n",
      "DBA                      263751 non-null object\n",
      "BORO                     263755 non-null object\n",
      "BUILDING                 263596 non-null object\n",
      "STREET                   263755 non-null object\n",
      "PHONE                    263742 non-null object\n",
      "CUISINE DESCRIPTION      263755 non-null object\n",
      "INSPECTION DATE          263755 non-null datetime64[ns]\n",
      "ACTION                   263755 non-null object\n",
      "VIOLATION DESCRIPTION    258164 non-null object\n",
      "SCORE                    252774 non-null float64\n",
      "GRADE                    132573 non-null object\n",
      "dtypes: datetime64[ns](1), float64(1), object(9)\n",
      "memory usage: 22.1+ MB\n"
     ]
    }
   ],
   "source": [
    "#checking the dataframe df1 summary\n",
    "df1.info()"
   ]
  },
  {
   "cell_type": "code",
   "execution_count": 163,
   "metadata": {},
   "outputs": [
    {
     "data": {
      "text/html": [
       "<div>\n",
       "<style scoped>\n",
       "    .dataframe tbody tr th:only-of-type {\n",
       "        vertical-align: middle;\n",
       "    }\n",
       "\n",
       "    .dataframe tbody tr th {\n",
       "        vertical-align: top;\n",
       "    }\n",
       "\n",
       "    .dataframe thead th {\n",
       "        text-align: right;\n",
       "    }\n",
       "</style>\n",
       "<table border=\"1\" class=\"dataframe\">\n",
       "  <thead>\n",
       "    <tr style=\"text-align: right;\">\n",
       "      <th></th>\n",
       "      <th>SCORE</th>\n",
       "    </tr>\n",
       "  </thead>\n",
       "  <tbody>\n",
       "    <tr>\n",
       "      <th>count</th>\n",
       "      <td>252774.000000</td>\n",
       "    </tr>\n",
       "    <tr>\n",
       "      <th>mean</th>\n",
       "      <td>20.724153</td>\n",
       "    </tr>\n",
       "    <tr>\n",
       "      <th>std</th>\n",
       "      <td>15.033151</td>\n",
       "    </tr>\n",
       "    <tr>\n",
       "      <th>min</th>\n",
       "      <td>-1.000000</td>\n",
       "    </tr>\n",
       "    <tr>\n",
       "      <th>25%</th>\n",
       "      <td>11.000000</td>\n",
       "    </tr>\n",
       "    <tr>\n",
       "      <th>50%</th>\n",
       "      <td>16.000000</td>\n",
       "    </tr>\n",
       "    <tr>\n",
       "      <th>75%</th>\n",
       "      <td>26.000000</td>\n",
       "    </tr>\n",
       "    <tr>\n",
       "      <th>max</th>\n",
       "      <td>166.000000</td>\n",
       "    </tr>\n",
       "  </tbody>\n",
       "</table>\n",
       "</div>"
      ],
      "text/plain": [
       "               SCORE\n",
       "count  252774.000000\n",
       "mean       20.724153\n",
       "std        15.033151\n",
       "min        -1.000000\n",
       "25%        11.000000\n",
       "50%        16.000000\n",
       "75%        26.000000\n",
       "max       166.000000"
      ]
     },
     "execution_count": 163,
     "metadata": {},
     "output_type": "execute_result"
    }
   ],
   "source": [
    "#chekcing the description of df1 dataframe\n",
    "df1.describe()"
   ]
  },
  {
   "cell_type": "markdown",
   "metadata": {},
   "source": [
    "### Phase 2:Perform exploratory data analysis(EDA) - show the distribution of data for each of the columns you selected and include text describing your EDA findings."
   ]
  },
  {
   "cell_type": "code",
   "execution_count": 164,
   "metadata": {},
   "outputs": [
    {
     "data": {
      "text/html": [
       "<div>\n",
       "<style scoped>\n",
       "    .dataframe tbody tr th:only-of-type {\n",
       "        vertical-align: middle;\n",
       "    }\n",
       "\n",
       "    .dataframe tbody tr th {\n",
       "        vertical-align: top;\n",
       "    }\n",
       "\n",
       "    .dataframe thead th {\n",
       "        text-align: right;\n",
       "    }\n",
       "</style>\n",
       "<table border=\"1\" class=\"dataframe\">\n",
       "  <thead>\n",
       "    <tr style=\"text-align: right;\">\n",
       "      <th></th>\n",
       "      <th>SCORE</th>\n",
       "    </tr>\n",
       "  </thead>\n",
       "  <tbody>\n",
       "    <tr>\n",
       "      <th>count</th>\n",
       "      <td>252774.000000</td>\n",
       "    </tr>\n",
       "    <tr>\n",
       "      <th>mean</th>\n",
       "      <td>20.724153</td>\n",
       "    </tr>\n",
       "    <tr>\n",
       "      <th>std</th>\n",
       "      <td>15.033151</td>\n",
       "    </tr>\n",
       "    <tr>\n",
       "      <th>min</th>\n",
       "      <td>-1.000000</td>\n",
       "    </tr>\n",
       "    <tr>\n",
       "      <th>25%</th>\n",
       "      <td>11.000000</td>\n",
       "    </tr>\n",
       "    <tr>\n",
       "      <th>50%</th>\n",
       "      <td>16.000000</td>\n",
       "    </tr>\n",
       "    <tr>\n",
       "      <th>75%</th>\n",
       "      <td>26.000000</td>\n",
       "    </tr>\n",
       "    <tr>\n",
       "      <th>max</th>\n",
       "      <td>166.000000</td>\n",
       "    </tr>\n",
       "  </tbody>\n",
       "</table>\n",
       "</div>"
      ],
      "text/plain": [
       "               SCORE\n",
       "count  252774.000000\n",
       "mean       20.724153\n",
       "std        15.033151\n",
       "min        -1.000000\n",
       "25%        11.000000\n",
       "50%        16.000000\n",
       "75%        26.000000\n",
       "max       166.000000"
      ]
     },
     "execution_count": 164,
     "metadata": {},
     "output_type": "execute_result"
    }
   ],
   "source": [
    "#descriptive statistics for df1 dataframe\n",
    "df1.describe()"
   ]
  },
  {
   "cell_type": "code",
   "execution_count": 165,
   "metadata": {},
   "outputs": [
    {
     "name": "stdout",
     "output_type": "stream",
     "text": [
      "<class 'pandas.core.frame.DataFrame'>\n",
      "RangeIndex: 263755 entries, 0 to 263754\n",
      "Data columns (total 11 columns):\n",
      "DBA                      263751 non-null object\n",
      "BORO                     263755 non-null object\n",
      "BUILDING                 263596 non-null object\n",
      "STREET                   263755 non-null object\n",
      "PHONE                    263742 non-null object\n",
      "CUISINE DESCRIPTION      263755 non-null object\n",
      "INSPECTION DATE          263755 non-null datetime64[ns]\n",
      "ACTION                   263755 non-null object\n",
      "VIOLATION DESCRIPTION    258164 non-null object\n",
      "SCORE                    252774 non-null float64\n",
      "GRADE                    132573 non-null object\n",
      "dtypes: datetime64[ns](1), float64(1), object(9)\n",
      "memory usage: 22.1+ MB\n"
     ]
    }
   ],
   "source": [
    "#printing a concise summary of df1 dataframe\n",
    "df1.info()"
   ]
  },
  {
   "cell_type": "code",
   "execution_count": 166,
   "metadata": {},
   "outputs": [
    {
     "data": {
      "text/plain": [
       "Index(['DBA', 'BORO', 'BUILDING', 'STREET', 'PHONE', 'CUISINE DESCRIPTION',\n",
       "       'INSPECTION DATE', 'ACTION', 'VIOLATION DESCRIPTION', 'SCORE', 'GRADE'],\n",
       "      dtype='object')"
      ]
     },
     "execution_count": 166,
     "metadata": {},
     "output_type": "execute_result"
    }
   ],
   "source": [
    "#checking columns\n",
    "df1.columns"
   ]
  },
  {
   "cell_type": "code",
   "execution_count": 167,
   "metadata": {},
   "outputs": [],
   "source": [
    "#renaming the 'DBA' and 'BORO' columns.\n",
    "df1.rename(columns={'DBA':'RESTAURANT', 'BORO':'BOROUGH'}, inplace = True)"
   ]
  },
  {
   "cell_type": "code",
   "execution_count": 168,
   "metadata": {},
   "outputs": [
    {
     "data": {
      "text/plain": [
       "Index(['RESTAURANT', 'BOROUGH', 'BUILDING', 'STREET', 'PHONE',\n",
       "       'CUISINE DESCRIPTION', 'INSPECTION DATE', 'ACTION',\n",
       "       'VIOLATION DESCRIPTION', 'SCORE', 'GRADE'],\n",
       "      dtype='object')"
      ]
     },
     "execution_count": 168,
     "metadata": {},
     "output_type": "execute_result"
    }
   ],
   "source": [
    "df1.columns"
   ]
  },
  {
   "cell_type": "code",
   "execution_count": 169,
   "metadata": {},
   "outputs": [
    {
     "name": "stdout",
     "output_type": "stream",
     "text": [
      "RESTAURANT                True\n",
      "BOROUGH                  False\n",
      "BUILDING                  True\n",
      "STREET                   False\n",
      "PHONE                     True\n",
      "CUISINE DESCRIPTION      False\n",
      "INSPECTION DATE          False\n",
      "ACTION                   False\n",
      "VIOLATION DESCRIPTION     True\n",
      "SCORE                     True\n",
      "GRADE                     True\n",
      "dtype: bool\n"
     ]
    }
   ],
   "source": [
    "#identifying missing values, displaying the columns that have null values\n",
    "print(df1.isnull().any(axis=0))"
   ]
  },
  {
   "cell_type": "markdown",
   "metadata": {},
   "source": [
    "#### Based on above, DBA, BUILDING, PHONE, VIOLATION DESCRIPTION, SCORE, AND GRADE columns have null values.\n",
    "<br> According to \"How we score and grade\" by NYC Health department (https://www1.nyc.gov/assets/doh/downloads/pdf/rii/how-we-score-grade.pdf),\n",
    "<br> A restaurant has two chances to earn an A in every inspection\n",
    "cycle. If it doesn’t earn an A on the first inspection, it’s scored but\n",
    "ungraded. An inspector goes back to the restaurant\n",
    "unannounced, typically within a month, to inspect it again\n",
    "and the re-inspection is graded. If the grade is a B or C, the\n",
    "restaurant will receive a grade card and a grade pending card. It\n",
    "can post either card until it has an opportunity to be heard at\n",
    "the Office of Administrative Trials and Hearings Health\n",
    "Tribunal.\n",
    "<br>\n",
    "Hence, the null values in GRADE columns can be either \"scored but ungraded\", or in the \"pending\" status. Either way, these restaurants did not receive A grade on the first inspection. Therefore, I decided to leave those \"null\" values in the GRADE column as these indicate those restaurants are not \"A\" grade restaurants, at least, yet."
   ]
  },
  {
   "cell_type": "code",
   "execution_count": 170,
   "metadata": {},
   "outputs": [
    {
     "data": {
      "text/html": [
       "<div>\n",
       "<style scoped>\n",
       "    .dataframe tbody tr th:only-of-type {\n",
       "        vertical-align: middle;\n",
       "    }\n",
       "\n",
       "    .dataframe tbody tr th {\n",
       "        vertical-align: top;\n",
       "    }\n",
       "\n",
       "    .dataframe thead th {\n",
       "        text-align: right;\n",
       "    }\n",
       "</style>\n",
       "<table border=\"1\" class=\"dataframe\">\n",
       "  <thead>\n",
       "    <tr style=\"text-align: right;\">\n",
       "      <th></th>\n",
       "      <th>RESTAURANT</th>\n",
       "      <th>BOROUGH</th>\n",
       "      <th>BUILDING</th>\n",
       "      <th>STREET</th>\n",
       "      <th>PHONE</th>\n",
       "      <th>CUISINE DESCRIPTION</th>\n",
       "      <th>INSPECTION DATE</th>\n",
       "      <th>ACTION</th>\n",
       "      <th>VIOLATION DESCRIPTION</th>\n",
       "      <th>SCORE</th>\n",
       "      <th>GRADE</th>\n",
       "    </tr>\n",
       "  </thead>\n",
       "  <tbody>\n",
       "    <tr>\n",
       "      <th>0</th>\n",
       "      <td>DENINO'S PIZZERIA TAVERN</td>\n",
       "      <td>STATEN ISLAND</td>\n",
       "      <td>524</td>\n",
       "      <td>PORT RICHMOND AVENUE</td>\n",
       "      <td>7184429401</td>\n",
       "      <td>Pizza/Italian</td>\n",
       "      <td>2017-05-01</td>\n",
       "      <td>Violations were cited in the following area(s).</td>\n",
       "      <td>Hot food item not held at or above 140Âº F.</td>\n",
       "      <td>10.0</td>\n",
       "      <td>A</td>\n",
       "    </tr>\n",
       "    <tr>\n",
       "      <th>1</th>\n",
       "      <td>DENINO'S PIZZERIA TAVERN</td>\n",
       "      <td>STATEN ISLAND</td>\n",
       "      <td>524</td>\n",
       "      <td>PORT RICHMOND AVENUE</td>\n",
       "      <td>7184429401</td>\n",
       "      <td>Pizza/Italian</td>\n",
       "      <td>2017-05-01</td>\n",
       "      <td>Violations were cited in the following area(s).</td>\n",
       "      <td>Non-food contact surface improperly constructe...</td>\n",
       "      <td>10.0</td>\n",
       "      <td>A</td>\n",
       "    </tr>\n",
       "    <tr>\n",
       "      <th>2</th>\n",
       "      <td>BUDDY'S WONDER BAR</td>\n",
       "      <td>STATEN ISLAND</td>\n",
       "      <td>17</td>\n",
       "      <td>HARRISON AVENUE</td>\n",
       "      <td>7184429768</td>\n",
       "      <td>American</td>\n",
       "      <td>2017-05-01</td>\n",
       "      <td>Violations were cited in the following area(s).</td>\n",
       "      <td>Food Protection Certificate not held by superv...</td>\n",
       "      <td>27.0</td>\n",
       "      <td>NaN</td>\n",
       "    </tr>\n",
       "  </tbody>\n",
       "</table>\n",
       "</div>"
      ],
      "text/plain": [
       "                 RESTAURANT        BOROUGH BUILDING                STREET  \\\n",
       "0  DENINO'S PIZZERIA TAVERN  STATEN ISLAND      524  PORT RICHMOND AVENUE   \n",
       "1  DENINO'S PIZZERIA TAVERN  STATEN ISLAND      524  PORT RICHMOND AVENUE   \n",
       "2        BUDDY'S WONDER BAR  STATEN ISLAND       17       HARRISON AVENUE   \n",
       "\n",
       "        PHONE CUISINE DESCRIPTION INSPECTION DATE  \\\n",
       "0  7184429401       Pizza/Italian      2017-05-01   \n",
       "1  7184429401       Pizza/Italian      2017-05-01   \n",
       "2  7184429768            American      2017-05-01   \n",
       "\n",
       "                                            ACTION  \\\n",
       "0  Violations were cited in the following area(s).   \n",
       "1  Violations were cited in the following area(s).   \n",
       "2  Violations were cited in the following area(s).   \n",
       "\n",
       "                               VIOLATION DESCRIPTION  SCORE GRADE  \n",
       "0        Hot food item not held at or above 140Âº F.   10.0     A  \n",
       "1  Non-food contact surface improperly constructe...   10.0     A  \n",
       "2  Food Protection Certificate not held by superv...   27.0   NaN  "
      ]
     },
     "execution_count": 170,
     "metadata": {},
     "output_type": "execute_result"
    }
   ],
   "source": [
    "#sanity check\n",
    "df1.head(3)"
   ]
  },
  {
   "cell_type": "markdown",
   "metadata": {},
   "source": [
    "### Distribution of 'BOROUGH'"
   ]
  },
  {
   "cell_type": "code",
   "execution_count": 171,
   "metadata": {},
   "outputs": [
    {
     "data": {
      "text/plain": [
       "count        263755\n",
       "unique            5\n",
       "top       MANHATTAN\n",
       "freq         103723\n",
       "Name: BOROUGH, dtype: object"
      ]
     },
     "execution_count": 171,
     "metadata": {},
     "output_type": "execute_result"
    }
   ],
   "source": [
    "#checking the BOROUGH column summary information\n",
    "df1['BOROUGH'].describe()"
   ]
  },
  {
   "cell_type": "code",
   "execution_count": 172,
   "metadata": {},
   "outputs": [
    {
     "data": {
      "text/plain": [
       "array(['STATEN ISLAND', 'MANHATTAN', 'QUEENS', 'BROOKLYN', 'BRONX'],\n",
       "      dtype=object)"
      ]
     },
     "execution_count": 172,
     "metadata": {},
     "output_type": "execute_result"
    }
   ],
   "source": [
    "#checking unique values in BOROUGH column\n",
    "df1['BOROUGH'].unique()"
   ]
  },
  {
   "cell_type": "code",
   "execution_count": 173,
   "metadata": {},
   "outputs": [
    {
     "data": {
      "text/plain": [
       "MANHATTAN        103723\n",
       "BROOKLYN          66650\n",
       "QUEENS            60859\n",
       "BRONX             23289\n",
       "STATEN ISLAND      9234\n",
       "Name: BOROUGH, dtype: int64"
      ]
     },
     "execution_count": 173,
     "metadata": {},
     "output_type": "execute_result"
    }
   ],
   "source": [
    "#getting the value counts for the 'BOROUGH' variable, which is categorical data type.\n",
    "df1['BOROUGH'].value_counts()"
   ]
  },
  {
   "cell_type": "code",
   "execution_count": 174,
   "metadata": {},
   "outputs": [
    {
     "data": {
      "image/png": "[encoded data removed]",
      "text/plain": [
       "<Figure size 432x288 with 1 Axes>"
      ]
     },
     "metadata": {
      "needs_background": "light"
     },
     "output_type": "display_data"
    }
   ],
   "source": [
    "#creating a bar plot of the 'BOROUGH' variable's value counts\n",
    "df1['BOROUGH'].value_counts().plot.bar(title = \"Freq Dist of BOROUGH\");"
   ]
  },
  {
   "cell_type": "markdown",
   "metadata": {},
   "source": [
    "Based on above, there are 103723 of inspected restaurants' records in Manhattan, which is the largest counts, and there are 9234 of inspected restaurants' records in STATEN ISLAND which is the smallest counts in the dataset."
   ]
  },
  {
   "cell_type": "markdown",
   "metadata": {},
   "source": [
    "### Distribution of 'RESTAURANT'"
   ]
  },
  {
   "cell_type": "code",
   "execution_count": 175,
   "metadata": {},
   "outputs": [
    {
     "data": {
      "text/plain": [
       "count             263751\n",
       "unique             20640\n",
       "top       DUNKIN' DONUTS\n",
       "freq                2438\n",
       "Name: RESTAURANT, dtype: object"
      ]
     },
     "execution_count": 175,
     "metadata": {},
     "output_type": "execute_result"
    }
   ],
   "source": [
    "#checking the RESTAURANT column summary information\n",
    "df1['RESTAURANT'].describe()"
   ]
  },
  {
   "cell_type": "code",
   "execution_count": 176,
   "metadata": {},
   "outputs": [
    {
     "data": {
      "text/plain": [
       "array([\"DENINO'S PIZZERIA TAVERN\", \"BUDDY'S WONDER BAR\",\n",
       "       'ASTRO RESTAURANT', ..., 'HALO BISTRO CAFE', 'GRUIT',\n",
       "       'WHISTLE & FIZZ'], dtype=object)"
      ]
     },
     "execution_count": 176,
     "metadata": {},
     "output_type": "execute_result"
    }
   ],
   "source": [
    "#checking unique values in RESTAURANT column\n",
    "df1['RESTAURANT'].unique()"
   ]
  },
  {
   "cell_type": "code",
   "execution_count": 177,
   "metadata": {},
   "outputs": [
    {
     "data": {
      "text/plain": [
       "DUNKIN' DONUTS                             2438\n",
       "SUBWAY                                     2014\n",
       "STARBUCKS                                  1420\n",
       "MCDONALD'S                                 1271\n",
       "KENNEDY FRIED CHICKEN                       904\n",
       "CROWN FRIED CHICKEN                         732\n",
       "DUNKIN' DONUTS, BASKIN ROBBINS              710\n",
       "BURGER KING                                 653\n",
       "DOMINO'S                                    630\n",
       "GOLDEN KRUST CARIBBEAN BAKERY & GRILL       557\n",
       "POPEYES LOUISIANA KITCHEN                   445\n",
       "KFC                                         420\n",
       "CHIPOTLE MEXICAN GRILL                      407\n",
       "DUNKIN DONUTS                               339\n",
       "LE PAIN QUOTIDIEN                           310\n",
       "CHECKERS                                    283\n",
       "VIVI BUBBLE TEA                             259\n",
       "WENDY'S                                     252\n",
       "PARIS BAGUETTE                              246\n",
       "PRET A MANGER                               238\n",
       "BAREBURGER                                  226\n",
       "JUST SALAD                                  211\n",
       "CARVEL ICE CREAM                            211\n",
       "BREAD & BUTTER                              195\n",
       "IHOP                                        194\n",
       "JOE & THE JUICE                             187\n",
       "BOSTON MARKET                               184\n",
       "PAPA JOHN'S                                 179\n",
       "LITTLE CAESARS                              171\n",
       "TEXAS CHICKEN & BURGERS                     168\n",
       "                                           ... \n",
       "BT3 AISLE A                                   1\n",
       "ALOFT HARLEM                                  1\n",
       "TACO BELL CANTINA 034646                      1\n",
       "Cafe Rustico II                               1\n",
       "ERROL'S CARIBBEAN BAKERY AND CATERING         1\n",
       "VILLA MARCELLO                                1\n",
       "GOOD TASTE GARDEN                             1\n",
       "CRAFT EMPANADAS BY S&R                        1\n",
       "DIE STANMKNEIPE                               1\n",
       "MANHATTAN TERRACE BAR                         1\n",
       "A & A NUTRITION                               1\n",
       "RABBIT CLUB                                   1\n",
       "MAISON BELJANSKI                              1\n",
       "NEW BOK CHOY & ROLL                           1\n",
       "ATLANTIC THEATER (van Beuren Kass Bar)        1\n",
       "IL PICCOLO RISTORO                            1\n",
       "A A Bakery                                    1\n",
       "BLUE RIBBON SUSHI BAR & GRILL ROOF DECK       1\n",
       "BQE                                           1\n",
       "EVA JEAN'S                                    1\n",
       "SPUYTEN DUYVIL                                1\n",
       "Top Tortilla                                  1\n",
       "ABIGAEL'S BROOKLYN                            1\n",
       "CIRCA TABAC                                   1\n",
       "LA PICCOLA CUCINA                             1\n",
       "UMI SUSHI                                     1\n",
       "ESPRESSO PIZZERIA                             1\n",
       "TOMMY BAHAMAS MARLIN BAR                      1\n",
       "40/40 CLUB BAR                                1\n",
       "PAPA'S KITCHEN                                1\n",
       "Name: RESTAURANT, Length: 20640, dtype: int64"
      ]
     },
     "execution_count": 177,
     "metadata": {},
     "output_type": "execute_result"
    }
   ],
   "source": [
    "#getting the value counts for the 'RESTAURANT' variable, which is categorical data type.\n",
    "df1['RESTAURANT'].value_counts()"
   ]
  },
  {
   "cell_type": "markdown",
   "metadata": {},
   "source": [
    "Since there are total 20640 unique restaurants in the dataset as shown above, I will not plot the bar chart to show the distribution. Dunkin' donuts are the most frequent restaurant in the dataset, followed by Subway, Starbucks, and Mcdonald's."
   ]
  },
  {
   "cell_type": "markdown",
   "metadata": {},
   "source": [
    "### Distribution of SCORE"
   ]
  },
  {
   "cell_type": "code",
   "execution_count": 178,
   "metadata": {},
   "outputs": [
    {
     "data": {
      "text/plain": [
       "count    252774.000000\n",
       "mean         20.724153\n",
       "std          15.033151\n",
       "min          -1.000000\n",
       "25%          11.000000\n",
       "50%          16.000000\n",
       "75%          26.000000\n",
       "max         166.000000\n",
       "Name: SCORE, dtype: float64"
      ]
     },
     "execution_count": 178,
     "metadata": {},
     "output_type": "execute_result"
    }
   ],
   "source": [
    "#checking the SCORE column summary information\n",
    "df1['SCORE'].describe()"
   ]
  },
  {
   "cell_type": "code",
   "execution_count": 179,
   "metadata": {},
   "outputs": [
    {
     "data": {
      "text/plain": [
       "array([ 10.,  27.,  13.,   4.,   7.,   9.,   3.,  nan,  12.,  11.,   6.,\n",
       "        43.,   2.,  18.,  22.,  14.,  19.,  23.,   5.,  15.,  16.,  37.,\n",
       "        28.,  25.,   8.,  17.,  42.,  32.,  20.,  33.,  79.,  36.,   0.,\n",
       "        39.,  26.,  34.,  24.,  30.,  21.,  44.,  62.,  29.,  31.,  35.,\n",
       "        40.,  66.,  41., 109.,  47.,  68.,  45.,  38.,  48.,  65.,  46.,\n",
       "        57.,  63.,  64.,  56.,  50.,  53.,  49.,  69.,  76.,  55., 117.,\n",
       "        72.,  73.,  70.,  -1.,  51.,  61.,  52.,  59.,  85.,  58.,  78.,\n",
       "        71.,  82.,  77.,  74.,  87.,  60.,  67.,  83.,  84.,  54.,  89.,\n",
       "        90.,  75., 151.,  91., 110.,  81., 120.,  92.,  86., 103.,  94.,\n",
       "        99., 135., 137.,  80., 115., 111., 124., 114., 116.,  88., 122.,\n",
       "       101.,  96., 104.,  93., 155., 140.,  98., 141., 112., 119., 132.,\n",
       "       106.,  97., 105., 102., 152., 100.,  95., 107., 129., 136., 131.,\n",
       "       108., 166.])"
      ]
     },
     "execution_count": 179,
     "metadata": {},
     "output_type": "execute_result"
    }
   ],
   "source": [
    "df1['SCORE'].unique()"
   ]
  },
  {
   "cell_type": "code",
   "execution_count": 180,
   "metadata": {},
   "outputs": [
    {
     "data": {
      "text/plain": [
       "True"
      ]
     },
     "execution_count": 180,
     "metadata": {},
     "output_type": "execute_result"
    }
   ],
   "source": [
    "#checking the null values\n",
    "df1['SCORE'].isnull().any(axis=0)"
   ]
  },
  {
   "cell_type": "code",
   "execution_count": 181,
   "metadata": {},
   "outputs": [],
   "source": [
    "#converting the null values into 0\n",
    "df1[\"SCORE\"].fillna(\"0\", inplace = True) "
   ]
  },
  {
   "cell_type": "code",
   "execution_count": 182,
   "metadata": {},
   "outputs": [
    {
     "data": {
      "text/html": [
       "<div>\n",
       "<style scoped>\n",
       "    .dataframe tbody tr th:only-of-type {\n",
       "        vertical-align: middle;\n",
       "    }\n",
       "\n",
       "    .dataframe tbody tr th {\n",
       "        vertical-align: top;\n",
       "    }\n",
       "\n",
       "    .dataframe thead th {\n",
       "        text-align: right;\n",
       "    }\n",
       "</style>\n",
       "<table border=\"1\" class=\"dataframe\">\n",
       "  <thead>\n",
       "    <tr style=\"text-align: right;\">\n",
       "      <th></th>\n",
       "      <th>RESTAURANT</th>\n",
       "      <th>BOROUGH</th>\n",
       "      <th>BUILDING</th>\n",
       "      <th>STREET</th>\n",
       "      <th>PHONE</th>\n",
       "      <th>CUISINE DESCRIPTION</th>\n",
       "      <th>INSPECTION DATE</th>\n",
       "      <th>ACTION</th>\n",
       "      <th>VIOLATION DESCRIPTION</th>\n",
       "      <th>SCORE</th>\n",
       "      <th>GRADE</th>\n",
       "    </tr>\n",
       "  </thead>\n",
       "  <tbody>\n",
       "    <tr>\n",
       "      <th>0</th>\n",
       "      <td>DENINO'S PIZZERIA TAVERN</td>\n",
       "      <td>STATEN ISLAND</td>\n",
       "      <td>524</td>\n",
       "      <td>PORT RICHMOND AVENUE</td>\n",
       "      <td>7184429401</td>\n",
       "      <td>Pizza/Italian</td>\n",
       "      <td>2017-05-01</td>\n",
       "      <td>Violations were cited in the following area(s).</td>\n",
       "      <td>Hot food item not held at or above 140Âº F.</td>\n",
       "      <td>10</td>\n",
       "      <td>A</td>\n",
       "    </tr>\n",
       "    <tr>\n",
       "      <th>1</th>\n",
       "      <td>DENINO'S PIZZERIA TAVERN</td>\n",
       "      <td>STATEN ISLAND</td>\n",
       "      <td>524</td>\n",
       "      <td>PORT RICHMOND AVENUE</td>\n",
       "      <td>7184429401</td>\n",
       "      <td>Pizza/Italian</td>\n",
       "      <td>2017-05-01</td>\n",
       "      <td>Violations were cited in the following area(s).</td>\n",
       "      <td>Non-food contact surface improperly constructe...</td>\n",
       "      <td>10</td>\n",
       "      <td>A</td>\n",
       "    </tr>\n",
       "  </tbody>\n",
       "</table>\n",
       "</div>"
      ],
      "text/plain": [
       "                 RESTAURANT        BOROUGH BUILDING                STREET  \\\n",
       "0  DENINO'S PIZZERIA TAVERN  STATEN ISLAND      524  PORT RICHMOND AVENUE   \n",
       "1  DENINO'S PIZZERIA TAVERN  STATEN ISLAND      524  PORT RICHMOND AVENUE   \n",
       "\n",
       "        PHONE CUISINE DESCRIPTION INSPECTION DATE  \\\n",
       "0  7184429401       Pizza/Italian      2017-05-01   \n",
       "1  7184429401       Pizza/Italian      2017-05-01   \n",
       "\n",
       "                                            ACTION  \\\n",
       "0  Violations were cited in the following area(s).   \n",
       "1  Violations were cited in the following area(s).   \n",
       "\n",
       "                               VIOLATION DESCRIPTION SCORE GRADE  \n",
       "0        Hot food item not held at or above 140Âº F.    10     A  \n",
       "1  Non-food contact surface improperly constructe...    10     A  "
      ]
     },
     "execution_count": 182,
     "metadata": {},
     "output_type": "execute_result"
    }
   ],
   "source": [
    "df1.head(2)"
   ]
  },
  {
   "cell_type": "code",
   "execution_count": 183,
   "metadata": {},
   "outputs": [
    {
     "name": "stderr",
     "output_type": "stream",
     "text": [
      "C:\\Users\\Minyeong\\Anaconda3\\lib\\site-packages\\pandas\\core\\generic.py:4405: SettingWithCopyWarning: \n",
      "A value is trying to be set on a copy of a slice from a DataFrame.\n",
      "Try using .loc[row_indexer,col_indexer] = value instead\n",
      "\n",
      "See the caveats in the documentation: http://pandas.pydata.org/pandas-docs/stable/indexing.html#indexing-view-versus-copy\n",
      "  self[name] = value\n"
     ]
    }
   ],
   "source": [
    "#converting SCORE column data type into integer.\n",
    "df1.SCORE = df1.SCORE.astype(int)"
   ]
  },
  {
   "cell_type": "code",
   "execution_count": 189,
   "metadata": {},
   "outputs": [
    {
     "data": {
      "text/plain": [
       "Text(0.5, 1.0, 'Distribution of SCORE')"
      ]
     },
     "execution_count": 189,
     "metadata": {},
     "output_type": "execute_result"
    },
    {
     "data": {
      "image/png": "[encoded data removed]",
      "text/plain": [
       "<Figure size 432x288 with 1 Axes>"
      ]
     },
     "metadata": {
      "needs_background": "light"
     },
     "output_type": "display_data"
    }
   ],
   "source": [
    "#histogram of 'SCORE' variable which is numeric data type.\n",
    "sns.distplot(df1.SCORE)\n",
    "plt.title('Distribution of SCORE')"
   ]
  },
  {
   "cell_type": "code",
   "execution_count": 190,
   "metadata": {},
   "outputs": [
    {
     "data": {
      "text/plain": [
       "Text(0.5, 1.0, 'Boxplot of SCORE')"
      ]
     },
     "execution_count": 190,
     "metadata": {},
     "output_type": "execute_result"
    },
    {
     "data": {
      "image/png": "[encoded data removed]",
      "text/plain": [
       "<Figure size 432x288 with 1 Axes>"
      ]
     },
     "metadata": {
      "needs_background": "light"
     },
     "output_type": "display_data"
    }
   ],
   "source": [
    "sns.boxplot(df1.SCORE, orient = 'v', width=0.2)\n",
    "plt.title('Boxplot of SCORE')"
   ]
  },
  {
   "cell_type": "code",
   "execution_count": 191,
   "metadata": {},
   "outputs": [
    {
     "data": {
      "text/plain": [
       "count    263755.000000\n",
       "mean         19.861337\n",
       "std          15.288014\n",
       "min          -1.000000\n",
       "25%          10.000000\n",
       "50%          14.000000\n",
       "75%          26.000000\n",
       "max         166.000000\n",
       "Name: SCORE, dtype: float64"
      ]
     },
     "execution_count": 191,
     "metadata": {},
     "output_type": "execute_result"
    }
   ],
   "source": [
    "#checking the SCORE column summary information\n",
    "df1['SCORE'].describe()"
   ]
  },
  {
   "cell_type": "markdown",
   "metadata": {},
   "source": [
    "Based on above, SCORE variable is right-skewed as the mean value is larger than the median. The mean score is 19.86, which indicates GRADE B. "
   ]
  },
  {
   "cell_type": "markdown",
   "metadata": {},
   "source": [
    "### Distribution of GRADE"
   ]
  },
  {
   "cell_type": "code",
   "execution_count": 194,
   "metadata": {},
   "outputs": [
    {
     "data": {
      "text/plain": [
       "count     132573\n",
       "unique         7\n",
       "top            A\n",
       "freq      102827\n",
       "Name: GRADE, dtype: object"
      ]
     },
     "execution_count": 194,
     "metadata": {},
     "output_type": "execute_result"
    }
   ],
   "source": [
    "#checking the GRADE column summary information\n",
    "df1['GRADE'].describe()"
   ]
  },
  {
   "cell_type": "code",
   "execution_count": 195,
   "metadata": {},
   "outputs": [
    {
     "data": {
      "text/plain": [
       "array(['A', nan, 'B', 'P', 'C', 'Z', 'Not Yet Graded', 'G'], dtype=object)"
      ]
     },
     "execution_count": 195,
     "metadata": {},
     "output_type": "execute_result"
    }
   ],
   "source": [
    "#checking unique values in GRADE column\n",
    "df1['GRADE'].unique()"
   ]
  },
  {
   "cell_type": "code",
   "execution_count": 196,
   "metadata": {},
   "outputs": [
    {
     "data": {
      "text/plain": [
       "A                 102827\n",
       "B                  16420\n",
       "C                   5973\n",
       "Z                   3101\n",
       "Not Yet Graded      2373\n",
       "P                   1874\n",
       "G                      5\n",
       "Name: GRADE, dtype: int64"
      ]
     },
     "execution_count": 196,
     "metadata": {},
     "output_type": "execute_result"
    }
   ],
   "source": [
    "#getting the value counts for the 'GRADE' variable, which is categorical data type.\n",
    "df1['GRADE'].value_counts()"
   ]
  },
  {
   "cell_type": "code",
   "execution_count": 197,
   "metadata": {},
   "outputs": [
    {
     "data": {
      "image/png": "[encoded data removed]",
      "text/plain": [
       "<Figure size 432x288 with 1 Axes>"
      ]
     },
     "metadata": {
      "needs_background": "light"
     },
     "output_type": "display_data"
    }
   ],
   "source": [
    "#creating a bar plot of the 'GRADE' variable's value counts\n",
    "df1['GRADE'].value_counts().plot.bar(title = \"Freq Dist of GRADE\");"
   ]
  },
  {
   "cell_type": "markdown",
   "metadata": {},
   "source": [
    "Based on above, 102827 of inspected restaurants received A grade, which is the most frequent grade, and there are some pending grades such as Z, P, G, and \"Not Yet Graded\". The details about how Health department score and grade was described above, and also it can be found in the link: https://www1.nyc.gov/assets/doh/downloads/pdf/rii/how-we-score-grade.pdf"
   ]
  },
  {
   "cell_type": "markdown",
   "metadata": {},
   "source": [
    "### Phase 3: Find the restaurants that received the smallest SCORE and the best GRADE in NYC."
   ]
  },
  {
   "cell_type": "code",
   "execution_count": 205,
   "metadata": {},
   "outputs": [
    {
     "data": {
      "text/html": [
       "<div>\n",
       "<style scoped>\n",
       "    .dataframe tbody tr th:only-of-type {\n",
       "        vertical-align: middle;\n",
       "    }\n",
       "\n",
       "    .dataframe tbody tr th {\n",
       "        vertical-align: top;\n",
       "    }\n",
       "\n",
       "    .dataframe thead th {\n",
       "        text-align: right;\n",
       "    }\n",
       "</style>\n",
       "<table border=\"1\" class=\"dataframe\">\n",
       "  <thead>\n",
       "    <tr style=\"text-align: right;\">\n",
       "      <th></th>\n",
       "      <th>RESTAURANT</th>\n",
       "      <th>BOROUGH</th>\n",
       "      <th>BUILDING</th>\n",
       "      <th>STREET</th>\n",
       "      <th>PHONE</th>\n",
       "      <th>CUISINE DESCRIPTION</th>\n",
       "      <th>INSPECTION DATE</th>\n",
       "      <th>ACTION</th>\n",
       "      <th>VIOLATION DESCRIPTION</th>\n",
       "      <th>SCORE</th>\n",
       "      <th>GRADE</th>\n",
       "    </tr>\n",
       "  </thead>\n",
       "  <tbody>\n",
       "    <tr>\n",
       "      <th>0</th>\n",
       "      <td>DENINO'S PIZZERIA TAVERN</td>\n",
       "      <td>STATEN ISLAND</td>\n",
       "      <td>524</td>\n",
       "      <td>PORT RICHMOND AVENUE</td>\n",
       "      <td>7184429401</td>\n",
       "      <td>Pizza/Italian</td>\n",
       "      <td>2017-05-01</td>\n",
       "      <td>Violations were cited in the following area(s).</td>\n",
       "      <td>Hot food item not held at or above 140Âº F.</td>\n",
       "      <td>10</td>\n",
       "      <td>A</td>\n",
       "    </tr>\n",
       "    <tr>\n",
       "      <th>1</th>\n",
       "      <td>DENINO'S PIZZERIA TAVERN</td>\n",
       "      <td>STATEN ISLAND</td>\n",
       "      <td>524</td>\n",
       "      <td>PORT RICHMOND AVENUE</td>\n",
       "      <td>7184429401</td>\n",
       "      <td>Pizza/Italian</td>\n",
       "      <td>2017-05-01</td>\n",
       "      <td>Violations were cited in the following area(s).</td>\n",
       "      <td>Non-food contact surface improperly constructe...</td>\n",
       "      <td>10</td>\n",
       "      <td>A</td>\n",
       "    </tr>\n",
       "  </tbody>\n",
       "</table>\n",
       "</div>"
      ],
      "text/plain": [
       "                 RESTAURANT        BOROUGH BUILDING                STREET  \\\n",
       "0  DENINO'S PIZZERIA TAVERN  STATEN ISLAND      524  PORT RICHMOND AVENUE   \n",
       "1  DENINO'S PIZZERIA TAVERN  STATEN ISLAND      524  PORT RICHMOND AVENUE   \n",
       "\n",
       "        PHONE CUISINE DESCRIPTION INSPECTION DATE  \\\n",
       "0  7184429401       Pizza/Italian      2017-05-01   \n",
       "1  7184429401       Pizza/Italian      2017-05-01   \n",
       "\n",
       "                                            ACTION  \\\n",
       "0  Violations were cited in the following area(s).   \n",
       "1  Violations were cited in the following area(s).   \n",
       "\n",
       "                               VIOLATION DESCRIPTION  SCORE GRADE  \n",
       "0        Hot food item not held at or above 140Âº F.     10     A  \n",
       "1  Non-food contact surface improperly constructe...     10     A  "
      ]
     },
     "execution_count": 205,
     "metadata": {},
     "output_type": "execute_result"
    }
   ],
   "source": [
    "#sanity check\n",
    "df1.head(2)"
   ]
  },
  {
   "cell_type": "code",
   "execution_count": 213,
   "metadata": {},
   "outputs": [
    {
     "data": {
      "text/plain": [
       "count                  263755\n",
       "unique                    644\n",
       "top       2019-03-28 00:00:00\n",
       "freq                      996\n",
       "first     2017-05-01 00:00:00\n",
       "last      2019-05-02 00:00:00\n",
       "Name: INSPECTION DATE, dtype: object"
      ]
     },
     "execution_count": 213,
     "metadata": {},
     "output_type": "execute_result"
    }
   ],
   "source": [
    "#checking the INSPECTIN DATE column\n",
    "df1['INSPECTION DATE'].describe()"
   ]
  },
  {
   "cell_type": "code",
   "execution_count": 209,
   "metadata": {},
   "outputs": [
    {
     "data": {
      "text/plain": [
       "263754   2019-05-02\n",
       "263420   2019-05-02\n",
       "263407   2019-05-02\n",
       "263408   2019-05-02\n",
       "263409   2019-05-02\n",
       "Name: INSPECTION DATE, dtype: datetime64[ns]"
      ]
     },
     "execution_count": 209,
     "metadata": {},
     "output_type": "execute_result"
    }
   ],
   "source": [
    "#finding the most recent inspection date\n",
    "df1['INSPECTION DATE'].sort_values(ascending=False).head()"
   ]
  },
  {
   "cell_type": "markdown",
   "metadata": {},
   "source": [
    "Based on above, 2019-05-02 is the most recent INSPECTION DATE in the dataset, so I will use this date to find the \"best\" restaurant based on the SCORE and GRADE in each borough."
   ]
  },
  {
   "cell_type": "code",
   "execution_count": 217,
   "metadata": {},
   "outputs": [
    {
     "data": {
      "text/html": [
       "<div>\n",
       "<style scoped>\n",
       "    .dataframe tbody tr th:only-of-type {\n",
       "        vertical-align: middle;\n",
       "    }\n",
       "\n",
       "    .dataframe tbody tr th {\n",
       "        vertical-align: top;\n",
       "    }\n",
       "\n",
       "    .dataframe thead th {\n",
       "        text-align: right;\n",
       "    }\n",
       "</style>\n",
       "<table border=\"1\" class=\"dataframe\">\n",
       "  <thead>\n",
       "    <tr style=\"text-align: right;\">\n",
       "      <th></th>\n",
       "      <th>RESTAURANT</th>\n",
       "      <th>BOROUGH</th>\n",
       "      <th>BUILDING</th>\n",
       "      <th>STREET</th>\n",
       "      <th>PHONE</th>\n",
       "      <th>CUISINE DESCRIPTION</th>\n",
       "      <th>INSPECTION DATE</th>\n",
       "      <th>ACTION</th>\n",
       "      <th>VIOLATION DESCRIPTION</th>\n",
       "      <th>SCORE</th>\n",
       "      <th>GRADE</th>\n",
       "    </tr>\n",
       "  </thead>\n",
       "  <tbody>\n",
       "    <tr>\n",
       "      <th>263248</th>\n",
       "      <td>THE NEW AMITY RESTAURANT</td>\n",
       "      <td>MANHATTAN</td>\n",
       "      <td>1134</td>\n",
       "      <td>MADISON AVENUE</td>\n",
       "      <td>2128613255</td>\n",
       "      <td>American</td>\n",
       "      <td>2019-05-02</td>\n",
       "      <td>Violations were cited in the following area(s).</td>\n",
       "      <td>Hot food item not held at or above 140Âº F.</td>\n",
       "      <td>9</td>\n",
       "      <td>A</td>\n",
       "    </tr>\n",
       "    <tr>\n",
       "      <th>263249</th>\n",
       "      <td>THE NEW AMITY RESTAURANT</td>\n",
       "      <td>MANHATTAN</td>\n",
       "      <td>1134</td>\n",
       "      <td>MADISON AVENUE</td>\n",
       "      <td>2128613255</td>\n",
       "      <td>American</td>\n",
       "      <td>2019-05-02</td>\n",
       "      <td>Violations were cited in the following area(s).</td>\n",
       "      <td>Mechanical or natural ventilation system not p...</td>\n",
       "      <td>9</td>\n",
       "      <td>A</td>\n",
       "    </tr>\n",
       "    <tr>\n",
       "      <th>263250</th>\n",
       "      <td>WESTERN BAKERY</td>\n",
       "      <td>QUEENS</td>\n",
       "      <td>22813</td>\n",
       "      <td>MERRICK BOULEVARD</td>\n",
       "      <td>7185253201</td>\n",
       "      <td>Caribbean</td>\n",
       "      <td>2019-05-02</td>\n",
       "      <td>Violations were cited in the following area(s).</td>\n",
       "      <td>Food not cooled by an approved method whereby ...</td>\n",
       "      <td>9</td>\n",
       "      <td>A</td>\n",
       "    </tr>\n",
       "  </tbody>\n",
       "</table>\n",
       "</div>"
      ],
      "text/plain": [
       "                      RESTAURANT    BOROUGH BUILDING             STREET  \\\n",
       "263248  THE NEW AMITY RESTAURANT  MANHATTAN     1134     MADISON AVENUE   \n",
       "263249  THE NEW AMITY RESTAURANT  MANHATTAN     1134     MADISON AVENUE   \n",
       "263250            WESTERN BAKERY     QUEENS    22813  MERRICK BOULEVARD   \n",
       "\n",
       "             PHONE CUISINE DESCRIPTION INSPECTION DATE  \\\n",
       "263248  2128613255            American      2019-05-02   \n",
       "263249  2128613255            American      2019-05-02   \n",
       "263250  7185253201           Caribbean      2019-05-02   \n",
       "\n",
       "                                                 ACTION  \\\n",
       "263248  Violations were cited in the following area(s).   \n",
       "263249  Violations were cited in the following area(s).   \n",
       "263250  Violations were cited in the following area(s).   \n",
       "\n",
       "                                    VIOLATION DESCRIPTION  SCORE GRADE  \n",
       "263248        Hot food item not held at or above 140Âº F.      9     A  \n",
       "263249  Mechanical or natural ventilation system not p...      9     A  \n",
       "263250  Food not cooled by an approved method whereby ...      9     A  "
      ]
     },
     "execution_count": 217,
     "metadata": {},
     "output_type": "execute_result"
    }
   ],
   "source": [
    "#extracting the data which was inspected on 2019-05-02\n",
    "df2 = pd.DataFrame(df1.loc[df1['INSPECTION DATE'] == '2019-05-02'])\n",
    "df2.head(3)"
   ]
  },
  {
   "cell_type": "code",
   "execution_count": 218,
   "metadata": {},
   "outputs": [
    {
     "data": {
      "text/plain": [
       "(507, 11)"
      ]
     },
     "execution_count": 218,
     "metadata": {},
     "output_type": "execute_result"
    }
   ],
   "source": [
    "#checking the number of rows and columns\n",
    "df2.shape"
   ]
  },
  {
   "cell_type": "code",
   "execution_count": 239,
   "metadata": {},
   "outputs": [
    {
     "data": {
      "text/html": [
       "<div>\n",
       "<style scoped>\n",
       "    .dataframe tbody tr th:only-of-type {\n",
       "        vertical-align: middle;\n",
       "    }\n",
       "\n",
       "    .dataframe tbody tr th {\n",
       "        vertical-align: top;\n",
       "    }\n",
       "\n",
       "    .dataframe thead th {\n",
       "        text-align: right;\n",
       "    }\n",
       "</style>\n",
       "<table border=\"1\" class=\"dataframe\">\n",
       "  <thead>\n",
       "    <tr style=\"text-align: right;\">\n",
       "      <th></th>\n",
       "      <th></th>\n",
       "      <th></th>\n",
       "      <th>Average Score</th>\n",
       "    </tr>\n",
       "    <tr>\n",
       "      <th>BOROUGH</th>\n",
       "      <th>RESTAURANT</th>\n",
       "      <th>GRADE</th>\n",
       "      <th></th>\n",
       "    </tr>\n",
       "  </thead>\n",
       "  <tbody>\n",
       "    <tr>\n",
       "      <th>MANHATTAN</th>\n",
       "      <th>MILK BAR NOLITA</th>\n",
       "      <th>A</th>\n",
       "      <td>2</td>\n",
       "    </tr>\n",
       "    <tr>\n",
       "      <th>STATEN ISLAND</th>\n",
       "      <th>SUBWAY</th>\n",
       "      <th>A</th>\n",
       "      <td>2</td>\n",
       "    </tr>\n",
       "    <tr>\n",
       "      <th>BROOKLYN</th>\n",
       "      <th>CROWN FRIED CHICKEN</th>\n",
       "      <th>A</th>\n",
       "      <td>2</td>\n",
       "    </tr>\n",
       "    <tr>\n",
       "      <th>QUEENS</th>\n",
       "      <th>CAFE TO GO</th>\n",
       "      <th>A</th>\n",
       "      <td>2</td>\n",
       "    </tr>\n",
       "    <tr>\n",
       "      <th>MANHATTAN</th>\n",
       "      <th>NATHAN'S FAMOUS</th>\n",
       "      <th>A</th>\n",
       "      <td>2</td>\n",
       "    </tr>\n",
       "  </tbody>\n",
       "</table>\n",
       "</div>"
      ],
      "text/plain": [
       "                                         Average Score\n",
       "BOROUGH       RESTAURANT          GRADE               \n",
       "MANHATTAN     MILK BAR NOLITA     A                  2\n",
       "STATEN ISLAND SUBWAY              A                  2\n",
       "BROOKLYN      CROWN FRIED CHICKEN A                  2\n",
       "QUEENS        CAFE TO GO          A                  2\n",
       "MANHATTAN     NATHAN'S FAMOUS     A                  2"
      ]
     },
     "execution_count": 239,
     "metadata": {},
     "output_type": "execute_result"
    }
   ],
   "source": [
    "#grouping by 'BOROUGH' and 'RESTAURANT', and then calculating the mean of 'SCORE' column.\n",
    "grouped_df2 = df2.groupby(['BOROUGH', 'RESTAURANT', 'GRADE'])['SCORE'].agg([('Average Score', 'mean')]).sort_values(by=['Average Score'], ascending=True)\n",
    "grouped_df2.head(5)"
   ]
  },
  {
   "cell_type": "markdown",
   "metadata": {},
   "source": [
    "Recommended restaurants: Based on above table, MILK BAR NOLITA, SUBWAY, CROWN FRIED CHICKEN, CAFE TO GO, NATHAN'S FAMOUS are the best 5 restaurants in terms of lowest SCORE as of 2019-05-02, which means they are compliant with the City and State food safety regulations."
   ]
  },
  {
   "cell_type": "markdown",
   "metadata": {},
   "source": [
    "### Phase 4: Find the restaurants that received the largest SCORE and the worst GRADE in NYC."
   ]
  },
  {
   "cell_type": "code",
   "execution_count": 204,
   "metadata": {},
   "outputs": [
    {
     "data": {
      "text/html": [
       "<div>\n",
       "<style scoped>\n",
       "    .dataframe tbody tr th:only-of-type {\n",
       "        vertical-align: middle;\n",
       "    }\n",
       "\n",
       "    .dataframe tbody tr th {\n",
       "        vertical-align: top;\n",
       "    }\n",
       "\n",
       "    .dataframe thead th {\n",
       "        text-align: right;\n",
       "    }\n",
       "</style>\n",
       "<table border=\"1\" class=\"dataframe\">\n",
       "  <thead>\n",
       "    <tr style=\"text-align: right;\">\n",
       "      <th></th>\n",
       "      <th></th>\n",
       "      <th></th>\n",
       "      <th></th>\n",
       "      <th>Average Value</th>\n",
       "    </tr>\n",
       "    <tr>\n",
       "      <th>BOROUGH</th>\n",
       "      <th>RESTAURANT</th>\n",
       "      <th>INSPECTION DATE</th>\n",
       "      <th>GRADE</th>\n",
       "      <th></th>\n",
       "    </tr>\n",
       "  </thead>\n",
       "  <tbody>\n",
       "    <tr>\n",
       "      <th rowspan=\"2\" valign=\"top\">MANHATTAN</th>\n",
       "      <th>BIENANGY'S RINCONCITO DULCE</th>\n",
       "      <th>2019-05-02</th>\n",
       "      <th>A</th>\n",
       "      <td>12.0</td>\n",
       "    </tr>\n",
       "    <tr>\n",
       "      <th>CPS EVENTS AT THE PLAZA</th>\n",
       "      <th>2019-05-02</th>\n",
       "      <th>A</th>\n",
       "      <td>13.0</td>\n",
       "    </tr>\n",
       "    <tr>\n",
       "      <th rowspan=\"2\" valign=\"top\">BRONX</th>\n",
       "      <th>THE PIZZA PLACE</th>\n",
       "      <th>2019-05-02</th>\n",
       "      <th>A</th>\n",
       "      <td>13.0</td>\n",
       "    </tr>\n",
       "    <tr>\n",
       "      <th>GREAT WALL</th>\n",
       "      <th>2019-05-02</th>\n",
       "      <th>A</th>\n",
       "      <td>12.0</td>\n",
       "    </tr>\n",
       "    <tr>\n",
       "      <th rowspan=\"2\" valign=\"top\">BROOKLYN</th>\n",
       "      <th>NAMASTE</th>\n",
       "      <th>2019-05-02</th>\n",
       "      <th>A</th>\n",
       "      <td>10.0</td>\n",
       "    </tr>\n",
       "    <tr>\n",
       "      <th>BAR BASIC</th>\n",
       "      <th>2019-05-02</th>\n",
       "      <th>A</th>\n",
       "      <td>5.0</td>\n",
       "    </tr>\n",
       "    <tr>\n",
       "      <th>MANHATTAN</th>\n",
       "      <th>CAFE FREDERICK HARLEM PARLOR</th>\n",
       "      <th>2019-05-02</th>\n",
       "      <th>A</th>\n",
       "      <td>9.0</td>\n",
       "    </tr>\n",
       "    <tr>\n",
       "      <th>BROOKLYN</th>\n",
       "      <th>GRUIT</th>\n",
       "      <th>2019-05-02</th>\n",
       "      <th>Not Yet Graded</th>\n",
       "      <td>8.0</td>\n",
       "    </tr>\n",
       "    <tr>\n",
       "      <th rowspan=\"3\" valign=\"top\">MANHATTAN</th>\n",
       "      <th>STARBUCKS</th>\n",
       "      <th>2019-05-02</th>\n",
       "      <th>A</th>\n",
       "      <td>2.0</td>\n",
       "    </tr>\n",
       "    <tr>\n",
       "      <th>LUCKY</th>\n",
       "      <th>2019-05-02</th>\n",
       "      <th>Z</th>\n",
       "      <td>39.0</td>\n",
       "    </tr>\n",
       "    <tr>\n",
       "      <th>OLLIN RESTAURANT</th>\n",
       "      <th>2019-05-02</th>\n",
       "      <th>A</th>\n",
       "      <td>13.0</td>\n",
       "    </tr>\n",
       "    <tr>\n",
       "      <th rowspan=\"2\" valign=\"top\">BROOKLYN</th>\n",
       "      <th>E NOODLE</th>\n",
       "      <th>2019-05-02</th>\n",
       "      <th>A</th>\n",
       "      <td>13.0</td>\n",
       "    </tr>\n",
       "    <tr>\n",
       "      <th>EL PASO MEXICAN GRILL</th>\n",
       "      <th>2019-05-02</th>\n",
       "      <th>A</th>\n",
       "      <td>11.0</td>\n",
       "    </tr>\n",
       "    <tr>\n",
       "      <th rowspan=\"2\" valign=\"top\">STATEN ISLAND</th>\n",
       "      <th>WAGNER COLLEGE - HAWK'S NEST</th>\n",
       "      <th>2019-05-02</th>\n",
       "      <th>A</th>\n",
       "      <td>7.0</td>\n",
       "    </tr>\n",
       "    <tr>\n",
       "      <th>TONY'S BRICK OVEN</th>\n",
       "      <th>2019-05-02</th>\n",
       "      <th>A</th>\n",
       "      <td>11.0</td>\n",
       "    </tr>\n",
       "    <tr>\n",
       "      <th>MANHATTAN</th>\n",
       "      <th>NEW KING WOK RESTAURANT</th>\n",
       "      <th>2019-05-02</th>\n",
       "      <th>A</th>\n",
       "      <td>3.0</td>\n",
       "    </tr>\n",
       "    <tr>\n",
       "      <th>QUEENS</th>\n",
       "      <th>MR CRAB</th>\n",
       "      <th>2019-05-02</th>\n",
       "      <th>A</th>\n",
       "      <td>7.0</td>\n",
       "    </tr>\n",
       "    <tr>\n",
       "      <th>BROOKLYN</th>\n",
       "      <th>PROSPECT PIZZA</th>\n",
       "      <th>2019-05-02</th>\n",
       "      <th>Z</th>\n",
       "      <td>21.0</td>\n",
       "    </tr>\n",
       "    <tr>\n",
       "      <th>MANHATTAN</th>\n",
       "      <th>OOTOYA</th>\n",
       "      <th>2019-05-02</th>\n",
       "      <th>A</th>\n",
       "      <td>9.0</td>\n",
       "    </tr>\n",
       "    <tr>\n",
       "      <th rowspan=\"2\" valign=\"top\">BRONX</th>\n",
       "      <th>NEW FRESCO TORTILLAS TOMMY'S KITCHEN</th>\n",
       "      <th>2019-05-02</th>\n",
       "      <th>Z</th>\n",
       "      <td>21.0</td>\n",
       "    </tr>\n",
       "    <tr>\n",
       "      <th>ACRI CAFE</th>\n",
       "      <th>2019-05-02</th>\n",
       "      <th>A</th>\n",
       "      <td>8.0</td>\n",
       "    </tr>\n",
       "    <tr>\n",
       "      <th rowspan=\"2\" valign=\"top\">QUEENS</th>\n",
       "      <th>DUNKIN' DONUTS, BASKIN ROBBINS</th>\n",
       "      <th>2019-05-02</th>\n",
       "      <th>A</th>\n",
       "      <td>7.0</td>\n",
       "    </tr>\n",
       "    <tr>\n",
       "      <th>TORNADO CREPE</th>\n",
       "      <th>2019-05-02</th>\n",
       "      <th>Not Yet Graded</th>\n",
       "      <td>19.0</td>\n",
       "    </tr>\n",
       "    <tr>\n",
       "      <th>BROOKLYN</th>\n",
       "      <th>MULATA GRILL</th>\n",
       "      <th>2019-05-02</th>\n",
       "      <th>Z</th>\n",
       "      <td>27.0</td>\n",
       "    </tr>\n",
       "    <tr>\n",
       "      <th rowspan=\"4\" valign=\"top\">MANHATTAN</th>\n",
       "      <th>CAFFE GRAZIE</th>\n",
       "      <th>2019-05-02</th>\n",
       "      <th>A</th>\n",
       "      <td>9.0</td>\n",
       "    </tr>\n",
       "    <tr>\n",
       "      <th>NATHAN'S FAMOUS</th>\n",
       "      <th>2019-05-02</th>\n",
       "      <th>A</th>\n",
       "      <td>2.0</td>\n",
       "    </tr>\n",
       "    <tr>\n",
       "      <th>MODERN BREAD AND BAGEL</th>\n",
       "      <th>2019-05-02</th>\n",
       "      <th>A</th>\n",
       "      <td>13.0</td>\n",
       "    </tr>\n",
       "    <tr>\n",
       "      <th>NORTH SQUARE</th>\n",
       "      <th>2019-05-02</th>\n",
       "      <th>A</th>\n",
       "      <td>7.0</td>\n",
       "    </tr>\n",
       "    <tr>\n",
       "      <th>QUEENS</th>\n",
       "      <th>ASTORIA PIZZA</th>\n",
       "      <th>2019-05-02</th>\n",
       "      <th>A</th>\n",
       "      <td>12.0</td>\n",
       "    </tr>\n",
       "    <tr>\n",
       "      <th>BROOKLYN</th>\n",
       "      <th>GREENE GRAPE ANNEX</th>\n",
       "      <th>2019-05-02</th>\n",
       "      <th>Z</th>\n",
       "      <td>21.0</td>\n",
       "    </tr>\n",
       "    <tr>\n",
       "      <th>...</th>\n",
       "      <th>...</th>\n",
       "      <th>...</th>\n",
       "      <th>...</th>\n",
       "      <td>...</td>\n",
       "    </tr>\n",
       "    <tr>\n",
       "      <th>MANHATTAN</th>\n",
       "      <th>THE DRAFT HOUSE</th>\n",
       "      <th>2017-05-01</th>\n",
       "      <th>A</th>\n",
       "      <td>12.0</td>\n",
       "    </tr>\n",
       "    <tr>\n",
       "      <th>BRONX</th>\n",
       "      <th>ANTONIO'S TRATTORIA</th>\n",
       "      <th>2017-05-01</th>\n",
       "      <th>A</th>\n",
       "      <td>11.0</td>\n",
       "    </tr>\n",
       "    <tr>\n",
       "      <th>MANHATTAN</th>\n",
       "      <th>WAT'S ON YOUR PLATE</th>\n",
       "      <th>2017-05-01</th>\n",
       "      <th>C</th>\n",
       "      <td>28.0</td>\n",
       "    </tr>\n",
       "    <tr>\n",
       "      <th>QUEENS</th>\n",
       "      <th>KUM WEI KITCHEN</th>\n",
       "      <th>2017-05-01</th>\n",
       "      <th>A</th>\n",
       "      <td>12.0</td>\n",
       "    </tr>\n",
       "    <tr>\n",
       "      <th>MANHATTAN</th>\n",
       "      <th>JOOSED BY LLOYD'S</th>\n",
       "      <th>2017-05-01</th>\n",
       "      <th>C</th>\n",
       "      <td>33.0</td>\n",
       "    </tr>\n",
       "    <tr>\n",
       "      <th rowspan=\"3\" valign=\"top\">QUEENS</th>\n",
       "      <th>WENDY'S</th>\n",
       "      <th>2017-05-01</th>\n",
       "      <th>A</th>\n",
       "      <td>13.0</td>\n",
       "    </tr>\n",
       "    <tr>\n",
       "      <th>LA POLLERA COLORADA</th>\n",
       "      <th>2017-05-01</th>\n",
       "      <th>A</th>\n",
       "      <td>11.0</td>\n",
       "    </tr>\n",
       "    <tr>\n",
       "      <th>AJISEN RAMEN</th>\n",
       "      <th>2017-05-01</th>\n",
       "      <th>B</th>\n",
       "      <td>23.0</td>\n",
       "    </tr>\n",
       "    <tr>\n",
       "      <th>STATEN ISLAND</th>\n",
       "      <th>JOHN'S FAMOUS DELI</th>\n",
       "      <th>2017-05-01</th>\n",
       "      <th>A</th>\n",
       "      <td>12.0</td>\n",
       "    </tr>\n",
       "    <tr>\n",
       "      <th rowspan=\"2\" valign=\"top\">BROOKLYN</th>\n",
       "      <th>FISHERMAN'S COVE</th>\n",
       "      <th>2017-05-01</th>\n",
       "      <th>A</th>\n",
       "      <td>8.0</td>\n",
       "    </tr>\n",
       "    <tr>\n",
       "      <th>YUAN BAO 50</th>\n",
       "      <th>2017-05-01</th>\n",
       "      <th>A</th>\n",
       "      <td>13.0</td>\n",
       "    </tr>\n",
       "    <tr>\n",
       "      <th rowspan=\"2\" valign=\"top\">QUEENS</th>\n",
       "      <th>CORATO I PIZZA &amp; RESTAURANT</th>\n",
       "      <th>2017-05-01</th>\n",
       "      <th>A</th>\n",
       "      <td>12.0</td>\n",
       "    </tr>\n",
       "    <tr>\n",
       "      <th>SAKURA</th>\n",
       "      <th>2017-05-01</th>\n",
       "      <th>P</th>\n",
       "      <td>2.0</td>\n",
       "    </tr>\n",
       "    <tr>\n",
       "      <th>MANHATTAN</th>\n",
       "      <th>COSI</th>\n",
       "      <th>2017-05-01</th>\n",
       "      <th>A</th>\n",
       "      <td>11.0</td>\n",
       "    </tr>\n",
       "    <tr>\n",
       "      <th>QUEENS</th>\n",
       "      <th>LANZHOU BEEF NOODLE</th>\n",
       "      <th>2017-05-01</th>\n",
       "      <th>A</th>\n",
       "      <td>12.0</td>\n",
       "    </tr>\n",
       "    <tr>\n",
       "      <th rowspan=\"2\" valign=\"top\">BROOKLYN</th>\n",
       "      <th>JUST SALAD</th>\n",
       "      <th>2017-05-01</th>\n",
       "      <th>A</th>\n",
       "      <td>9.0</td>\n",
       "    </tr>\n",
       "    <tr>\n",
       "      <th>GATHER</th>\n",
       "      <th>2017-05-01</th>\n",
       "      <th>A</th>\n",
       "      <td>12.0</td>\n",
       "    </tr>\n",
       "    <tr>\n",
       "      <th rowspan=\"2\" valign=\"top\">QUEENS</th>\n",
       "      <th>BON APPETIT RESTAURANT</th>\n",
       "      <th>2017-05-01</th>\n",
       "      <th>P</th>\n",
       "      <td>4.0</td>\n",
       "    </tr>\n",
       "    <tr>\n",
       "      <th>108 DOUBLE CHINESE RESTAURANT</th>\n",
       "      <th>2017-05-01</th>\n",
       "      <th>A</th>\n",
       "      <td>10.0</td>\n",
       "    </tr>\n",
       "    <tr>\n",
       "      <th rowspan=\"3\" valign=\"top\">MANHATTAN</th>\n",
       "      <th>VARIETY COFFEE ROASTERS</th>\n",
       "      <th>2017-05-01</th>\n",
       "      <th>A</th>\n",
       "      <td>0.0</td>\n",
       "    </tr>\n",
       "    <tr>\n",
       "      <th>RIVOLI PIZZA II</th>\n",
       "      <th>2017-05-01</th>\n",
       "      <th>A</th>\n",
       "      <td>10.0</td>\n",
       "    </tr>\n",
       "    <tr>\n",
       "      <th>SANT AMBROEUS</th>\n",
       "      <th>2017-05-01</th>\n",
       "      <th>A</th>\n",
       "      <td>9.0</td>\n",
       "    </tr>\n",
       "    <tr>\n",
       "      <th>STATEN ISLAND</th>\n",
       "      <th>G-KNOWS CHEESESTEAKS</th>\n",
       "      <th>2017-05-01</th>\n",
       "      <th>A</th>\n",
       "      <td>12.0</td>\n",
       "    </tr>\n",
       "    <tr>\n",
       "      <th>BROOKLYN</th>\n",
       "      <th>ANNIES FIRST WOK RESTAURANT</th>\n",
       "      <th>2017-05-01</th>\n",
       "      <th>A</th>\n",
       "      <td>3.0</td>\n",
       "    </tr>\n",
       "    <tr>\n",
       "      <th>STATEN ISLAND</th>\n",
       "      <th>VILLAGGIO PIZZERIA RESTAURANT</th>\n",
       "      <th>2017-05-01</th>\n",
       "      <th>A</th>\n",
       "      <td>12.0</td>\n",
       "    </tr>\n",
       "    <tr>\n",
       "      <th>MANHATTAN</th>\n",
       "      <th>FAMOUS AMADEUS PIZZA</th>\n",
       "      <th>2017-05-01</th>\n",
       "      <th>A</th>\n",
       "      <td>12.0</td>\n",
       "    </tr>\n",
       "    <tr>\n",
       "      <th>QUEENS</th>\n",
       "      <th>12 CORAZONES RESTAURANT &amp; BAR</th>\n",
       "      <th>2017-05-01</th>\n",
       "      <th>A</th>\n",
       "      <td>6.0</td>\n",
       "    </tr>\n",
       "    <tr>\n",
       "      <th rowspan=\"2\" valign=\"top\">MANHATTAN</th>\n",
       "      <th>PERK KAFE</th>\n",
       "      <th>2017-05-01</th>\n",
       "      <th>A</th>\n",
       "      <td>10.0</td>\n",
       "    </tr>\n",
       "    <tr>\n",
       "      <th>VIA BRASIL</th>\n",
       "      <th>2017-05-01</th>\n",
       "      <th>A</th>\n",
       "      <td>7.0</td>\n",
       "    </tr>\n",
       "    <tr>\n",
       "      <th>QUEENS</th>\n",
       "      <th>SARILING ATIN</th>\n",
       "      <th>2017-05-01</th>\n",
       "      <th>B</th>\n",
       "      <td>15.0</td>\n",
       "    </tr>\n",
       "  </tbody>\n",
       "</table>\n",
       "<p>55440 rows × 1 columns</p>\n",
       "</div>"
      ],
      "text/plain": [
       "                                                                                   Average Value\n",
       "BOROUGH       RESTAURANT                           INSPECTION DATE GRADE                        \n",
       "MANHATTAN     BIENANGY'S RINCONCITO DULCE          2019-05-02      A                        12.0\n",
       "              CPS EVENTS AT THE PLAZA              2019-05-02      A                        13.0\n",
       "BRONX         THE PIZZA PLACE                      2019-05-02      A                        13.0\n",
       "              GREAT WALL                           2019-05-02      A                        12.0\n",
       "BROOKLYN      NAMASTE                              2019-05-02      A                        10.0\n",
       "              BAR BASIC                            2019-05-02      A                         5.0\n",
       "MANHATTAN     CAFE FREDERICK HARLEM PARLOR         2019-05-02      A                         9.0\n",
       "BROOKLYN      GRUIT                                2019-05-02      Not Yet Graded            8.0\n",
       "MANHATTAN     STARBUCKS                            2019-05-02      A                         2.0\n",
       "              LUCKY                                2019-05-02      Z                        39.0\n",
       "              OLLIN RESTAURANT                     2019-05-02      A                        13.0\n",
       "BROOKLYN      E NOODLE                             2019-05-02      A                        13.0\n",
       "              EL PASO MEXICAN GRILL                2019-05-02      A                        11.0\n",
       "STATEN ISLAND WAGNER COLLEGE - HAWK'S NEST         2019-05-02      A                         7.0\n",
       "              TONY'S BRICK OVEN                    2019-05-02      A                        11.0\n",
       "MANHATTAN     NEW KING WOK RESTAURANT              2019-05-02      A                         3.0\n",
       "QUEENS        MR CRAB                              2019-05-02      A                         7.0\n",
       "BROOKLYN      PROSPECT PIZZA                       2019-05-02      Z                        21.0\n",
       "MANHATTAN     OOTOYA                               2019-05-02      A                         9.0\n",
       "BRONX         NEW FRESCO TORTILLAS TOMMY'S KITCHEN 2019-05-02      Z                        21.0\n",
       "              ACRI CAFE                            2019-05-02      A                         8.0\n",
       "QUEENS        DUNKIN' DONUTS, BASKIN ROBBINS       2019-05-02      A                         7.0\n",
       "              TORNADO CREPE                        2019-05-02      Not Yet Graded           19.0\n",
       "BROOKLYN      MULATA GRILL                         2019-05-02      Z                        27.0\n",
       "MANHATTAN     CAFFE GRAZIE                         2019-05-02      A                         9.0\n",
       "              NATHAN'S FAMOUS                      2019-05-02      A                         2.0\n",
       "              MODERN BREAD AND BAGEL               2019-05-02      A                        13.0\n",
       "              NORTH SQUARE                         2019-05-02      A                         7.0\n",
       "QUEENS        ASTORIA PIZZA                        2019-05-02      A                        12.0\n",
       "BROOKLYN      GREENE GRAPE ANNEX                   2019-05-02      Z                        21.0\n",
       "...                                                                                          ...\n",
       "MANHATTAN     THE DRAFT HOUSE                      2017-05-01      A                        12.0\n",
       "BRONX         ANTONIO'S TRATTORIA                  2017-05-01      A                        11.0\n",
       "MANHATTAN     WAT'S ON YOUR PLATE                  2017-05-01      C                        28.0\n",
       "QUEENS        KUM WEI KITCHEN                      2017-05-01      A                        12.0\n",
       "MANHATTAN     JOOSED BY LLOYD'S                    2017-05-01      C                        33.0\n",
       "QUEENS        WENDY'S                              2017-05-01      A                        13.0\n",
       "              LA POLLERA COLORADA                  2017-05-01      A                        11.0\n",
       "              AJISEN RAMEN                         2017-05-01      B                        23.0\n",
       "STATEN ISLAND JOHN'S FAMOUS DELI                   2017-05-01      A                        12.0\n",
       "BROOKLYN      FISHERMAN'S COVE                     2017-05-01      A                         8.0\n",
       "              YUAN BAO 50                          2017-05-01      A                        13.0\n",
       "QUEENS        CORATO I PIZZA & RESTAURANT          2017-05-01      A                        12.0\n",
       "              SAKURA                               2017-05-01      P                         2.0\n",
       "MANHATTAN     COSI                                 2017-05-01      A                        11.0\n",
       "QUEENS        LANZHOU BEEF NOODLE                  2017-05-01      A                        12.0\n",
       "BROOKLYN      JUST SALAD                           2017-05-01      A                         9.0\n",
       "              GATHER                               2017-05-01      A                        12.0\n",
       "QUEENS        BON APPETIT RESTAURANT               2017-05-01      P                         4.0\n",
       "              108 DOUBLE CHINESE RESTAURANT        2017-05-01      A                        10.0\n",
       "MANHATTAN     VARIETY COFFEE ROASTERS              2017-05-01      A                         0.0\n",
       "              RIVOLI PIZZA II                      2017-05-01      A                        10.0\n",
       "              SANT AMBROEUS                        2017-05-01      A                         9.0\n",
       "STATEN ISLAND G-KNOWS CHEESESTEAKS                 2017-05-01      A                        12.0\n",
       "BROOKLYN      ANNIES FIRST WOK RESTAURANT          2017-05-01      A                         3.0\n",
       "STATEN ISLAND VILLAGGIO PIZZERIA RESTAURANT        2017-05-01      A                        12.0\n",
       "MANHATTAN     FAMOUS AMADEUS PIZZA                 2017-05-01      A                        12.0\n",
       "QUEENS        12 CORAZONES RESTAURANT & BAR        2017-05-01      A                         6.0\n",
       "MANHATTAN     PERK KAFE                            2017-05-01      A                        10.0\n",
       "              VIA BRASIL                           2017-05-01      A                         7.0\n",
       "QUEENS        SARILING ATIN                        2017-05-01      B                        15.0\n",
       "\n",
       "[55440 rows x 1 columns]"
      ]
     },
     "execution_count": 204,
     "metadata": {},
     "output_type": "execute_result"
    }
   ],
   "source": [
    "#grouping by 'Gender' and 'Candy', and then calculating the mean of 'value' column.\n",
    "df2 = df1.groupby(['BOROUGH', 'RESTAURANT', 'INSPECTION DATE', 'GRADE'])['SCORE'].agg([('Average Value', 'mean')]).sort_values(by=['INSPECTION DATE'], ascending=False)\n",
    "df2"
   ]
  },
  {
   "cell_type": "code",
   "execution_count": null,
   "metadata": {},
   "outputs": [],
   "source": []
  },
  {
   "cell_type": "code",
   "execution_count": null,
   "metadata": {},
   "outputs": [],
   "source": []
  },
  {
   "cell_type": "code",
   "execution_count": null,
   "metadata": {},
   "outputs": [],
   "source": []
  }
 ],
 "metadata": {
  "kernelspec": {
   "display_name": "Python 3",
   "language": "python",
   "name": "python3"
  },
  "language_info": {
   "codemirror_mode": {
    "name": "ipython",
    "version": 3
   },
   "file_extension": ".py",
   "mimetype": "text/x-python",
   "name": "python",
   "nbconvert_exporter": "python",
   "pygments_lexer": "ipython3",
   "version": "3.7.1"
  }
 },
 "nbformat": 4,
 "nbformat_minor": 2
}
