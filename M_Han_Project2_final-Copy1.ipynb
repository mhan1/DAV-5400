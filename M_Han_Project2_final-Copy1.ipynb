{
 "cells": [
  {
   "cell_type": "code",
   "execution_count": 246,
   "metadata": {},
   "outputs": [],
   "source": [
    "import numpy as np\n",
    "import pandas as pd\n",
    "import matplotlib.pyplot as plt\n",
    "import seaborn as sns"
   ]
  },
  {
   "cell_type": "code",
   "execution_count": 247,
   "metadata": {},
   "outputs": [],
   "source": [
    "filename = \"https://raw.githubusercontent.com/mhan1/DAV-5400/master/forestfires.csv\"\n",
    "    \n",
    "forest_df = pd.read_csv(filename)"
   ]
  },
  {
   "cell_type": "code",
   "execution_count": 248,
   "metadata": {},
   "outputs": [
    {
     "data": {
      "text/html": [
       "<div>\n",
       "<style scoped>\n",
       "    .dataframe tbody tr th:only-of-type {\n",
       "        vertical-align: middle;\n",
       "    }\n",
       "\n",
       "    .dataframe tbody tr th {\n",
       "        vertical-align: top;\n",
       "    }\n",
       "\n",
       "    .dataframe thead th {\n",
       "        text-align: right;\n",
       "    }\n",
       "</style>\n",
       "<table border=\"1\" class=\"dataframe\">\n",
       "  <thead>\n",
       "    <tr style=\"text-align: right;\">\n",
       "      <th></th>\n",
       "      <th>X</th>\n",
       "      <th>Y</th>\n",
       "      <th>month</th>\n",
       "      <th>day</th>\n",
       "      <th>FFMC</th>\n",
       "      <th>DMC</th>\n",
       "      <th>DC</th>\n",
       "      <th>ISI</th>\n",
       "      <th>temp</th>\n",
       "      <th>RH</th>\n",
       "      <th>wind</th>\n",
       "      <th>rain</th>\n",
       "      <th>area</th>\n",
       "    </tr>\n",
       "  </thead>\n",
       "  <tbody>\n",
       "    <tr>\n",
       "      <th>0</th>\n",
       "      <td>7</td>\n",
       "      <td>5</td>\n",
       "      <td>mar</td>\n",
       "      <td>fri</td>\n",
       "      <td>86.2</td>\n",
       "      <td>26.2</td>\n",
       "      <td>94.3</td>\n",
       "      <td>5.1</td>\n",
       "      <td>8.2</td>\n",
       "      <td>51</td>\n",
       "      <td>6.7</td>\n",
       "      <td>0.0</td>\n",
       "      <td>0.0</td>\n",
       "    </tr>\n",
       "    <tr>\n",
       "      <th>1</th>\n",
       "      <td>7</td>\n",
       "      <td>4</td>\n",
       "      <td>oct</td>\n",
       "      <td>tue</td>\n",
       "      <td>90.6</td>\n",
       "      <td>35.4</td>\n",
       "      <td>669.1</td>\n",
       "      <td>6.7</td>\n",
       "      <td>18.0</td>\n",
       "      <td>33</td>\n",
       "      <td>0.9</td>\n",
       "      <td>0.0</td>\n",
       "      <td>0.0</td>\n",
       "    </tr>\n",
       "    <tr>\n",
       "      <th>2</th>\n",
       "      <td>7</td>\n",
       "      <td>4</td>\n",
       "      <td>oct</td>\n",
       "      <td>sat</td>\n",
       "      <td>90.6</td>\n",
       "      <td>43.7</td>\n",
       "      <td>686.9</td>\n",
       "      <td>6.7</td>\n",
       "      <td>14.6</td>\n",
       "      <td>33</td>\n",
       "      <td>1.3</td>\n",
       "      <td>0.0</td>\n",
       "      <td>0.0</td>\n",
       "    </tr>\n",
       "    <tr>\n",
       "      <th>3</th>\n",
       "      <td>8</td>\n",
       "      <td>6</td>\n",
       "      <td>mar</td>\n",
       "      <td>fri</td>\n",
       "      <td>91.7</td>\n",
       "      <td>33.3</td>\n",
       "      <td>77.5</td>\n",
       "      <td>9.0</td>\n",
       "      <td>8.3</td>\n",
       "      <td>97</td>\n",
       "      <td>4.0</td>\n",
       "      <td>0.2</td>\n",
       "      <td>0.0</td>\n",
       "    </tr>\n",
       "    <tr>\n",
       "      <th>4</th>\n",
       "      <td>8</td>\n",
       "      <td>6</td>\n",
       "      <td>mar</td>\n",
       "      <td>sun</td>\n",
       "      <td>89.3</td>\n",
       "      <td>51.3</td>\n",
       "      <td>102.2</td>\n",
       "      <td>9.6</td>\n",
       "      <td>11.4</td>\n",
       "      <td>99</td>\n",
       "      <td>1.8</td>\n",
       "      <td>0.0</td>\n",
       "      <td>0.0</td>\n",
       "    </tr>\n",
       "  </tbody>\n",
       "</table>\n",
       "</div>"
      ],
      "text/plain": [
       "   X  Y month  day  FFMC   DMC     DC  ISI  temp  RH  wind  rain  area\n",
       "0  7  5   mar  fri  86.2  26.2   94.3  5.1   8.2  51   6.7   0.0   0.0\n",
       "1  7  4   oct  tue  90.6  35.4  669.1  6.7  18.0  33   0.9   0.0   0.0\n",
       "2  7  4   oct  sat  90.6  43.7  686.9  6.7  14.6  33   1.3   0.0   0.0\n",
       "3  8  6   mar  fri  91.7  33.3   77.5  9.0   8.3  97   4.0   0.2   0.0\n",
       "4  8  6   mar  sun  89.3  51.3  102.2  9.6  11.4  99   1.8   0.0   0.0"
      ]
     },
     "execution_count": 248,
     "metadata": {},
     "output_type": "execute_result"
    }
   ],
   "source": [
    "# sanity check\n",
    "forest_df.head()"
   ]
  },
  {
   "cell_type": "markdown",
   "metadata": {},
   "source": [
    "## Part 1: Introduction - A brief summary of the type of data you've chosen to work with and the research question you hope to answer with it."
   ]
  },
  {
   "cell_type": "markdown",
   "metadata": {},
   "source": [
    "- web link to the original location of the data :\n",
    "https://archive.ics.uci.edu/ml/datasets/Forest+Fires\n",
    "\n",
    "- Brief summary of the dataset and the questions I hope to answer:\n",
    "\n",
    "This dataset is a real-world data collected from the northeast region of Portugal to predict the burned area of forest fires by using meteorological and other data. It is publicly available for research, and the details are described in [Cortez and Morais, 2007] http://www3.dsi.uminho.pt/pcortez/fires.pdf. \n",
    "\n",
    "The dataset contains 13 attributes including x,y axes spatial coordinates, month, day, FFMC, DMC, DC, ISI indices, temerature in Celsius degrees, relative humidity(%), wind speed(km/h), rain(mm/m2), the burned area of the forest(in ha).\n",
    "\n",
    "The questions I hope to asnwer by analyzing the dataset is as below:\n",
    "\n",
    "1. Which meteorological variables is correlated to the burned area of forest fire?\n",
    "2. From question 1, how is it related? no relationship? strong relationship?\n",
    "3. Which mateorological variables are more significantly affecting the forest fire?\n",
    "4. Which month of the year has the most forest fire?\n",
    "5. Which day of week has the most forest fire?\n",
    "\n",
    "I would like to know which meteorological variables influence the forest fire. I want to be able to predict the forest fire based on a variable or multiple variables. To solve these questions, I will perform correlation analysis to see if any two numeric variables have any relationship, especially between the burned area of forest(dependent variable) and one of the meteorological variables(independent variables), so that I can find the independent variable(meteorological variable) that can be used as the best predictor of the burned area of forest(dependent variable). Also, I will assess which month of the year and which day of the week has the most forest fire, so that I can provide insights on the seasonality of the forest fire.\n",
    "\n",
    "- Attribute Information: \n",
    " 1. X - x-axis spatial coordinate within the Montesinho park map: 1 to 9 \n",
    " 2. Y - y-axis spatial coordinate within the Montesinho park map: 2 to 9 \n",
    " 3. month - month of the year: 'jan' to 'dec' \n",
    " 4. day - day of the week: 'mon' to 'sun' \n",
    " 5. FFMC - FFMC index from the FWI system: 18.7 to 96.20 \n",
    " 6. DMC - DMC index from the FWI system: 1.1 to 291.3 \n",
    " 7. DC - DC index from the FWI system: 7.9 to 860.6 \n",
    " 8. ISI - ISI index from the FWI system: 0.0 to 56.10 \n",
    " 9. temp - temperature in Celsius degrees: 2.2 to 33.30 \n",
    " 10. RH - relative humidity in %: 15.0 to 100 \n",
    " 11. wind - wind speed in km/h: 0.40 to 9.40 \n",
    " 12. rain - outside rain in mm/m2 : 0.0 to 6.4 \n",
    " 13. area - the burned area of the forest (in ha): 0.00 to 1090.84)."
   ]
  },
  {
   "cell_type": "markdown",
   "metadata": {},
   "source": [
    "## Part 2: Data Summary - Explain where you acquired your data from; how many use cases your data set provides; how many attributes are in each use case; what the data types are for each of the attributes; etc."
   ]
  },
  {
   "cell_type": "markdown",
   "metadata": {},
   "source": [
    "- I acquired my data from: https://archive.ics.uci.edu/ml/datasets/Forest+Fires"
   ]
  },
  {
   "cell_type": "code",
   "execution_count": 249,
   "metadata": {},
   "outputs": [
    {
     "data": {
      "text/plain": [
       "X        False\n",
       "Y        False\n",
       "month    False\n",
       "day      False\n",
       "FFMC     False\n",
       "DMC      False\n",
       "DC       False\n",
       "ISI      False\n",
       "temp     False\n",
       "RH       False\n",
       "wind     False\n",
       "rain     False\n",
       "area     False\n",
       "dtype: bool"
      ]
     },
     "execution_count": 249,
     "metadata": {},
     "output_type": "execute_result"
    }
   ],
   "source": [
    "# checking if there is null value in each column\n",
    "forest_df.isnull().any(axis=0)"
   ]
  },
  {
   "cell_type": "code",
   "execution_count": 250,
   "metadata": {},
   "outputs": [
    {
     "data": {
      "text/plain": [
       "(517, 13)"
      ]
     },
     "execution_count": 250,
     "metadata": {},
     "output_type": "execute_result"
    }
   ],
   "source": [
    "forest_df.shape"
   ]
  },
  {
   "cell_type": "code",
   "execution_count": 251,
   "metadata": {},
   "outputs": [
    {
     "data": {
      "text/plain": [
       "X          int64\n",
       "Y          int64\n",
       "month     object\n",
       "day       object\n",
       "FFMC     float64\n",
       "DMC      float64\n",
       "DC       float64\n",
       "ISI      float64\n",
       "temp     float64\n",
       "RH         int64\n",
       "wind     float64\n",
       "rain     float64\n",
       "area     float64\n",
       "dtype: object"
      ]
     },
     "execution_count": 251,
     "metadata": {},
     "output_type": "execute_result"
    }
   ],
   "source": [
    "# checking the data types\n",
    "forest_df.dtypes"
   ]
  },
  {
   "cell_type": "markdown",
   "metadata": {},
   "source": [
    "- My dataset meets the requirements for the Proejct 2 data set that should include at least two (2) numeric variables and one (1) categorical variable."
   ]
  },
  {
   "cell_type": "code",
   "execution_count": 252,
   "metadata": {},
   "outputs": [
    {
     "data": {
      "text/plain": [
       "Index(['X', 'Y', 'month', 'day', 'FFMC', 'DMC', 'DC', 'ISI', 'temp', 'RH',\n",
       "       'wind', 'rain', 'area'],\n",
       "      dtype='object')"
      ]
     },
     "execution_count": 252,
     "metadata": {},
     "output_type": "execute_result"
    }
   ],
   "source": [
    "forest_df.columns"
   ]
  },
  {
   "cell_type": "markdown",
   "metadata": {},
   "source": [
    "- Part 2 answer: Since there is no null values in every column, the use cases in my data set are the row numbers, which is 517. And there are 13 columns, which are attributes in each use case. The data type of each attributes are shown above, as the output from the \"forest_df.dtypes\". Also the 13 attributes are shown as the output from the \"forest_df.columns\" above.\n",
    "\n",
    "- Attribute Information: \n",
    " 1. X - x-axis spatial coordinate within the Montesinho park map: 1 to 9 \n",
    " 2. Y - y-axis spatial coordinate within the Montesinho park map: 2 to 9 \n",
    " 3. month - month of the year: 'jan' to 'dec' \n",
    " 4. day - day of the week: 'mon' to 'sun' \n",
    " 5. FFMC - FFMC index from the FWI system: 18.7 to 96.20 \n",
    " 6. DMC - DMC index from the FWI system: 1.1 to 291.3 \n",
    " 7. DC - DC index from the FWI system: 7.9 to 860.6 \n",
    " 8. ISI - ISI index from the FWI system: 0.0 to 56.10 \n",
    " 9. temp - temperature in Celsius degrees: 2.2 to 33.30 \n",
    " 10. RH - relative humidity in %: 15.0 to 100 \n",
    " 11. wind - wind speed in km/h: 0.40 to 9.40 \n",
    " 12. rain - outside rain in mm/m2 : 0.0 to 6.4 \n",
    " 13. area - the burned area of the forest (in ha): 0.00 to 1090.84)."
   ]
  },
  {
   "cell_type": "markdown",
   "metadata": {},
   "source": [
    "## Part 3: Exploratory Data Analysis (EDA) - Provide summay statistics for each attribute; provide appropriate graphical analysis for each attribute using both Matplotlib and Seaborn. For example, if you believe it is appropriate to generate a histogram for a particular variable as part of your EDA, create it first using Matplotlib and then once again using Seaborn. Include a narrative describing your EDA findings."
   ]
  },
  {
   "cell_type": "code",
   "execution_count": 253,
   "metadata": {},
   "outputs": [
    {
     "data": {
      "text/html": [
       "<div>\n",
       "<style scoped>\n",
       "    .dataframe tbody tr th:only-of-type {\n",
       "        vertical-align: middle;\n",
       "    }\n",
       "\n",
       "    .dataframe tbody tr th {\n",
       "        vertical-align: top;\n",
       "    }\n",
       "\n",
       "    .dataframe thead th {\n",
       "        text-align: right;\n",
       "    }\n",
       "</style>\n",
       "<table border=\"1\" class=\"dataframe\">\n",
       "  <thead>\n",
       "    <tr style=\"text-align: right;\">\n",
       "      <th></th>\n",
       "      <th>X</th>\n",
       "      <th>Y</th>\n",
       "      <th>FFMC</th>\n",
       "      <th>DMC</th>\n",
       "      <th>DC</th>\n",
       "      <th>ISI</th>\n",
       "      <th>temp</th>\n",
       "      <th>RH</th>\n",
       "      <th>wind</th>\n",
       "      <th>rain</th>\n",
       "      <th>area</th>\n",
       "    </tr>\n",
       "  </thead>\n",
       "  <tbody>\n",
       "    <tr>\n",
       "      <th>count</th>\n",
       "      <td>517.000000</td>\n",
       "      <td>517.000000</td>\n",
       "      <td>517.000000</td>\n",
       "      <td>517.000000</td>\n",
       "      <td>517.000000</td>\n",
       "      <td>517.000000</td>\n",
       "      <td>517.000000</td>\n",
       "      <td>517.000000</td>\n",
       "      <td>517.000000</td>\n",
       "      <td>517.000000</td>\n",
       "      <td>517.000000</td>\n",
       "    </tr>\n",
       "    <tr>\n",
       "      <th>mean</th>\n",
       "      <td>4.669246</td>\n",
       "      <td>4.299807</td>\n",
       "      <td>90.644681</td>\n",
       "      <td>110.872340</td>\n",
       "      <td>547.940039</td>\n",
       "      <td>9.021663</td>\n",
       "      <td>18.889168</td>\n",
       "      <td>44.288201</td>\n",
       "      <td>4.017602</td>\n",
       "      <td>0.021663</td>\n",
       "      <td>12.847292</td>\n",
       "    </tr>\n",
       "    <tr>\n",
       "      <th>std</th>\n",
       "      <td>2.313778</td>\n",
       "      <td>1.229900</td>\n",
       "      <td>5.520111</td>\n",
       "      <td>64.046482</td>\n",
       "      <td>248.066192</td>\n",
       "      <td>4.559477</td>\n",
       "      <td>5.806625</td>\n",
       "      <td>16.317469</td>\n",
       "      <td>1.791653</td>\n",
       "      <td>0.295959</td>\n",
       "      <td>63.655818</td>\n",
       "    </tr>\n",
       "    <tr>\n",
       "      <th>min</th>\n",
       "      <td>1.000000</td>\n",
       "      <td>2.000000</td>\n",
       "      <td>18.700000</td>\n",
       "      <td>1.100000</td>\n",
       "      <td>7.900000</td>\n",
       "      <td>0.000000</td>\n",
       "      <td>2.200000</td>\n",
       "      <td>15.000000</td>\n",
       "      <td>0.400000</td>\n",
       "      <td>0.000000</td>\n",
       "      <td>0.000000</td>\n",
       "    </tr>\n",
       "    <tr>\n",
       "      <th>25%</th>\n",
       "      <td>3.000000</td>\n",
       "      <td>4.000000</td>\n",
       "      <td>90.200000</td>\n",
       "      <td>68.600000</td>\n",
       "      <td>437.700000</td>\n",
       "      <td>6.500000</td>\n",
       "      <td>15.500000</td>\n",
       "      <td>33.000000</td>\n",
       "      <td>2.700000</td>\n",
       "      <td>0.000000</td>\n",
       "      <td>0.000000</td>\n",
       "    </tr>\n",
       "    <tr>\n",
       "      <th>50%</th>\n",
       "      <td>4.000000</td>\n",
       "      <td>4.000000</td>\n",
       "      <td>91.600000</td>\n",
       "      <td>108.300000</td>\n",
       "      <td>664.200000</td>\n",
       "      <td>8.400000</td>\n",
       "      <td>19.300000</td>\n",
       "      <td>42.000000</td>\n",
       "      <td>4.000000</td>\n",
       "      <td>0.000000</td>\n",
       "      <td>0.520000</td>\n",
       "    </tr>\n",
       "    <tr>\n",
       "      <th>75%</th>\n",
       "      <td>7.000000</td>\n",
       "      <td>5.000000</td>\n",
       "      <td>92.900000</td>\n",
       "      <td>142.400000</td>\n",
       "      <td>713.900000</td>\n",
       "      <td>10.800000</td>\n",
       "      <td>22.800000</td>\n",
       "      <td>53.000000</td>\n",
       "      <td>4.900000</td>\n",
       "      <td>0.000000</td>\n",
       "      <td>6.570000</td>\n",
       "    </tr>\n",
       "    <tr>\n",
       "      <th>max</th>\n",
       "      <td>9.000000</td>\n",
       "      <td>9.000000</td>\n",
       "      <td>96.200000</td>\n",
       "      <td>291.300000</td>\n",
       "      <td>860.600000</td>\n",
       "      <td>56.100000</td>\n",
       "      <td>33.300000</td>\n",
       "      <td>100.000000</td>\n",
       "      <td>9.400000</td>\n",
       "      <td>6.400000</td>\n",
       "      <td>1090.840000</td>\n",
       "    </tr>\n",
       "  </tbody>\n",
       "</table>\n",
       "</div>"
      ],
      "text/plain": [
       "                X           Y        FFMC         DMC          DC         ISI  \\\n",
       "count  517.000000  517.000000  517.000000  517.000000  517.000000  517.000000   \n",
       "mean     4.669246    4.299807   90.644681  110.872340  547.940039    9.021663   \n",
       "std      2.313778    1.229900    5.520111   64.046482  248.066192    4.559477   \n",
       "min      1.000000    2.000000   18.700000    1.100000    7.900000    0.000000   \n",
       "25%      3.000000    4.000000   90.200000   68.600000  437.700000    6.500000   \n",
       "50%      4.000000    4.000000   91.600000  108.300000  664.200000    8.400000   \n",
       "75%      7.000000    5.000000   92.900000  142.400000  713.900000   10.800000   \n",
       "max      9.000000    9.000000   96.200000  291.300000  860.600000   56.100000   \n",
       "\n",
       "             temp          RH        wind        rain         area  \n",
       "count  517.000000  517.000000  517.000000  517.000000   517.000000  \n",
       "mean    18.889168   44.288201    4.017602    0.021663    12.847292  \n",
       "std      5.806625   16.317469    1.791653    0.295959    63.655818  \n",
       "min      2.200000   15.000000    0.400000    0.000000     0.000000  \n",
       "25%     15.500000   33.000000    2.700000    0.000000     0.000000  \n",
       "50%     19.300000   42.000000    4.000000    0.000000     0.520000  \n",
       "75%     22.800000   53.000000    4.900000    0.000000     6.570000  \n",
       "max     33.300000  100.000000    9.400000    6.400000  1090.840000  "
      ]
     },
     "execution_count": 253,
     "metadata": {},
     "output_type": "execute_result"
    }
   ],
   "source": [
    "# descriptive statistics for entire columns in dataset\n",
    "forest_df.describe()"
   ]
  },
  {
   "cell_type": "code",
   "execution_count": 254,
   "metadata": {},
   "outputs": [
    {
     "data": {
      "text/plain": [
       "count     517\n",
       "unique     12\n",
       "top       aug\n",
       "freq      184\n",
       "Name: month, dtype: object"
      ]
     },
     "execution_count": 254,
     "metadata": {},
     "output_type": "execute_result"
    }
   ],
   "source": [
    "#checking descriptive statistics for \"month\"(categorical ordinal data) column\n",
    "forest_df.month.describe()"
   ]
  },
  {
   "cell_type": "code",
   "execution_count": 255,
   "metadata": {},
   "outputs": [
    {
     "data": {
      "text/plain": [
       "count     517\n",
       "unique      7\n",
       "top       sun\n",
       "freq       95\n",
       "Name: day, dtype: object"
      ]
     },
     "execution_count": 255,
     "metadata": {},
     "output_type": "execute_result"
    }
   ],
   "source": [
    "#checking descriptive statistics for \"day\"(categorical ordinal data) column\n",
    "forest_df.day.describe()"
   ]
  },
  {
   "cell_type": "code",
   "execution_count": 256,
   "metadata": {},
   "outputs": [
    {
     "data": {
      "image/png": "[encoded data removed]",
      "text/plain": [
       "<Figure size 720x720 with 12 Axes>"
      ]
     },
     "metadata": {
      "needs_background": "light"
     },
     "output_type": "display_data"
    }
   ],
   "source": [
    "#histogram of each numeric variable\n",
    "forest_df.hist(figsize=[10,10]);"
   ]
  },
  {
   "cell_type": "markdown",
   "metadata": {},
   "source": [
    "- By checking out the histograms of each variable briefly, I think I should investigate the \"area\" dependant variable further, as it is right-skewed, and it has a lot of zero(0) values.\n",
    "Other independant variables have different distribution respectively. I did not generate the histogram using matplotlib and seaborn here, because the respective matplotlib and seaborn functions for histogram do not skip those categorical ordinal data such as 'month' and 'day' columns that are not appropriate for histogram. However, for individual column in the dataset, I generated graphical visualization of each column by using both Matplotlib and Seaborn whenever appropriate."
   ]
  },
  {
   "cell_type": "code",
   "execution_count": 257,
   "metadata": {},
   "outputs": [
    {
     "data": {
      "image/png": "[encoded data removed]",
      "text/plain": [
       "<Figure size 1080x360 with 1 Axes>"
      ]
     },
     "metadata": {
      "needs_background": "light"
     },
     "output_type": "display_data"
    }
   ],
   "source": [
    "# boxplot of each numeric variable\n",
    "forest_df.boxplot(figsize=[15,5]);"
   ]
  },
  {
   "cell_type": "code",
   "execution_count": 258,
   "metadata": {},
   "outputs": [
    {
     "data": {
      "image/png": "[encoded data removed]",
      "text/plain": [
       "<Figure size 432x288 with 1 Axes>"
      ]
     },
     "metadata": {
      "needs_background": "light"
     },
     "output_type": "display_data"
    }
   ],
   "source": [
    "#Seaborn boxplot of each variable\n",
    "sns.boxplot(data=forest_df, width=0.9);"
   ]
  },
  {
   "cell_type": "markdown",
   "metadata": {},
   "source": [
    "- I checked the boxplot of each variable as above, and I noticed that \"area\" dependant variable needs further investigation for more meaningful research, as it is right-skewed, having a lot of zero values(0) and outliers. Other independant variables have decent distribution, without too many outliers, based on the boxplot above. I will use these independant variables as they are."
   ]
  },
  {
   "cell_type": "code",
   "execution_count": 259,
   "metadata": {},
   "outputs": [
    {
     "name": "stderr",
     "output_type": "stream",
     "text": [
      "C:\\Users\\Minyeong\\Anaconda3\\lib\\site-packages\\scipy\\stats\\stats.py:1713: FutureWarning: Using a non-tuple sequence for multidimensional indexing is deprecated; use `arr[tuple(seq)]` instead of `arr[seq]`. In the future this will be interpreted as an array index, `arr[np.array(seq)]`, which will result either in an error or a different result.\n",
      "  return np.add.reduce(sorted[indexer] * weights, axis=axis) / sumval\n"
     ]
    },
    {
     "data": {
      "image/png": "[encoded data removed]",
      "text/plain": [
       "<Figure size 432x288 with 2 Axes>"
      ]
     },
     "metadata": {
      "needs_background": "light"
     },
     "output_type": "display_data"
    },
    {
     "data": {
      "image/png": "[encoded data removed]",
      "text/plain": [
       "<Figure size 432x288 with 2 Axes>"
      ]
     },
     "metadata": {
      "needs_background": "light"
     },
     "output_type": "display_data"
    }
   ],
   "source": [
    "# histogram and boxplot of \"area\" column by Matplotlib\n",
    "plt.figure(1)\n",
    "plt.subplot(121)\n",
    "plt.hist(forest_df.area)\n",
    "plt.title('Histogram of area by Matplotlib')\n",
    "\n",
    "plt.subplot(122)\n",
    "plt.boxplot(forest_df.area)\n",
    "plt.title('Boxplot of area by Matplotlib')\n",
    "\n",
    "\n",
    "# histogram and boxplot of \"area\" column by Seaborn\n",
    "plt.figure(2)\n",
    "plt.subplot(121)\n",
    "sns.distplot(forest_df.area)\n",
    "plt.title('Histogram of area by Seaborn')\n",
    "\n",
    "plt.subplot(122)\n",
    "sns.boxplot(forest_df.area, orient = 'v')\n",
    "plt.title('Boxplot of area by Seaborn')\n",
    "\n",
    "\n",
    "plt.show();"
   ]
  },
  {
   "cell_type": "code",
   "execution_count": 260,
   "metadata": {},
   "outputs": [
    {
     "data": {
      "text/plain": [
       "0.00     247\n",
       "1.94       3\n",
       "3.71       2\n",
       "0.90       2\n",
       "1.95       2\n",
       "2.14       2\n",
       "2.18       2\n",
       "1.56       2\n",
       "9.96       2\n",
       "28.66      2\n",
       "1.46       2\n",
       "0.68       2\n",
       "0.43       2\n",
       "1.64       2\n",
       "6.43       2\n",
       "9.27       2\n",
       "0.52       2\n",
       "1.75       2\n",
       "11.06      2\n",
       "1.63       2\n",
       "17.20      1\n",
       "48.55      1\n",
       "0.95       1\n",
       "0.77       1\n",
       "11.19      1\n",
       "15.64      1\n",
       "2.64       1\n",
       "3.52       1\n",
       "38.48      1\n",
       "5.39       1\n",
       "        ... \n",
       "1.61       1\n",
       "1.07       1\n",
       "6.38       1\n",
       "5.86       1\n",
       "3.19       1\n",
       "11.16      1\n",
       "8.85       1\n",
       "86.45      1\n",
       "5.18       1\n",
       "30.18      1\n",
       "2.01       1\n",
       "1.01       1\n",
       "20.03      1\n",
       "0.79       1\n",
       "49.59      1\n",
       "4.41       1\n",
       "7.02       1\n",
       "0.71       1\n",
       "9.41       1\n",
       "0.09       1\n",
       "3.32       1\n",
       "11.53      1\n",
       "5.55       1\n",
       "3.20       1\n",
       "4.88       1\n",
       "1.26       1\n",
       "2.44       1\n",
       "2.03       1\n",
       "2.21       1\n",
       "24.24      1\n",
       "Name: area, Length: 251, dtype: int64"
      ]
     },
     "execution_count": 260,
     "metadata": {},
     "output_type": "execute_result"
    }
   ],
   "source": [
    "forest_df['area'].value_counts()"
   ]
  },
  {
   "cell_type": "markdown",
   "metadata": {},
   "source": [
    "- Based on the histogram and boxplot, and the value_counts output, the \"area\" dependent variable has total 247 zero(0) values. By referring to the related paper cited above, all entries denote fire occurrences and zero value means that an area lower than 1ha/100 = 100m^2 was burned. Hence, to reduce skewness and improve symmetry of the distribution of the dependant variable \"area\", the logarithm function ln(x+1) will be used to transform the right-skewed \"area\" column for more meaningful statistical analysis going forward."
   ]
  },
  {
   "cell_type": "code",
   "execution_count": 261,
   "metadata": {},
   "outputs": [],
   "source": [
    "# transforming the \"area\" column by applying the logarithm function y=ln(x+1)\n",
    "forest_df['area'] = np.log(forest_df.area + 1)"
   ]
  },
  {
   "cell_type": "code",
   "execution_count": 262,
   "metadata": {},
   "outputs": [],
   "source": [
    "# changing the name of \"area\" column into \"trans_area\" in the dataset\n",
    "forest_df.rename(columns={'area':'t_area'}, inplace=True)"
   ]
  },
  {
   "cell_type": "code",
   "execution_count": 263,
   "metadata": {},
   "outputs": [
    {
     "data": {
      "text/html": [
       "<div>\n",
       "<style scoped>\n",
       "    .dataframe tbody tr th:only-of-type {\n",
       "        vertical-align: middle;\n",
       "    }\n",
       "\n",
       "    .dataframe tbody tr th {\n",
       "        vertical-align: top;\n",
       "    }\n",
       "\n",
       "    .dataframe thead th {\n",
       "        text-align: right;\n",
       "    }\n",
       "</style>\n",
       "<table border=\"1\" class=\"dataframe\">\n",
       "  <thead>\n",
       "    <tr style=\"text-align: right;\">\n",
       "      <th></th>\n",
       "      <th>X</th>\n",
       "      <th>Y</th>\n",
       "      <th>month</th>\n",
       "      <th>day</th>\n",
       "      <th>FFMC</th>\n",
       "      <th>DMC</th>\n",
       "      <th>DC</th>\n",
       "      <th>ISI</th>\n",
       "      <th>temp</th>\n",
       "      <th>RH</th>\n",
       "      <th>wind</th>\n",
       "      <th>rain</th>\n",
       "      <th>t_area</th>\n",
       "    </tr>\n",
       "  </thead>\n",
       "  <tbody>\n",
       "    <tr>\n",
       "      <th>0</th>\n",
       "      <td>7</td>\n",
       "      <td>5</td>\n",
       "      <td>mar</td>\n",
       "      <td>fri</td>\n",
       "      <td>86.2</td>\n",
       "      <td>26.2</td>\n",
       "      <td>94.3</td>\n",
       "      <td>5.1</td>\n",
       "      <td>8.2</td>\n",
       "      <td>51</td>\n",
       "      <td>6.7</td>\n",
       "      <td>0.0</td>\n",
       "      <td>0.0</td>\n",
       "    </tr>\n",
       "    <tr>\n",
       "      <th>1</th>\n",
       "      <td>7</td>\n",
       "      <td>4</td>\n",
       "      <td>oct</td>\n",
       "      <td>tue</td>\n",
       "      <td>90.6</td>\n",
       "      <td>35.4</td>\n",
       "      <td>669.1</td>\n",
       "      <td>6.7</td>\n",
       "      <td>18.0</td>\n",
       "      <td>33</td>\n",
       "      <td>0.9</td>\n",
       "      <td>0.0</td>\n",
       "      <td>0.0</td>\n",
       "    </tr>\n",
       "    <tr>\n",
       "      <th>2</th>\n",
       "      <td>7</td>\n",
       "      <td>4</td>\n",
       "      <td>oct</td>\n",
       "      <td>sat</td>\n",
       "      <td>90.6</td>\n",
       "      <td>43.7</td>\n",
       "      <td>686.9</td>\n",
       "      <td>6.7</td>\n",
       "      <td>14.6</td>\n",
       "      <td>33</td>\n",
       "      <td>1.3</td>\n",
       "      <td>0.0</td>\n",
       "      <td>0.0</td>\n",
       "    </tr>\n",
       "    <tr>\n",
       "      <th>3</th>\n",
       "      <td>8</td>\n",
       "      <td>6</td>\n",
       "      <td>mar</td>\n",
       "      <td>fri</td>\n",
       "      <td>91.7</td>\n",
       "      <td>33.3</td>\n",
       "      <td>77.5</td>\n",
       "      <td>9.0</td>\n",
       "      <td>8.3</td>\n",
       "      <td>97</td>\n",
       "      <td>4.0</td>\n",
       "      <td>0.2</td>\n",
       "      <td>0.0</td>\n",
       "    </tr>\n",
       "    <tr>\n",
       "      <th>4</th>\n",
       "      <td>8</td>\n",
       "      <td>6</td>\n",
       "      <td>mar</td>\n",
       "      <td>sun</td>\n",
       "      <td>89.3</td>\n",
       "      <td>51.3</td>\n",
       "      <td>102.2</td>\n",
       "      <td>9.6</td>\n",
       "      <td>11.4</td>\n",
       "      <td>99</td>\n",
       "      <td>1.8</td>\n",
       "      <td>0.0</td>\n",
       "      <td>0.0</td>\n",
       "    </tr>\n",
       "  </tbody>\n",
       "</table>\n",
       "</div>"
      ],
      "text/plain": [
       "   X  Y month  day  FFMC   DMC     DC  ISI  temp  RH  wind  rain  t_area\n",
       "0  7  5   mar  fri  86.2  26.2   94.3  5.1   8.2  51   6.7   0.0     0.0\n",
       "1  7  4   oct  tue  90.6  35.4  669.1  6.7  18.0  33   0.9   0.0     0.0\n",
       "2  7  4   oct  sat  90.6  43.7  686.9  6.7  14.6  33   1.3   0.0     0.0\n",
       "3  8  6   mar  fri  91.7  33.3   77.5  9.0   8.3  97   4.0   0.2     0.0\n",
       "4  8  6   mar  sun  89.3  51.3  102.2  9.6  11.4  99   1.8   0.0     0.0"
      ]
     },
     "execution_count": 263,
     "metadata": {},
     "output_type": "execute_result"
    }
   ],
   "source": [
    "#checking the columns in the dataset\n",
    "forest_df.head()"
   ]
  },
  {
   "cell_type": "code",
   "execution_count": 264,
   "metadata": {},
   "outputs": [
    {
     "data": {
      "image/png": "[encoded data removed]",
      "text/plain": [
       "<Figure size 432x288 with 2 Axes>"
      ]
     },
     "metadata": {
      "needs_background": "light"
     },
     "output_type": "display_data"
    },
    {
     "data": {
      "image/png": "[encoded data removed]",
      "text/plain": [
       "<Figure size 432x288 with 2 Axes>"
      ]
     },
     "metadata": {
      "needs_background": "light"
     },
     "output_type": "display_data"
    }
   ],
   "source": [
    "# histogram and boxplot of \"t_area\" column by Matplotlib\n",
    "plt.figure(3)\n",
    "plt.subplot(121)\n",
    "plt.hist(forest_df.t_area)\n",
    "plt.title('Histogram of t_area by plt')\n",
    "\n",
    "plt.subplot(122)\n",
    "plt.boxplot(forest_df.t_area)\n",
    "plt.title('Boxplot of t_area by plt')\n",
    "\n",
    "\n",
    "# histogram and boxplot of \"area\" column by Seaborn\n",
    "plt.figure(2)\n",
    "plt.subplot(121)\n",
    "sns.distplot(forest_df.t_area)\n",
    "plt.title('Histogram of t_area by Seaborn')\n",
    "\n",
    "plt.subplot(122)\n",
    "sns.boxplot(forest_df.t_area, orient = 'v', width=0.2)\n",
    "plt.title('Boxplot of t_area by Seaborn')\n",
    "\n",
    "\n",
    "plt.show();"
   ]
  },
  {
   "cell_type": "markdown",
   "metadata": {},
   "source": [
    "- Based on the histogram and the boxplot above after transforming the \"area\" column, I can see the distribution of area variable has reduced skewness and improved symmetry. I can conduct further analysis using this transformed area variable."
   ]
  },
  {
   "cell_type": "code",
   "execution_count": 265,
   "metadata": {},
   "outputs": [
    {
     "data": {
      "text/plain": [
       "Index(['X', 'Y', 'month', 'day', 'FFMC', 'DMC', 'DC', 'ISI', 'temp', 'RH',\n",
       "       'wind', 'rain', 't_area'],\n",
       "      dtype='object')"
      ]
     },
     "execution_count": 265,
     "metadata": {},
     "output_type": "execute_result"
    }
   ],
   "source": [
    "# checking the columns in the dataset\n",
    "forest_df.columns"
   ]
  },
  {
   "cell_type": "code",
   "execution_count": 266,
   "metadata": {},
   "outputs": [],
   "source": [
    "# I am using only 'month', 'day', temp', 'RH', 'wind', 'rain', 't-area' columns for further analysis.\n",
    "my_df = pd.DataFrame(forest_df, columns=['month', 'day', 'temp', 'RH', 'wind', 'rain', 't_area']) "
   ]
  },
  {
   "cell_type": "code",
   "execution_count": 267,
   "metadata": {},
   "outputs": [
    {
     "data": {
      "text/html": [
       "<div>\n",
       "<style scoped>\n",
       "    .dataframe tbody tr th:only-of-type {\n",
       "        vertical-align: middle;\n",
       "    }\n",
       "\n",
       "    .dataframe tbody tr th {\n",
       "        vertical-align: top;\n",
       "    }\n",
       "\n",
       "    .dataframe thead th {\n",
       "        text-align: right;\n",
       "    }\n",
       "</style>\n",
       "<table border=\"1\" class=\"dataframe\">\n",
       "  <thead>\n",
       "    <tr style=\"text-align: right;\">\n",
       "      <th></th>\n",
       "      <th>month</th>\n",
       "      <th>day</th>\n",
       "      <th>temp</th>\n",
       "      <th>RH</th>\n",
       "      <th>wind</th>\n",
       "      <th>rain</th>\n",
       "      <th>t_area</th>\n",
       "    </tr>\n",
       "  </thead>\n",
       "  <tbody>\n",
       "    <tr>\n",
       "      <th>0</th>\n",
       "      <td>mar</td>\n",
       "      <td>fri</td>\n",
       "      <td>8.2</td>\n",
       "      <td>51</td>\n",
       "      <td>6.7</td>\n",
       "      <td>0.0</td>\n",
       "      <td>0.0</td>\n",
       "    </tr>\n",
       "    <tr>\n",
       "      <th>1</th>\n",
       "      <td>oct</td>\n",
       "      <td>tue</td>\n",
       "      <td>18.0</td>\n",
       "      <td>33</td>\n",
       "      <td>0.9</td>\n",
       "      <td>0.0</td>\n",
       "      <td>0.0</td>\n",
       "    </tr>\n",
       "    <tr>\n",
       "      <th>2</th>\n",
       "      <td>oct</td>\n",
       "      <td>sat</td>\n",
       "      <td>14.6</td>\n",
       "      <td>33</td>\n",
       "      <td>1.3</td>\n",
       "      <td>0.0</td>\n",
       "      <td>0.0</td>\n",
       "    </tr>\n",
       "    <tr>\n",
       "      <th>3</th>\n",
       "      <td>mar</td>\n",
       "      <td>fri</td>\n",
       "      <td>8.3</td>\n",
       "      <td>97</td>\n",
       "      <td>4.0</td>\n",
       "      <td>0.2</td>\n",
       "      <td>0.0</td>\n",
       "    </tr>\n",
       "    <tr>\n",
       "      <th>4</th>\n",
       "      <td>mar</td>\n",
       "      <td>sun</td>\n",
       "      <td>11.4</td>\n",
       "      <td>99</td>\n",
       "      <td>1.8</td>\n",
       "      <td>0.0</td>\n",
       "      <td>0.0</td>\n",
       "    </tr>\n",
       "  </tbody>\n",
       "</table>\n",
       "</div>"
      ],
      "text/plain": [
       "  month  day  temp  RH  wind  rain  t_area\n",
       "0   mar  fri   8.2  51   6.7   0.0     0.0\n",
       "1   oct  tue  18.0  33   0.9   0.0     0.0\n",
       "2   oct  sat  14.6  33   1.3   0.0     0.0\n",
       "3   mar  fri   8.3  97   4.0   0.2     0.0\n",
       "4   mar  sun  11.4  99   1.8   0.0     0.0"
      ]
     },
     "execution_count": 267,
     "metadata": {},
     "output_type": "execute_result"
    }
   ],
   "source": [
    "# sanity check\n",
    "my_df.head()"
   ]
  },
  {
   "cell_type": "markdown",
   "metadata": {},
   "source": [
    "- Provide summary statistics for each attribute.\n",
    "- provide appropriate graphical analysis for each attribute using both Matplotlib and Seaborn."
   ]
  },
  {
   "cell_type": "markdown",
   "metadata": {},
   "source": [
    "(1) Summary statistics for each attribute from my_df dataset."
   ]
  },
  {
   "cell_type": "code",
   "execution_count": 268,
   "metadata": {},
   "outputs": [
    {
     "data": {
      "text/html": [
       "<div>\n",
       "<style scoped>\n",
       "    .dataframe tbody tr th:only-of-type {\n",
       "        vertical-align: middle;\n",
       "    }\n",
       "\n",
       "    .dataframe tbody tr th {\n",
       "        vertical-align: top;\n",
       "    }\n",
       "\n",
       "    .dataframe thead th {\n",
       "        text-align: right;\n",
       "    }\n",
       "</style>\n",
       "<table border=\"1\" class=\"dataframe\">\n",
       "  <thead>\n",
       "    <tr style=\"text-align: right;\">\n",
       "      <th></th>\n",
       "      <th>temp</th>\n",
       "      <th>RH</th>\n",
       "      <th>wind</th>\n",
       "      <th>rain</th>\n",
       "      <th>t_area</th>\n",
       "    </tr>\n",
       "  </thead>\n",
       "  <tbody>\n",
       "    <tr>\n",
       "      <th>count</th>\n",
       "      <td>517.000000</td>\n",
       "      <td>517.000000</td>\n",
       "      <td>517.000000</td>\n",
       "      <td>517.000000</td>\n",
       "      <td>517.000000</td>\n",
       "    </tr>\n",
       "    <tr>\n",
       "      <th>mean</th>\n",
       "      <td>18.889168</td>\n",
       "      <td>44.288201</td>\n",
       "      <td>4.017602</td>\n",
       "      <td>0.021663</td>\n",
       "      <td>1.111026</td>\n",
       "    </tr>\n",
       "    <tr>\n",
       "      <th>std</th>\n",
       "      <td>5.806625</td>\n",
       "      <td>16.317469</td>\n",
       "      <td>1.791653</td>\n",
       "      <td>0.295959</td>\n",
       "      <td>1.398436</td>\n",
       "    </tr>\n",
       "    <tr>\n",
       "      <th>min</th>\n",
       "      <td>2.200000</td>\n",
       "      <td>15.000000</td>\n",
       "      <td>0.400000</td>\n",
       "      <td>0.000000</td>\n",
       "      <td>0.000000</td>\n",
       "    </tr>\n",
       "    <tr>\n",
       "      <th>25%</th>\n",
       "      <td>15.500000</td>\n",
       "      <td>33.000000</td>\n",
       "      <td>2.700000</td>\n",
       "      <td>0.000000</td>\n",
       "      <td>0.000000</td>\n",
       "    </tr>\n",
       "    <tr>\n",
       "      <th>50%</th>\n",
       "      <td>19.300000</td>\n",
       "      <td>42.000000</td>\n",
       "      <td>4.000000</td>\n",
       "      <td>0.000000</td>\n",
       "      <td>0.418710</td>\n",
       "    </tr>\n",
       "    <tr>\n",
       "      <th>75%</th>\n",
       "      <td>22.800000</td>\n",
       "      <td>53.000000</td>\n",
       "      <td>4.900000</td>\n",
       "      <td>0.000000</td>\n",
       "      <td>2.024193</td>\n",
       "    </tr>\n",
       "    <tr>\n",
       "      <th>max</th>\n",
       "      <td>33.300000</td>\n",
       "      <td>100.000000</td>\n",
       "      <td>9.400000</td>\n",
       "      <td>6.400000</td>\n",
       "      <td>6.995620</td>\n",
       "    </tr>\n",
       "  </tbody>\n",
       "</table>\n",
       "</div>"
      ],
      "text/plain": [
       "             temp          RH        wind        rain      t_area\n",
       "count  517.000000  517.000000  517.000000  517.000000  517.000000\n",
       "mean    18.889168   44.288201    4.017602    0.021663    1.111026\n",
       "std      5.806625   16.317469    1.791653    0.295959    1.398436\n",
       "min      2.200000   15.000000    0.400000    0.000000    0.000000\n",
       "25%     15.500000   33.000000    2.700000    0.000000    0.000000\n",
       "50%     19.300000   42.000000    4.000000    0.000000    0.418710\n",
       "75%     22.800000   53.000000    4.900000    0.000000    2.024193\n",
       "max     33.300000  100.000000    9.400000    6.400000    6.995620"
      ]
     },
     "execution_count": 268,
     "metadata": {},
     "output_type": "execute_result"
    }
   ],
   "source": [
    "my_df.describe()"
   ]
  },
  {
   "cell_type": "code",
   "execution_count": 269,
   "metadata": {},
   "outputs": [
    {
     "data": {
      "text/plain": [
       "count     517\n",
       "unique     12\n",
       "top       aug\n",
       "freq      184\n",
       "Name: month, dtype: object"
      ]
     },
     "execution_count": 269,
     "metadata": {},
     "output_type": "execute_result"
    }
   ],
   "source": [
    "my_df.month.describe()"
   ]
  },
  {
   "cell_type": "code",
   "execution_count": 270,
   "metadata": {},
   "outputs": [
    {
     "data": {
      "text/plain": [
       "count     517\n",
       "unique      7\n",
       "top       sun\n",
       "freq       95\n",
       "Name: day, dtype: object"
      ]
     },
     "execution_count": 270,
     "metadata": {},
     "output_type": "execute_result"
    }
   ],
   "source": [
    "my_df.day.describe()"
   ]
  },
  {
   "cell_type": "markdown",
   "metadata": {},
   "source": [
    "- I provided desriptive statistics for numeric variables in the table above, and \"month\" and \"day\" categorical ordinal variables are shown below the table, separately. "
   ]
  },
  {
   "cell_type": "markdown",
   "metadata": {},
   "source": [
    "(2) Appropriate graphical analysis for each attribute using both Matplotlib and Seaborn."
   ]
  },
  {
   "cell_type": "markdown",
   "metadata": {},
   "source": [
    "(2)-1 \"month\" attribute graphical analysis: Since \"month\" variable is categorical ordinal data, I will generate the bar graph for graphical analysis as below."
   ]
  },
  {
   "cell_type": "code",
   "execution_count": 271,
   "metadata": {},
   "outputs": [],
   "source": [
    "month_count = my_df['month'].value_counts()"
   ]
  },
  {
   "cell_type": "code",
   "execution_count": 272,
   "metadata": {},
   "outputs": [
    {
     "data": {
      "text/plain": [
       "aug    184\n",
       "sep    172\n",
       "mar     54\n",
       "jul     32\n",
       "feb     20\n",
       "jun     17\n",
       "oct     15\n",
       "apr      9\n",
       "dec      9\n",
       "jan      2\n",
       "may      2\n",
       "nov      1\n",
       "Name: month, dtype: int64"
      ]
     },
     "execution_count": 272,
     "metadata": {},
     "output_type": "execute_result"
    }
   ],
   "source": [
    "month_count"
   ]
  },
  {
   "cell_type": "code",
   "execution_count": 273,
   "metadata": {},
   "outputs": [
    {
     "data": {
      "image/png": "[encoded data removed]",
      "text/plain": [
       "<Figure size 504x360 with 1 Axes>"
      ]
     },
     "metadata": {
      "needs_background": "light"
     },
     "output_type": "display_data"
    }
   ],
   "source": [
    "month_count.plot.bar(title=\"Freq Dist of month\", figsize=(7,5));"
   ]
  },
  {
   "cell_type": "code",
   "execution_count": 274,
   "metadata": {},
   "outputs": [
    {
     "data": {
      "image/png": "[encoded data removed]",
      "text/plain": [
       "<Figure size 432x288 with 1 Axes>"
      ]
     },
     "metadata": {
      "needs_background": "light"
     },
     "output_type": "display_data"
    }
   ],
   "source": [
    "#bar grapho by Matplotlib\n",
    "label1 = ['aug', 'sep', 'mar', 'jul', 'feb', 'jun', 'oct', 'apr', 'dec', 'jan', 'may', 'nov']\n",
    "month_count1 = [184, 172, 54, 32, 20, 17, 15, 9, 9, 2, 2, 1]\n",
    "index1 = np.arange(len(label1))\n",
    "plt.bar(index1, month_count1)\n",
    "plt.xlabel('Month', fontsize=5)\n",
    "plt.ylabel('Counts of Month', fontsize=5)\n",
    "plt.xticks(index1, label1, fontsize=5, rotation=30)\n",
    "plt.title(\"Freq Dist of month\")\n",
    "plt.show();"
   ]
  },
  {
   "cell_type": "code",
   "execution_count": 275,
   "metadata": {},
   "outputs": [
    {
     "data": {
      "image/png": "[encoded data removed]",
      "text/plain": [
       "<Figure size 432x288 with 1 Axes>"
      ]
     },
     "metadata": {
      "needs_background": "light"
     },
     "output_type": "display_data"
    }
   ],
   "source": [
    "#bar graph by Seaborn\n",
    "\n",
    "label1 = ['aug', 'sep', 'mar', 'jul', 'feb', 'jun', 'oct', 'apr', 'dec', 'jan', 'may', 'nov']\n",
    "month_count1 = [184, 172, 54, 32, 20, 17, 15, 9, 9, 2, 2, 1]\n",
    "index1 = np.arange(len(label1))\n",
    "sns.barplot(index1, month_count1)\n",
    "\n",
    "#Seaborn does not have xlabel, etc. attributes, so I used plt.xlabel, etc. for labeling.\n",
    "plt.xlabel('Month', fontsize=5)\n",
    "plt.ylabel('Counts of Month', fontsize=5)\n",
    "plt.xticks(index1, label1, fontsize=5, rotation=30)\n",
    "plt.title(\"Freq Dist of month\")\n",
    "\n",
    "plt.show();\n"
   ]
  },
  {
   "cell_type": "markdown",
   "metadata": {},
   "source": [
    "(2)-2 \"day\" attribute graphical analysis: bar graph, as it is categorical ordinal data."
   ]
  },
  {
   "cell_type": "code",
   "execution_count": 276,
   "metadata": {},
   "outputs": [
    {
     "data": {
      "text/plain": [
       "sun    95\n",
       "fri    85\n",
       "sat    84\n",
       "mon    74\n",
       "tue    64\n",
       "thu    61\n",
       "wed    54\n",
       "Name: day, dtype: int64"
      ]
     },
     "execution_count": 276,
     "metadata": {},
     "output_type": "execute_result"
    }
   ],
   "source": [
    "my_df.day.value_counts()"
   ]
  },
  {
   "cell_type": "code",
   "execution_count": 277,
   "metadata": {},
   "outputs": [
    {
     "data": {
      "image/png": "[encoded data removed]",
      "text/plain": [
       "<Figure size 432x288 with 1 Axes>"
      ]
     },
     "metadata": {
      "needs_background": "light"
     },
     "output_type": "display_data"
    }
   ],
   "source": [
    "#bar grapho by Matplotlib\n",
    "label2 = ['sun', 'fri', 'sat', 'mon', 'tue', 'thu', 'wed']\n",
    "day_count2 = [95, 85, 84, 74, 64, 61, 54]\n",
    "index2 = np.arange(len(label2))\n",
    "plt.bar(index2, day_count2)\n",
    "plt.xlabel('Day', fontsize=5)\n",
    "plt.ylabel('Counts of Day', fontsize=5)\n",
    "plt.xticks(index2, label2, fontsize=5, rotation=30)\n",
    "plt.title(\"Freq Dist of day\")\n",
    "plt.show();"
   ]
  },
  {
   "cell_type": "code",
   "execution_count": 278,
   "metadata": {},
   "outputs": [
    {
     "data": {
      "image/png": "[encoded data removed]",
      "text/plain": [
       "<Figure size 432x288 with 1 Axes>"
      ]
     },
     "metadata": {
      "needs_background": "light"
     },
     "output_type": "display_data"
    }
   ],
   "source": [
    "#bar grapho by Seaborn\n",
    "label2 = ['sun', 'fri', 'sat', 'mon', 'tue', 'thu', 'wed']\n",
    "day_count2 = [95, 85, 84, 74, 64, 61, 54]\n",
    "index2 = np.arange(len(label2))\n",
    "sns.barplot(index2, day_count2)\n",
    "\n",
    "#Seaborn does not have xalabel, etc. attributes, so I used plt.xlabel, etc. for labeling.\n",
    "plt.xlabel('Day', fontsize=5)\n",
    "plt.ylabel('Counts of Day', fontsize=5)\n",
    "plt.xticks(index2, label2, fontsize=5, rotation=30)\n",
    "plt.title(\"Freq Dist of day\")\n",
    "plt.show();"
   ]
  },
  {
   "cell_type": "code",
   "execution_count": 279,
   "metadata": {},
   "outputs": [
    {
     "data": {
      "text/plain": [
       "Index(['month', 'day', 'temp', 'RH', 'wind', 'rain', 't_area'], dtype='object')"
      ]
     },
     "execution_count": 279,
     "metadata": {},
     "output_type": "execute_result"
    }
   ],
   "source": [
    "my_df.columns"
   ]
  },
  {
   "cell_type": "markdown",
   "metadata": {},
   "source": [
    "(2)-3 'temp', 'RH', 'wind', 'rain', 't-area': these variables are all numeric, so histogram and boxplot will be graphical analysis. They are shown below."
   ]
  },
  {
   "cell_type": "code",
   "execution_count": 280,
   "metadata": {},
   "outputs": [
    {
     "data": {
      "image/png": "[encoded data removed]",
      "text/plain": [
       "<Figure size 432x288 with 2 Axes>"
      ]
     },
     "metadata": {
      "needs_background": "light"
     },
     "output_type": "display_data"
    },
    {
     "data": {
      "image/png": "[encoded data removed]",
      "text/plain": [
       "<Figure size 432x288 with 2 Axes>"
      ]
     },
     "metadata": {
      "needs_background": "light"
     },
     "output_type": "display_data"
    },
    {
     "data": {
      "image/png": "[encoded data removed]",
      "text/plain": [
       "<Figure size 432x288 with 2 Axes>"
      ]
     },
     "metadata": {
      "needs_background": "light"
     },
     "output_type": "display_data"
    },
    {
     "data": {
      "image/png": "[encoded data removed]",
      "text/plain": [
       "<Figure size 432x288 with 2 Axes>"
      ]
     },
     "metadata": {
      "needs_background": "light"
     },
     "output_type": "display_data"
    },
    {
     "data": {
      "image/png": "[encoded data removed]",
      "text/plain": [
       "<Figure size 432x288 with 2 Axes>"
      ]
     },
     "metadata": {
      "needs_background": "light"
     },
     "output_type": "display_data"
    },
    {
     "data": {
      "image/png": "[encoded data removed]",
      "text/plain": [
       "<Figure size 432x288 with 2 Axes>"
      ]
     },
     "metadata": {
      "needs_background": "light"
     },
     "output_type": "display_data"
    },
    {
     "data": {
      "image/png": "[encoded data removed]",
      "text/plain": [
       "<Figure size 432x288 with 2 Axes>"
      ]
     },
     "metadata": {
      "needs_background": "light"
     },
     "output_type": "display_data"
    },
    {
     "data": {
      "image/png": "[encoded data removed]",
      "text/plain": [
       "<Figure size 432x288 with 2 Axes>"
      ]
     },
     "metadata": {
      "needs_background": "light"
     },
     "output_type": "display_data"
    }
   ],
   "source": [
    "# histogram and boxplot of \"temp\" column by Matplotlib\n",
    "plt.figure(4)\n",
    "plt.subplot(121)\n",
    "plt.hist(my_df.temp)\n",
    "plt.title('Histogram of temp by plt')\n",
    "\n",
    "plt.subplot(122)\n",
    "plt.boxplot(my_df.temp)\n",
    "plt.title('Boxplot of temp by plt')\n",
    "\n",
    "\n",
    "# histogram and boxplot of \"temp\" column by Seaborn\n",
    "plt.figure(5)\n",
    "plt.subplot(121)\n",
    "sns.distplot(my_df.temp)\n",
    "plt.title('Histogram of temp by Seaborn')\n",
    "\n",
    "plt.subplot(122)\n",
    "sns.boxplot(my_df.temp, orient = 'v', width=0.2)\n",
    "plt.title('Boxplot of temp by Seaborn')\n",
    "\n",
    "# histogram and boxplot of \"RH\" column by Matplotlib\n",
    "plt.figure(6)\n",
    "plt.subplot(121)\n",
    "plt.hist(my_df.RH)\n",
    "plt.title('Histogram of RH by plt')\n",
    "\n",
    "plt.subplot(122)\n",
    "plt.boxplot(my_df.RH)\n",
    "plt.title('Boxplot of RH by plt')\n",
    "\n",
    "\n",
    "# histogram and boxplot of \"RH\" column by Seaborn\n",
    "plt.figure(7)\n",
    "plt.subplot(121)\n",
    "sns.distplot(my_df.RH)\n",
    "plt.title('Histogram of RH by Seaborn')\n",
    "\n",
    "plt.subplot(122)\n",
    "sns.boxplot(my_df.RH, orient = 'v', width=0.2)\n",
    "plt.title('Boxplot of RH by Seaborn')\n",
    "\n",
    "\n",
    "# histogram and boxplot of \"wind\" column by Matplotlib\n",
    "plt.figure(8)\n",
    "plt.subplot(121)\n",
    "plt.hist(my_df.wind)\n",
    "plt.title('Histogram of wind by plt')\n",
    "\n",
    "plt.subplot(122)\n",
    "plt.boxplot(my_df.wind)\n",
    "plt.title('Boxplot of wind by plt')\n",
    "\n",
    "\n",
    "# histogram and boxplot of \"wind\" column by Seaborn\n",
    "plt.figure(9)\n",
    "plt.subplot(121)\n",
    "sns.distplot(my_df.wind)\n",
    "plt.title('Histogram of wind by Seaborn')\n",
    "\n",
    "plt.subplot(122)\n",
    "sns.boxplot(my_df.wind, orient = 'v', width=0.2)\n",
    "plt.title('Boxplot of wind by Seaborn')\n",
    "\n",
    "\n",
    "# histogram and boxplot of \"rain\" column by Matplotlib\n",
    "plt.figure(10)\n",
    "plt.subplot(121)\n",
    "plt.hist(my_df.rain)\n",
    "plt.title('Histogram of rain by plt')\n",
    "\n",
    "plt.subplot(122)\n",
    "plt.boxplot(my_df.rain)\n",
    "plt.title('Boxplot of rain by plt')\n",
    "\n",
    "\n",
    "# histogram and boxplot of \"rain\" column by Seaborn\n",
    "plt.figure(11)\n",
    "plt.subplot(121)\n",
    "sns.distplot(my_df.rain)\n",
    "plt.title('Histogram of rain by Seaborn')\n",
    "\n",
    "plt.subplot(122)\n",
    "sns.boxplot(my_df.rain, orient = 'v', width=0.2)\n",
    "plt.title('Boxplot of rain by Seaborn')\n",
    "\n",
    "\n",
    "plt.show();"
   ]
  },
  {
   "cell_type": "code",
   "execution_count": 281,
   "metadata": {},
   "outputs": [
    {
     "data": {
      "image/png": "[encoded data removed]",
      "text/plain": [
       "<Figure size 432x288 with 2 Axes>"
      ]
     },
     "metadata": {
      "needs_background": "light"
     },
     "output_type": "display_data"
    },
    {
     "data": {
      "image/png": "[encoded data removed]",
      "text/plain": [
       "<Figure size 432x288 with 2 Axes>"
      ]
     },
     "metadata": {
      "needs_background": "light"
     },
     "output_type": "display_data"
    }
   ],
   "source": [
    "# histogram and boxplot of \"t_area\" column by Matplotlib\n",
    "plt.figure(12)\n",
    "plt.subplot(121)\n",
    "plt.hist(my_df.t_area)\n",
    "plt.title('Histogram of t_area by plt')\n",
    "\n",
    "plt.subplot(122)\n",
    "plt.boxplot(my_df.t_area)\n",
    "plt.title('Boxplot of t_area by plt')\n",
    "\n",
    "\n",
    "# histogram and boxplot of \"t_area\" column by Seaborn\n",
    "plt.figure(5)\n",
    "plt.subplot(121)\n",
    "sns.distplot(my_df.t_area)\n",
    "plt.title('Histogram of t_area by Seaborn')\n",
    "\n",
    "plt.subplot(122)\n",
    "sns.boxplot(my_df.t_area, orient = 'v', width=0.2)\n",
    "plt.title('Boxplot of t_area by Seaborn')\n",
    "\n",
    "plt.show();"
   ]
  },
  {
   "cell_type": "markdown",
   "metadata": {},
   "source": [
    "## Part 4: Inference - Perform whatever analysis is necessary to answer your research question. Your analysis should include at least one graphic, and for each graphic you create you must do so using both Matplotlib and Seaborn (as described in Part 3 above). Include a narrative explaining your research approach and findings."
   ]
  },
  {
   "cell_type": "markdown",
   "metadata": {},
   "source": [
    "Questions:\n",
    " 1.Which meteorological variables is correlated to the burned area of forest fire?\n",
    " \n",
    " 2.From question 1, how is it related? no relationship? strong relationship?\n",
    " \n",
    " 3.Which mateorological variables are more significantly affecting the forest fire?\n",
    " \n",
    " 4.Which month of the year has the most forest fire?\n",
    " \n",
    " 5.Which day of week has the most forest fire?\n"
   ]
  },
  {
   "cell_type": "code",
   "execution_count": 282,
   "metadata": {},
   "outputs": [
    {
     "data": {
      "text/html": [
       "<div>\n",
       "<style scoped>\n",
       "    .dataframe tbody tr th:only-of-type {\n",
       "        vertical-align: middle;\n",
       "    }\n",
       "\n",
       "    .dataframe tbody tr th {\n",
       "        vertical-align: top;\n",
       "    }\n",
       "\n",
       "    .dataframe thead th {\n",
       "        text-align: right;\n",
       "    }\n",
       "</style>\n",
       "<table border=\"1\" class=\"dataframe\">\n",
       "  <thead>\n",
       "    <tr style=\"text-align: right;\">\n",
       "      <th></th>\n",
       "      <th>temp</th>\n",
       "      <th>RH</th>\n",
       "      <th>wind</th>\n",
       "      <th>rain</th>\n",
       "      <th>t_area</th>\n",
       "    </tr>\n",
       "  </thead>\n",
       "  <tbody>\n",
       "    <tr>\n",
       "      <th>temp</th>\n",
       "      <td>1.000000</td>\n",
       "      <td>-0.527390</td>\n",
       "      <td>-0.227116</td>\n",
       "      <td>0.069491</td>\n",
       "      <td>0.053487</td>\n",
       "    </tr>\n",
       "    <tr>\n",
       "      <th>RH</th>\n",
       "      <td>-0.527390</td>\n",
       "      <td>1.000000</td>\n",
       "      <td>0.069410</td>\n",
       "      <td>0.099751</td>\n",
       "      <td>-0.053662</td>\n",
       "    </tr>\n",
       "    <tr>\n",
       "      <th>wind</th>\n",
       "      <td>-0.227116</td>\n",
       "      <td>0.069410</td>\n",
       "      <td>1.000000</td>\n",
       "      <td>0.061119</td>\n",
       "      <td>0.066973</td>\n",
       "    </tr>\n",
       "    <tr>\n",
       "      <th>rain</th>\n",
       "      <td>0.069491</td>\n",
       "      <td>0.099751</td>\n",
       "      <td>0.061119</td>\n",
       "      <td>1.000000</td>\n",
       "      <td>0.023311</td>\n",
       "    </tr>\n",
       "    <tr>\n",
       "      <th>t_area</th>\n",
       "      <td>0.053487</td>\n",
       "      <td>-0.053662</td>\n",
       "      <td>0.066973</td>\n",
       "      <td>0.023311</td>\n",
       "      <td>1.000000</td>\n",
       "    </tr>\n",
       "  </tbody>\n",
       "</table>\n",
       "</div>"
      ],
      "text/plain": [
       "            temp        RH      wind      rain    t_area\n",
       "temp    1.000000 -0.527390 -0.227116  0.069491  0.053487\n",
       "RH     -0.527390  1.000000  0.069410  0.099751 -0.053662\n",
       "wind   -0.227116  0.069410  1.000000  0.061119  0.066973\n",
       "rain    0.069491  0.099751  0.061119  1.000000  0.023311\n",
       "t_area  0.053487 -0.053662  0.066973  0.023311  1.000000"
      ]
     },
     "execution_count": 282,
     "metadata": {},
     "output_type": "execute_result"
    }
   ],
   "source": [
    "my_df.corr()"
   ]
  },
  {
   "cell_type": "markdown",
   "metadata": {},
   "source": [
    "- Based on the above correlation table, there are some correlations between the variables, however, they are not aht strong as they are close to 0, rather than 1.\n",
    "- I can say that the temperature, wind, and rain variable have positive correlation with forest fire(t_area), and relative humidity has negative correlation with forest fire, meaning if the relative humidity is high, the less likely the forest fire will occur, which makes sense in real life."
   ]
  },
  {
   "cell_type": "code",
   "execution_count": 283,
   "metadata": {},
   "outputs": [
    {
     "data": {
      "image/png": "[encoded data removed]",
      "text/plain": [
       "<Figure size 432x288 with 1 Axes>"
      ]
     },
     "metadata": {
      "needs_background": "light"
     },
     "output_type": "display_data"
    }
   ],
   "source": [
    "# which month of the year has the most forest fire?\n",
    "\n",
    "#bar grapho by Matplotlib\n",
    "label1 = ['aug', 'sep', 'mar', 'jul', 'feb', 'jun', 'oct', 'apr', 'dec', 'jan', 'may', 'nov']\n",
    "month_count1 = [184, 172, 54, 32, 20, 17, 15, 9, 9, 2, 2, 1]\n",
    "index1 = np.arange(len(label1))\n",
    "plt.bar(index1, month_count1)\n",
    "plt.xlabel('Month', fontsize=5)\n",
    "plt.ylabel('Counts of Month', fontsize=5)\n",
    "plt.xticks(index1, label1, fontsize=5, rotation=30)\n",
    "plt.title(\"Freq Dist of month\")\n",
    "\n",
    "plt.show();\n"
   ]
  },
  {
   "cell_type": "code",
   "execution_count": 284,
   "metadata": {},
   "outputs": [
    {
     "data": {
      "image/png": "[encoded data removed]",
      "text/plain": [
       "<Figure size 432x288 with 1 Axes>"
      ]
     },
     "metadata": {
      "needs_background": "light"
     },
     "output_type": "display_data"
    }
   ],
   "source": [
    "#bar graph by Seaborn\n",
    "\n",
    "label1 = ['aug', 'sep', 'mar', 'jul', 'feb', 'jun', 'oct', 'apr', 'dec', 'jan', 'may', 'nov']\n",
    "month_count1 = [184, 172, 54, 32, 20, 17, 15, 9, 9, 2, 2, 1]\n",
    "index1 = np.arange(len(label1))\n",
    "sns.barplot(index1, month_count1)\n",
    "\n",
    "#Seaborn does not have xlabel, etc. attributes, so I used plt.xlabel, etc. for labeling.\n",
    "plt.xlabel('Month', fontsize=5)\n",
    "plt.ylabel('Counts of Month', fontsize=5)\n",
    "plt.xticks(index1, label1, fontsize=5, rotation=30)\n",
    "plt.title(\"Freq Dist of month\")\n",
    "\n",
    "plt.show();"
   ]
  },
  {
   "cell_type": "markdown",
   "metadata": {},
   "source": [
    "- Baed on the bar graph above, August is the month that has the most forest fire."
   ]
  },
  {
   "cell_type": "code",
   "execution_count": 285,
   "metadata": {},
   "outputs": [
    {
     "data": {
      "text/plain": [
       "sun    95\n",
       "fri    85\n",
       "sat    84\n",
       "mon    74\n",
       "tue    64\n",
       "thu    61\n",
       "wed    54\n",
       "Name: day, dtype: int64"
      ]
     },
     "execution_count": 285,
     "metadata": {},
     "output_type": "execute_result"
    }
   ],
   "source": [
    "# Which day of week has the most forest fire?\n",
    "\n",
    "my_df.day.value_counts()"
   ]
  },
  {
   "cell_type": "markdown",
   "metadata": {},
   "source": [
    "- Based on the above output, Sunday has the most forest fire, which is 95."
   ]
  },
  {
   "cell_type": "markdown",
   "metadata": {},
   "source": [
    "## Part 5: Conclusion - A brief, concise narrative explaining your conclusions."
   ]
  },
  {
   "cell_type": "markdown",
   "metadata": {},
   "source": [
    "• There are some correlations between the variables, \n",
    "however, they are not aht strong as they are close to 0, rather than 1.\n",
    "•I can say that the temperature, wind, and rain variable have positive correlation \n",
    "with forest fire(t_area), and relative humidity has negative correlation with forest fire, \n",
    "meaning if the relative humidity is high, the less likely the forest fire will occur, \n",
    "which makes sense in real life. The more drier the weather, there will be more chance to have\n",
    "forest fire, so the fire department should be more prepared during the dry season.\n",
    "• August is the month that has the most forest fire. I think this is because\n",
    "August is summer time, and there is more camp fire in the wild forest, which can\n",
    "cause more forest fire during August. \n",
    "• Sunday has the most forest fire, which is 95. Again, I think Sunday is weekend, which is a good time to go camping in the forest, which increases the chance of forest fire.\n",
    "- Taken all together, drier season, and Summer time such as August, weekend such as Sunday is the time when the most forest fire occur. Hence, the fire department should be aware of these and be prepared for the emrgencies."
   ]
  },
  {
   "cell_type": "markdown",
   "metadata": {},
   "source": [
    "## References - Be sure to include proper citations for any references you may have relied on as part of your work."
   ]
  },
  {
   "cell_type": "markdown",
   "metadata": {},
   "source": [
    "Web : https://archive.ics.uci.edu/ml/datasets/Wine+Quality"
   ]
  },
  {
   "cell_type": "markdown",
   "metadata": {},
   "source": [
    "http://www.wine-economics.org/aawe/wp-content/uploads/2013/07/Cicchetti_Cicchetti.pdf"
   ]
  },
  {
   "cell_type": "code",
   "execution_count": null,
   "metadata": {},
   "outputs": [],
   "source": []
  }
 ],
 "metadata": {
  "kernelspec": {
   "display_name": "Python 3",
   "language": "python",
   "name": "python3"
  },
  "language_info": {
   "codemirror_mode": {
    "name": "ipython",
    "version": 3
   },
   "file_extension": ".py",
   "mimetype": "text/x-python",
   "name": "python",
   "nbconvert_exporter": "python",
   "pygments_lexer": "ipython3",
   "version": "3.7.1"
  }
 },
 "nbformat": 4,
 "nbformat_minor": 2
}
