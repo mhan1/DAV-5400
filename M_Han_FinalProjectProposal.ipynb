{
 "cells": [
  {
   "cell_type": "markdown",
   "metadata": {},
   "source": [
    "# DAV 5400 Final Project Proposal"
   ]
  },
  {
   "cell_type": "markdown",
   "metadata": {},
   "source": [
    "## Introduction\n",
    "\n",
    "\n",
    " In the state of New York, New York City which comprises five boroughs such as Manhattan, Queens, Brooklyn, Bronx and Staten Island, is the largest city in the United States. The estimated population for New York City is 8.6 million in 2017, and it is expected to reach 9 million by 2040. In order to serve this huge population, the number of open restaurants in New York City should be high enough, as we can easily imagine. As of December 31 of 2017, there are 26.7K open restaurants in New York City. This plethora of eateries offered in New York City can overwhelm New Yorkers when they need to decide where to go and what to eat. In addition, the average American eats about 4.2 commercially prepared meals per week as of 2017, in other words, as a nation, Americans eat out between four and five times a week on average which is equivalent to 18.2 meals in a month. \n",
    "\n",
    " Considering all of these, I was motivated to analyze the open restaurants in New York City, to provide New Yorkers with valuable insights regarding where to eat based on sound grounding. Despite the fact that there are a lot of reviews of restaurants available at our finger tip, it is hard to know if the restaurants of interest comply with the City and State food safety regulations through most of those reviews by customers that many people rely on when they eat outside the home. Hence, I expect my research questions in this project to help New Yorkers and visitors make better decisions when they consider eating out in New York City."
   ]
  },
  {
   "cell_type": "markdown",
   "metadata": {},
   "source": [
    "## Research Questions\n",
    "\n",
    "I want to divide my research questions by two different perspectives for better clarity.\n",
    "One is for recommended restaurants, and another is for restaurants to avoid.\n",
    "\n",
    "For recommended restaurants,\n",
    "<br>\n",
    "1) What are the restaurants that are compliant with the City and State food safety regulations in NYC?\n",
    "<br>\n",
    "2) Are those restaurants getting better over time and/or keep hygiene constantly?\n",
    "<br>\n",
    "3) What does Yelp say about the best restaurant in terms of star rating and reviews?\n",
    "\n",
    "For restaurants to avoid,\n",
    "<br>\n",
    "1) What are the restaurants that are not compliant with the City and State food safety regulations in NYC?\n",
    "<br>\n",
    "2) Are those restaurants getting any better over time?\n",
    "<br>\n",
    "3) What does Yelp say about the worst restaurant in terms of star rating and reviews?\n",
    "\n",
    "Additional question by using the best restaurants recommended by Yelp,\n",
    "<br>Are the top 10 best restaurants recommended by Yelp compliant with the food safety regulation?  \n",
    "\n",
    "By answering above research questions, I can find insights on which restaurants in New York City are complying with the food safety regulations and also which restaurants are favored by the customers. This insigt will be a sound grounding for me to recommend these restaurants to those who struggle with deciding where to eat outside the home. Additionally, I will be able to find out if those recommended restaurants keep their hygiene over the years constantly. On the other hand, the restaurants to avoid will be analyzed as well in the same way that I will perform for the recommended restaurants with opposite values for each parameter to consider. The answers to the research questions will be a great help for those who seek reasonable foundations to rely on when they eat out, instead of solely depending on lay opinions or reviews."
   ]
  },
  {
   "cell_type": "markdown",
   "metadata": {},
   "source": [
    "## Data to be Used\n",
    "\n",
    "The first dataset containing the Department of Health and Mental Hygiene New York City Restaurant Inspection Results will be downloaded from NYC OpenData website in CSV format, and I will load this dataset into Jupyter notebook for analysis.\n",
    "Because of the limitations of Github repository(100MB), I truncated the dataset to contain the records from May 2017, and also deleted rows that contain missing values.\n",
    "<br>\n",
    "The second dataset containing the reviews of restaurants from Yelp.com will be read as JSON format accessible via the web API.\n",
    "\n",
    "#### Attribute information\n",
    "\n",
    "1. CAMIS: Unique identifier for the establishment (restaurant)\n",
    "2. DBA: Establishment (restaurant) name\n",
    "3. BORO: Borough of establishment (restaurant) location\n",
    "4. BUILDING: Building number for establishment (restaurant) location\n",
    "5. STREET: Street name for establishment (restaurant) location\n",
    "6. ZIPCODE: Zip code of establishment (restaurant) location\n",
    "7. PHONE: Phone number\n",
    "8. CUISINE DESCRIPTION: Establishment (restaurant) cuisine\n",
    "9. INSPECTION DATE\t　\n",
    "10. ACTION: Action associated with each establishment (restaurant) inspection\n",
    "11. VIOLATION CODE: Violation code associated with an establishment (restaurant) inspection\n",
    "12. VIOLATION DESCRIPTION: Violation description associated with an establishment  (restaurant) inspection\n",
    "13. CRITICAL FLAG: Indicator of critical violation\n",
    "14. SCORE: Total score for a particular inspection\n",
    "<br>  Restaurants with a score between 0 and 13 points earn an A, those with 14 to 27 points receive a B and those with 28\n",
    "or more a C.\n",
    "15. GRADE: Grade associated with the inspection<br>\n",
    "• N= Not Yet Graded<br>\n",
    "• A = Grade A<br>\n",
    "• B = Grade B<br>\n",
    "• C = Grade C<br>\n",
    "• Z = Grade Pending<br>\n",
    "• P=Grade Pending issued on re-opening following an initial inspection that resulted in a closure\n",
    "\n",
    "16. GRADE DATE: Date when grade was issued to the establishment (restaurant)\n",
    "17. RECORD DATE: Date record was added to dataset\n",
    "18. INSPECTION TYPE: A combination of the inspection program and the type of inspection performed"
   ]
  },
  {
   "cell_type": "markdown",
   "metadata": {},
   "source": [
    "## Approach\n",
    "\n",
    "First of all, I will conduct EDA(exploratory data analysis) to describe and/or validate my dataset. After that, I will transform my datasets into appropriate format for analysis(Data Wrangling).\n",
    "<br>\n",
    "For recommended restaurants,\n",
    "<br>\n",
    "1) What are the best restaurants that are compliant with the City and State food safety regulations?\n",
    "- I will extract the most recent inspection date, and then find the restaurants who received the lowest \"Score\" for the inspections. I will choose the top 5 restaurants.\n",
    "\n",
    "<br>\n",
    "2) Are those restaurants getting better over time and/or keep hygiene constantly?\n",
    "\n",
    "- I will create the line plot by using the \"Score\"(dependent variable) and \"Inspection Date\"(independent variable) columns as respective variables to see the trends over time.\n",
    "\n",
    "<br>\n",
    "3) What does Yelp say about the best restaurant in terms of star rating and review?\n",
    "\n",
    "- I will request data using Yelp API, which contains the star ratings and reveiws of the restaurant, by using the phone number and buisiness ID, respectively.\n",
    "\n",
    "- I will assess the star ratings and reviews and draw conclusions.\n",
    "\n",
    "For restaurants to avoid, I will conduct the same procedures as described above, using appropriate values for each parameter to consider. For example, I will use the highest \"SCORE\" to select the worst 5 restaurants in NYC.  \n",
    "\n",
    "In addition, the dataset from Yelp with respective \"best\" and \"worst\" restaurants described above will include the latitude and longitude in one of the columns, \"coordinates\". By using the latitude and longitude, I will generate the map(geoplots) to locate the best and worst restaurants in New York City.\n",
    "<br>\n",
    "Finally, I will assess if the best restaurants recommended by Yelp are compliant with the food safety regulations."
   ]
  },
  {
   "cell_type": "markdown",
   "metadata": {},
   "source": [
    "## References\n",
    "\n",
    "1) DOHMH New York City Restaurant Inspection Results\n",
    "<br>\n",
    "https://data.cityofnewyork.us/Health/DOHMH-New-York-City-Restaurant-Inspection-Results/43nn-pn8j\n",
    "\n",
    "2) Get started with the Yelp Fusion API\n",
    "<br>\n",
    "https://www.yelp.com/developers/documentation/v3/get_started\n",
    "\n",
    "3) World Popultion Review\n",
    "<br>\n",
    "http://worldpopulationreview.com/us-cities/new-york-city-population/\n",
    "\n",
    "4) Burdens abound, but NYC restaurants' numbers are growing\n",
    "<br>\n",
    "https://www.crainsnewyork.com/article/20180412/BLOGS01/180419940/burdens-abound-but-nyc-restaurants-numbers-are-growing\n",
    "\n",
    "5) Don’t Eat Out as Often (188/365)\n",
    "<br>\n",
    "https://www.thesimpledollar.com/dont-eat-out-as-often-188365/\n",
    "\n",
    "6) How we score and grade\n",
    "<br>\n",
    "https://www1.nyc.gov/assets/doh/downloads/pdf/rii/how-we-score-grade.pdf"
   ]
  }
 ],
 "metadata": {
  "kernelspec": {
   "display_name": "Python 3",
   "language": "python",
   "name": "python3"
  },
  "language_info": {
   "codemirror_mode": {
    "name": "ipython",
    "version": 3
   },
   "file_extension": ".py",
   "mimetype": "text/x-python",
   "name": "python",
   "nbconvert_exporter": "python",
   "pygments_lexer": "ipython3",
   "version": "3.7.1"
  }
 },
 "nbformat": 4,
 "nbformat_minor": 2
}
