{
 "cells": [
  {
   "cell_type": "markdown",
   "metadata": {},
   "source": [
    "# DAV 5400 Final Project Proposal"
   ]
  },
  {
   "cell_type": "markdown",
   "metadata": {},
   "source": [
    "## Introduction\n",
    "\n",
    "\n",
    " In the state of New York, New York City which comprises five boroughs such as Manhattan, Queens, Brooklyn, Bronx and Staten Island, is the largest city in the United States. The estimated population for New York City is 8.6 million in 2017, and it is expected to reach 9 million by 2040. In order to serve this huge population, the number of open restaurants in New York City should be high enough, as we can easily imagine. As of December 31 of 2017, there are 26.7K open restaurants in New York City. This plethora of eateries offered in New York City can overwhelm New Yorkers when they need to decide where to go and what to eat. In addition, the average American eats about 4.2 commercially prepared meals per week as of 2017, in other words, as a nation, Americans eat out between four and five times a week on average which is equivalent to 18.2 meals in a month. \n",
    "\n",
    " Considering all of these, I was motivated to analyze the open restaurants in New York City, to provide New Yorkers with valuable insights regarding where to eat based on sound grounding. Despite the fact that there are a lot of reviews of restaurants available at our finger tip, it is hard to know if the restaurants of interest comply with the City and State food safety regulations through most of those reviews by customers that many people rely on when they eat outside the home. Hence, I expect my research questions in this project to help New Yorkers and visitors make better decisions when they consider eating out in New York City."
   ]
  },
  {
   "cell_type": "markdown",
   "metadata": {},
   "source": [
    "## Research Questions\n",
    "\n",
    "I want to divide my research questions by two different perspectives for better clarity.\n",
    "One is for recommended restaurants, and another is for restaurants to avoid.\n",
    "\n",
    "For recommended restaurants,\n",
    "<br>\n",
    "1) What are the restaurants that did not violate the City and State food safety regulations in each borough?\n",
    "<br>\n",
    "2) Among those restaurants that did not violate the food safety regulations, what are the restaurants that had the best reviews/rankings in each borough?\n",
    "<br>\n",
    "3) Are those restaurants getting better over time and/or keep hygiene constantly?\n",
    "\n",
    "For restaurants to avoid,\n",
    "<br>\n",
    "1) What are the restaurants that violated the City and State food safety regulations in each borough?\n",
    "<br>\n",
    "2) Among those restaurants that violated the food safety regulations, what are the restaurants that had the worst reviews/rankings in each borough?\n",
    "<br>\n",
    "3) Are those restaurants getting better over time?\n",
    "\n",
    "By answering above research questions, I can find insights on which restaurants in each borough in New York City are complying with the food safety regulations and also which restaurants are favored by the customers. This insigt will be a sound grounding for me to recommend these restaurants to those who struggle with deciding where to eat outside the home. Additionally, I will be able to find out if those recommended restaurants keep their hygiene over the years constantly. On the other hand, the restaurants to avoid will be analyzed as well in the same way that I will perform for the recommended restaurants with opposite values for each parameter to consider. The answers to the research questions will be a great help for those who seek reasonable foundations to rely on when they eat out, instead of solely depending on lay opinions or reviews."
   ]
  },
  {
   "cell_type": "markdown",
   "metadata": {},
   "source": [
    "## Data to be Used\n",
    "\n",
    "The first dataset containing the Department of Health and Mental Hygiene New York City Restaurant Inspection Results will be downloaded from NYC OpenData website in CSV format, and I will load this dataset into Jupyter notebook for analysis.\n",
    "<br>\n",
    "The second dataset containing the reviews of restaurants from Yelp.com will be read as JSON format accessible via the web API."
   ]
  },
  {
   "cell_type": "markdown",
   "metadata": {},
   "source": [
    "## Approach\n",
    "\n",
    "First of all, I will conduct EDA(exploratory data analysis) to describe and/or validate my dataset. After that, I will transform my datasets into appropriate format for analysis(Data Wrangling).\n",
    "<br>\n",
    "For recommended restaurants,\n",
    "<br>\n",
    "1) What are the restaurants that did not violate the City and State food safety regulations in each borough?\n",
    "- I will inspect the \"Action\" column to aggregate the restaurants with \"No violations\" value in the \"Action\" column. And then, I will analyze the aggregated dataset by borough. Also, I will visualize this result using a bar chart to support the conclusion. I will choose the top 3 restaurants from each borough.\n",
    "\n",
    "<br>\n",
    "2) Among those restaurants that did not violate the food safety regulations, what are the restaurnats that had the best reviews/rankings in each borough?\n",
    "\n",
    "- I will merge the dataset from Yelp, which contains the reveiws of the restaurants, by using the \"PHONE\" number of each restaurant selected as the top 3 in each borough as a join key.\n",
    "\n",
    "- I will assess the reviews/rangkings and draw conclusions.\n",
    "\n",
    "<br>\n",
    "3) Are those restaurants getting better over time and/or keep hygiene constantly?\n",
    "\n",
    "- I will create the line plot by using the \"Score\"(dependent variable) and \"Inspection Date\"(independent variable) columns as respective variable to see the trends over time.\n",
    "\n",
    "For restaurants to avoid, I will conduct the same procedures as described above.\n",
    "\n",
    "In addition, when I merged the dataset from Yelp with respective \"best\" and \"worst\" restaurants in each borough dataset described above, the merged dataset will include the latitude and longitude in one of the columns, \"coordinates\". By using the latitude and longitude, I will generate the map(geoplots) to locate the best and worst restaurants in New York City.\n",
    "\n",
    "Finally, I will rank the results for \"best\" and \"worst\" restaurants in NYC, respectively."
   ]
  },
  {
   "cell_type": "markdown",
   "metadata": {},
   "source": [
    "## References\n",
    "\n",
    "1) DOHMH New York City Restaurant Inspection Results\n",
    "<br>\n",
    "https://data.cityofnewyork.us/Health/DOHMH-New-York-City-Restaurant-Inspection-Results/43nn-pn8j\n",
    "\n",
    "2) Get started with the Yelp Fusion API\n",
    "<br>\n",
    "https://www.yelp.com/developers/documentation/v3/get_started\n",
    "\n",
    "3) World Popultion Review\n",
    "<br>\n",
    "http://worldpopulationreview.com/us-cities/new-york-city-population/\n",
    "\n",
    "4) Burdens abound, but NYC restaurants' numbers are growing\n",
    "<br>\n",
    "https://www.crainsnewyork.com/article/20180412/BLOGS01/180419940/burdens-abound-but-nyc-restaurants-numbers-are-growing\n",
    "\n",
    "5) Don’t Eat Out as Often (188/365)\n",
    "<br>\n",
    "https://www.thesimpledollar.com/dont-eat-out-as-often-188365/"
   ]
  }
 ],
 "metadata": {
  "kernelspec": {
   "display_name": "Python 3",
   "language": "python",
   "name": "python3"
  },
  "language_info": {
   "codemirror_mode": {
    "name": "ipython",
    "version": 3
   },
   "file_extension": ".py",
   "mimetype": "text/x-python",
   "name": "python",
   "nbconvert_exporter": "python",
   "pygments_lexer": "ipython3",
   "version": "3.7.1"
  }
 },
 "nbformat": 4,
 "nbformat_minor": 2
}
