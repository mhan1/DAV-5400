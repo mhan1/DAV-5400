{
 "cells": [
  {
   "cell_type": "markdown",
   "metadata": {},
   "source": [
    "# Our Week 4 Assignment makes use of the functionality provided by Python's NumPy package."
   ]
  },
  {
   "cell_type": "markdown",
   "metadata": {},
   "source": [
    "## 1. Write a Python/NumPy code block that finds the distinct/unique common items between these two arrays:"
   ]
  },
  {
   "cell_type": "code",
   "execution_count": 670,
   "metadata": {},
   "outputs": [],
   "source": [
    "import numpy as np"
   ]
  },
  {
   "cell_type": "code",
   "execution_count": 671,
   "metadata": {},
   "outputs": [],
   "source": [
    "a = np.array([1,2,3,2,3,4,3,4,5,6])\n",
    "b = np.array([7,2,10,2,7,4,9,4,9,8])"
   ]
  },
  {
   "cell_type": "markdown",
   "metadata": {},
   "source": [
    "## Your output should contain only the distinct overlapping values. For example, if a 2 is found in both array  a  and array  b, your output should contain only one 2 even if array _a_ contains more than one 2 within it."
   ]
  },
  {
   "cell_type": "code",
   "execution_count": 672,
   "metadata": {},
   "outputs": [],
   "source": [
    "'''I will get the sorted, common elements in array a and b \n",
    "using \"intersect1d\" array set operation as below.'''\n",
    "task1_answer = np.intersect1d(a,b)"
   ]
  },
  {
   "cell_type": "code",
   "execution_count": 673,
   "metadata": {},
   "outputs": [
    {
     "name": "stdout",
     "output_type": "stream",
     "text": [
      "[2 4]\n"
     ]
    }
   ],
   "source": [
    "print(task1_answer) #task1 answer."
   ]
  },
  {
   "cell_type": "markdown",
   "metadata": {},
   "source": [
    "## 2. Create the following 5x3 array using knowledge you have of Python's/NumPy's sequencing functionality so that you do not need to explicitly key in every integer value."
   ]
  },
  {
   "cell_type": "code",
   "execution_count": 674,
   "metadata": {},
   "outputs": [],
   "source": [
    "myarray = np.arange(1,16)"
   ]
  },
  {
   "cell_type": "code",
   "execution_count": 675,
   "metadata": {},
   "outputs": [
    {
     "name": "stdout",
     "output_type": "stream",
     "text": [
      "[ 1  2  3  4  5  6  7  8  9 10 11 12 13 14 15]\n"
     ]
    }
   ],
   "source": [
    "print(myarray)"
   ]
  },
  {
   "cell_type": "code",
   "execution_count": 676,
   "metadata": {},
   "outputs": [],
   "source": [
    "myarray2 = np.arange(1,16).reshape(3,5)"
   ]
  },
  {
   "cell_type": "code",
   "execution_count": 677,
   "metadata": {},
   "outputs": [
    {
     "name": "stdout",
     "output_type": "stream",
     "text": [
      "[[ 1  2  3  4  5]\n",
      " [ 6  7  8  9 10]\n",
      " [11 12 13 14 15]]\n"
     ]
    }
   ],
   "source": [
    "print(myarray2)"
   ]
  },
  {
   "cell_type": "code",
   "execution_count": 678,
   "metadata": {},
   "outputs": [],
   "source": [
    "myarray3 = myarray2.T"
   ]
  },
  {
   "cell_type": "code",
   "execution_count": 679,
   "metadata": {},
   "outputs": [
    {
     "name": "stdout",
     "output_type": "stream",
     "text": [
      "[[ 1  6 11]\n",
      " [ 2  7 12]\n",
      " [ 3  8 13]\n",
      " [ 4  9 14]\n",
      " [ 5 10 15]]\n"
     ]
    }
   ],
   "source": [
    "print(myarray3) #task2 answer."
   ]
  },
  {
   "cell_type": "markdown",
   "metadata": {},
   "source": [
    "## 3. You are given the following two arays:"
   ]
  },
  {
   "cell_type": "code",
   "execution_count": 680,
   "metadata": {},
   "outputs": [],
   "source": [
    "a = np.array([12,5,7,15,3,1,8])\n",
    "b = np.array([14,6,3,11,19,12,5])"
   ]
  },
  {
   "cell_type": "markdown",
   "metadata": {},
   "source": [
    "## Write a Python/Numpy code block that removes from array a any items that are also present in array b."
   ]
  },
  {
   "cell_type": "code",
   "execution_count": 681,
   "metadata": {},
   "outputs": [
    {
     "name": "stdout",
     "output_type": "stream",
     "text": [
      "[ 1  7  8 15]\n"
     ]
    }
   ],
   "source": [
    "'''I will use \"setdiff1d\" array set operation to get the array that \n",
    "contains elements from array a that are not in b'''\n",
    "task3_answer = np.setdiff1d(a,b)\n",
    "print(task3_answer)"
   ]
  },
  {
   "cell_type": "markdown",
   "metadata": {},
   "source": [
    "## 4. Suppose you have ridden a bicycle from New York City to Key West, Florida. Your bicycle odometer shows the total miles you have travelled thus far, which you make a note of each day with paper and pencil. Your first two entries might be '55' and '120', indicating that you rode your bike 55 miles on day 1 and 65 miles on day 2. Your task is to create a NumPy array wherein you can record the cumulative miles you recorded each day during your trip. Then use your Python skills to show the total miles that you rode each day.  "
   ]
  },
  {
   "cell_type": "markdown",
   "metadata": {},
   "source": [
    "## Assume the trip took a total of 35 days and included at least 4 non-consecutive days where no cycling was possible due to either weather conditions or personal fatigue/soreness."
   ]
  },
  {
   "cell_type": "markdown",
   "metadata": {},
   "source": [
    "## For the remaining 31 days, you would have covered the entire distance between NYC and Key West. Complete your work within your Jupyter Notebook for this assignment and be sure to include a writeup explaining your approach to this problem, including the ways in which you decided to make use of NumPy."
   ]
  },
  {
   "cell_type": "markdown",
   "metadata": {},
   "source": [
    "- My approach to this problem:\n",
    "  1. I googled the distance between NYC and Key West        (https://www.google.com/maps/dir/New+York/Key+West,+Florida+33040/@40.7256193,-73.99434,13.55z/data=!4m14!4m13!1m5!1m1!1s0x89c24fa5d33f083b:0xc80b8f06e177fe62!2m2!1d-74.0059728!2d40.7127753!1m5!1m1!1s0x88d1b134ad952377:0x3fcee92f77463b5e!2m2!1d-81.7799871!2d24.5550593!3e1) and it was 1548 miles by bike.\n",
    "  2. I will generate the 35 random integer, to simulate the situation where I am recording the miles daily by hand.\n",
    "  3. I will write code blocks to append the 35 integers to a new list,\n",
    "     checking the sum of elements should be 1548.\n",
    "     I will limit the miles per day from 40 to maximum 65, considering 1548miles/31days = 49.93 miles/day.\n",
    "     Considering 35/4 = 8.75, the maximum days for consecutive bike ride will be 7 days,\n",
    "     I take a break every 8th day.  \n",
    "  4. I will convert the new list into ndarray using \"np.asarray\" method.\n",
    "  5. I will use \"np.diff\" array method to create the array that shows the total miles I rode each day."
   ]
  },
  {
   "cell_type": "code",
   "execution_count": 682,
   "metadata": {},
   "outputs": [],
   "source": [
    "import random #random module is built-in, but I made sure to import it.\n",
    "miles = np.random.randint(40, 65, size=35) #drawing random 35 integers from 40 to 65 to populate \"dailiy_miles\" list. \n",
    "daily_miles = miles.tolist() #converting \"daily_miles\" array into a list.\n",
    "odometer = [] #I will append the cumulative miles to this list.\n",
    "cum_miles = 0 #setting the initial value for the cumulative miles as 0.\n",
    "day = [n for n in range(35)] #n is value from 0 to 34, as there are 35 days.\n",
    "for n in day: #this will iterate from n=0 until n reaches 34.\n",
    "    if n > 0 and n % 8 == 0: #I will take a break every 8th day, as described above.\n",
    "        odometer.append(cum_miles) #odometer will have the same value as the previous element on every 8th day.\n",
    "    else:\n",
    "        cum_miles += daily_miles[n] #cumulative miles will be increased by the daily_miles each day otherwise.\n",
    "        if n != 34 and cum_miles <=1548:\n",
    "            odometer.append(cum_miles)\n",
    "        else:\n",
    "            odometer.append(1548)\n",
    "        "
   ]
  },
  {
   "cell_type": "code",
   "execution_count": 683,
   "metadata": {},
   "outputs": [
    {
     "name": "stdout",
     "output_type": "stream",
     "text": [
      "[60, 105, 147, 189, 234, 289, 332, 388, 388, 444, 498, 549, 612, 655, 697, 756, 756, 809, 853, 896, 957, 1015, 1065, 1107, 1107, 1152, 1203, 1249, 1312, 1358, 1402, 1460, 1460, 1510, 1548]\n"
     ]
    },
    {
     "data": {
      "text/plain": [
       "list"
      ]
     },
     "execution_count": 683,
     "metadata": {},
     "output_type": "execute_result"
    }
   ],
   "source": [
    "print(odometer)\n",
    "type(odometer) #checking the object type."
   ]
  },
  {
   "cell_type": "code",
   "execution_count": 684,
   "metadata": {},
   "outputs": [
    {
     "name": "stdout",
     "output_type": "stream",
     "text": [
      "[  60  105  147  189  234  289  332  388  388  444  498  549  612  655\n",
      "  697  756  756  809  853  896  957 1015 1065 1107 1107 1152 1203 1249\n",
      " 1312 1358 1402 1460 1460 1510 1548]\n"
     ]
    },
    {
     "data": {
      "text/plain": [
       "numpy.ndarray"
      ]
     },
     "execution_count": 684,
     "metadata": {},
     "output_type": "execute_result"
    }
   ],
   "source": [
    "odometer_array = np.asarray(odometer) #converting the list into ndarray.\n",
    "print(odometer_array)\n",
    "type(odometer_array) #checking the object type."
   ]
  },
  {
   "cell_type": "code",
   "execution_count": 685,
   "metadata": {},
   "outputs": [
    {
     "name": "stdout",
     "output_type": "stream",
     "text": [
      "[45 42 42 45 55 43 56  0 56 54 51 63 43 42 59  0 53 44 43 61 58 50 42  0\n",
      " 45 51 46 63 46 44 58  0 50 38]\n"
     ]
    }
   ],
   "source": [
    "'''I will calculate the daily miles that I rode from the \"odometer_array\" \n",
    "that shows accumulated miles from day 1 to day 35 by using \"np.diff\" method.'''\n",
    "daily_miles = np.diff(odometer_array)\n",
    "print(daily_miles) #task 4 answer."
   ]
  },
  {
   "cell_type": "markdown",
   "metadata": {},
   "source": [
    "## Task 5.1~5.4"
   ]
  },
  {
   "cell_type": "code",
   "execution_count": 686,
   "metadata": {},
   "outputs": [
    {
     "name": "stderr",
     "output_type": "stream",
     "text": [
      "C:\\Users\\Minyeong\\Anaconda3\\lib\\site-packages\\ipykernel_launcher.py:8: FutureWarning: Method .as_matrix will be removed in a future version. Use .values instead.\n",
      "  \n"
     ]
    },
    {
     "data": {
      "text/plain": [
       "numpy.ndarray"
      ]
     },
     "execution_count": 686,
     "metadata": {},
     "output_type": "execute_result"
    }
   ],
   "source": [
    "import pandas\n",
    "import numpy as np\n",
    "\n",
    "# supress scientific notation\n",
    "np.set_printoptions(suppress = True)\n",
    "\n",
    "# read the data file from GitHub and convert to a NumPy ndarray object\n",
    "nyc_water = pandas.read_csv('https://raw.githubusercontent.com/jtopor/DAV-5400/master/Week4/Water_Consumption_In_The_New_York_City.csv').as_matrix()\n",
    "\n",
    "# verify you have an ndarray object\n",
    "type(nyc_water)"
   ]
  },
  {
   "cell_type": "code",
   "execution_count": 687,
   "metadata": {},
   "outputs": [
    {
     "data": {
      "text/plain": [
       "array([[   1979. , 7102100. ,    1512. ,     213. ],\n",
       "       [   1980. , 7071639. ,    1506. ,     213. ],\n",
       "       [   1981. , 7089241. ,    1309. ,     185. ],\n",
       "       [   1982. , 7109105. ,    1382. ,     194. ],\n",
       "       [   1983. , 7181224. ,    1424. ,     198. ],\n",
       "       [   1984. , 7234514. ,    1465. ,     203. ],\n",
       "       [   1985. , 7274054. ,    1326. ,     182. ],\n",
       "       [   1986. , 7319246. ,    1351. ,     185. ],\n",
       "       [   1987. , 7342476. ,    1447. ,     197. ],\n",
       "       [   1988. , 7353719. ,    1484. ,     202. ],\n",
       "       [   1989. , 7344175. ,    1402. ,     191. ],\n",
       "       [   1990. , 7335650. ,    1424. ,     194. ],\n",
       "       [   1991. , 7374501. ,    1469. ,     199. ],\n",
       "       [   1992. , 7428944. ,    1369. ,     184. ],\n",
       "       [   1993. , 7506166. ,    1368.5,     182. ],\n",
       "       [   1994. , 7570458. ,    1357.7,     179. ],\n",
       "       [   1995. , 7633040. ,    1325.7,     174. ],\n",
       "       [   1996. , 7697812. ,    1297.9,     169. ],\n",
       "       [   1997. , 7773443. ,    1205.5,     155. ],\n",
       "       [   1998. , 7858259. ,    1219.5,     155. ],\n",
       "       [   1999. , 7947660. ,    1237.2,     156. ],\n",
       "       [   2000. , 8008278. ,    1240.4,     155. ],\n",
       "       [   2001. , 8024963.5,    1184. ,     148. ],\n",
       "       [   2002. , 8041649. ,    1135.6,     141. ],\n",
       "       [   2003. , 8058334.5,    1093.7,     136. ],\n",
       "       [   2004. , 8075020. ,    1099.5,     136. ],\n",
       "       [   2005. , 8091705.5,    1138. ,     141. ],\n",
       "       [   2006. , 8108391. ,    1069. ,     132. ],\n",
       "       [   2007. , 8125076.5,    1114. ,     137. ],\n",
       "       [   2008. , 8141762. ,    1098. ,     135. ],\n",
       "       [   2009. , 8158447.5,    1007.5,     123. ],\n",
       "       [   2010. , 8175133. ,    1039. ,     127. ],\n",
       "       [   2011. , 8284098. ,    1021. ,     123. ],\n",
       "       [   2012. , 8361179. ,    1009.1,     121. ],\n",
       "       [   2013. , 8422460. ,    1006.1,     119. ],\n",
       "       [   2014. , 8471990. ,     996. ,     118. ],\n",
       "       [   2015. , 8516502. ,    1009. ,     118. ],\n",
       "       [   2016. , 8537673. ,    1002. ,     117. ],\n",
       "       [   2017. , 8622698. ,     990.2,     115. ]])"
      ]
     },
     "execution_count": 687,
     "metadata": {},
     "output_type": "execute_result"
    }
   ],
   "source": [
    "nyc_water"
   ]
  },
  {
   "cell_type": "markdown",
   "metadata": {},
   "source": [
    "## task 5-1. What is the maximum yearly NYC consumption of water in millions of gallons per day?"
   ]
  },
  {
   "cell_type": "code",
   "execution_count": 688,
   "metadata": {},
   "outputs": [
    {
     "data": {
      "text/plain": [
       "1512.0"
      ]
     },
     "execution_count": 688,
     "metadata": {},
     "output_type": "execute_result"
    }
   ],
   "source": [
    "'''I will find the maximum value from the third column of nyc_water by using\n",
    "\"max\" array statistical methods as below:'''\n",
    "task5_1 = nyc_water[:, 2]\n",
    "np.max(task5_1)"
   ]
  },
  {
   "cell_type": "markdown",
   "metadata": {},
   "source": [
    "- task 5-1 answer: Above output shows that maximum yearly NYC consumption of water in millions of gallons per day was 1,512, as the third column is the corresoponding column for NYC Consumption(Million gallons per day)."
   ]
  },
  {
   "cell_type": "markdown",
   "metadata": {},
   "source": [
    "## task 5-2. How many calendar years are represented within this data set? NumPy's shape command is one way to find out."
   ]
  },
  {
   "cell_type": "code",
   "execution_count": 689,
   "metadata": {},
   "outputs": [
    {
     "name": "stdout",
     "output_type": "stream",
     "text": [
      "(39, 4)\n"
     ]
    },
    {
     "data": {
      "text/plain": [
       "39"
      ]
     },
     "execution_count": 689,
     "metadata": {},
     "output_type": "execute_result"
    }
   ],
   "source": [
    "task5_2 = np.shape(nyc_water)\n",
    "print(task5_2)\n",
    "task5_2[0]"
   ]
  },
  {
   "cell_type": "markdown",
   "metadata": {},
   "source": [
    "- task 5-2 answer: Above output shows that this data set has 39 rows and 4 columns. Each row represents each year, so 39 calendar years are represented within this data set."
   ]
  },
  {
   "cell_type": "markdown",
   "metadata": {},
   "source": [
    "## task 5-3. What is the mean and standard deviation of the per capita daily water consumption?"
   ]
  },
  {
   "cell_type": "code",
   "execution_count": 690,
   "metadata": {},
   "outputs": [
    {
     "name": "stdout",
     "output_type": "stream",
     "text": [
      "160.30769230769232\n",
      "31.51894330370624\n"
     ]
    }
   ],
   "source": [
    "task5_3 = nyc_water[:, 3] #slicing the last(4th) column\n",
    "print(np.mean(task5_3)) #calculating the mean along the column\n",
    "print(np.std(task5_3)) #calculating the standard deviation along the column"
   ]
  },
  {
   "cell_type": "markdown",
   "metadata": {},
   "source": [
    "- task 5-3 answer: Above output shows that the last column, which corresponds to the per capita daily water consumption, has the mean value 160.30769231, and the standard deviation 31.5189433."
   ]
  },
  {
   "cell_type": "markdown",
   "metadata": {},
   "source": [
    "## task 5-4. What is the increase or decrease in population from year to year? Use NumPy's 'diff' function to create an array of differences and save that to a variable called \"pop_diff\", then print that variable to the screen."
   ]
  },
  {
   "cell_type": "code",
   "execution_count": 691,
   "metadata": {},
   "outputs": [
    {
     "name": "stdout",
     "output_type": "stream",
     "text": [
      "[[   1979.  7102100.     1512.      213. ]\n",
      " [   1980.  7071639.     1506.      213. ]\n",
      " [   1981.  7089241.     1309.      185. ]\n",
      " [   1982.  7109105.     1382.      194. ]\n",
      " [   1983.  7181224.     1424.      198. ]\n",
      " [   1984.  7234514.     1465.      203. ]\n",
      " [   1985.  7274054.     1326.      182. ]\n",
      " [   1986.  7319246.     1351.      185. ]\n",
      " [   1987.  7342476.     1447.      197. ]\n",
      " [   1988.  7353719.     1484.      202. ]\n",
      " [   1989.  7344175.     1402.      191. ]\n",
      " [   1990.  7335650.     1424.      194. ]\n",
      " [   1991.  7374501.     1469.      199. ]\n",
      " [   1992.  7428944.     1369.      184. ]\n",
      " [   1993.  7506166.     1368.5     182. ]\n",
      " [   1994.  7570458.     1357.7     179. ]\n",
      " [   1995.  7633040.     1325.7     174. ]\n",
      " [   1996.  7697812.     1297.9     169. ]\n",
      " [   1997.  7773443.     1205.5     155. ]\n",
      " [   1998.  7858259.     1219.5     155. ]\n",
      " [   1999.  7947660.     1237.2     156. ]\n",
      " [   2000.  8008278.     1240.4     155. ]\n",
      " [   2001.  8024963.5    1184.      148. ]\n",
      " [   2002.  8041649.     1135.6     141. ]\n",
      " [   2003.  8058334.5    1093.7     136. ]\n",
      " [   2004.  8075020.     1099.5     136. ]\n",
      " [   2005.  8091705.5    1138.      141. ]\n",
      " [   2006.  8108391.     1069.      132. ]\n",
      " [   2007.  8125076.5    1114.      137. ]\n",
      " [   2008.  8141762.     1098.      135. ]\n",
      " [   2009.  8158447.5    1007.5     123. ]\n",
      " [   2010.  8175133.     1039.      127. ]\n",
      " [   2011.  8284098.     1021.      123. ]\n",
      " [   2012.  8361179.     1009.1     121. ]\n",
      " [   2013.  8422460.     1006.1     119. ]\n",
      " [   2014.  8471990.      996.      118. ]\n",
      " [   2015.  8516502.     1009.      118. ]\n",
      " [   2016.  8537673.     1002.      117. ]\n",
      " [   2017.  8622698.      990.2     115. ]]\n"
     ]
    }
   ],
   "source": [
    "'''First, I will sort the nyec_water by the \"year\"(0th column)\n",
    "and then calculate the difference between the row for each column as below.\n",
    "Later, I found out that the array was sorted by year by default, but it was good to learn \n",
    "how to sort by each column.'''\n",
    "sorted_year = nyc_water[nyc_water[:,0].argsort()] #sorting the nyc_water array by the \"year\"(0th column)\n",
    "print(sorted_year)"
   ]
  },
  {
   "cell_type": "code",
   "execution_count": 692,
   "metadata": {},
   "outputs": [
    {
     "name": "stdout",
     "output_type": "stream",
     "text": [
      "[[     1.  -30461.      -6.       0. ]\n",
      " [     1.   17602.    -197.     -28. ]\n",
      " [     1.   19864.      73.       9. ]\n",
      " [     1.   72119.      42.       4. ]\n",
      " [     1.   53290.      41.       5. ]\n",
      " [     1.   39540.    -139.     -21. ]\n",
      " [     1.   45192.      25.       3. ]\n",
      " [     1.   23230.      96.      12. ]\n",
      " [     1.   11243.      37.       5. ]\n",
      " [     1.   -9544.     -82.     -11. ]\n",
      " [     1.   -8525.      22.       3. ]\n",
      " [     1.   38851.      45.       5. ]\n",
      " [     1.   54443.    -100.     -15. ]\n",
      " [     1.   77222.      -0.5     -2. ]\n",
      " [     1.   64292.     -10.8     -3. ]\n",
      " [     1.   62582.     -32.      -5. ]\n",
      " [     1.   64772.     -27.8     -5. ]\n",
      " [     1.   75631.     -92.4    -14. ]\n",
      " [     1.   84816.      14.       0. ]\n",
      " [     1.   89401.      17.7      1. ]\n",
      " [     1.   60618.       3.2     -1. ]\n",
      " [     1.   16685.5    -56.4     -7. ]\n",
      " [     1.   16685.5    -48.4     -7. ]\n",
      " [     1.   16685.5    -41.9     -5. ]\n",
      " [     1.   16685.5      5.8      0. ]\n",
      " [     1.   16685.5     38.5      5. ]\n",
      " [     1.   16685.5    -69.      -9. ]\n",
      " [     1.   16685.5     45.       5. ]\n",
      " [     1.   16685.5    -16.      -2. ]\n",
      " [     1.   16685.5    -90.5    -12. ]\n",
      " [     1.   16685.5     31.5      4. ]\n",
      " [     1.  108965.     -18.      -4. ]\n",
      " [     1.   77081.     -11.9     -2. ]\n",
      " [     1.   61281.      -3.      -2. ]\n",
      " [     1.   49530.     -10.1     -1. ]\n",
      " [     1.   44512.      13.       0. ]\n",
      " [     1.   21171.      -7.      -1. ]\n",
      " [     1.   85025.     -11.8     -2. ]]\n",
      "[-30461.   17602.   19864.   72119.   53290.   39540.   45192.   23230.\n",
      "  11243.   -9544.   -8525.   38851.   54443.   77222.   64292.   62582.\n",
      "  64772.   75631.   84816.   89401.   60618.   16685.5  16685.5  16685.5\n",
      "  16685.5  16685.5  16685.5  16685.5  16685.5  16685.5  16685.5 108965.\n",
      "  77081.   61281.   49530.   44512.   21171.   85025. ]\n"
     ]
    }
   ],
   "source": [
    "'''The code block below will show increase or decrease \n",
    "in population from year to year in the second column'''\n",
    "task5_4 = np.diff(sorted_year, axis=0) #calculating the difference between each row for each column.\n",
    "print(task5_4)\n",
    "pop_diff=task5_4[:, 1] #slicing the second column to show the difference of \"New York City Population\" from year to year.\n",
    "print(pop_diff) #task5-4 answer."
   ]
  },
  {
   "cell_type": "code",
   "execution_count": null,
   "metadata": {},
   "outputs": [],
   "source": []
  }
 ],
 "metadata": {
  "kernelspec": {
   "display_name": "Python 3",
   "language": "python",
   "name": "python3"
  },
  "language_info": {
   "codemirror_mode": {
    "name": "ipython",
    "version": 3
   },
   "file_extension": ".py",
   "mimetype": "text/x-python",
   "name": "python",
   "nbconvert_exporter": "python",
   "pygments_lexer": "ipython3",
   "version": "3.7.1"
  }
 },
 "nbformat": 4,
 "nbformat_minor": 2
}
