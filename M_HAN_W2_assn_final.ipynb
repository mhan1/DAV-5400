{
 "cells": [
  {
   "cell_type": "code",
   "execution_count": 1,
   "metadata": {},
   "outputs": [],
   "source": [
    "import csv"
   ]
  },
  {
   "cell_type": "code",
   "execution_count": 2,
   "metadata": {},
   "outputs": [
    {
     "name": "stdout",
     "output_type": "stream",
     "text": [
      "['high', 'high', '2', '4', 'med', 'low', 'unacc']\n",
      "['high', 'high', '4', 'more', 'small', 'high', 'acc']\n",
      "['high', 'high', '4', 'more', 'big', 'low', 'unacc']\n",
      "['high', 'low', '2', 'more', 'big', 'high', 'acc']\n",
      "['vhigh', 'low', '3', '2', 'med', 'med', 'unacc']\n",
      "['low', 'high', '2', '2', 'small', 'low', 'unacc']\n",
      "['med', 'med', '4', 'more', 'med', 'high', 'vgood']\n",
      "['low', 'low', '3', '2', 'big', 'med', 'unacc']\n",
      "['vhigh', 'low', '2', '2', 'small', 'low', 'unacc']\n",
      "['vhigh', 'high', '4', '4', 'med', 'low', 'unacc']\n",
      "['low', 'low', '2', '2', 'med', 'med', 'unacc']\n",
      "['vhigh', 'low', '4', 'more', 'small', 'high', 'acc']\n",
      "['high', 'low', '2', '4', 'big', 'med', 'acc']\n",
      "['low', 'vhigh', '3', 'more', 'big', 'low', 'unacc']\n",
      "['high', 'low', '5more', '2', 'big', 'med', 'unacc']\n",
      "['vhigh', 'high', '2', 'more', 'med', 'high', 'unacc']\n",
      "['med', 'med', '2', '2', 'small', 'low', 'unacc']\n",
      "['high', 'low', '5more', '4', 'med', 'high', 'acc']\n",
      "['low', 'low', '3', 'more', 'med', 'high', 'vgood']\n",
      "['low', 'low', '2', '2', 'big', 'med', 'unacc']\n",
      "['med', 'high', '4', '2', 'big', 'high', 'unacc']\n",
      "['low', 'low', '2', '2', 'small', 'high', 'unacc']\n",
      "['vhigh', 'high', '5more', '4', 'med', 'med', 'unacc']\n",
      "['med', 'vhigh', '2', '2', 'big', 'low', 'unacc']\n",
      "['low', 'vhigh', '4', '4', 'big', 'low', 'unacc']\n",
      "['vhigh', 'low', '3', 'more', 'big', 'low', 'unacc']\n",
      "['med', 'vhigh', '3', '4', 'small', 'low', 'unacc']\n",
      "['high', 'high', '3', '4', 'med', 'med', 'unacc']\n",
      "['low', 'high', '5more', '2', 'big', 'low', 'unacc']\n",
      "['med', 'high', '5more', '2', 'med', 'med', 'unacc']\n",
      "['high', 'low', '3', '4', 'med', 'high', 'acc']\n",
      "['high', 'vhigh', '5more', '4', 'med', 'med', 'unacc']\n",
      "['low', 'low', '5more', '2', 'med', 'low', 'unacc']\n",
      "['vhigh', 'vhigh', '4', '2', 'big', 'high', 'unacc']\n",
      "['high', 'low', '3', '2', 'big', 'high', 'unacc']\n"
     ]
    }
   ],
   "source": [
    "with open(r'C:\\Users\\Minyeong\\Desktop\\cars-sample35.txt') as csvfile:\n",
    "    readCSV = csv.reader(csvfile)\n",
    "    for row in readCSV:\n",
    "        print(row)"
   ]
  },
  {
   "cell_type": "markdown",
   "metadata": {},
   "source": [
    "# Task 1. Read the file again and extract these seven attributes(Price, Maintenance cost, Number of doors, Number of passengers, Luggage capacity, Safety rating, Classification of vehicle) from each line of the file and create seven distinct lists comprised solely of the values you extracted for a given attribute."
   ]
  },
  {
   "cell_type": "code",
   "execution_count": 5,
   "metadata": {},
   "outputs": [
    {
     "name": "stdout",
     "output_type": "stream",
     "text": [
      "[['high', 'high', '2', '4', 'med', 'low', 'unacc'], ['high', 'high', '4', 'more', 'small', 'high', 'acc'], ['high', 'high', '4', 'more', 'big', 'low', 'unacc'], ['high', 'low', '2', 'more', 'big', 'high', 'acc'], ['vhigh', 'low', '3', '2', 'med', 'med', 'unacc'], ['low', 'high', '2', '2', 'small', 'low', 'unacc'], ['med', 'med', '4', 'more', 'med', 'high', 'vgood'], ['low', 'low', '3', '2', 'big', 'med', 'unacc'], ['vhigh', 'low', '2', '2', 'small', 'low', 'unacc'], ['vhigh', 'high', '4', '4', 'med', 'low', 'unacc'], ['low', 'low', '2', '2', 'med', 'med', 'unacc'], ['vhigh', 'low', '4', 'more', 'small', 'high', 'acc'], ['high', 'low', '2', '4', 'big', 'med', 'acc'], ['low', 'vhigh', '3', 'more', 'big', 'low', 'unacc'], ['high', 'low', '5more', '2', 'big', 'med', 'unacc'], ['vhigh', 'high', '2', 'more', 'med', 'high', 'unacc'], ['med', 'med', '2', '2', 'small', 'low', 'unacc'], ['high', 'low', '5more', '4', 'med', 'high', 'acc'], ['low', 'low', '3', 'more', 'med', 'high', 'vgood'], ['low', 'low', '2', '2', 'big', 'med', 'unacc'], ['med', 'high', '4', '2', 'big', 'high', 'unacc'], ['low', 'low', '2', '2', 'small', 'high', 'unacc'], ['vhigh', 'high', '5more', '4', 'med', 'med', 'unacc'], ['med', 'vhigh', '2', '2', 'big', 'low', 'unacc'], ['low', 'vhigh', '4', '4', 'big', 'low', 'unacc'], ['vhigh', 'low', '3', 'more', 'big', 'low', 'unacc'], ['med', 'vhigh', '3', '4', 'small', 'low', 'unacc'], ['high', 'high', '3', '4', 'med', 'med', 'unacc'], ['low', 'high', '5more', '2', 'big', 'low', 'unacc'], ['med', 'high', '5more', '2', 'med', 'med', 'unacc'], ['high', 'low', '3', '4', 'med', 'high', 'acc'], ['high', 'vhigh', '5more', '4', 'med', 'med', 'unacc'], ['low', 'low', '5more', '2', 'med', 'low', 'unacc'], ['vhigh', 'vhigh', '4', '2', 'big', 'high', 'unacc'], ['high', 'low', '3', '2', 'big', 'high', 'unacc']]\n"
     ]
    }
   ],
   "source": [
    "# For task 1, I will convert above contents(readCSV) \n",
    "# into one list(my_list) using 'list' function.\n",
    "with open(r'C:\\Users\\Minyeong\\Desktop\\cars-sample35.txt') as csvfile:\n",
    "    readCSV = csv.reader(csvfile)\n",
    "    my_list = list(readCSV) # I created the list of 35 lists to extract \n",
    "                            # the elements from this my_list\n",
    "                            # to generate the seven required distinct lists.\n",
    "    print(my_list)"
   ]
  },
  {
   "cell_type": "code",
   "execution_count": 7,
   "metadata": {},
   "outputs": [
    {
     "name": "stdout",
     "output_type": "stream",
     "text": [
      "['high', 'high', 'high', 'high', 'vhigh', 'low', 'med', 'low', 'vhigh', 'vhigh', 'low', 'vhigh', 'high', 'low', 'high', 'vhigh', 'med', 'high', 'low', 'low', 'med', 'low', 'vhigh', 'med', 'low', 'vhigh', 'med', 'high', 'low', 'med', 'high', 'high', 'low', 'vhigh', 'high'] "
     ]
    }
   ],
   "source": [
    "# To generate the \"Price\" list, \n",
    "# I extracted the very first element (index 0) from each element list\n",
    "# in my_list. \n",
    "Price = [attribute[0] for attribute in my_list]\n",
    "print(Price, end=' ') #print all on the same line"
   ]
  },
  {
   "cell_type": "code",
   "execution_count": 8,
   "metadata": {},
   "outputs": [
    {
     "name": "stdout",
     "output_type": "stream",
     "text": [
      "['high', 'high', 'high', 'low', 'low', 'high', 'med', 'low', 'low', 'high', 'low', 'low', 'low', 'vhigh', 'low', 'high', 'med', 'low', 'low', 'low', 'high', 'low', 'high', 'vhigh', 'vhigh', 'low', 'vhigh', 'high', 'high', 'high', 'low', 'vhigh', 'low', 'vhigh', 'low'] "
     ]
    }
   ],
   "source": [
    "# To generate the \"Maintenance_cost\" list, \n",
    "# I extracted the second element (index 1) from each element list\n",
    "# in my_list. \n",
    "Maintenance_cost = [attribute[1] for attribute in my_list]\n",
    "print(Maintenance_cost, end=' ') #print all on the same line"
   ]
  },
  {
   "cell_type": "code",
   "execution_count": 9,
   "metadata": {},
   "outputs": [
    {
     "name": "stdout",
     "output_type": "stream",
     "text": [
      "['2', '4', '4', '2', '3', '2', '4', '3', '2', '4', '2', '4', '2', '3', '5more', '2', '2', '5more', '3', '2', '4', '2', '5more', '2', '4', '3', '3', '3', '5more', '5more', '3', '5more', '5more', '4', '3'] "
     ]
    }
   ],
   "source": [
    "# To generate the \"Number_of_doors\" list, \n",
    "# I extracted the third element (index 2) from each element list\n",
    "# in my_list. \n",
    "Number_of_doors = [attribute[2] for attribute in my_list]\n",
    "print(Number_of_doors, end=' ') #print all on the same line"
   ]
  },
  {
   "cell_type": "code",
   "execution_count": 10,
   "metadata": {},
   "outputs": [
    {
     "name": "stdout",
     "output_type": "stream",
     "text": [
      "['4', 'more', 'more', 'more', '2', '2', 'more', '2', '2', '4', '2', 'more', '4', 'more', '2', 'more', '2', '4', 'more', '2', '2', '2', '4', '2', '4', 'more', '4', '4', '2', '2', '4', '4', '2', '2', '2'] "
     ]
    }
   ],
   "source": [
    "# To generate the \"Number_of_passengers\" list, \n",
    "# I extracted the fourth element (index 3) from each element list\n",
    "# in my_list. \n",
    "Number_of_passengers = [attribute[3] for attribute in my_list]\n",
    "print(Number_of_passengers, end=' ') #print all on the same line"
   ]
  },
  {
   "cell_type": "code",
   "execution_count": 11,
   "metadata": {},
   "outputs": [
    {
     "name": "stdout",
     "output_type": "stream",
     "text": [
      "['med', 'small', 'big', 'big', 'med', 'small', 'med', 'big', 'small', 'med', 'med', 'small', 'big', 'big', 'big', 'med', 'small', 'med', 'med', 'big', 'big', 'small', 'med', 'big', 'big', 'big', 'small', 'med', 'big', 'med', 'med', 'med', 'med', 'big', 'big'] "
     ]
    }
   ],
   "source": [
    "# To generate the \"Luggage_capacity\" list, \n",
    "# I extracted the fifth element (index 4) from each element list\n",
    "# in my_list. \n",
    "Luggage_capacity = [attribute[4] for attribute in my_list]\n",
    "print(Luggage_capacity, end=' ') #print all on the same line"
   ]
  },
  {
   "cell_type": "code",
   "execution_count": 12,
   "metadata": {},
   "outputs": [
    {
     "name": "stdout",
     "output_type": "stream",
     "text": [
      "['low', 'high', 'low', 'high', 'med', 'low', 'high', 'med', 'low', 'low', 'med', 'high', 'med', 'low', 'med', 'high', 'low', 'high', 'high', 'med', 'high', 'high', 'med', 'low', 'low', 'low', 'low', 'med', 'low', 'med', 'high', 'med', 'low', 'high', 'high'] "
     ]
    }
   ],
   "source": [
    "# To generate the \"Safety_rating\" list, \n",
    "# I extracted the sixth element (index 5) from each element list\n",
    "# in my_list. \n",
    "Safety_rating = [attribute[5] for attribute in my_list]\n",
    "print(Safety_rating, end=' ') #print all on the same line"
   ]
  },
  {
   "cell_type": "code",
   "execution_count": 13,
   "metadata": {},
   "outputs": [
    {
     "name": "stdout",
     "output_type": "stream",
     "text": [
      "['unacc', 'acc', 'unacc', 'acc', 'unacc', 'unacc', 'vgood', 'unacc', 'unacc', 'unacc', 'unacc', 'acc', 'acc', 'unacc', 'unacc', 'unacc', 'unacc', 'acc', 'vgood', 'unacc', 'unacc', 'unacc', 'unacc', 'unacc', 'unacc', 'unacc', 'unacc', 'unacc', 'unacc', 'unacc', 'acc', 'unacc', 'unacc', 'unacc', 'unacc'] "
     ]
    }
   ],
   "source": [
    "# To generate the \"Classification_of_vehicle\" list, \n",
    "# I extracted the seventh element (index 6) from each element list\n",
    "# in my_list. \n",
    "Classification_of_vehicle = [attribute[6] for attribute in my_list]\n",
    "print(Classification_of_vehicle, end=' ') #print all on the same line"
   ]
  },
  {
   "cell_type": "markdown",
   "metadata": {},
   "source": [
    "# Task 2. Find the list index values of each automobile having a price rating of \"med\". Create a new list with your result. HINT: you can accomplish this task by searching the list of price values you created earlier. Be sure to print your sesults."
   ]
  },
  {
   "cell_type": "code",
   "execution_count": 14,
   "metadata": {},
   "outputs": [],
   "source": [
    "index_values = [s for s, x in enumerate(Price) if x == 'med']\n",
    "# I used enumerate function in Pirce list, \n",
    "# for the each element in Price have an index number starting from 0.\n",
    "# And then I created new list named \"index_values\" to show the\n",
    "# index numbers for the automobiles with price of \"med\"."
   ]
  },
  {
   "cell_type": "code",
   "execution_count": 15,
   "metadata": {},
   "outputs": [
    {
     "name": "stdout",
     "output_type": "stream",
     "text": [
      "[6, 16, 20, 23, 26, 29]\n"
     ]
    }
   ],
   "source": [
    "print(index_values) #Task 2 answer"
   ]
  },
  {
   "cell_type": "markdown",
   "metadata": {},
   "source": [
    "# Task 3. Find the \"number of passengers\" value for each auto having a \"price\" value of \"med\". Create a new list to store your findings and be sure to print your results."
   ]
  },
  {
   "cell_type": "code",
   "execution_count": 16,
   "metadata": {},
   "outputs": [],
   "source": [
    "new_passengers = [Number_of_passengers[s] for s in index_values]\n",
    "# I created the new_passengers list to have the element from\n",
    "# index_values list above,\n",
    "# so that I can show the number of passengers for the same index number\n",
    "# which represents the automobile with price of \"med\"."
   ]
  },
  {
   "cell_type": "code",
   "execution_count": 17,
   "metadata": {},
   "outputs": [
    {
     "name": "stdout",
     "output_type": "stream",
     "text": [
      "['more', '2', '2', '2', '4', '2']\n"
     ]
    }
   ],
   "source": [
    "print(new_passengers) #Task 3 answer."
   ]
  },
  {
   "cell_type": "markdown",
   "metadata": {},
   "source": [
    "# Task 4. Find the index value for each automobile having a price value of \"high\" and a maintenance value that is not \"low\". Create a new list to store your findings and be sure to print your results."
   ]
  },
  {
   "cell_type": "code",
   "execution_count": 18,
   "metadata": {},
   "outputs": [
    {
     "name": "stdout",
     "output_type": "stream",
     "text": [
      "[0, 1, 2, 3, 12, 14, 17, 27, 30, 31, 34]\n",
      "['high', 'high', 'high', 'low', 'low', 'low', 'low', 'high', 'low', 'vhigh', 'low']\n",
      "[0, 1, 2, 7, 9]\n"
     ]
    }
   ],
   "source": [
    "index_values2 = [t for t, u in enumerate(Price) if u == 'high']\n",
    "print(index_values2)   # I generated the list of index values where price is high.\n",
    "new_maintenance_cost = [Maintenance_cost[t] for t in index_values2]\n",
    "print(new_maintenance_cost) # I checked out the maintenance cost for the index from above.\n",
    "index_values3 = [v for v, w in enumerate(new_maintenance_cost) if w != 'low']\n",
    "print(index_values3) #Task 4 answer. I generated the list of index values for each automobile\n",
    "                     # having \"high\" price value and a maintenance cost is Not \"low\". "
   ]
  },
  {
   "cell_type": "markdown",
   "metadata": {},
   "source": [
    "# Task 5. Find the index value for each auto having 2 doors and a luggage value of \"big\". Create a new list to store your findings and be sure to print your results."
   ]
  },
  {
   "cell_type": "code",
   "execution_count": 19,
   "metadata": {},
   "outputs": [
    {
     "name": "stdout",
     "output_type": "stream",
     "text": [
      "[0, 3, 5, 8, 10, 12, 15, 16, 19, 21, 23]\n",
      "['med', 'big', 'small', 'small', 'med', 'big', 'med', 'small', 'big', 'small', 'big']\n",
      "[1, 5, 8, 10]\n"
     ]
    }
   ],
   "source": [
    "index_values4 = [x for x, y in enumerate(Number_of_doors) if y == '2']\n",
    "print(index_values4) # I used the function enumerate to get the index number with 2 doors.\n",
    "new_luggage_capacity = [Luggage_capacity[x] for x in index_values4]\n",
    "print(new_luggage_capacity) # I created the list that extracts autos with 2 doors from the luggage_capacity list.\n",
    "index_values5 = [z for z, i in enumerate(new_luggage_capacity) if i == 'big']\n",
    "print(index_values5) #Task 5 answer. I found the index values meeting the conditions above."
   ]
  },
  {
   "cell_type": "markdown",
   "metadata": {},
   "source": [
    "# Task 6. Create a new list containing the only the integer equivalents of the doors values. Keep in mind that the lists you have created thus far are composed solely of strings. If you find any values of '5more' in your list, convert them to a '5'. After converting the '5more'values to '5', convert all of the items in your list to their numeric equivalent and calculate the average number of doors across all 35 autos using whichever of Python's built in functions you require. Print your result."
   ]
  },
  {
   "cell_type": "code",
   "execution_count": 20,
   "metadata": {},
   "outputs": [
    {
     "name": "stdout",
     "output_type": "stream",
     "text": [
      "[2, 4, 4, 2, 3, 2, 4, 3, 2, 4, 2, 4, 2, 3, 5, 2, 2, 5, 3, 2, 4, 2, 5, 2, 4, 3, 3, 3, 5, 5, 3, 5, 5, 4, 3]\n"
     ]
    }
   ],
   "source": [
    "new_door_list = []\n",
    "for l in Number_of_doors:\n",
    "    if l == '5more':\n",
    "        new_door_list.append(5) #I converted '5more' into '5'.\n",
    "    else:\n",
    "        new_door_list.append(int(l)) #I converted all the elements to integer.\n",
    "\n",
    "print(new_door_list)   #Task 6."
   ]
  },
  {
   "cell_type": "code",
   "execution_count": 21,
   "metadata": {},
   "outputs": [
    {
     "data": {
      "text/plain": [
       "int"
      ]
     },
     "execution_count": 21,
     "metadata": {},
     "output_type": "execute_result"
    }
   ],
   "source": [
    "type(new_door_list[14]) \n",
    "#I chose one element and checked out the data type to make sure it's integer."
   ]
  },
  {
   "cell_type": "code",
   "execution_count": 26,
   "metadata": {},
   "outputs": [
    {
     "name": "stdout",
     "output_type": "stream",
     "text": [
      "35\n"
     ]
    }
   ],
   "source": [
    "# to calculate the average number of doors across all 35 autos, \n",
    "# I will use \"sum\" function to add up all the door numbers, and then\n",
    "# I will use \"len\" function to see how many automobiles are concernd.\n",
    "# Finally, I will divide the sum of all the door numbers by the number of\n",
    "# automobiles to obtain the average number of doors across all 35 autos.\n",
    "total_cars = len(new_door_list) \n",
    "print(total_cars)"
   ]
  },
  {
   "cell_type": "code",
   "execution_count": 28,
   "metadata": {},
   "outputs": [
    {
     "name": "stdout",
     "output_type": "stream",
     "text": [
      "116\n"
     ]
    }
   ],
   "source": [
    "doors = sum(new_door_list) # all the door numbers across 35 autos.\n",
    "print(doors)"
   ]
  },
  {
   "cell_type": "code",
   "execution_count": 30,
   "metadata": {},
   "outputs": [
    {
     "name": "stdout",
     "output_type": "stream",
     "text": [
      "3.3142857142857145\n"
     ]
    }
   ],
   "source": [
    "average_doors = doors/total_cars #getting average door numbers across 35 autos.\n",
    "print(average_doors)"
   ]
  },
  {
   "cell_type": "code",
   "execution_count": null,
   "metadata": {},
   "outputs": [],
   "source": []
  }
 ],
 "metadata": {
  "kernelspec": {
   "display_name": "Python 3",
   "language": "python",
   "name": "python3"
  },
  "language_info": {
   "codemirror_mode": {
    "name": "ipython",
    "version": 3
   },
   "file_extension": ".py",
   "mimetype": "text/x-python",
   "name": "python",
   "nbconvert_exporter": "python",
   "pygments_lexer": "ipython3",
   "version": "3.7.1"
  }
 },
 "nbformat": 4,
 "nbformat_minor": 2
}
