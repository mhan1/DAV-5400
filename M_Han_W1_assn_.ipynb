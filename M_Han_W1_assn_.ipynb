{
 "cells": [
  {
   "cell_type": "markdown",
   "metadata": {},
   "source": [
    "# 1. a web link to my GitHub copy of the data set\n",
    "\n",
    "https://github.com/mhan1/DAV-5400/blob/master/winequality-red.csv\n",
    "\n",
    "\n",
    "\n",
    "\n"
   ]
  },
  {
   "cell_type": "markdown",
   "metadata": {},
   "source": [
    "# 2. a link to the original location of the data\n",
    "\n",
    "https://archive.ics.uci.edu/ml/datasets/Wine+Quality\n",
    "\n"
   ]
  },
  {
   "cell_type": "markdown",
   "metadata": {},
   "source": [
    "# 3. Questions I would be asking and answering by analyzing the data set\n",
    "\n",
    "\n",
    "The dataset of interest is related to red variants of the Portuguese \"Vinho Verde\" wine.\n",
    "The dataset contains 12 fields including fixed acidity, volatile acidity, citric acid, residual sugar, chlorides, free sulfur dioxide, total sulfur dioxide, density, pH, sulphates, alcohol, and the quality(output variable). Questions I would be asking and answering by analyzing the dataset is as below:\n",
    "\n",
    "1. Which features of red wine is correlated to the wine quality?\n",
    "2. From question 1, how is it related? no relationship? strong relationship? \n",
    "3. Which features of red wine are more significantly affecting the wine quality?\n",
    "\n",
    "I would like to know which features of wine influence the quality of wine. I want to be able to predict the wine quality based on a feature or multiple features.\n",
    "To solve these questions, I will perform correlation analysis to see if any two numeric variables have any relationship, especially between the quality of wine(dependent variable) and one of the features(independent variables), so that I can find the independent variable(feature) that can be used as the best predictor of the wine quality(dependent variable). Also, I will conduct multiple regression analysis to identify three independent variables that offer the best prediction for the wine quality when used together in multiple regression.\n",
    "\n"
   ]
  }
 ],
 "metadata": {
  "kernelspec": {
   "display_name": "Python 3",
   "language": "python",
   "name": "python3"
  },
  "language_info": {
   "codemirror_mode": {
    "name": "ipython",
    "version": 3
   },
   "file_extension": ".py",
   "mimetype": "text/x-python",
   "name": "python",
   "nbconvert_exporter": "python",
   "pygments_lexer": "ipython3",
   "version": "3.7.1"
  }
 },
 "nbformat": 4,
 "nbformat_minor": 2
}
