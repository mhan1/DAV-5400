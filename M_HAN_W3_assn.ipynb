{
 "cells": [
  {
   "cell_type": "markdown",
   "metadata": {},
   "source": [
    "# Start by reading the cars-sample35.txt file and re-creating the seven distinct lists of automobile attributes (i.e., Price, Maintenance Cost, Number of Doors, Number of Passengers, Luggage Capacity, Safety Rating, Classfication of Vehicle) we worked with last week. "
   ]
  },
  {
   "cell_type": "code",
   "execution_count": 45,
   "metadata": {},
   "outputs": [],
   "source": [
    "import csv"
   ]
  },
  {
   "cell_type": "code",
   "execution_count": 46,
   "metadata": {},
   "outputs": [
    {
     "name": "stdout",
     "output_type": "stream",
     "text": [
      "['high', 'high', '2', '4', 'med', 'low', 'unacc']\n",
      "['high', 'high', '4', 'more', 'small', 'high', 'acc']\n",
      "['high', 'high', '4', 'more', 'big', 'low', 'unacc']\n",
      "['high', 'low', '2', 'more', 'big', 'high', 'acc']\n",
      "['vhigh', 'low', '3', '2', 'med', 'med', 'unacc']\n",
      "['low', 'high', '2', '2', 'small', 'low', 'unacc']\n",
      "['med', 'med', '4', 'more', 'med', 'high', 'vgood']\n",
      "['low', 'low', '3', '2', 'big', 'med', 'unacc']\n",
      "['vhigh', 'low', '2', '2', 'small', 'low', 'unacc']\n",
      "['vhigh', 'high', '4', '4', 'med', 'low', 'unacc']\n",
      "['low', 'low', '2', '2', 'med', 'med', 'unacc']\n",
      "['vhigh', 'low', '4', 'more', 'small', 'high', 'acc']\n",
      "['high', 'low', '2', '4', 'big', 'med', 'acc']\n",
      "['low', 'vhigh', '3', 'more', 'big', 'low', 'unacc']\n",
      "['high', 'low', '5more', '2', 'big', 'med', 'unacc']\n",
      "['vhigh', 'high', '2', 'more', 'med', 'high', 'unacc']\n",
      "['med', 'med', '2', '2', 'small', 'low', 'unacc']\n",
      "['high', 'low', '5more', '4', 'med', 'high', 'acc']\n",
      "['low', 'low', '3', 'more', 'med', 'high', 'vgood']\n",
      "['low', 'low', '2', '2', 'big', 'med', 'unacc']\n",
      "['med', 'high', '4', '2', 'big', 'high', 'unacc']\n",
      "['low', 'low', '2', '2', 'small', 'high', 'unacc']\n",
      "['vhigh', 'high', '5more', '4', 'med', 'med', 'unacc']\n",
      "['med', 'vhigh', '2', '2', 'big', 'low', 'unacc']\n",
      "['low', 'vhigh', '4', '4', 'big', 'low', 'unacc']\n",
      "['vhigh', 'low', '3', 'more', 'big', 'low', 'unacc']\n",
      "['med', 'vhigh', '3', '4', 'small', 'low', 'unacc']\n",
      "['high', 'high', '3', '4', 'med', 'med', 'unacc']\n",
      "['low', 'high', '5more', '2', 'big', 'low', 'unacc']\n",
      "['med', 'high', '5more', '2', 'med', 'med', 'unacc']\n",
      "['high', 'low', '3', '4', 'med', 'high', 'acc']\n",
      "['high', 'vhigh', '5more', '4', 'med', 'med', 'unacc']\n",
      "['low', 'low', '5more', '2', 'med', 'low', 'unacc']\n",
      "['vhigh', 'vhigh', '4', '2', 'big', 'high', 'unacc']\n",
      "['high', 'low', '3', '2', 'big', 'high', 'unacc']\n"
     ]
    }
   ],
   "source": [
    "with open(r'C:\\Users\\Minyeong\\Desktop\\cars-sample35.txt') as csvfile:\n",
    "    readCSV = csv.reader(csvfile)\n",
    "    for row in readCSV:\n",
    "        print(row)"
   ]
  },
  {
   "cell_type": "markdown",
   "metadata": {},
   "source": [
    "- I created the list of 35 lists by converting above contents(readCSV) into one list (my_list) using \"list\" function, to extract the elements from this my_list to generate the seven required distinct lists, as below."
   ]
  },
  {
   "cell_type": "code",
   "execution_count": 47,
   "metadata": {},
   "outputs": [
    {
     "name": "stdout",
     "output_type": "stream",
     "text": [
      "[['high', 'high', '2', '4', 'med', 'low', 'unacc'], ['high', 'high', '4', 'more', 'small', 'high', 'acc'], ['high', 'high', '4', 'more', 'big', 'low', 'unacc'], ['high', 'low', '2', 'more', 'big', 'high', 'acc'], ['vhigh', 'low', '3', '2', 'med', 'med', 'unacc'], ['low', 'high', '2', '2', 'small', 'low', 'unacc'], ['med', 'med', '4', 'more', 'med', 'high', 'vgood'], ['low', 'low', '3', '2', 'big', 'med', 'unacc'], ['vhigh', 'low', '2', '2', 'small', 'low', 'unacc'], ['vhigh', 'high', '4', '4', 'med', 'low', 'unacc'], ['low', 'low', '2', '2', 'med', 'med', 'unacc'], ['vhigh', 'low', '4', 'more', 'small', 'high', 'acc'], ['high', 'low', '2', '4', 'big', 'med', 'acc'], ['low', 'vhigh', '3', 'more', 'big', 'low', 'unacc'], ['high', 'low', '5more', '2', 'big', 'med', 'unacc'], ['vhigh', 'high', '2', 'more', 'med', 'high', 'unacc'], ['med', 'med', '2', '2', 'small', 'low', 'unacc'], ['high', 'low', '5more', '4', 'med', 'high', 'acc'], ['low', 'low', '3', 'more', 'med', 'high', 'vgood'], ['low', 'low', '2', '2', 'big', 'med', 'unacc'], ['med', 'high', '4', '2', 'big', 'high', 'unacc'], ['low', 'low', '2', '2', 'small', 'high', 'unacc'], ['vhigh', 'high', '5more', '4', 'med', 'med', 'unacc'], ['med', 'vhigh', '2', '2', 'big', 'low', 'unacc'], ['low', 'vhigh', '4', '4', 'big', 'low', 'unacc'], ['vhigh', 'low', '3', 'more', 'big', 'low', 'unacc'], ['med', 'vhigh', '3', '4', 'small', 'low', 'unacc'], ['high', 'high', '3', '4', 'med', 'med', 'unacc'], ['low', 'high', '5more', '2', 'big', 'low', 'unacc'], ['med', 'high', '5more', '2', 'med', 'med', 'unacc'], ['high', 'low', '3', '4', 'med', 'high', 'acc'], ['high', 'vhigh', '5more', '4', 'med', 'med', 'unacc'], ['low', 'low', '5more', '2', 'med', 'low', 'unacc'], ['vhigh', 'vhigh', '4', '2', 'big', 'high', 'unacc'], ['high', 'low', '3', '2', 'big', 'high', 'unacc']]\n"
     ]
    }
   ],
   "source": [
    "with open(r'C:\\Users\\Minyeong\\Desktop\\cars-sample35.txt') as csvfile:\n",
    "    readCSV = csv.reader(csvfile)\n",
    "    my_list = list(readCSV) \n",
    "    print(my_list)"
   ]
  },
  {
   "cell_type": "markdown",
   "metadata": {},
   "source": [
    "- To generate the seven distinct attribute lists, I extracted the respective element (index 0~6) from each element list in my_list as below:"
   ]
  },
  {
   "cell_type": "code",
   "execution_count": 48,
   "metadata": {},
   "outputs": [
    {
     "name": "stdout",
     "output_type": "stream",
     "text": [
      "['high', 'high', 'high', 'high', 'vhigh', 'low', 'med', 'low', 'vhigh', 'vhigh', 'low', 'vhigh', 'high', 'low', 'high', 'vhigh', 'med', 'high', 'low', 'low', 'med', 'low', 'vhigh', 'med', 'low', 'vhigh', 'med', 'high', 'low', 'med', 'high', 'high', 'low', 'vhigh', 'high'] ['high', 'high', 'high', 'low', 'low', 'high', 'med', 'low', 'low', 'high', 'low', 'low', 'low', 'vhigh', 'low', 'high', 'med', 'low', 'low', 'low', 'high', 'low', 'high', 'vhigh', 'vhigh', 'low', 'vhigh', 'high', 'high', 'high', 'low', 'vhigh', 'low', 'vhigh', 'low'] ['2', '4', '4', '2', '3', '2', '4', '3', '2', '4', '2', '4', '2', '3', '5more', '2', '2', '5more', '3', '2', '4', '2', '5more', '2', '4', '3', '3', '3', '5more', '5more', '3', '5more', '5more', '4', '3'] ['4', 'more', 'more', 'more', '2', '2', 'more', '2', '2', '4', '2', 'more', '4', 'more', '2', 'more', '2', '4', 'more', '2', '2', '2', '4', '2', '4', 'more', '4', '4', '2', '2', '4', '4', '2', '2', '2'] ['med', 'small', 'big', 'big', 'med', 'small', 'med', 'big', 'small', 'med', 'med', 'small', 'big', 'big', 'big', 'med', 'small', 'med', 'med', 'big', 'big', 'small', 'med', 'big', 'big', 'big', 'small', 'med', 'big', 'med', 'med', 'med', 'med', 'big', 'big'] ['low', 'high', 'low', 'high', 'med', 'low', 'high', 'med', 'low', 'low', 'med', 'high', 'med', 'low', 'med', 'high', 'low', 'high', 'high', 'med', 'high', 'high', 'med', 'low', 'low', 'low', 'low', 'med', 'low', 'med', 'high', 'med', 'low', 'high', 'high'] ['unacc', 'acc', 'unacc', 'acc', 'unacc', 'unacc', 'vgood', 'unacc', 'unacc', 'unacc', 'unacc', 'acc', 'acc', 'unacc', 'unacc', 'unacc', 'unacc', 'acc', 'vgood', 'unacc', 'unacc', 'unacc', 'unacc', 'unacc', 'unacc', 'unacc', 'unacc', 'unacc', 'unacc', 'unacc', 'acc', 'unacc', 'unacc', 'unacc', 'unacc'] "
     ]
    }
   ],
   "source": [
    "Price = [attribute[0] for attribute in my_list]\n",
    "print(Price, end=' ') #print all on the same line\n",
    "\n",
    "Maintenance_cost = [attribute[1] for attribute in my_list]\n",
    "print(Maintenance_cost, end=' ') #print all on the same line\n",
    "\n",
    "Number_of_doors = [attribute[2] for attribute in my_list]\n",
    "print(Number_of_doors, end=' ') #print all on the same line\n",
    "\n",
    "Number_of_passengers = [attribute[3] for attribute in my_list]\n",
    "print(Number_of_passengers, end=' ') #print all on the same line\n",
    "\n",
    "Luggage_capacity = [attribute[4] for attribute in my_list]\n",
    "print(Luggage_capacity, end=' ') #print all on the same line\n",
    "\n",
    "Safety_rating = [attribute[5] for attribute in my_list]\n",
    "print(Safety_rating, end=' ') #print all on the same line\n",
    "\n",
    "Classification_of_vehicle = [attribute[6] for attribute in my_list]\n",
    "print(Classification_of_vehicle, end=' ') #print all on the same line"
   ]
  },
  {
   "cell_type": "markdown",
   "metadata": {},
   "source": [
    "# Task 1. Find the list index values of each automobile having a price rating of \"med\". You are required to do this using a list comprehension instead of a basic for or while loop. The list comprehension should create a new list containing your result. Be sure to print your results to the screen.\n"
   ]
  },
  {
   "cell_type": "code",
   "execution_count": 49,
   "metadata": {},
   "outputs": [
    {
     "name": "stdout",
     "output_type": "stream",
     "text": [
      "[6, 16, 20, 23, 26, 29]\n"
     ]
    }
   ],
   "source": [
    "index_values = [a for a, b in enumerate(Price) if b == 'med']\n",
    "print(index_values)"
   ]
  },
  {
   "cell_type": "markdown",
   "metadata": {},
   "source": [
    "- In the code above, I used \"enumerate\" function in Price list,\n",
    "so that each element in Price has an index number starting from 0.\n",
    "And then I created new list named \"index_values\" by using a list comprehension, to show the index numbers for the automobiles having a price rating of \"med\"."
   ]
  },
  {
   "cell_type": "markdown",
   "metadata": {},
   "source": [
    "# Task 2. Find the \"number of passengers\" value for each auto having a \"price\" value of \"med\" using a list comprehension instead of a basic for or while loop. The list comprehension should create a new list containing your findings. Be sure to print your results to the screen."
   ]
  },
  {
   "cell_type": "code",
   "execution_count": 50,
   "metadata": {},
   "outputs": [
    {
     "name": "stdout",
     "output_type": "stream",
     "text": [
      "['more', '2', '2', '2', '4', '2']\n"
     ]
    }
   ],
   "source": [
    "new_passenger_number = [Number_of_passengers[c] for c in index_values]\n",
    "print(new_passenger_number)"
   ]
  },
  {
   "cell_type": "markdown",
   "metadata": {},
   "source": [
    "- I created the new_passenger_number list to show the number of passengers for the same index number which represents the automobile with price of \"med\"."
   ]
  },
  {
   "cell_type": "markdown",
   "metadata": {},
   "source": [
    "# Task 3. Find the index value for each automobile having a price value of \"high\" and a maintenance value that is not \"low\" using a list comprehension. The list comprehension should create a new list containing your findings. Be sure to print your results to the screen."
   ]
  },
  {
   "cell_type": "code",
   "execution_count": 51,
   "metadata": {},
   "outputs": [
    {
     "name": "stdout",
     "output_type": "stream",
     "text": [
      "[0, 1, 2, 3, 12, 14, 17, 27, 30, 31, 34]\n",
      "['high', 'high', 'high', 'low', 'low', 'low', 'low', 'high', 'low', 'vhigh', 'low']\n",
      "[0, 1, 2, 27, 31]\n"
     ]
    }
   ],
   "source": [
    "index_values2 = [d for d, e in enumerate(Price) if e == \"high\"]\n",
    "print(index_values2)\n",
    "\n",
    "new_maintenance_cost = [Maintenance_cost[f] for f in index_values2]\n",
    "print(new_maintenance_cost)\n",
    "\n",
    "zipped1 = zip(index_values2, new_maintenance_cost)\n",
    "new_list1 = list(zipped1)\n",
    "\n",
    "task3_answer = [g[0] for g in new_list1 if g[1] != \"low\"]\n",
    "print(task3_answer)"
   ]
  },
  {
   "cell_type": "markdown",
   "metadata": {},
   "source": [
    "- I generated the list of index values where price is \"high\" by using \"enumerate\" function. And then I created the new list of the maintenance cost for automobile with price of \"high\"(the same index value from index_values2 above). After that, I generated the list of tuples containing index value and maintence cost for automobile having \"high\" price value, by using \"zip\" function.\n",
    "Finally, I extracted the index values from the new_list1 where the maintenance cost is Not \"low\"."
   ]
  },
  {
   "cell_type": "markdown",
   "metadata": {},
   "source": [
    "# Task 4. Implement the same logic as a nested for loop using a list comprehension. Apply your list comprehension to the \"nlist\" list of lists shown below. Be sure to print your newly created list to the screen."
   ]
  },
  {
   "cell_type": "code",
   "execution_count": 52,
   "metadata": {},
   "outputs": [
    {
     "name": "stdout",
     "output_type": "stream",
     "text": [
      "[1, 2, 3, 'A', 'B', 'C', 4, 5, 'D', 'E']\n"
     ]
    }
   ],
   "source": [
    "nlist = [[1,2,3], ['A', 'B', 'C'], [4,5], ['D', 'E']]\n",
    "flist = []\n",
    "for x in nlist:\n",
    "    for y in x:\n",
    "        flist.append(y)\n",
    "print(flist)"
   ]
  },
  {
   "cell_type": "code",
   "execution_count": 53,
   "metadata": {},
   "outputs": [
    {
     "name": "stdout",
     "output_type": "stream",
     "text": [
      "[1, 2, 3, 'A', 'B', 'C', 4, 5, 'D', 'E']\n"
     ]
    }
   ],
   "source": [
    "new_flist = [y for x in nlist for y in x]\n",
    "print(new_flist) #Task 4 answer"
   ]
  },
  {
   "cell_type": "markdown",
   "metadata": {},
   "source": [
    "- I created new_flist as above, using a list comprehension, returning the same output list as the one generated by a nested for loop."
   ]
  },
  {
   "cell_type": "markdown",
   "metadata": {},
   "source": [
    "# Task 5. Create a user defined function that accepts as input one of the seven automobile attribute lists as well as an integer value and returns a Python dict object. The integer value accepted as a parameter by your function will represent the exact number of items you are to use from the list for purposes of creating the new dict object. "
   ]
  },
  {
   "cell_type": "code",
   "execution_count": 54,
   "metadata": {},
   "outputs": [],
   "source": [
    "def makedict(mylist, x):\n",
    "    newdict = {str('A'+str(x)):mylist[x] for x in range(x)}\n",
    "    try:\n",
    "        return(newdict)\n",
    "    except IndexError:\n",
    "        return x\n",
    "\n"
   ]
  },
  {
   "cell_type": "markdown",
   "metadata": {},
   "source": [
    "- To handle the IndexError caused by x integer input value exceeding the length of mylist, I used \"try\" and \"except\" blocks as above."
   ]
  },
  {
   "cell_type": "code",
   "execution_count": 55,
   "metadata": {},
   "outputs": [
    {
     "data": {
      "text/plain": [
       "{'A0': 'med', 'A1': 'small', 'A2': 'big', 'A3': 'big', 'A4': 'med'}"
      ]
     },
     "execution_count": 55,
     "metadata": {},
     "output_type": "execute_result"
    }
   ],
   "source": [
    "makedict(Luggage_capacity, 5)"
   ]
  },
  {
   "cell_type": "markdown",
   "metadata": {},
   "source": [
    "- Above output is returned when I input \"Luggage_capacity\" list and integer 5, which generates the dictionary which has the first five elements from the \"Luggage_capacity\" list, with the key values of A0~A4 for respective element."
   ]
  },
  {
   "cell_type": "code",
   "execution_count": 56,
   "metadata": {},
   "outputs": [],
   "source": [
    "Luggage_dict = makedict(Luggage_capacity, 7) \n",
    "#I named the output dictionary \"Luggage_dict\" \n",
    "#to extract the necessary \"value\" using the \"key\"."
   ]
  },
  {
   "cell_type": "code",
   "execution_count": 57,
   "metadata": {},
   "outputs": [
    {
     "name": "stdout",
     "output_type": "stream",
     "text": [
      "{'A0': 'med', 'A1': 'small', 'A2': 'big', 'A3': 'big', 'A4': 'med', 'A5': 'small', 'A6': 'med'}\n"
     ]
    }
   ],
   "source": [
    "print(Luggage_dict) #dict object containing the first seven elements of the \"Luggage_capacity\" list."
   ]
  },
  {
   "cell_type": "code",
   "execution_count": 58,
   "metadata": {},
   "outputs": [
    {
     "data": {
      "text/plain": [
       "'med'"
      ]
     },
     "execution_count": 58,
     "metadata": {},
     "output_type": "execute_result"
    }
   ],
   "source": [
    "Luggage_dict['A4']"
   ]
  },
  {
   "cell_type": "markdown",
   "metadata": {},
   "source": [
    "- Based on the output above, the luggage capacity for the auto with key value of 'A4' is 'med'."
   ]
  },
  {
   "cell_type": "code",
   "execution_count": 59,
   "metadata": {},
   "outputs": [],
   "source": [
    "Price_dict = makedict(Price, 7) \n",
    "#I naemd the output dictionary \"Price_dict\" \n",
    "#to extract the necessary \"value\" using the \"key\"."
   ]
  },
  {
   "cell_type": "code",
   "execution_count": 60,
   "metadata": {},
   "outputs": [
    {
     "name": "stdout",
     "output_type": "stream",
     "text": [
      "{'A0': 'high', 'A1': 'high', 'A2': 'high', 'A3': 'high', 'A4': 'vhigh', 'A5': 'low', 'A6': 'med'}\n"
     ]
    }
   ],
   "source": [
    "print(Price_dict) #dict object containing the first seven elements of the \"Price\" list."
   ]
  },
  {
   "cell_type": "code",
   "execution_count": 61,
   "metadata": {},
   "outputs": [
    {
     "data": {
      "text/plain": [
       "'vhigh'"
      ]
     },
     "execution_count": 61,
     "metadata": {},
     "output_type": "execute_result"
    }
   ],
   "source": [
    "Price_dict['A4']"
   ]
  },
  {
   "cell_type": "markdown",
   "metadata": {},
   "source": [
    "- Based on the output above, the price for the auto with key value of 'A4' is 'vhigh'."
   ]
  },
  {
   "cell_type": "code",
   "execution_count": null,
   "metadata": {},
   "outputs": [],
   "source": []
  }
 ],
 "metadata": {
  "kernelspec": {
   "display_name": "Python 3",
   "language": "python",
   "name": "python3"
  },
  "language_info": {
   "codemirror_mode": {
    "name": "ipython",
    "version": 3
   },
   "file_extension": ".py",
   "mimetype": "text/x-python",
   "name": "python",
   "nbconvert_exporter": "python",
   "pygments_lexer": "ipython3",
   "version": "3.7.1"
  }
 },
 "nbformat": 4,
 "nbformat_minor": 2
}
