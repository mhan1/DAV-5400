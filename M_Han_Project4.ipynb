{
 "cells": [
  {
   "cell_type": "markdown",
   "metadata": {},
   "source": [
    "# Task: In this Project, we’ll use scikit-learn to answer the question:<br>“Which other attribute (i.e., aside from the poisonous/edible indicator) or attributes are the best predictors of whether a particular mushroom is poisonous or edible?”"
   ]
  },
  {
   "cell_type": "markdown",
   "metadata": {},
   "source": [
    "## Phase I: Data Acquisition, Data Preparation & Exploratory Data Analysis\n",
    "- 1) First study the dataset and the associated description of the data (i.e. “data dictionary”).<br>\n",
    "- 2) Create a pandas DataFrame with a subset of the columns in the dataset. You should include the column that indicates edible or poisonous, the column that includes odor, and at least two other columns of your choosing.<br>\n",
    "- 3) Add meaningful names for each column in the DataFrame you created to store your subset.<br>\n",
    "- 4) Convert the “e”/”p” indicators in the first column to digits: for example, the “e” might become 0 and “p” might become 1. For each of the other columns in your DataFrame create a set of dummy variables. This is necessary because your downstream processing in Project 4 using scikit-learn requires that values be stored as numerics. See the pandas get_dummies() method for one possible approach to doing this.<br>\n",
    "- 5) Perform exploratory data analysis: show the distribution of data for each of the columns you selected, and show plots for edible/poisonous vs. odor as well as the other columns that you selected. It is up to you to decide which types of plots to use for these tasks. Include text describing your EDA findings.<br>\n",
    "- 6) Include some text describing your preliminary conclusions about whether any of the other columns you’ve included in your subset (i.e., aside from the poisonous/edible indicator) could be helpful in predicting if a specific mushroom is edible or poisonous."
   ]
  },
  {
   "cell_type": "markdown",
   "metadata": {},
   "source": [
    "## Phase II: Build Predictive Models\n",
    "- 1) Start with the mushroom data (including the dummy variables) in the pandas DataFrame that you constructed in\n",
    "Phase I.<br>\n",
    "- 2) Use scikit-learn to determine which of the predictor columns that you selected (odor and the other columns of\n",
    "your choice) most accurately predicts whether or not a mushroom is poisonous. How you go about doing this\n",
    "with scikit-learn is up to you as a practitioner of data analytics.<br>\n",
    "- 3) Clearly state your conclusions along with any recommendations for further analysis."
   ]
  },
  {
   "cell_type": "markdown",
   "metadata": {},
   "source": [
    "## My approch to this proejct: <br>1.Loading the data/Data wrangling<br>2.EDA<br>3.Building predictive models<br>4.Evaluating the models<br>5.Conclusion/Recommendation for further analysis"
   ]
  },
  {
   "cell_type": "markdown",
   "metadata": {},
   "source": [
    "### Phase I - 1) First study the dataset and the associated description of the data (i.e. “data dictionary”)."
   ]
  },
  {
   "cell_type": "markdown",
   "metadata": {},
   "source": [
    "#### Data Set Information: https://archive.ics.uci.edu/ml/datasets/mushroom\n",
    "This data set includes descriptions of hypothetical samples corresponding to 23 species of gilled mushrooms in the Agaricus and Lepiota Family. Each species is identified as definitely edible, definitely poisonous, or of unknown edibility and not recommended. This latter class was combined with the poisonous one. The Guide clearly states that there is no simple rule for determining the edibility of a mushroom; no rule like ``leaflets three, let it be'' for Poisonous Oak and Ivy.\n",
    "\n",
    "\n",
    "#### Attribute Information: the very first column, edibility, either p or e, was not included in the attribute information.\n",
    "1. cap-shape: bell=b,conical=c,convex=x,flat=f, knobbed=k,sunken=s \n",
    "2. cap-surface: fibrous=f,grooves=g,scaly=y,smooth=s \n",
    "3. cap-color: brown=n,buff=b,cinnamon=c,gray=g,green=r, pink=p,purple=u,red=e,white=w,yellow=y \n",
    "4. bruises?: bruises=t,no=f \n",
    "5. odor: almond=a,anise=l,creosote=c,fishy=y,foul=f, musty=m,none=n,pungent=p,spicy=s \n",
    "6. gill-attachment: attached=a,descending=d,free=f,notched=n \n",
    "7. gill-spacing: close=c,crowded=w,distant=d \n",
    "8. gill-size: broad=b,narrow=n \n",
    "9. gill-color: black=k,brown=n,buff=b,chocolate=h,gray=g, green=r,orange=o,pink=p,purple=u,red=e, white=w,yellow=y \n",
    "10. stalk-shape: enlarging=e,tapering=t \n",
    "11. stalk-root: bulbous=b,club=c,cup=u,equal=e, rhizomorphs=z,rooted=r,missing=? \n",
    "12. stalk-surface-above-ring: fibrous=f,scaly=y,silky=k,smooth=s \n",
    "13. stalk-surface-below-ring: fibrous=f,scaly=y,silky=k,smooth=s \n",
    "14. stalk-color-above-ring: brown=n,buff=b,cinnamon=c,gray=g,orange=o, pink=p,red=e,white=w,yellow=y \n",
    "15. stalk-color-below-ring: brown=n,buff=b,cinnamon=c,gray=g,orange=o, pink=p,red=e,white=w,yellow=y \n",
    "16. veil-type: partial=p,universal=u \n",
    "17. veil-color: brown=n,orange=o,white=w,yellow=y \n",
    "18. ring-number: none=n,one=o,two=t \n",
    "19. ring-type: cobwebby=c,evanescent=e,flaring=f,large=l, none=n,pendant=p,sheathing=s,zone=z \n",
    "20. spore-print-color: black=k,brown=n,buff=b,chocolate=h,green=r, orange=o,purple=u,white=w,yellow=y \n",
    "21. population: abundant=a,clustered=c,numerous=n, scattered=s,several=v,solitary=y \n",
    "22. habitat: grasses=g,leaves=l,meadows=m,paths=p, urban=u,waste=w,woods=d"
   ]
  },
  {
   "cell_type": "markdown",
   "metadata": {},
   "source": [
    "### Phase I - 2) Create a pandas DataFrame with a subset of the columns in the dataset. You should include the column that indicates edible or poisonous, the column that includes odor, and at least two other columns of your choosing."
   ]
  },
  {
   "cell_type": "code",
   "execution_count": 1,
   "metadata": {},
   "outputs": [],
   "source": [
    "#importing necessary libraries\n",
    "import pandas as pd\n",
    "import numpy as np\n",
    "import seaborn as sns\n",
    "import matplotlib.pyplot as plt"
   ]
  },
  {
   "cell_type": "code",
   "execution_count": 2,
   "metadata": {},
   "outputs": [],
   "source": [
    "#loading the data\n",
    "df = pd.read_csv(\"https://raw.githubusercontent.com/mhan1/analytical-programming/master/mushroom.csv\", \n",
    "                 names=['edibility', \n",
    "                        'cap_shape', \n",
    "                        'cap_surface',\n",
    "                        'cap_color', \n",
    "                        'bruises', \n",
    "                        'odor', \n",
    "                        'gill_attachment',\n",
    "                        'gill_spacing',\n",
    "                        'gill_size',\n",
    "                        'gill_color',\n",
    "                        'stalk_shape',\n",
    "                        'stalk_root',\n",
    "                        'stalk_surface_above_ring',\n",
    "                        'stalk_surface_below_ring',\n",
    "                        'stalk_color_above_ring',\n",
    "                        'stalk-color_below_ring',\n",
    "                        'veil_type',\n",
    "                        'veil_color',\n",
    "                        'ring_number',\n",
    "                        'ring_type',\n",
    "                        'spore_print_color',\n",
    "                        'population',\n",
    "                        'habitat'                   \n",
    "                       ])"
   ]
  },
  {
   "cell_type": "code",
   "execution_count": 3,
   "metadata": {},
   "outputs": [
    {
     "data": {
      "text/html": [
       "<div>\n",
       "<style scoped>\n",
       "    .dataframe tbody tr th:only-of-type {\n",
       "        vertical-align: middle;\n",
       "    }\n",
       "\n",
       "    .dataframe tbody tr th {\n",
       "        vertical-align: top;\n",
       "    }\n",
       "\n",
       "    .dataframe thead th {\n",
       "        text-align: right;\n",
       "    }\n",
       "</style>\n",
       "<table border=\"1\" class=\"dataframe\">\n",
       "  <thead>\n",
       "    <tr style=\"text-align: right;\">\n",
       "      <th></th>\n",
       "      <th>edibility</th>\n",
       "      <th>cap_shape</th>\n",
       "      <th>cap_surface</th>\n",
       "      <th>cap_color</th>\n",
       "      <th>bruises</th>\n",
       "      <th>odor</th>\n",
       "      <th>gill_attachment</th>\n",
       "      <th>gill_spacing</th>\n",
       "      <th>gill_size</th>\n",
       "      <th>gill_color</th>\n",
       "      <th>...</th>\n",
       "      <th>stalk_surface_below_ring</th>\n",
       "      <th>stalk_color_above_ring</th>\n",
       "      <th>stalk-color_below_ring</th>\n",
       "      <th>veil_type</th>\n",
       "      <th>veil_color</th>\n",
       "      <th>ring_number</th>\n",
       "      <th>ring_type</th>\n",
       "      <th>spore_print_color</th>\n",
       "      <th>population</th>\n",
       "      <th>habitat</th>\n",
       "    </tr>\n",
       "  </thead>\n",
       "  <tbody>\n",
       "    <tr>\n",
       "      <th>0</th>\n",
       "      <td>p</td>\n",
       "      <td>x</td>\n",
       "      <td>s</td>\n",
       "      <td>n</td>\n",
       "      <td>t</td>\n",
       "      <td>p</td>\n",
       "      <td>f</td>\n",
       "      <td>c</td>\n",
       "      <td>n</td>\n",
       "      <td>k</td>\n",
       "      <td>...</td>\n",
       "      <td>s</td>\n",
       "      <td>w</td>\n",
       "      <td>w</td>\n",
       "      <td>p</td>\n",
       "      <td>w</td>\n",
       "      <td>o</td>\n",
       "      <td>p</td>\n",
       "      <td>k</td>\n",
       "      <td>s</td>\n",
       "      <td>u</td>\n",
       "    </tr>\n",
       "    <tr>\n",
       "      <th>1</th>\n",
       "      <td>e</td>\n",
       "      <td>x</td>\n",
       "      <td>s</td>\n",
       "      <td>y</td>\n",
       "      <td>t</td>\n",
       "      <td>a</td>\n",
       "      <td>f</td>\n",
       "      <td>c</td>\n",
       "      <td>b</td>\n",
       "      <td>k</td>\n",
       "      <td>...</td>\n",
       "      <td>s</td>\n",
       "      <td>w</td>\n",
       "      <td>w</td>\n",
       "      <td>p</td>\n",
       "      <td>w</td>\n",
       "      <td>o</td>\n",
       "      <td>p</td>\n",
       "      <td>n</td>\n",
       "      <td>n</td>\n",
       "      <td>g</td>\n",
       "    </tr>\n",
       "    <tr>\n",
       "      <th>2</th>\n",
       "      <td>e</td>\n",
       "      <td>b</td>\n",
       "      <td>s</td>\n",
       "      <td>w</td>\n",
       "      <td>t</td>\n",
       "      <td>l</td>\n",
       "      <td>f</td>\n",
       "      <td>c</td>\n",
       "      <td>b</td>\n",
       "      <td>n</td>\n",
       "      <td>...</td>\n",
       "      <td>s</td>\n",
       "      <td>w</td>\n",
       "      <td>w</td>\n",
       "      <td>p</td>\n",
       "      <td>w</td>\n",
       "      <td>o</td>\n",
       "      <td>p</td>\n",
       "      <td>n</td>\n",
       "      <td>n</td>\n",
       "      <td>m</td>\n",
       "    </tr>\n",
       "    <tr>\n",
       "      <th>3</th>\n",
       "      <td>p</td>\n",
       "      <td>x</td>\n",
       "      <td>y</td>\n",
       "      <td>w</td>\n",
       "      <td>t</td>\n",
       "      <td>p</td>\n",
       "      <td>f</td>\n",
       "      <td>c</td>\n",
       "      <td>n</td>\n",
       "      <td>n</td>\n",
       "      <td>...</td>\n",
       "      <td>s</td>\n",
       "      <td>w</td>\n",
       "      <td>w</td>\n",
       "      <td>p</td>\n",
       "      <td>w</td>\n",
       "      <td>o</td>\n",
       "      <td>p</td>\n",
       "      <td>k</td>\n",
       "      <td>s</td>\n",
       "      <td>u</td>\n",
       "    </tr>\n",
       "    <tr>\n",
       "      <th>4</th>\n",
       "      <td>e</td>\n",
       "      <td>x</td>\n",
       "      <td>s</td>\n",
       "      <td>g</td>\n",
       "      <td>f</td>\n",
       "      <td>n</td>\n",
       "      <td>f</td>\n",
       "      <td>w</td>\n",
       "      <td>b</td>\n",
       "      <td>k</td>\n",
       "      <td>...</td>\n",
       "      <td>s</td>\n",
       "      <td>w</td>\n",
       "      <td>w</td>\n",
       "      <td>p</td>\n",
       "      <td>w</td>\n",
       "      <td>o</td>\n",
       "      <td>e</td>\n",
       "      <td>n</td>\n",
       "      <td>a</td>\n",
       "      <td>g</td>\n",
       "    </tr>\n",
       "  </tbody>\n",
       "</table>\n",
       "<p>5 rows × 23 columns</p>\n",
       "</div>"
      ],
      "text/plain": [
       "  edibility cap_shape cap_surface cap_color bruises odor gill_attachment  \\\n",
       "0         p         x           s         n       t    p               f   \n",
       "1         e         x           s         y       t    a               f   \n",
       "2         e         b           s         w       t    l               f   \n",
       "3         p         x           y         w       t    p               f   \n",
       "4         e         x           s         g       f    n               f   \n",
       "\n",
       "  gill_spacing gill_size gill_color   ...   stalk_surface_below_ring  \\\n",
       "0            c         n          k   ...                          s   \n",
       "1            c         b          k   ...                          s   \n",
       "2            c         b          n   ...                          s   \n",
       "3            c         n          n   ...                          s   \n",
       "4            w         b          k   ...                          s   \n",
       "\n",
       "  stalk_color_above_ring stalk-color_below_ring veil_type veil_color  \\\n",
       "0                      w                      w         p          w   \n",
       "1                      w                      w         p          w   \n",
       "2                      w                      w         p          w   \n",
       "3                      w                      w         p          w   \n",
       "4                      w                      w         p          w   \n",
       "\n",
       "  ring_number ring_type spore_print_color population habitat  \n",
       "0           o         p                 k          s       u  \n",
       "1           o         p                 n          n       g  \n",
       "2           o         p                 n          n       m  \n",
       "3           o         p                 k          s       u  \n",
       "4           o         e                 n          a       g  \n",
       "\n",
       "[5 rows x 23 columns]"
      ]
     },
     "execution_count": 3,
     "metadata": {},
     "output_type": "execute_result"
    }
   ],
   "source": [
    "#sanity check\n",
    "df.head()"
   ]
  },
  {
   "cell_type": "code",
   "execution_count": 4,
   "metadata": {},
   "outputs": [
    {
     "data": {
      "text/plain": [
       "(8124, 23)"
      ]
     },
     "execution_count": 4,
     "metadata": {},
     "output_type": "execute_result"
    }
   ],
   "source": [
    "#checking the number of rows and columns\n",
    "df.shape"
   ]
  },
  {
   "cell_type": "code",
   "execution_count": 5,
   "metadata": {},
   "outputs": [
    {
     "data": {
      "text/plain": [
       "Index(['edibility', 'cap_shape', 'cap_surface', 'cap_color', 'bruises', 'odor',\n",
       "       'gill_attachment', 'gill_spacing', 'gill_size', 'gill_color',\n",
       "       'stalk_shape', 'stalk_root', 'stalk_surface_above_ring',\n",
       "       'stalk_surface_below_ring', 'stalk_color_above_ring',\n",
       "       'stalk-color_below_ring', 'veil_type', 'veil_color', 'ring_number',\n",
       "       'ring_type', 'spore_print_color', 'population', 'habitat'],\n",
       "      dtype='object')"
      ]
     },
     "execution_count": 5,
     "metadata": {},
     "output_type": "execute_result"
    }
   ],
   "source": [
    "#checking the columns\n",
    "df.columns"
   ]
  },
  {
   "cell_type": "markdown",
   "metadata": {},
   "source": [
    "According to WildFoodUK(https://www.wildfooduk.com/articles/how-to-tell-the-difference-between-poisonous-and-edible-mushrooms/), we should avoid mushrooms with white gills, a skirt or ring on the stem and a bulbous or sack like base called a volva. Also, they say we should avoide mushrooms with red on the cap or stem. <br> Hence, I will choose 'cap_color' and 'gill_color' as the other two attributes besides the 'odor' to predict the mushroom's edibility for this project."
   ]
  },
  {
   "cell_type": "code",
   "execution_count": 6,
   "metadata": {},
   "outputs": [
    {
     "data": {
      "text/html": [
       "<div>\n",
       "<style scoped>\n",
       "    .dataframe tbody tr th:only-of-type {\n",
       "        vertical-align: middle;\n",
       "    }\n",
       "\n",
       "    .dataframe tbody tr th {\n",
       "        vertical-align: top;\n",
       "    }\n",
       "\n",
       "    .dataframe thead th {\n",
       "        text-align: right;\n",
       "    }\n",
       "</style>\n",
       "<table border=\"1\" class=\"dataframe\">\n",
       "  <thead>\n",
       "    <tr style=\"text-align: right;\">\n",
       "      <th></th>\n",
       "      <th>edibility</th>\n",
       "      <th>odor</th>\n",
       "      <th>cap_color</th>\n",
       "      <th>gill_color</th>\n",
       "    </tr>\n",
       "  </thead>\n",
       "  <tbody>\n",
       "    <tr>\n",
       "      <th>0</th>\n",
       "      <td>p</td>\n",
       "      <td>p</td>\n",
       "      <td>n</td>\n",
       "      <td>k</td>\n",
       "    </tr>\n",
       "    <tr>\n",
       "      <th>1</th>\n",
       "      <td>e</td>\n",
       "      <td>a</td>\n",
       "      <td>y</td>\n",
       "      <td>k</td>\n",
       "    </tr>\n",
       "    <tr>\n",
       "      <th>2</th>\n",
       "      <td>e</td>\n",
       "      <td>l</td>\n",
       "      <td>w</td>\n",
       "      <td>n</td>\n",
       "    </tr>\n",
       "    <tr>\n",
       "      <th>3</th>\n",
       "      <td>p</td>\n",
       "      <td>p</td>\n",
       "      <td>w</td>\n",
       "      <td>n</td>\n",
       "    </tr>\n",
       "    <tr>\n",
       "      <th>4</th>\n",
       "      <td>e</td>\n",
       "      <td>n</td>\n",
       "      <td>g</td>\n",
       "      <td>k</td>\n",
       "    </tr>\n",
       "  </tbody>\n",
       "</table>\n",
       "</div>"
      ],
      "text/plain": [
       "  edibility odor cap_color gill_color\n",
       "0         p    p         n          k\n",
       "1         e    a         y          k\n",
       "2         e    l         w          n\n",
       "3         p    p         w          n\n",
       "4         e    n         g          k"
      ]
     },
     "execution_count": 6,
     "metadata": {},
     "output_type": "execute_result"
    }
   ],
   "source": [
    "#creating a pandas DataFrame with a subset of the columns in the dataset.\n",
    "df1 = df[['edibility','odor','cap_color','gill_color']]\n",
    "df1.head()"
   ]
  },
  {
   "cell_type": "code",
   "execution_count": 7,
   "metadata": {},
   "outputs": [
    {
     "data": {
      "text/plain": [
       "pandas.core.frame.DataFrame"
      ]
     },
     "execution_count": 7,
     "metadata": {},
     "output_type": "execute_result"
    }
   ],
   "source": [
    "#checking the data type\n",
    "type(df1)"
   ]
  },
  {
   "cell_type": "code",
   "execution_count": 8,
   "metadata": {},
   "outputs": [
    {
     "data": {
      "text/plain": [
       "(8124, 4)"
      ]
     },
     "execution_count": 8,
     "metadata": {},
     "output_type": "execute_result"
    }
   ],
   "source": [
    "#checking the number of rows and columns\n",
    "df1.shape"
   ]
  },
  {
   "cell_type": "code",
   "execution_count": 9,
   "metadata": {},
   "outputs": [
    {
     "data": {
      "text/plain": [
       "Index(['edibility', 'odor', 'cap_color', 'gill_color'], dtype='object')"
      ]
     },
     "execution_count": 9,
     "metadata": {},
     "output_type": "execute_result"
    }
   ],
   "source": [
    "#checking the columns\n",
    "df1.columns"
   ]
  },
  {
   "cell_type": "code",
   "execution_count": 10,
   "metadata": {},
   "outputs": [
    {
     "data": {
      "text/html": [
       "<div>\n",
       "<style scoped>\n",
       "    .dataframe tbody tr th:only-of-type {\n",
       "        vertical-align: middle;\n",
       "    }\n",
       "\n",
       "    .dataframe tbody tr th {\n",
       "        vertical-align: top;\n",
       "    }\n",
       "\n",
       "    .dataframe thead th {\n",
       "        text-align: right;\n",
       "    }\n",
       "</style>\n",
       "<table border=\"1\" class=\"dataframe\">\n",
       "  <thead>\n",
       "    <tr style=\"text-align: right;\">\n",
       "      <th></th>\n",
       "      <th>edibility</th>\n",
       "      <th>odor</th>\n",
       "      <th>cap_color</th>\n",
       "      <th>gill_color</th>\n",
       "    </tr>\n",
       "  </thead>\n",
       "  <tbody>\n",
       "    <tr>\n",
       "      <th>count</th>\n",
       "      <td>8124</td>\n",
       "      <td>8124</td>\n",
       "      <td>8124</td>\n",
       "      <td>8124</td>\n",
       "    </tr>\n",
       "    <tr>\n",
       "      <th>unique</th>\n",
       "      <td>2</td>\n",
       "      <td>9</td>\n",
       "      <td>10</td>\n",
       "      <td>12</td>\n",
       "    </tr>\n",
       "    <tr>\n",
       "      <th>top</th>\n",
       "      <td>e</td>\n",
       "      <td>n</td>\n",
       "      <td>n</td>\n",
       "      <td>b</td>\n",
       "    </tr>\n",
       "    <tr>\n",
       "      <th>freq</th>\n",
       "      <td>4208</td>\n",
       "      <td>3528</td>\n",
       "      <td>2284</td>\n",
       "      <td>1728</td>\n",
       "    </tr>\n",
       "  </tbody>\n",
       "</table>\n",
       "</div>"
      ],
      "text/plain": [
       "       edibility  odor cap_color gill_color\n",
       "count       8124  8124      8124       8124\n",
       "unique         2     9        10         12\n",
       "top            e     n         n          b\n",
       "freq        4208  3528      2284       1728"
      ]
     },
     "execution_count": 10,
     "metadata": {},
     "output_type": "execute_result"
    }
   ],
   "source": [
    "#chekcing the description of df1 dataframe\n",
    "df1.describe()"
   ]
  },
  {
   "cell_type": "markdown",
   "metadata": {},
   "source": [
    "### Phase I - 3) Add meaningful names for each column in the DataFrame you created to store your subset."
   ]
  },
  {
   "cell_type": "code",
   "execution_count": 11,
   "metadata": {},
   "outputs": [
    {
     "data": {
      "text/plain": [
       "Index(['edibility', 'odor', 'cap_color', 'gill_color'], dtype='object')"
      ]
     },
     "execution_count": 11,
     "metadata": {},
     "output_type": "execute_result"
    }
   ],
   "source": [
    "#checking the columns\n",
    "df1.columns"
   ]
  },
  {
   "cell_type": "code",
   "execution_count": 12,
   "metadata": {},
   "outputs": [
    {
     "data": {
      "text/html": [
       "<div>\n",
       "<style scoped>\n",
       "    .dataframe tbody tr th:only-of-type {\n",
       "        vertical-align: middle;\n",
       "    }\n",
       "\n",
       "    .dataframe tbody tr th {\n",
       "        vertical-align: top;\n",
       "    }\n",
       "\n",
       "    .dataframe thead th {\n",
       "        text-align: right;\n",
       "    }\n",
       "</style>\n",
       "<table border=\"1\" class=\"dataframe\">\n",
       "  <thead>\n",
       "    <tr style=\"text-align: right;\">\n",
       "      <th></th>\n",
       "      <th>edibility</th>\n",
       "      <th>odor</th>\n",
       "      <th>cap_color</th>\n",
       "      <th>gill_color</th>\n",
       "    </tr>\n",
       "  </thead>\n",
       "  <tbody>\n",
       "    <tr>\n",
       "      <th>0</th>\n",
       "      <td>p</td>\n",
       "      <td>p</td>\n",
       "      <td>n</td>\n",
       "      <td>k</td>\n",
       "    </tr>\n",
       "    <tr>\n",
       "      <th>1</th>\n",
       "      <td>e</td>\n",
       "      <td>a</td>\n",
       "      <td>y</td>\n",
       "      <td>k</td>\n",
       "    </tr>\n",
       "    <tr>\n",
       "      <th>2</th>\n",
       "      <td>e</td>\n",
       "      <td>l</td>\n",
       "      <td>w</td>\n",
       "      <td>n</td>\n",
       "    </tr>\n",
       "  </tbody>\n",
       "</table>\n",
       "</div>"
      ],
      "text/plain": [
       "  edibility odor cap_color gill_color\n",
       "0         p    p         n          k\n",
       "1         e    a         y          k\n",
       "2         e    l         w          n"
      ]
     },
     "execution_count": 12,
     "metadata": {},
     "output_type": "execute_result"
    }
   ],
   "source": [
    "df1.head(3)"
   ]
  },
  {
   "cell_type": "markdown",
   "metadata": {},
   "source": [
    "I already named the columns when I was loading the dataset, using \"names\" parameter for \"read_csv\" method, as above."
   ]
  },
  {
   "cell_type": "code",
   "execution_count": 13,
   "metadata": {},
   "outputs": [
    {
     "name": "stderr",
     "output_type": "stream",
     "text": [
      "C:\\Users\\Minyeong\\Anaconda3\\lib\\site-packages\\pandas\\core\\generic.py:5890: SettingWithCopyWarning: \n",
      "A value is trying to be set on a copy of a slice from a DataFrame\n",
      "\n",
      "See the caveats in the documentation: http://pandas.pydata.org/pandas-docs/stable/indexing.html#indexing-view-versus-copy\n",
      "  self._update_inplace(new_data)\n"
     ]
    },
    {
     "data": {
      "text/html": [
       "<div>\n",
       "<style scoped>\n",
       "    .dataframe tbody tr th:only-of-type {\n",
       "        vertical-align: middle;\n",
       "    }\n",
       "\n",
       "    .dataframe tbody tr th {\n",
       "        vertical-align: top;\n",
       "    }\n",
       "\n",
       "    .dataframe thead th {\n",
       "        text-align: right;\n",
       "    }\n",
       "</style>\n",
       "<table border=\"1\" class=\"dataframe\">\n",
       "  <thead>\n",
       "    <tr style=\"text-align: right;\">\n",
       "      <th></th>\n",
       "      <th>edibility</th>\n",
       "      <th>odor</th>\n",
       "      <th>cap_color</th>\n",
       "      <th>gill_color</th>\n",
       "    </tr>\n",
       "  </thead>\n",
       "  <tbody>\n",
       "    <tr>\n",
       "      <th>0</th>\n",
       "      <td>p</td>\n",
       "      <td>pungent</td>\n",
       "      <td>n</td>\n",
       "      <td>k</td>\n",
       "    </tr>\n",
       "    <tr>\n",
       "      <th>1</th>\n",
       "      <td>e</td>\n",
       "      <td>almond</td>\n",
       "      <td>y</td>\n",
       "      <td>k</td>\n",
       "    </tr>\n",
       "    <tr>\n",
       "      <th>2</th>\n",
       "      <td>e</td>\n",
       "      <td>anise</td>\n",
       "      <td>w</td>\n",
       "      <td>n</td>\n",
       "    </tr>\n",
       "  </tbody>\n",
       "</table>\n",
       "</div>"
      ],
      "text/plain": [
       "  edibility     odor cap_color gill_color\n",
       "0         p  pungent         n          k\n",
       "1         e   almond         y          k\n",
       "2         e    anise         w          n"
      ]
     },
     "execution_count": 13,
     "metadata": {},
     "output_type": "execute_result"
    }
   ],
   "source": [
    "#replacing 'order' column values\n",
    "df1.odor.replace({'a':'almond',             \n",
    "                  'l':'anise',\n",
    "                  'c':'creosote',\n",
    "                  'y':'fishy',\n",
    "                  'f':'foul',\n",
    "                  'm':'musty',\n",
    "                  'n':'none',\n",
    "                  'p':'pungent',\n",
    "                  's': 'spicy'}, inplace = True)\n",
    "df1.head(3)"
   ]
  },
  {
   "cell_type": "code",
   "execution_count": 14,
   "metadata": {},
   "outputs": [
    {
     "data": {
      "text/html": [
       "<div>\n",
       "<style scoped>\n",
       "    .dataframe tbody tr th:only-of-type {\n",
       "        vertical-align: middle;\n",
       "    }\n",
       "\n",
       "    .dataframe tbody tr th {\n",
       "        vertical-align: top;\n",
       "    }\n",
       "\n",
       "    .dataframe thead th {\n",
       "        text-align: right;\n",
       "    }\n",
       "</style>\n",
       "<table border=\"1\" class=\"dataframe\">\n",
       "  <thead>\n",
       "    <tr style=\"text-align: right;\">\n",
       "      <th></th>\n",
       "      <th>edibility</th>\n",
       "      <th>odor</th>\n",
       "      <th>cap_color</th>\n",
       "      <th>gill_color</th>\n",
       "    </tr>\n",
       "  </thead>\n",
       "  <tbody>\n",
       "    <tr>\n",
       "      <th>0</th>\n",
       "      <td>p</td>\n",
       "      <td>pungent</td>\n",
       "      <td>brown</td>\n",
       "      <td>k</td>\n",
       "    </tr>\n",
       "    <tr>\n",
       "      <th>1</th>\n",
       "      <td>e</td>\n",
       "      <td>almond</td>\n",
       "      <td>yellow</td>\n",
       "      <td>k</td>\n",
       "    </tr>\n",
       "    <tr>\n",
       "      <th>2</th>\n",
       "      <td>e</td>\n",
       "      <td>anise</td>\n",
       "      <td>white</td>\n",
       "      <td>n</td>\n",
       "    </tr>\n",
       "  </tbody>\n",
       "</table>\n",
       "</div>"
      ],
      "text/plain": [
       "  edibility     odor cap_color gill_color\n",
       "0         p  pungent     brown          k\n",
       "1         e   almond    yellow          k\n",
       "2         e    anise     white          n"
      ]
     },
     "execution_count": 14,
     "metadata": {},
     "output_type": "execute_result"
    }
   ],
   "source": [
    "#replacing 'cap_color' column values\n",
    "df1.cap_color.replace({'n':'brown', \n",
    "                        'b':'buff',\n",
    "                        'c':'cinnamon',\n",
    "                        'g':'gray',\n",
    "                        'r':'green',\n",
    "                        'p':'pink',\n",
    "                        'u':'purple',\n",
    "                        'e':'red',\n",
    "                        'w':'white',\n",
    "                        'y':'yellow'}, inplace = True)\n",
    "df1.head(3)"
   ]
  },
  {
   "cell_type": "code",
   "execution_count": 15,
   "metadata": {},
   "outputs": [
    {
     "data": {
      "text/html": [
       "<div>\n",
       "<style scoped>\n",
       "    .dataframe tbody tr th:only-of-type {\n",
       "        vertical-align: middle;\n",
       "    }\n",
       "\n",
       "    .dataframe tbody tr th {\n",
       "        vertical-align: top;\n",
       "    }\n",
       "\n",
       "    .dataframe thead th {\n",
       "        text-align: right;\n",
       "    }\n",
       "</style>\n",
       "<table border=\"1\" class=\"dataframe\">\n",
       "  <thead>\n",
       "    <tr style=\"text-align: right;\">\n",
       "      <th></th>\n",
       "      <th>edibility</th>\n",
       "      <th>odor</th>\n",
       "      <th>cap_color</th>\n",
       "      <th>gill_color</th>\n",
       "    </tr>\n",
       "  </thead>\n",
       "  <tbody>\n",
       "    <tr>\n",
       "      <th>0</th>\n",
       "      <td>p</td>\n",
       "      <td>pungent</td>\n",
       "      <td>brown</td>\n",
       "      <td>black</td>\n",
       "    </tr>\n",
       "    <tr>\n",
       "      <th>1</th>\n",
       "      <td>e</td>\n",
       "      <td>almond</td>\n",
       "      <td>yellow</td>\n",
       "      <td>black</td>\n",
       "    </tr>\n",
       "    <tr>\n",
       "      <th>2</th>\n",
       "      <td>e</td>\n",
       "      <td>anise</td>\n",
       "      <td>white</td>\n",
       "      <td>brown</td>\n",
       "    </tr>\n",
       "  </tbody>\n",
       "</table>\n",
       "</div>"
      ],
      "text/plain": [
       "  edibility     odor cap_color gill_color\n",
       "0         p  pungent     brown      black\n",
       "1         e   almond    yellow      black\n",
       "2         e    anise     white      brown"
      ]
     },
     "execution_count": 15,
     "metadata": {},
     "output_type": "execute_result"
    }
   ],
   "source": [
    "#replacing 'gill_color' column values\n",
    "df1.gill_color.replace({'k':'black',\n",
    "                         'n':'brown',\n",
    "                         'b':'buff',\n",
    "                         'h':'chocolate',\n",
    "                         'g':'gray', \n",
    "                         'r':'green',\n",
    "                         'o':'orange',\n",
    "                         'p':'pink',\n",
    "                         'u':'purple',\n",
    "                         'e':'red', \n",
    "                         'w':'white',\n",
    "                         'y':'yellow'}, inplace = True)\n",
    "df1.head(3)"
   ]
  },
  {
   "cell_type": "markdown",
   "metadata": {},
   "source": [
    "### Phase I - 4) Convert the “e”/”p” indicators in the first column to digits: for example, the “e” might become 0 and “p” might become 1. For each of the other columns in your DataFrame create a set of dummy variables. This is necessary because your downstream processing in Project 4 using scikit-learn requires that values be stored as numerics. See the pandas get_dummies() method for one possible approach to doing this."
   ]
  },
  {
   "cell_type": "code",
   "execution_count": 16,
   "metadata": {},
   "outputs": [
    {
     "data": {
      "text/html": [
       "<div>\n",
       "<style scoped>\n",
       "    .dataframe tbody tr th:only-of-type {\n",
       "        vertical-align: middle;\n",
       "    }\n",
       "\n",
       "    .dataframe tbody tr th {\n",
       "        vertical-align: top;\n",
       "    }\n",
       "\n",
       "    .dataframe thead th {\n",
       "        text-align: right;\n",
       "    }\n",
       "</style>\n",
       "<table border=\"1\" class=\"dataframe\">\n",
       "  <thead>\n",
       "    <tr style=\"text-align: right;\">\n",
       "      <th></th>\n",
       "      <th>e</th>\n",
       "      <th>p</th>\n",
       "    </tr>\n",
       "  </thead>\n",
       "  <tbody>\n",
       "    <tr>\n",
       "      <th>0</th>\n",
       "      <td>0</td>\n",
       "      <td>1</td>\n",
       "    </tr>\n",
       "    <tr>\n",
       "      <th>1</th>\n",
       "      <td>1</td>\n",
       "      <td>0</td>\n",
       "    </tr>\n",
       "    <tr>\n",
       "      <th>2</th>\n",
       "      <td>1</td>\n",
       "      <td>0</td>\n",
       "    </tr>\n",
       "    <tr>\n",
       "      <th>3</th>\n",
       "      <td>0</td>\n",
       "      <td>1</td>\n",
       "    </tr>\n",
       "    <tr>\n",
       "      <th>4</th>\n",
       "      <td>1</td>\n",
       "      <td>0</td>\n",
       "    </tr>\n",
       "    <tr>\n",
       "      <th>5</th>\n",
       "      <td>1</td>\n",
       "      <td>0</td>\n",
       "    </tr>\n",
       "    <tr>\n",
       "      <th>6</th>\n",
       "      <td>1</td>\n",
       "      <td>0</td>\n",
       "    </tr>\n",
       "  </tbody>\n",
       "</table>\n",
       "</div>"
      ],
      "text/plain": [
       "   e  p\n",
       "0  0  1\n",
       "1  1  0\n",
       "2  1  0\n",
       "3  0  1\n",
       "4  1  0\n",
       "5  1  0\n",
       "6  1  0"
      ]
     },
     "execution_count": 16,
     "metadata": {},
     "output_type": "execute_result"
    }
   ],
   "source": [
    "#getting the dummy variables\n",
    "df1_with_dum = pd.get_dummies(df1['edibility'])\n",
    "df1_with_dum.head(7)"
   ]
  },
  {
   "cell_type": "code",
   "execution_count": 17,
   "metadata": {},
   "outputs": [
    {
     "data": {
      "text/html": [
       "<div>\n",
       "<style scoped>\n",
       "    .dataframe tbody tr th:only-of-type {\n",
       "        vertical-align: middle;\n",
       "    }\n",
       "\n",
       "    .dataframe tbody tr th {\n",
       "        vertical-align: top;\n",
       "    }\n",
       "\n",
       "    .dataframe thead th {\n",
       "        text-align: right;\n",
       "    }\n",
       "</style>\n",
       "<table border=\"1\" class=\"dataframe\">\n",
       "  <thead>\n",
       "    <tr style=\"text-align: right;\">\n",
       "      <th></th>\n",
       "      <th>edible</th>\n",
       "      <th>poisonous</th>\n",
       "    </tr>\n",
       "  </thead>\n",
       "  <tbody>\n",
       "    <tr>\n",
       "      <th>0</th>\n",
       "      <td>0</td>\n",
       "      <td>1</td>\n",
       "    </tr>\n",
       "    <tr>\n",
       "      <th>1</th>\n",
       "      <td>1</td>\n",
       "      <td>0</td>\n",
       "    </tr>\n",
       "    <tr>\n",
       "      <th>2</th>\n",
       "      <td>1</td>\n",
       "      <td>0</td>\n",
       "    </tr>\n",
       "  </tbody>\n",
       "</table>\n",
       "</div>"
      ],
      "text/plain": [
       "   edible  poisonous\n",
       "0       0          1\n",
       "1       1          0\n",
       "2       1          0"
      ]
     },
     "execution_count": 17,
     "metadata": {},
     "output_type": "execute_result"
    }
   ],
   "source": [
    "#renaming the columns\n",
    "df1_with_dum.rename(columns={\"e\":\"edible\", \"p\":\"poisonous\"}, inplace=True)\n",
    "df1_with_dum.head(3)"
   ]
  },
  {
   "cell_type": "code",
   "execution_count": 18,
   "metadata": {},
   "outputs": [
    {
     "data": {
      "text/html": [
       "<div>\n",
       "<style scoped>\n",
       "    .dataframe tbody tr th:only-of-type {\n",
       "        vertical-align: middle;\n",
       "    }\n",
       "\n",
       "    .dataframe tbody tr th {\n",
       "        vertical-align: top;\n",
       "    }\n",
       "\n",
       "    .dataframe thead th {\n",
       "        text-align: right;\n",
       "    }\n",
       "</style>\n",
       "<table border=\"1\" class=\"dataframe\">\n",
       "  <thead>\n",
       "    <tr style=\"text-align: right;\">\n",
       "      <th></th>\n",
       "      <th>edibility</th>\n",
       "      <th>odor</th>\n",
       "      <th>cap_color</th>\n",
       "      <th>gill_color</th>\n",
       "      <th>edible</th>\n",
       "      <th>poisonous</th>\n",
       "    </tr>\n",
       "  </thead>\n",
       "  <tbody>\n",
       "    <tr>\n",
       "      <th>0</th>\n",
       "      <td>p</td>\n",
       "      <td>pungent</td>\n",
       "      <td>brown</td>\n",
       "      <td>black</td>\n",
       "      <td>0</td>\n",
       "      <td>1</td>\n",
       "    </tr>\n",
       "    <tr>\n",
       "      <th>1</th>\n",
       "      <td>e</td>\n",
       "      <td>almond</td>\n",
       "      <td>yellow</td>\n",
       "      <td>black</td>\n",
       "      <td>1</td>\n",
       "      <td>0</td>\n",
       "    </tr>\n",
       "    <tr>\n",
       "      <th>2</th>\n",
       "      <td>e</td>\n",
       "      <td>anise</td>\n",
       "      <td>white</td>\n",
       "      <td>brown</td>\n",
       "      <td>1</td>\n",
       "      <td>0</td>\n",
       "    </tr>\n",
       "    <tr>\n",
       "      <th>3</th>\n",
       "      <td>p</td>\n",
       "      <td>pungent</td>\n",
       "      <td>white</td>\n",
       "      <td>brown</td>\n",
       "      <td>0</td>\n",
       "      <td>1</td>\n",
       "    </tr>\n",
       "    <tr>\n",
       "      <th>4</th>\n",
       "      <td>e</td>\n",
       "      <td>none</td>\n",
       "      <td>gray</td>\n",
       "      <td>black</td>\n",
       "      <td>1</td>\n",
       "      <td>0</td>\n",
       "    </tr>\n",
       "    <tr>\n",
       "      <th>5</th>\n",
       "      <td>e</td>\n",
       "      <td>almond</td>\n",
       "      <td>yellow</td>\n",
       "      <td>brown</td>\n",
       "      <td>1</td>\n",
       "      <td>0</td>\n",
       "    </tr>\n",
       "    <tr>\n",
       "      <th>6</th>\n",
       "      <td>e</td>\n",
       "      <td>almond</td>\n",
       "      <td>white</td>\n",
       "      <td>gray</td>\n",
       "      <td>1</td>\n",
       "      <td>0</td>\n",
       "    </tr>\n",
       "  </tbody>\n",
       "</table>\n",
       "</div>"
      ],
      "text/plain": [
       "  edibility     odor cap_color gill_color  edible  poisonous\n",
       "0         p  pungent     brown      black       0          1\n",
       "1         e   almond    yellow      black       1          0\n",
       "2         e    anise     white      brown       1          0\n",
       "3         p  pungent     white      brown       0          1\n",
       "4         e     none      gray      black       1          0\n",
       "5         e   almond    yellow      brown       1          0\n",
       "6         e   almond     white       gray       1          0"
      ]
     },
     "execution_count": 18,
     "metadata": {},
     "output_type": "execute_result"
    }
   ],
   "source": [
    "#combining the dummy variables with the original data. I'm keeping the original 'edibility' column.\n",
    "df2 = df1.join(df1_with_dum)\n",
    "df2.head(7)"
   ]
  },
  {
   "cell_type": "code",
   "execution_count": 19,
   "metadata": {},
   "outputs": [
    {
     "data": {
      "text/html": [
       "<div>\n",
       "<style scoped>\n",
       "    .dataframe tbody tr th:only-of-type {\n",
       "        vertical-align: middle;\n",
       "    }\n",
       "\n",
       "    .dataframe tbody tr th {\n",
       "        vertical-align: top;\n",
       "    }\n",
       "\n",
       "    .dataframe thead th {\n",
       "        text-align: right;\n",
       "    }\n",
       "</style>\n",
       "<table border=\"1\" class=\"dataframe\">\n",
       "  <thead>\n",
       "    <tr style=\"text-align: right;\">\n",
       "      <th></th>\n",
       "      <th>edibility</th>\n",
       "      <th>odor</th>\n",
       "      <th>cap_color</th>\n",
       "      <th>gill_color</th>\n",
       "      <th>edible</th>\n",
       "      <th>poisonous</th>\n",
       "    </tr>\n",
       "  </thead>\n",
       "  <tbody>\n",
       "    <tr>\n",
       "      <th>0</th>\n",
       "      <td>1</td>\n",
       "      <td>pungent</td>\n",
       "      <td>brown</td>\n",
       "      <td>black</td>\n",
       "      <td>0</td>\n",
       "      <td>1</td>\n",
       "    </tr>\n",
       "    <tr>\n",
       "      <th>1</th>\n",
       "      <td>0</td>\n",
       "      <td>almond</td>\n",
       "      <td>yellow</td>\n",
       "      <td>black</td>\n",
       "      <td>1</td>\n",
       "      <td>0</td>\n",
       "    </tr>\n",
       "    <tr>\n",
       "      <th>2</th>\n",
       "      <td>0</td>\n",
       "      <td>anise</td>\n",
       "      <td>white</td>\n",
       "      <td>brown</td>\n",
       "      <td>1</td>\n",
       "      <td>0</td>\n",
       "    </tr>\n",
       "    <tr>\n",
       "      <th>3</th>\n",
       "      <td>1</td>\n",
       "      <td>pungent</td>\n",
       "      <td>white</td>\n",
       "      <td>brown</td>\n",
       "      <td>0</td>\n",
       "      <td>1</td>\n",
       "    </tr>\n",
       "    <tr>\n",
       "      <th>4</th>\n",
       "      <td>0</td>\n",
       "      <td>none</td>\n",
       "      <td>gray</td>\n",
       "      <td>black</td>\n",
       "      <td>1</td>\n",
       "      <td>0</td>\n",
       "    </tr>\n",
       "  </tbody>\n",
       "</table>\n",
       "</div>"
      ],
      "text/plain": [
       "   edibility     odor cap_color gill_color  edible  poisonous\n",
       "0          1  pungent     brown      black       0          1\n",
       "1          0   almond    yellow      black       1          0\n",
       "2          0    anise     white      brown       1          0\n",
       "3          1  pungent     white      brown       0          1\n",
       "4          0     none      gray      black       1          0"
      ]
     },
     "execution_count": 19,
     "metadata": {},
     "output_type": "execute_result"
    }
   ],
   "source": [
    "#replacing the 'poisonous' with a '1', and 'edible' with a '0' in the 'edibility' column\n",
    "df2.edibility.replace({'p': 1, 'e':0}, inplace=True)\n",
    "df2.head()"
   ]
  },
  {
   "cell_type": "code",
   "execution_count": 20,
   "metadata": {},
   "outputs": [
    {
     "data": {
      "text/plain": [
       "(8124, 6)"
      ]
     },
     "execution_count": 20,
     "metadata": {},
     "output_type": "execute_result"
    }
   ],
   "source": [
    "#checking the number of rows and columns\n",
    "df2.shape"
   ]
  },
  {
   "cell_type": "markdown",
   "metadata": {},
   "source": [
    "### Phase I - 5) Perform exploratory data analysis: show the distribution of data for each of the columns you selected, <br> and show plots for edible/poisonous vs. odor as well as the other columns that you selected. It is up to you to decide which types of plots to use for these tasks. <br>Include text describing your EDA findings."
   ]
  },
  {
   "cell_type": "code",
   "execution_count": 21,
   "metadata": {},
   "outputs": [
    {
     "data": {
      "text/plain": [
       "Index(['edibility', 'odor', 'cap_color', 'gill_color', 'edible', 'poisonous'], dtype='object')"
      ]
     },
     "execution_count": 21,
     "metadata": {},
     "output_type": "execute_result"
    }
   ],
   "source": [
    "#checking columns\n",
    "df2.columns"
   ]
  },
  {
   "cell_type": "code",
   "execution_count": 22,
   "metadata": {},
   "outputs": [
    {
     "name": "stdout",
     "output_type": "stream",
     "text": [
      "<class 'pandas.core.frame.DataFrame'>\n",
      "RangeIndex: 8124 entries, 0 to 8123\n",
      "Data columns (total 6 columns):\n",
      "edibility     8124 non-null int64\n",
      "odor          8124 non-null object\n",
      "cap_color     8124 non-null object\n",
      "gill_color    8124 non-null object\n",
      "edible        8124 non-null uint8\n",
      "poisonous     8124 non-null uint8\n",
      "dtypes: int64(1), object(3), uint8(2)\n",
      "memory usage: 269.8+ KB\n"
     ]
    }
   ],
   "source": [
    "#printing a concise summary of df2 dataframe\n",
    "df2.info()"
   ]
  },
  {
   "cell_type": "code",
   "execution_count": 23,
   "metadata": {},
   "outputs": [
    {
     "name": "stdout",
     "output_type": "stream",
     "text": [
      "edibility     False\n",
      "odor          False\n",
      "cap_color     False\n",
      "gill_color    False\n",
      "edible        False\n",
      "poisonous     False\n",
      "dtype: bool\n"
     ]
    }
   ],
   "source": [
    "#identifying missing values, displaying the columns that have null values\n",
    "print(df2.isnull().any(axis=0))"
   ]
  },
  {
   "cell_type": "markdown",
   "metadata": {},
   "source": [
    "As shown above, all of the columns do not include null values."
   ]
  },
  {
   "cell_type": "code",
   "execution_count": 24,
   "metadata": {},
   "outputs": [
    {
     "data": {
      "text/html": [
       "<div>\n",
       "<style scoped>\n",
       "    .dataframe tbody tr th:only-of-type {\n",
       "        vertical-align: middle;\n",
       "    }\n",
       "\n",
       "    .dataframe tbody tr th {\n",
       "        vertical-align: top;\n",
       "    }\n",
       "\n",
       "    .dataframe thead th {\n",
       "        text-align: right;\n",
       "    }\n",
       "</style>\n",
       "<table border=\"1\" class=\"dataframe\">\n",
       "  <thead>\n",
       "    <tr style=\"text-align: right;\">\n",
       "      <th></th>\n",
       "      <th>edibility</th>\n",
       "      <th>odor</th>\n",
       "      <th>cap_color</th>\n",
       "      <th>gill_color</th>\n",
       "      <th>edible</th>\n",
       "      <th>poisonous</th>\n",
       "    </tr>\n",
       "  </thead>\n",
       "  <tbody>\n",
       "    <tr>\n",
       "      <th>0</th>\n",
       "      <td>1</td>\n",
       "      <td>pungent</td>\n",
       "      <td>brown</td>\n",
       "      <td>black</td>\n",
       "      <td>0</td>\n",
       "      <td>1</td>\n",
       "    </tr>\n",
       "    <tr>\n",
       "      <th>1</th>\n",
       "      <td>0</td>\n",
       "      <td>almond</td>\n",
       "      <td>yellow</td>\n",
       "      <td>black</td>\n",
       "      <td>1</td>\n",
       "      <td>0</td>\n",
       "    </tr>\n",
       "    <tr>\n",
       "      <th>2</th>\n",
       "      <td>0</td>\n",
       "      <td>anise</td>\n",
       "      <td>white</td>\n",
       "      <td>brown</td>\n",
       "      <td>1</td>\n",
       "      <td>0</td>\n",
       "    </tr>\n",
       "    <tr>\n",
       "      <th>3</th>\n",
       "      <td>1</td>\n",
       "      <td>pungent</td>\n",
       "      <td>white</td>\n",
       "      <td>brown</td>\n",
       "      <td>0</td>\n",
       "      <td>1</td>\n",
       "    </tr>\n",
       "    <tr>\n",
       "      <th>4</th>\n",
       "      <td>0</td>\n",
       "      <td>none</td>\n",
       "      <td>gray</td>\n",
       "      <td>black</td>\n",
       "      <td>1</td>\n",
       "      <td>0</td>\n",
       "    </tr>\n",
       "  </tbody>\n",
       "</table>\n",
       "</div>"
      ],
      "text/plain": [
       "   edibility     odor cap_color gill_color  edible  poisonous\n",
       "0          1  pungent     brown      black       0          1\n",
       "1          0   almond    yellow      black       1          0\n",
       "2          0    anise     white      brown       1          0\n",
       "3          1  pungent     white      brown       0          1\n",
       "4          0     none      gray      black       1          0"
      ]
     },
     "execution_count": 24,
     "metadata": {},
     "output_type": "execute_result"
    }
   ],
   "source": [
    "#sanity check\n",
    "df2.head()"
   ]
  },
  {
   "cell_type": "markdown",
   "metadata": {},
   "source": [
    "### distribution of 'edibility'"
   ]
  },
  {
   "cell_type": "code",
   "execution_count": 25,
   "metadata": {},
   "outputs": [
    {
     "data": {
      "text/plain": [
       "0    4208\n",
       "1    3916\n",
       "Name: edibility, dtype: int64"
      ]
     },
     "execution_count": 25,
     "metadata": {},
     "output_type": "execute_result"
    }
   ],
   "source": [
    "#getting the value counts for the 'edibility' variable, which is categorical data type.\n",
    "df2['edibility'].value_counts()"
   ]
  },
  {
   "cell_type": "code",
   "execution_count": 26,
   "metadata": {},
   "outputs": [
    {
     "data": {
      "image/png": "[encoded data removed]",
      "text/plain": [
       "<Figure size 432x288 with 1 Axes>"
      ]
     },
     "metadata": {
      "needs_background": "light"
     },
     "output_type": "display_data"
    }
   ],
   "source": [
    "#creating a bar plot of the 'edibility' variable's value counts\n",
    "df2['edibility'].value_counts().plot.bar(title = \"Freq Dist of edibility\");"
   ]
  },
  {
   "cell_type": "markdown",
   "metadata": {},
   "source": [
    "Based on above, there are 4208 edible mushrooms and 3916 poisonous mushrooms in the dataset."
   ]
  },
  {
   "cell_type": "markdown",
   "metadata": {},
   "source": [
    "### distribution of 'odor'"
   ]
  },
  {
   "cell_type": "code",
   "execution_count": 27,
   "metadata": {},
   "outputs": [
    {
     "data": {
      "text/plain": [
       "array(['pungent', 'almond', 'anise', 'none', 'foul', 'creosote', 'fishy',\n",
       "       'spicy', 'musty'], dtype=object)"
      ]
     },
     "execution_count": 27,
     "metadata": {},
     "output_type": "execute_result"
    }
   ],
   "source": [
    "#chekcing the unique values in 'odor' variable\n",
    "df2['odor'].unique()"
   ]
  },
  {
   "cell_type": "code",
   "execution_count": 28,
   "metadata": {},
   "outputs": [
    {
     "data": {
      "text/plain": [
       "none        3528\n",
       "foul        2160\n",
       "fishy        576\n",
       "spicy        576\n",
       "anise        400\n",
       "almond       400\n",
       "pungent      256\n",
       "creosote     192\n",
       "musty         36\n",
       "Name: odor, dtype: int64"
      ]
     },
     "execution_count": 28,
     "metadata": {},
     "output_type": "execute_result"
    }
   ],
   "source": [
    "#getting the value counts for the 'odor' variable, which is categorical data type.\n",
    "df2['odor'].value_counts()"
   ]
  },
  {
   "cell_type": "code",
   "execution_count": 29,
   "metadata": {},
   "outputs": [
    {
     "data": {
      "image/png": "[encoded data removed]",
      "text/plain": [
       "<Figure size 432x288 with 1 Axes>"
      ]
     },
     "metadata": {
      "needs_background": "light"
     },
     "output_type": "display_data"
    }
   ],
   "source": [
    "#creating a bar plot of the 'odor' variable's value counts\n",
    "df2['odor'].value_counts().plot.bar(title = \"Freq Dist of odor\");"
   ]
  },
  {
   "cell_type": "markdown",
   "metadata": {},
   "source": [
    "Based on above, there are nine distinct values for the 'odor' variable, and the most frequent value is 'none'(no ordor). The second most frequent value is 'foul'."
   ]
  },
  {
   "cell_type": "markdown",
   "metadata": {},
   "source": [
    "### distribution of 'cap_color'"
   ]
  },
  {
   "cell_type": "code",
   "execution_count": 30,
   "metadata": {},
   "outputs": [
    {
     "data": {
      "text/plain": [
       "array(['brown', 'yellow', 'white', 'gray', 'red', 'pink', 'buff',\n",
       "       'purple', 'cinnamon', 'green'], dtype=object)"
      ]
     },
     "execution_count": 30,
     "metadata": {},
     "output_type": "execute_result"
    }
   ],
   "source": [
    "#chekcing the unique values in 'cap_color' variable\n",
    "df2['cap_color'].unique()"
   ]
  },
  {
   "cell_type": "code",
   "execution_count": 31,
   "metadata": {},
   "outputs": [
    {
     "data": {
      "text/plain": [
       "brown       2284\n",
       "gray        1840\n",
       "red         1500\n",
       "yellow      1072\n",
       "white       1040\n",
       "buff         168\n",
       "pink         144\n",
       "cinnamon      44\n",
       "green         16\n",
       "purple        16\n",
       "Name: cap_color, dtype: int64"
      ]
     },
     "execution_count": 31,
     "metadata": {},
     "output_type": "execute_result"
    }
   ],
   "source": [
    "#getting the value counts for the 'cap-color' variable, which is categorical data type.\n",
    "df2['cap_color'].value_counts()"
   ]
  },
  {
   "cell_type": "code",
   "execution_count": 32,
   "metadata": {},
   "outputs": [
    {
     "data": {
      "image/png": "[encoded data removed]",
      "text/plain": [
       "<Figure size 432x288 with 1 Axes>"
      ]
     },
     "metadata": {
      "needs_background": "light"
     },
     "output_type": "display_data"
    }
   ],
   "source": [
    "#creating a bar plot of the 'cap_color' variable's value counts\n",
    "df2['cap_color'].value_counts().plot.bar(title = \"Freq Dist of cap_color\");"
   ]
  },
  {
   "cell_type": "markdown",
   "metadata": {},
   "source": [
    "Based on above, there are ten distinct values for the 'cap_color' variable, and the most frequent value is 'brown'. The second most frequent value is 'gray'."
   ]
  },
  {
   "cell_type": "markdown",
   "metadata": {},
   "source": [
    "### distribution of 'gill_color'"
   ]
  },
  {
   "cell_type": "code",
   "execution_count": 33,
   "metadata": {},
   "outputs": [
    {
     "data": {
      "text/plain": [
       "array(['black', 'brown', 'gray', 'pink', 'white', 'chocolate', 'purple',\n",
       "       'red', 'buff', 'green', 'yellow', 'orange'], dtype=object)"
      ]
     },
     "execution_count": 33,
     "metadata": {},
     "output_type": "execute_result"
    }
   ],
   "source": [
    "#chekcing the unique values in 'gill_color' variable\n",
    "df2['gill_color'].unique()"
   ]
  },
  {
   "cell_type": "code",
   "execution_count": 34,
   "metadata": {},
   "outputs": [
    {
     "data": {
      "text/plain": [
       "buff         1728\n",
       "pink         1492\n",
       "white        1202\n",
       "brown        1048\n",
       "gray          752\n",
       "chocolate     732\n",
       "purple        492\n",
       "black         408\n",
       "red            96\n",
       "yellow         86\n",
       "orange         64\n",
       "green          24\n",
       "Name: gill_color, dtype: int64"
      ]
     },
     "execution_count": 34,
     "metadata": {},
     "output_type": "execute_result"
    }
   ],
   "source": [
    "#getting the value counts for the 'gill-color' variable, which is categorical data type.\n",
    "df2['gill_color'].value_counts()"
   ]
  },
  {
   "cell_type": "code",
   "execution_count": 35,
   "metadata": {},
   "outputs": [
    {
     "data": {
      "image/png": "[encoded data removed]",
      "text/plain": [
       "<Figure size 432x288 with 1 Axes>"
      ]
     },
     "metadata": {
      "needs_background": "light"
     },
     "output_type": "display_data"
    }
   ],
   "source": [
    "#creating a bar plot of the 'gill_color' variable's value counts\n",
    "df2['gill_color'].value_counts().plot.bar(title = \"Freq Dist of gill_color\");"
   ]
  },
  {
   "cell_type": "markdown",
   "metadata": {},
   "source": [
    "Based on above, there are twelve distinct values for the 'gill_color' variable, and the most frequent value is 'buff'. The second most frequent value is 'pink'."
   ]
  },
  {
   "cell_type": "markdown",
   "metadata": {},
   "source": [
    "### Plot for 'edibility' vs. 'odor'"
   ]
  },
  {
   "cell_type": "code",
   "execution_count": 36,
   "metadata": {},
   "outputs": [
    {
     "data": {
      "image/png": "[encoded data removed]",
      "text/plain": [
       "<Figure size 408x360 with 1 Axes>"
      ]
     },
     "metadata": {
      "needs_background": "light"
     },
     "output_type": "display_data"
    }
   ],
   "source": [
    "sns.catplot(x='odor', hue='edibility', kind='count', data=df2);"
   ]
  },
  {
   "cell_type": "markdown",
   "metadata": {},
   "source": [
    "Based on the plot above, 'none' is the most frequent value for edible('0') mushroom, whereas 'foul' is the most frequent value for poisonous('1') mushroom. The distinct 'order' variable value almost exclusively accounts for either '0' or '1', rather than both values of 'edibility' variable, which means certain 'order' is a quite accurate predictor to see whether or not a mushroom is poisonous."
   ]
  },
  {
   "cell_type": "markdown",
   "metadata": {},
   "source": [
    "### plot for 'edibility' vs. 'cap_color'"
   ]
  },
  {
   "cell_type": "code",
   "execution_count": 37,
   "metadata": {},
   "outputs": [
    {
     "data": {
      "image/png": "[encoded data removed]",
      "text/plain": [
       "<Figure size 408x360 with 1 Axes>"
      ]
     },
     "metadata": {
      "needs_background": "light"
     },
     "output_type": "display_data"
    }
   ],
   "source": [
    "sns.catplot(x='cap_color', hue='edibility', kind='count', data=df2);"
   ]
  },
  {
   "cell_type": "markdown",
   "metadata": {},
   "source": [
    "Based on the plot above, 'brown' is the most frequent value for both edible('0') and poisonous('1') mushroom. Since most of the distinct 'cap_color' variable value accounts for both values of 'edibility' variable, certain 'cap_color' cannot be a definite predictor to see whether or not a mushroom is poisonous."
   ]
  },
  {
   "cell_type": "markdown",
   "metadata": {},
   "source": [
    "### plot for 'edibility' vs. 'gill_color'"
   ]
  },
  {
   "cell_type": "code",
   "execution_count": 38,
   "metadata": {},
   "outputs": [
    {
     "data": {
      "image/png": "[encoded data removed]",
      "text/plain": [
       "<Figure size 432x288 with 1 Axes>"
      ]
     },
     "metadata": {
      "needs_background": "light"
     },
     "output_type": "display_data"
    }
   ],
   "source": [
    "sns.countplot(x='gill_color', hue='edibility', data=df2);"
   ]
  },
  {
   "cell_type": "markdown",
   "metadata": {},
   "source": [
    "Based on the plot above, 'buff' is the most frequent value for poisonous('1') mushroom, whereas 'white' is the most frequent value for edible('0') muchroom. Since there are several distinct 'gill_color' variable values that almost eclusively account for either '1' or '0' value of 'edibility' variable rather than both of the edibility values, certain 'gill_color' can be a quite accurate predictor to see whether or not a mushroom is poisonous."
   ]
  },
  {
   "cell_type": "markdown",
   "metadata": {},
   "source": [
    "### Phase I - 6) Include some text describing your preliminary conclusions about whether any of the other columns you’ve included in your subset (i.e., aside from the poisonous/edible indicator) could be helpful in predicting if a specific mushroom is edible or poisonous."
   ]
  },
  {
   "cell_type": "markdown",
   "metadata": {},
   "source": [
    "Based on exploratory data analysis above, I can conclude that 'order' variable is very accurate predictor to see whether or not a mushroom is poisonous, and certain 'gill_color' variable values can also be an accurate predictor to determine the edibility of mushrooms. However, most of 'cap_color' variable values account for both '0' and '1' values of 'edibility' variable, thereby making them less accurate predictor to determine the mushroom's edibility."
   ]
  },
  {
   "cell_type": "markdown",
   "metadata": {},
   "source": [
    "### Phase II - 1) Start with the mushroom data (including the dummy variables) in the pandas DataFrame that you constructed in Phase I."
   ]
  },
  {
   "cell_type": "code",
   "execution_count": 39,
   "metadata": {},
   "outputs": [
    {
     "data": {
      "text/html": [
       "<div>\n",
       "<style scoped>\n",
       "    .dataframe tbody tr th:only-of-type {\n",
       "        vertical-align: middle;\n",
       "    }\n",
       "\n",
       "    .dataframe tbody tr th {\n",
       "        vertical-align: top;\n",
       "    }\n",
       "\n",
       "    .dataframe thead th {\n",
       "        text-align: right;\n",
       "    }\n",
       "</style>\n",
       "<table border=\"1\" class=\"dataframe\">\n",
       "  <thead>\n",
       "    <tr style=\"text-align: right;\">\n",
       "      <th></th>\n",
       "      <th>edibility</th>\n",
       "      <th>odor</th>\n",
       "      <th>cap_color</th>\n",
       "      <th>gill_color</th>\n",
       "      <th>edible</th>\n",
       "      <th>poisonous</th>\n",
       "    </tr>\n",
       "  </thead>\n",
       "  <tbody>\n",
       "    <tr>\n",
       "      <th>0</th>\n",
       "      <td>1</td>\n",
       "      <td>pungent</td>\n",
       "      <td>brown</td>\n",
       "      <td>black</td>\n",
       "      <td>0</td>\n",
       "      <td>1</td>\n",
       "    </tr>\n",
       "    <tr>\n",
       "      <th>1</th>\n",
       "      <td>0</td>\n",
       "      <td>almond</td>\n",
       "      <td>yellow</td>\n",
       "      <td>black</td>\n",
       "      <td>1</td>\n",
       "      <td>0</td>\n",
       "    </tr>\n",
       "    <tr>\n",
       "      <th>2</th>\n",
       "      <td>0</td>\n",
       "      <td>anise</td>\n",
       "      <td>white</td>\n",
       "      <td>brown</td>\n",
       "      <td>1</td>\n",
       "      <td>0</td>\n",
       "    </tr>\n",
       "    <tr>\n",
       "      <th>3</th>\n",
       "      <td>1</td>\n",
       "      <td>pungent</td>\n",
       "      <td>white</td>\n",
       "      <td>brown</td>\n",
       "      <td>0</td>\n",
       "      <td>1</td>\n",
       "    </tr>\n",
       "    <tr>\n",
       "      <th>4</th>\n",
       "      <td>0</td>\n",
       "      <td>none</td>\n",
       "      <td>gray</td>\n",
       "      <td>black</td>\n",
       "      <td>1</td>\n",
       "      <td>0</td>\n",
       "    </tr>\n",
       "  </tbody>\n",
       "</table>\n",
       "</div>"
      ],
      "text/plain": [
       "   edibility     odor cap_color gill_color  edible  poisonous\n",
       "0          1  pungent     brown      black       0          1\n",
       "1          0   almond    yellow      black       1          0\n",
       "2          0    anise     white      brown       1          0\n",
       "3          1  pungent     white      brown       0          1\n",
       "4          0     none      gray      black       1          0"
      ]
     },
     "execution_count": 39,
     "metadata": {},
     "output_type": "execute_result"
    }
   ],
   "source": [
    "#sanity check\n",
    "df2.head()"
   ]
  },
  {
   "cell_type": "markdown",
   "metadata": {},
   "source": [
    "I am going to get dummy variables for each column in dataframe df2, to be able to use those values as input to the machine learning model."
   ]
  },
  {
   "cell_type": "code",
   "execution_count": 40,
   "metadata": {},
   "outputs": [
    {
     "data": {
      "text/html": [
       "<div>\n",
       "<style scoped>\n",
       "    .dataframe tbody tr th:only-of-type {\n",
       "        vertical-align: middle;\n",
       "    }\n",
       "\n",
       "    .dataframe tbody tr th {\n",
       "        vertical-align: top;\n",
       "    }\n",
       "\n",
       "    .dataframe thead th {\n",
       "        text-align: right;\n",
       "    }\n",
       "</style>\n",
       "<table border=\"1\" class=\"dataframe\">\n",
       "  <thead>\n",
       "    <tr style=\"text-align: right;\">\n",
       "      <th></th>\n",
       "      <th>edibility</th>\n",
       "      <th>edible</th>\n",
       "      <th>poisonous</th>\n",
       "      <th>odor_almond</th>\n",
       "      <th>odor_anise</th>\n",
       "      <th>odor_creosote</th>\n",
       "      <th>odor_fishy</th>\n",
       "      <th>odor_foul</th>\n",
       "      <th>odor_musty</th>\n",
       "      <th>odor_none</th>\n",
       "      <th>...</th>\n",
       "      <th>gill_color_buff</th>\n",
       "      <th>gill_color_chocolate</th>\n",
       "      <th>gill_color_gray</th>\n",
       "      <th>gill_color_green</th>\n",
       "      <th>gill_color_orange</th>\n",
       "      <th>gill_color_pink</th>\n",
       "      <th>gill_color_purple</th>\n",
       "      <th>gill_color_red</th>\n",
       "      <th>gill_color_white</th>\n",
       "      <th>gill_color_yellow</th>\n",
       "    </tr>\n",
       "  </thead>\n",
       "  <tbody>\n",
       "    <tr>\n",
       "      <th>0</th>\n",
       "      <td>1</td>\n",
       "      <td>0</td>\n",
       "      <td>1</td>\n",
       "      <td>0</td>\n",
       "      <td>0</td>\n",
       "      <td>0</td>\n",
       "      <td>0</td>\n",
       "      <td>0</td>\n",
       "      <td>0</td>\n",
       "      <td>0</td>\n",
       "      <td>...</td>\n",
       "      <td>0</td>\n",
       "      <td>0</td>\n",
       "      <td>0</td>\n",
       "      <td>0</td>\n",
       "      <td>0</td>\n",
       "      <td>0</td>\n",
       "      <td>0</td>\n",
       "      <td>0</td>\n",
       "      <td>0</td>\n",
       "      <td>0</td>\n",
       "    </tr>\n",
       "    <tr>\n",
       "      <th>1</th>\n",
       "      <td>0</td>\n",
       "      <td>1</td>\n",
       "      <td>0</td>\n",
       "      <td>1</td>\n",
       "      <td>0</td>\n",
       "      <td>0</td>\n",
       "      <td>0</td>\n",
       "      <td>0</td>\n",
       "      <td>0</td>\n",
       "      <td>0</td>\n",
       "      <td>...</td>\n",
       "      <td>0</td>\n",
       "      <td>0</td>\n",
       "      <td>0</td>\n",
       "      <td>0</td>\n",
       "      <td>0</td>\n",
       "      <td>0</td>\n",
       "      <td>0</td>\n",
       "      <td>0</td>\n",
       "      <td>0</td>\n",
       "      <td>0</td>\n",
       "    </tr>\n",
       "    <tr>\n",
       "      <th>2</th>\n",
       "      <td>0</td>\n",
       "      <td>1</td>\n",
       "      <td>0</td>\n",
       "      <td>0</td>\n",
       "      <td>1</td>\n",
       "      <td>0</td>\n",
       "      <td>0</td>\n",
       "      <td>0</td>\n",
       "      <td>0</td>\n",
       "      <td>0</td>\n",
       "      <td>...</td>\n",
       "      <td>0</td>\n",
       "      <td>0</td>\n",
       "      <td>0</td>\n",
       "      <td>0</td>\n",
       "      <td>0</td>\n",
       "      <td>0</td>\n",
       "      <td>0</td>\n",
       "      <td>0</td>\n",
       "      <td>0</td>\n",
       "      <td>0</td>\n",
       "    </tr>\n",
       "  </tbody>\n",
       "</table>\n",
       "<p>3 rows × 34 columns</p>\n",
       "</div>"
      ],
      "text/plain": [
       "   edibility  edible  poisonous  odor_almond  odor_anise  odor_creosote  \\\n",
       "0          1       0          1            0           0              0   \n",
       "1          0       1          0            1           0              0   \n",
       "2          0       1          0            0           1              0   \n",
       "\n",
       "   odor_fishy  odor_foul  odor_musty  odor_none        ...          \\\n",
       "0           0          0           0          0        ...           \n",
       "1           0          0           0          0        ...           \n",
       "2           0          0           0          0        ...           \n",
       "\n",
       "   gill_color_buff  gill_color_chocolate  gill_color_gray  gill_color_green  \\\n",
       "0                0                     0                0                 0   \n",
       "1                0                     0                0                 0   \n",
       "2                0                     0                0                 0   \n",
       "\n",
       "   gill_color_orange  gill_color_pink  gill_color_purple  gill_color_red  \\\n",
       "0                  0                0                  0               0   \n",
       "1                  0                0                  0               0   \n",
       "2                  0                0                  0               0   \n",
       "\n",
       "   gill_color_white  gill_color_yellow  \n",
       "0                 0                  0  \n",
       "1                 0                  0  \n",
       "2                 0                  0  \n",
       "\n",
       "[3 rows x 34 columns]"
      ]
     },
     "execution_count": 40,
     "metadata": {},
     "output_type": "execute_result"
    }
   ],
   "source": [
    "#getting dummy varialbes for each column that contains categorical values\n",
    "df2_with_dummies = pd.get_dummies(df2)\n",
    "df3 = df2_with_dummies\n",
    "df3.head(3)"
   ]
  },
  {
   "cell_type": "code",
   "execution_count": 41,
   "metadata": {},
   "outputs": [
    {
     "data": {
      "text/plain": [
       "Index(['edibility', 'edible', 'poisonous', 'odor_almond', 'odor_anise',\n",
       "       'odor_creosote', 'odor_fishy', 'odor_foul', 'odor_musty', 'odor_none',\n",
       "       'odor_pungent', 'odor_spicy', 'cap_color_brown', 'cap_color_buff',\n",
       "       'cap_color_cinnamon', 'cap_color_gray', 'cap_color_green',\n",
       "       'cap_color_pink', 'cap_color_purple', 'cap_color_red',\n",
       "       'cap_color_white', 'cap_color_yellow', 'gill_color_black',\n",
       "       'gill_color_brown', 'gill_color_buff', 'gill_color_chocolate',\n",
       "       'gill_color_gray', 'gill_color_green', 'gill_color_orange',\n",
       "       'gill_color_pink', 'gill_color_purple', 'gill_color_red',\n",
       "       'gill_color_white', 'gill_color_yellow'],\n",
       "      dtype='object')"
      ]
     },
     "execution_count": 41,
     "metadata": {},
     "output_type": "execute_result"
    }
   ],
   "source": [
    "#checking the columns\n",
    "df3.columns"
   ]
  },
  {
   "cell_type": "code",
   "execution_count": 42,
   "metadata": {},
   "outputs": [
    {
     "data": {
      "text/plain": [
       "(8124, 34)"
      ]
     },
     "execution_count": 42,
     "metadata": {},
     "output_type": "execute_result"
    }
   ],
   "source": [
    "#checking the number of rows and columns of df3\n",
    "df3.shape"
   ]
  },
  {
   "cell_type": "code",
   "execution_count": 43,
   "metadata": {},
   "outputs": [
    {
     "name": "stdout",
     "output_type": "stream",
     "text": [
      "<class 'pandas.core.frame.DataFrame'>\n",
      "RangeIndex: 8124 entries, 0 to 8123\n",
      "Data columns (total 34 columns):\n",
      "edibility               8124 non-null int64\n",
      "edible                  8124 non-null uint8\n",
      "poisonous               8124 non-null uint8\n",
      "odor_almond             8124 non-null uint8\n",
      "odor_anise              8124 non-null uint8\n",
      "odor_creosote           8124 non-null uint8\n",
      "odor_fishy              8124 non-null uint8\n",
      "odor_foul               8124 non-null uint8\n",
      "odor_musty              8124 non-null uint8\n",
      "odor_none               8124 non-null uint8\n",
      "odor_pungent            8124 non-null uint8\n",
      "odor_spicy              8124 non-null uint8\n",
      "cap_color_brown         8124 non-null uint8\n",
      "cap_color_buff          8124 non-null uint8\n",
      "cap_color_cinnamon      8124 non-null uint8\n",
      "cap_color_gray          8124 non-null uint8\n",
      "cap_color_green         8124 non-null uint8\n",
      "cap_color_pink          8124 non-null uint8\n",
      "cap_color_purple        8124 non-null uint8\n",
      "cap_color_red           8124 non-null uint8\n",
      "cap_color_white         8124 non-null uint8\n",
      "cap_color_yellow        8124 non-null uint8\n",
      "gill_color_black        8124 non-null uint8\n",
      "gill_color_brown        8124 non-null uint8\n",
      "gill_color_buff         8124 non-null uint8\n",
      "gill_color_chocolate    8124 non-null uint8\n",
      "gill_color_gray         8124 non-null uint8\n",
      "gill_color_green        8124 non-null uint8\n",
      "gill_color_orange       8124 non-null uint8\n",
      "gill_color_pink         8124 non-null uint8\n",
      "gill_color_purple       8124 non-null uint8\n",
      "gill_color_red          8124 non-null uint8\n",
      "gill_color_white        8124 non-null uint8\n",
      "gill_color_yellow       8124 non-null uint8\n",
      "dtypes: int64(1), uint8(33)\n",
      "memory usage: 325.4 KB\n"
     ]
    }
   ],
   "source": [
    "#printing a concise summary of dataframe df3\n",
    "df3.info()"
   ]
  },
  {
   "cell_type": "code",
   "execution_count": 44,
   "metadata": {},
   "outputs": [
    {
     "data": {
      "image/png": "[encoded data removed]",
      "text/plain": [
       "<Figure size 2160x1440 with 2 Axes>"
      ]
     },
     "metadata": {
      "needs_background": "light"
     },
     "output_type": "display_data"
    }
   ],
   "source": [
    "#creating the heatmap using the dummy variables in df3 dataframe\n",
    "plt.figure(figsize=(30,20))\n",
    "sns.heatmap(df3.corr(),linewidths=.1,cmap=\"YlGnBu\", annot=True)\n",
    "plt.yticks(rotation=0);"
   ]
  },
  {
   "cell_type": "markdown",
   "metadata": {},
   "source": [
    "### Phase II - 2) Use scikit-learn to determine which of the predictor columns that you selected (odor and the other columns of your choice) most accurately predicts whether or not a mushroom is poisonous. How you go about doing this with scikit-learn is up to you as a practitioner of data analytics."
   ]
  },
  {
   "cell_type": "markdown",
   "metadata": {},
   "source": [
    "Since the response variable is a binary categorical variable, while the explanatory variables are dummy variables created from the values of a categorical variable, I will use logistic regression for the regression model, using scikit-learn.<br> This project is classification, a supervised learning in which the response is categorical. "
   ]
  },
  {
   "cell_type": "code",
   "execution_count": 45,
   "metadata": {},
   "outputs": [
    {
     "data": {
      "text/html": [
       "<div>\n",
       "<style scoped>\n",
       "    .dataframe tbody tr th:only-of-type {\n",
       "        vertical-align: middle;\n",
       "    }\n",
       "\n",
       "    .dataframe tbody tr th {\n",
       "        vertical-align: top;\n",
       "    }\n",
       "\n",
       "    .dataframe thead th {\n",
       "        text-align: right;\n",
       "    }\n",
       "</style>\n",
       "<table border=\"1\" class=\"dataframe\">\n",
       "  <thead>\n",
       "    <tr style=\"text-align: right;\">\n",
       "      <th></th>\n",
       "      <th>edibility</th>\n",
       "      <th>edible</th>\n",
       "      <th>poisonous</th>\n",
       "      <th>odor_almond</th>\n",
       "      <th>odor_anise</th>\n",
       "      <th>odor_creosote</th>\n",
       "      <th>odor_fishy</th>\n",
       "      <th>odor_foul</th>\n",
       "      <th>odor_musty</th>\n",
       "      <th>odor_none</th>\n",
       "      <th>...</th>\n",
       "      <th>gill_color_buff</th>\n",
       "      <th>gill_color_chocolate</th>\n",
       "      <th>gill_color_gray</th>\n",
       "      <th>gill_color_green</th>\n",
       "      <th>gill_color_orange</th>\n",
       "      <th>gill_color_pink</th>\n",
       "      <th>gill_color_purple</th>\n",
       "      <th>gill_color_red</th>\n",
       "      <th>gill_color_white</th>\n",
       "      <th>gill_color_yellow</th>\n",
       "    </tr>\n",
       "  </thead>\n",
       "  <tbody>\n",
       "    <tr>\n",
       "      <th>0</th>\n",
       "      <td>1</td>\n",
       "      <td>0</td>\n",
       "      <td>1</td>\n",
       "      <td>0</td>\n",
       "      <td>0</td>\n",
       "      <td>0</td>\n",
       "      <td>0</td>\n",
       "      <td>0</td>\n",
       "      <td>0</td>\n",
       "      <td>0</td>\n",
       "      <td>...</td>\n",
       "      <td>0</td>\n",
       "      <td>0</td>\n",
       "      <td>0</td>\n",
       "      <td>0</td>\n",
       "      <td>0</td>\n",
       "      <td>0</td>\n",
       "      <td>0</td>\n",
       "      <td>0</td>\n",
       "      <td>0</td>\n",
       "      <td>0</td>\n",
       "    </tr>\n",
       "    <tr>\n",
       "      <th>1</th>\n",
       "      <td>0</td>\n",
       "      <td>1</td>\n",
       "      <td>0</td>\n",
       "      <td>1</td>\n",
       "      <td>0</td>\n",
       "      <td>0</td>\n",
       "      <td>0</td>\n",
       "      <td>0</td>\n",
       "      <td>0</td>\n",
       "      <td>0</td>\n",
       "      <td>...</td>\n",
       "      <td>0</td>\n",
       "      <td>0</td>\n",
       "      <td>0</td>\n",
       "      <td>0</td>\n",
       "      <td>0</td>\n",
       "      <td>0</td>\n",
       "      <td>0</td>\n",
       "      <td>0</td>\n",
       "      <td>0</td>\n",
       "      <td>0</td>\n",
       "    </tr>\n",
       "    <tr>\n",
       "      <th>2</th>\n",
       "      <td>0</td>\n",
       "      <td>1</td>\n",
       "      <td>0</td>\n",
       "      <td>0</td>\n",
       "      <td>1</td>\n",
       "      <td>0</td>\n",
       "      <td>0</td>\n",
       "      <td>0</td>\n",
       "      <td>0</td>\n",
       "      <td>0</td>\n",
       "      <td>...</td>\n",
       "      <td>0</td>\n",
       "      <td>0</td>\n",
       "      <td>0</td>\n",
       "      <td>0</td>\n",
       "      <td>0</td>\n",
       "      <td>0</td>\n",
       "      <td>0</td>\n",
       "      <td>0</td>\n",
       "      <td>0</td>\n",
       "      <td>0</td>\n",
       "    </tr>\n",
       "  </tbody>\n",
       "</table>\n",
       "<p>3 rows × 34 columns</p>\n",
       "</div>"
      ],
      "text/plain": [
       "   edibility  edible  poisonous  odor_almond  odor_anise  odor_creosote  \\\n",
       "0          1       0          1            0           0              0   \n",
       "1          0       1          0            1           0              0   \n",
       "2          0       1          0            0           1              0   \n",
       "\n",
       "   odor_fishy  odor_foul  odor_musty  odor_none        ...          \\\n",
       "0           0          0           0          0        ...           \n",
       "1           0          0           0          0        ...           \n",
       "2           0          0           0          0        ...           \n",
       "\n",
       "   gill_color_buff  gill_color_chocolate  gill_color_gray  gill_color_green  \\\n",
       "0                0                     0                0                 0   \n",
       "1                0                     0                0                 0   \n",
       "2                0                     0                0                 0   \n",
       "\n",
       "   gill_color_orange  gill_color_pink  gill_color_purple  gill_color_red  \\\n",
       "0                  0                0                  0               0   \n",
       "1                  0                0                  0               0   \n",
       "2                  0                0                  0               0   \n",
       "\n",
       "   gill_color_white  gill_color_yellow  \n",
       "0                 0                  0  \n",
       "1                 0                  0  \n",
       "2                 0                  0  \n",
       "\n",
       "[3 rows x 34 columns]"
      ]
     },
     "execution_count": 45,
     "metadata": {},
     "output_type": "execute_result"
    }
   ],
   "source": [
    "#sanity check\n",
    "df3.head(3)"
   ]
  },
  {
   "cell_type": "code",
   "execution_count": 46,
   "metadata": {},
   "outputs": [
    {
     "data": {
      "text/html": [
       "<div>\n",
       "<style scoped>\n",
       "    .dataframe tbody tr th:only-of-type {\n",
       "        vertical-align: middle;\n",
       "    }\n",
       "\n",
       "    .dataframe tbody tr th {\n",
       "        vertical-align: top;\n",
       "    }\n",
       "\n",
       "    .dataframe thead th {\n",
       "        text-align: right;\n",
       "    }\n",
       "</style>\n",
       "<table border=\"1\" class=\"dataframe\">\n",
       "  <thead>\n",
       "    <tr style=\"text-align: right;\">\n",
       "      <th></th>\n",
       "      <th>odor_almond</th>\n",
       "      <th>odor_anise</th>\n",
       "      <th>odor_creosote</th>\n",
       "      <th>odor_fishy</th>\n",
       "      <th>odor_foul</th>\n",
       "      <th>odor_musty</th>\n",
       "      <th>odor_none</th>\n",
       "      <th>odor_pungent</th>\n",
       "      <th>odor_spicy</th>\n",
       "      <th>cap_color_brown</th>\n",
       "      <th>...</th>\n",
       "      <th>gill_color_buff</th>\n",
       "      <th>gill_color_chocolate</th>\n",
       "      <th>gill_color_gray</th>\n",
       "      <th>gill_color_green</th>\n",
       "      <th>gill_color_orange</th>\n",
       "      <th>gill_color_pink</th>\n",
       "      <th>gill_color_purple</th>\n",
       "      <th>gill_color_red</th>\n",
       "      <th>gill_color_white</th>\n",
       "      <th>gill_color_yellow</th>\n",
       "    </tr>\n",
       "  </thead>\n",
       "  <tbody>\n",
       "    <tr>\n",
       "      <th>0</th>\n",
       "      <td>0</td>\n",
       "      <td>0</td>\n",
       "      <td>0</td>\n",
       "      <td>0</td>\n",
       "      <td>0</td>\n",
       "      <td>0</td>\n",
       "      <td>0</td>\n",
       "      <td>1</td>\n",
       "      <td>0</td>\n",
       "      <td>1</td>\n",
       "      <td>...</td>\n",
       "      <td>0</td>\n",
       "      <td>0</td>\n",
       "      <td>0</td>\n",
       "      <td>0</td>\n",
       "      <td>0</td>\n",
       "      <td>0</td>\n",
       "      <td>0</td>\n",
       "      <td>0</td>\n",
       "      <td>0</td>\n",
       "      <td>0</td>\n",
       "    </tr>\n",
       "    <tr>\n",
       "      <th>1</th>\n",
       "      <td>1</td>\n",
       "      <td>0</td>\n",
       "      <td>0</td>\n",
       "      <td>0</td>\n",
       "      <td>0</td>\n",
       "      <td>0</td>\n",
       "      <td>0</td>\n",
       "      <td>0</td>\n",
       "      <td>0</td>\n",
       "      <td>0</td>\n",
       "      <td>...</td>\n",
       "      <td>0</td>\n",
       "      <td>0</td>\n",
       "      <td>0</td>\n",
       "      <td>0</td>\n",
       "      <td>0</td>\n",
       "      <td>0</td>\n",
       "      <td>0</td>\n",
       "      <td>0</td>\n",
       "      <td>0</td>\n",
       "      <td>0</td>\n",
       "    </tr>\n",
       "    <tr>\n",
       "      <th>2</th>\n",
       "      <td>0</td>\n",
       "      <td>1</td>\n",
       "      <td>0</td>\n",
       "      <td>0</td>\n",
       "      <td>0</td>\n",
       "      <td>0</td>\n",
       "      <td>0</td>\n",
       "      <td>0</td>\n",
       "      <td>0</td>\n",
       "      <td>0</td>\n",
       "      <td>...</td>\n",
       "      <td>0</td>\n",
       "      <td>0</td>\n",
       "      <td>0</td>\n",
       "      <td>0</td>\n",
       "      <td>0</td>\n",
       "      <td>0</td>\n",
       "      <td>0</td>\n",
       "      <td>0</td>\n",
       "      <td>0</td>\n",
       "      <td>0</td>\n",
       "    </tr>\n",
       "  </tbody>\n",
       "</table>\n",
       "<p>3 rows × 31 columns</p>\n",
       "</div>"
      ],
      "text/plain": [
       "   odor_almond  odor_anise  odor_creosote  odor_fishy  odor_foul  odor_musty  \\\n",
       "0            0           0              0           0          0           0   \n",
       "1            1           0              0           0          0           0   \n",
       "2            0           1              0           0          0           0   \n",
       "\n",
       "   odor_none  odor_pungent  odor_spicy  cap_color_brown        ...          \\\n",
       "0          0             1           0                1        ...           \n",
       "1          0             0           0                0        ...           \n",
       "2          0             0           0                0        ...           \n",
       "\n",
       "   gill_color_buff  gill_color_chocolate  gill_color_gray  gill_color_green  \\\n",
       "0                0                     0                0                 0   \n",
       "1                0                     0                0                 0   \n",
       "2                0                     0                0                 0   \n",
       "\n",
       "   gill_color_orange  gill_color_pink  gill_color_purple  gill_color_red  \\\n",
       "0                  0                0                  0               0   \n",
       "1                  0                0                  0               0   \n",
       "2                  0                0                  0               0   \n",
       "\n",
       "   gill_color_white  gill_color_yellow  \n",
       "0                 0                  0  \n",
       "1                 0                  0  \n",
       "2                 0                  0  \n",
       "\n",
       "[3 rows x 31 columns]"
      ]
     },
     "execution_count": 46,
     "metadata": {},
     "output_type": "execute_result"
    }
   ],
   "source": [
    "#pulling out the explanatory(independent) variables\n",
    "X = df3.drop(['edibility', 'edible', 'poisonous'], axis=1)\n",
    "X.head(3)"
   ]
  },
  {
   "cell_type": "code",
   "execution_count": 47,
   "metadata": {},
   "outputs": [
    {
     "data": {
      "text/html": [
       "<div>\n",
       "<style scoped>\n",
       "    .dataframe tbody tr th:only-of-type {\n",
       "        vertical-align: middle;\n",
       "    }\n",
       "\n",
       "    .dataframe tbody tr th {\n",
       "        vertical-align: top;\n",
       "    }\n",
       "\n",
       "    .dataframe thead th {\n",
       "        text-align: right;\n",
       "    }\n",
       "</style>\n",
       "<table border=\"1\" class=\"dataframe\">\n",
       "  <thead>\n",
       "    <tr style=\"text-align: right;\">\n",
       "      <th></th>\n",
       "      <th>edibility</th>\n",
       "    </tr>\n",
       "  </thead>\n",
       "  <tbody>\n",
       "    <tr>\n",
       "      <th>0</th>\n",
       "      <td>1</td>\n",
       "    </tr>\n",
       "    <tr>\n",
       "      <th>1</th>\n",
       "      <td>0</td>\n",
       "    </tr>\n",
       "    <tr>\n",
       "      <th>2</th>\n",
       "      <td>0</td>\n",
       "    </tr>\n",
       "  </tbody>\n",
       "</table>\n",
       "</div>"
      ],
      "text/plain": [
       "   edibility\n",
       "0          1\n",
       "1          0\n",
       "2          0"
      ]
     },
     "execution_count": 47,
     "metadata": {},
     "output_type": "execute_result"
    }
   ],
   "source": [
    "#pulling out the response(dependent) variable\n",
    "y = df3[['edibility']]\n",
    "y.head(3)"
   ]
  },
  {
   "cell_type": "code",
   "execution_count": 48,
   "metadata": {},
   "outputs": [
    {
     "name": "stdout",
     "output_type": "stream",
     "text": [
      "<class 'pandas.core.frame.DataFrame'>\n",
      "RangeIndex: 8124 entries, 0 to 8123\n",
      "Data columns (total 31 columns):\n",
      "odor_almond             8124 non-null uint8\n",
      "odor_anise              8124 non-null uint8\n",
      "odor_creosote           8124 non-null uint8\n",
      "odor_fishy              8124 non-null uint8\n",
      "odor_foul               8124 non-null uint8\n",
      "odor_musty              8124 non-null uint8\n",
      "odor_none               8124 non-null uint8\n",
      "odor_pungent            8124 non-null uint8\n",
      "odor_spicy              8124 non-null uint8\n",
      "cap_color_brown         8124 non-null uint8\n",
      "cap_color_buff          8124 non-null uint8\n",
      "cap_color_cinnamon      8124 non-null uint8\n",
      "cap_color_gray          8124 non-null uint8\n",
      "cap_color_green         8124 non-null uint8\n",
      "cap_color_pink          8124 non-null uint8\n",
      "cap_color_purple        8124 non-null uint8\n",
      "cap_color_red           8124 non-null uint8\n",
      "cap_color_white         8124 non-null uint8\n",
      "cap_color_yellow        8124 non-null uint8\n",
      "gill_color_black        8124 non-null uint8\n",
      "gill_color_brown        8124 non-null uint8\n",
      "gill_color_buff         8124 non-null uint8\n",
      "gill_color_chocolate    8124 non-null uint8\n",
      "gill_color_gray         8124 non-null uint8\n",
      "gill_color_green        8124 non-null uint8\n",
      "gill_color_orange       8124 non-null uint8\n",
      "gill_color_pink         8124 non-null uint8\n",
      "gill_color_purple       8124 non-null uint8\n",
      "gill_color_red          8124 non-null uint8\n",
      "gill_color_white        8124 non-null uint8\n",
      "gill_color_yellow       8124 non-null uint8\n",
      "dtypes: uint8(31)\n",
      "memory usage: 246.0 KB\n"
     ]
    }
   ],
   "source": [
    "X.info()"
   ]
  },
  {
   "cell_type": "code",
   "execution_count": 49,
   "metadata": {},
   "outputs": [
    {
     "name": "stdout",
     "output_type": "stream",
     "text": [
      "<class 'pandas.core.frame.DataFrame'>\n",
      "RangeIndex: 8124 entries, 0 to 8123\n",
      "Data columns (total 1 columns):\n",
      "edibility    8124 non-null int64\n",
      "dtypes: int64(1)\n",
      "memory usage: 63.5 KB\n"
     ]
    }
   ],
   "source": [
    "y.info()"
   ]
  },
  {
   "cell_type": "markdown",
   "metadata": {},
   "source": [
    "### 1) Using 'odor' variable as predictor : In the EDA step above, I found that 'odor' variable is a quite accurate predictor. Hence, I want to use 'odor' as predictor here."
   ]
  },
  {
   "cell_type": "code",
   "execution_count": 50,
   "metadata": {},
   "outputs": [],
   "source": [
    "import patsy\n",
    "from patsy import *"
   ]
  },
  {
   "cell_type": "code",
   "execution_count": 51,
   "metadata": {},
   "outputs": [
    {
     "name": "stdout",
     "output_type": "stream",
     "text": [
      "Index(['Intercept', 'odor_almond', 'odor_anise', 'odor_creosote', 'odor_fishy',\n",
      "       'odor_foul', 'odor_musty', 'odor_none', 'odor_pungent', 'odor_spicy'],\n",
      "      dtype='object')\n"
     ]
    },
    {
     "data": {
      "text/html": [
       "<div>\n",
       "<style scoped>\n",
       "    .dataframe tbody tr th:only-of-type {\n",
       "        vertical-align: middle;\n",
       "    }\n",
       "\n",
       "    .dataframe tbody tr th {\n",
       "        vertical-align: top;\n",
       "    }\n",
       "\n",
       "    .dataframe thead th {\n",
       "        text-align: right;\n",
       "    }\n",
       "</style>\n",
       "<table border=\"1\" class=\"dataframe\">\n",
       "  <thead>\n",
       "    <tr style=\"text-align: right;\">\n",
       "      <th></th>\n",
       "      <th>Intercept</th>\n",
       "      <th>odor_almond</th>\n",
       "      <th>odor_anise</th>\n",
       "      <th>odor_creosote</th>\n",
       "      <th>odor_fishy</th>\n",
       "      <th>odor_foul</th>\n",
       "      <th>odor_musty</th>\n",
       "      <th>odor_none</th>\n",
       "      <th>odor_pungent</th>\n",
       "      <th>odor_spicy</th>\n",
       "    </tr>\n",
       "  </thead>\n",
       "  <tbody>\n",
       "    <tr>\n",
       "      <th>0</th>\n",
       "      <td>1.0</td>\n",
       "      <td>0.0</td>\n",
       "      <td>0.0</td>\n",
       "      <td>0.0</td>\n",
       "      <td>0.0</td>\n",
       "      <td>0.0</td>\n",
       "      <td>0.0</td>\n",
       "      <td>0.0</td>\n",
       "      <td>1.0</td>\n",
       "      <td>0.0</td>\n",
       "    </tr>\n",
       "    <tr>\n",
       "      <th>1</th>\n",
       "      <td>1.0</td>\n",
       "      <td>1.0</td>\n",
       "      <td>0.0</td>\n",
       "      <td>0.0</td>\n",
       "      <td>0.0</td>\n",
       "      <td>0.0</td>\n",
       "      <td>0.0</td>\n",
       "      <td>0.0</td>\n",
       "      <td>0.0</td>\n",
       "      <td>0.0</td>\n",
       "    </tr>\n",
       "    <tr>\n",
       "      <th>2</th>\n",
       "      <td>1.0</td>\n",
       "      <td>0.0</td>\n",
       "      <td>1.0</td>\n",
       "      <td>0.0</td>\n",
       "      <td>0.0</td>\n",
       "      <td>0.0</td>\n",
       "      <td>0.0</td>\n",
       "      <td>0.0</td>\n",
       "      <td>0.0</td>\n",
       "      <td>0.0</td>\n",
       "    </tr>\n",
       "  </tbody>\n",
       "</table>\n",
       "</div>"
      ],
      "text/plain": [
       "   Intercept  odor_almond  odor_anise  odor_creosote  odor_fishy  odor_foul  \\\n",
       "0        1.0          0.0         0.0            0.0         0.0        0.0   \n",
       "1        1.0          1.0         0.0            0.0         0.0        0.0   \n",
       "2        1.0          0.0         1.0            0.0         0.0        0.0   \n",
       "\n",
       "   odor_musty  odor_none  odor_pungent  odor_spicy  \n",
       "0         0.0        0.0           1.0         0.0  \n",
       "1         0.0        0.0           0.0         0.0  \n",
       "2         0.0        0.0           0.0         0.0  "
      ]
     },
     "execution_count": 51,
     "metadata": {},
     "output_type": "execute_result"
    }
   ],
   "source": [
    "#creating dataframes with an intercept column and dummy variables\n",
    "y_odor, X_odor = dmatrices('edibility ~ odor_almond + odor_anise + odor_creosote \\\n",
    "                           + odor_fishy + odor_foul + odor_musty + odor_none \\\n",
    "                           + odor_pungent + odor_spicy',\n",
    "                           df3, return_type='dataframe')   \n",
    "print (X_odor.columns)\n",
    "X_odor.head(3)"
   ]
  },
  {
   "cell_type": "code",
   "execution_count": 52,
   "metadata": {},
   "outputs": [
    {
     "data": {
      "text/plain": [
       "array([1., 0., 0., ..., 0., 1., 0.])"
      ]
     },
     "execution_count": 52,
     "metadata": {},
     "output_type": "execute_result"
    }
   ],
   "source": [
    "#flattening y into a 1-D array\n",
    "y_odor = np.ravel(y_odor)\n",
    "y_odor"
   ]
  },
  {
   "cell_type": "code",
   "execution_count": 53,
   "metadata": {},
   "outputs": [],
   "source": [
    "import sklearn"
   ]
  },
  {
   "cell_type": "code",
   "execution_count": 54,
   "metadata": {
    "scrolled": true
   },
   "outputs": [
    {
     "name": "stderr",
     "output_type": "stream",
     "text": [
      "C:\\Users\\Minyeong\\Anaconda3\\lib\\site-packages\\sklearn\\linear_model\\logistic.py:433: FutureWarning: Default solver will be changed to 'lbfgs' in 0.22. Specify a solver to silence this warning.\n",
      "  FutureWarning)\n"
     ]
    },
    {
     "data": {
      "text/plain": [
       "0.9852289512555391"
      ]
     },
     "execution_count": 54,
     "metadata": {},
     "output_type": "execute_result"
    }
   ],
   "source": [
    "from sklearn.linear_model import LogisticRegression\n",
    "\n",
    "#instantiating a logistic regression model, and fitting with X_odor and y_odor\n",
    "model1 = LogisticRegression()\n",
    "model1 = model1.fit(X_odor, y_odor)\n",
    "\n",
    "#checking the accurcy on the training set\n",
    "model1.score(X_odor, y_odor)"
   ]
  },
  {
   "cell_type": "markdown",
   "metadata": {},
   "source": [
    "Based on above, by using 'odor' variable only, we can predict if the mushroom is poisonous or not with 98.52% accuracy."
   ]
  },
  {
   "cell_type": "code",
   "execution_count": 55,
   "metadata": {},
   "outputs": [
    {
     "data": {
      "text/html": [
       "<div>\n",
       "<style scoped>\n",
       "    .dataframe tbody tr th:only-of-type {\n",
       "        vertical-align: middle;\n",
       "    }\n",
       "\n",
       "    .dataframe tbody tr th {\n",
       "        vertical-align: top;\n",
       "    }\n",
       "\n",
       "    .dataframe thead th {\n",
       "        text-align: right;\n",
       "    }\n",
       "</style>\n",
       "<table border=\"1\" class=\"dataframe\">\n",
       "  <thead>\n",
       "    <tr style=\"text-align: right;\">\n",
       "      <th></th>\n",
       "      <th>0</th>\n",
       "      <th>1</th>\n",
       "    </tr>\n",
       "  </thead>\n",
       "  <tbody>\n",
       "    <tr>\n",
       "      <th>0</th>\n",
       "      <td>Intercept</td>\n",
       "      <td>[0.8839671067637811]</td>\n",
       "    </tr>\n",
       "    <tr>\n",
       "      <th>1</th>\n",
       "      <td>odor_almond</td>\n",
       "      <td>[-5.961666958267549]</td>\n",
       "    </tr>\n",
       "    <tr>\n",
       "      <th>2</th>\n",
       "      <td>odor_anise</td>\n",
       "      <td>[-5.961666958267549]</td>\n",
       "    </tr>\n",
       "    <tr>\n",
       "      <th>3</th>\n",
       "      <td>odor_creosote</td>\n",
       "      <td>[2.5506462431732513]</td>\n",
       "    </tr>\n",
       "    <tr>\n",
       "      <th>4</th>\n",
       "      <td>odor_fishy</td>\n",
       "      <td>[3.3658645663959326]</td>\n",
       "    </tr>\n",
       "    <tr>\n",
       "      <th>5</th>\n",
       "      <td>odor_foul</td>\n",
       "      <td>[4.424063736289377]</td>\n",
       "    </tr>\n",
       "    <tr>\n",
       "      <th>6</th>\n",
       "      <td>odor_musty</td>\n",
       "      <td>[1.413158955404316]</td>\n",
       "    </tr>\n",
       "    <tr>\n",
       "      <th>7</th>\n",
       "      <td>odor_none</td>\n",
       "      <td>[-5.071454451843762]</td>\n",
       "    </tr>\n",
       "    <tr>\n",
       "      <th>8</th>\n",
       "      <td>odor_pungent</td>\n",
       "      <td>[2.7591574074850724]</td>\n",
       "    </tr>\n",
       "    <tr>\n",
       "      <th>9</th>\n",
       "      <td>odor_spicy</td>\n",
       "      <td>[3.3658645663959326]</td>\n",
       "    </tr>\n",
       "  </tbody>\n",
       "</table>\n",
       "</div>"
      ],
      "text/plain": [
       "               0                     1\n",
       "0      Intercept  [0.8839671067637811]\n",
       "1    odor_almond  [-5.961666958267549]\n",
       "2     odor_anise  [-5.961666958267549]\n",
       "3  odor_creosote  [2.5506462431732513]\n",
       "4     odor_fishy  [3.3658645663959326]\n",
       "5      odor_foul   [4.424063736289377]\n",
       "6     odor_musty   [1.413158955404316]\n",
       "7      odor_none  [-5.071454451843762]\n",
       "8   odor_pungent  [2.7591574074850724]\n",
       "9     odor_spicy  [3.3658645663959326]"
      ]
     },
     "execution_count": 55,
     "metadata": {},
     "output_type": "execute_result"
    }
   ],
   "source": [
    "#examining the coefficients\n",
    "pd.DataFrame(list(zip(X_odor.columns, np.transpose(model1.coef_))))"
   ]
  },
  {
   "cell_type": "markdown",
   "metadata": {},
   "source": [
    "Based on above, 'almond', 'anise', 'none' odors are positively associated with 'edible'(a '0' variable value) mushroom, and 'foul', 'fishy', 'spicy', 'pungent', 'creosote', 'musty' odors are positively associated with 'poisonous'(a '1' variable value) mushroom. Hence, no odor or fragrant mushrooms are more likely to be edible, rather than \"smelly\" mushrooms."
   ]
  },
  {
   "cell_type": "markdown",
   "metadata": {},
   "source": [
    "### 2) Using 'odor' and 'gill_color' variables as predictor : In the EDA step above, I found that 'gill_color' also can be a good predictor besides 'odor', so I am using both variables for the model."
   ]
  },
  {
   "cell_type": "code",
   "execution_count": 56,
   "metadata": {},
   "outputs": [
    {
     "name": "stdout",
     "output_type": "stream",
     "text": [
      "Index(['Intercept', 'odor_almond', 'odor_anise', 'odor_creosote', 'odor_fishy',\n",
      "       'odor_foul', 'odor_musty', 'odor_none', 'odor_pungent', 'odor_spicy',\n",
      "       'gill_color_black', 'gill_color_brown', 'gill_color_buff',\n",
      "       'gill_color_chocolate', 'gill_color_gray', 'gill_color_green',\n",
      "       'gill_color_orange', 'gill_color_pink', 'gill_color_purple',\n",
      "       'gill_color_red', 'gill_color_white', 'gill_color_yellow'],\n",
      "      dtype='object')\n"
     ]
    },
    {
     "data": {
      "text/html": [
       "<div>\n",
       "<style scoped>\n",
       "    .dataframe tbody tr th:only-of-type {\n",
       "        vertical-align: middle;\n",
       "    }\n",
       "\n",
       "    .dataframe tbody tr th {\n",
       "        vertical-align: top;\n",
       "    }\n",
       "\n",
       "    .dataframe thead th {\n",
       "        text-align: right;\n",
       "    }\n",
       "</style>\n",
       "<table border=\"1\" class=\"dataframe\">\n",
       "  <thead>\n",
       "    <tr style=\"text-align: right;\">\n",
       "      <th></th>\n",
       "      <th>Intercept</th>\n",
       "      <th>odor_almond</th>\n",
       "      <th>odor_anise</th>\n",
       "      <th>odor_creosote</th>\n",
       "      <th>odor_fishy</th>\n",
       "      <th>odor_foul</th>\n",
       "      <th>odor_musty</th>\n",
       "      <th>odor_none</th>\n",
       "      <th>odor_pungent</th>\n",
       "      <th>odor_spicy</th>\n",
       "      <th>...</th>\n",
       "      <th>gill_color_buff</th>\n",
       "      <th>gill_color_chocolate</th>\n",
       "      <th>gill_color_gray</th>\n",
       "      <th>gill_color_green</th>\n",
       "      <th>gill_color_orange</th>\n",
       "      <th>gill_color_pink</th>\n",
       "      <th>gill_color_purple</th>\n",
       "      <th>gill_color_red</th>\n",
       "      <th>gill_color_white</th>\n",
       "      <th>gill_color_yellow</th>\n",
       "    </tr>\n",
       "  </thead>\n",
       "  <tbody>\n",
       "    <tr>\n",
       "      <th>0</th>\n",
       "      <td>1.0</td>\n",
       "      <td>0.0</td>\n",
       "      <td>0.0</td>\n",
       "      <td>0.0</td>\n",
       "      <td>0.0</td>\n",
       "      <td>0.0</td>\n",
       "      <td>0.0</td>\n",
       "      <td>0.0</td>\n",
       "      <td>1.0</td>\n",
       "      <td>0.0</td>\n",
       "      <td>...</td>\n",
       "      <td>0.0</td>\n",
       "      <td>0.0</td>\n",
       "      <td>0.0</td>\n",
       "      <td>0.0</td>\n",
       "      <td>0.0</td>\n",
       "      <td>0.0</td>\n",
       "      <td>0.0</td>\n",
       "      <td>0.0</td>\n",
       "      <td>0.0</td>\n",
       "      <td>0.0</td>\n",
       "    </tr>\n",
       "    <tr>\n",
       "      <th>1</th>\n",
       "      <td>1.0</td>\n",
       "      <td>1.0</td>\n",
       "      <td>0.0</td>\n",
       "      <td>0.0</td>\n",
       "      <td>0.0</td>\n",
       "      <td>0.0</td>\n",
       "      <td>0.0</td>\n",
       "      <td>0.0</td>\n",
       "      <td>0.0</td>\n",
       "      <td>0.0</td>\n",
       "      <td>...</td>\n",
       "      <td>0.0</td>\n",
       "      <td>0.0</td>\n",
       "      <td>0.0</td>\n",
       "      <td>0.0</td>\n",
       "      <td>0.0</td>\n",
       "      <td>0.0</td>\n",
       "      <td>0.0</td>\n",
       "      <td>0.0</td>\n",
       "      <td>0.0</td>\n",
       "      <td>0.0</td>\n",
       "    </tr>\n",
       "    <tr>\n",
       "      <th>2</th>\n",
       "      <td>1.0</td>\n",
       "      <td>0.0</td>\n",
       "      <td>1.0</td>\n",
       "      <td>0.0</td>\n",
       "      <td>0.0</td>\n",
       "      <td>0.0</td>\n",
       "      <td>0.0</td>\n",
       "      <td>0.0</td>\n",
       "      <td>0.0</td>\n",
       "      <td>0.0</td>\n",
       "      <td>...</td>\n",
       "      <td>0.0</td>\n",
       "      <td>0.0</td>\n",
       "      <td>0.0</td>\n",
       "      <td>0.0</td>\n",
       "      <td>0.0</td>\n",
       "      <td>0.0</td>\n",
       "      <td>0.0</td>\n",
       "      <td>0.0</td>\n",
       "      <td>0.0</td>\n",
       "      <td>0.0</td>\n",
       "    </tr>\n",
       "  </tbody>\n",
       "</table>\n",
       "<p>3 rows × 22 columns</p>\n",
       "</div>"
      ],
      "text/plain": [
       "   Intercept  odor_almond  odor_anise  odor_creosote  odor_fishy  odor_foul  \\\n",
       "0        1.0          0.0         0.0            0.0         0.0        0.0   \n",
       "1        1.0          1.0         0.0            0.0         0.0        0.0   \n",
       "2        1.0          0.0         1.0            0.0         0.0        0.0   \n",
       "\n",
       "   odor_musty  odor_none  odor_pungent  odor_spicy        ...          \\\n",
       "0         0.0        0.0           1.0         0.0        ...           \n",
       "1         0.0        0.0           0.0         0.0        ...           \n",
       "2         0.0        0.0           0.0         0.0        ...           \n",
       "\n",
       "   gill_color_buff  gill_color_chocolate  gill_color_gray  gill_color_green  \\\n",
       "0              0.0                   0.0              0.0               0.0   \n",
       "1              0.0                   0.0              0.0               0.0   \n",
       "2              0.0                   0.0              0.0               0.0   \n",
       "\n",
       "   gill_color_orange  gill_color_pink  gill_color_purple  gill_color_red  \\\n",
       "0                0.0              0.0                0.0             0.0   \n",
       "1                0.0              0.0                0.0             0.0   \n",
       "2                0.0              0.0                0.0             0.0   \n",
       "\n",
       "   gill_color_white  gill_color_yellow  \n",
       "0               0.0                0.0  \n",
       "1               0.0                0.0  \n",
       "2               0.0                0.0  \n",
       "\n",
       "[3 rows x 22 columns]"
      ]
     },
     "execution_count": 56,
     "metadata": {},
     "output_type": "execute_result"
    }
   ],
   "source": [
    "#creating dataframes with an intercept column and dummy variables\n",
    "y_og, X_og = dmatrices('edibility ~ odor_almond + odor_anise + odor_creosote + odor_fishy \\\n",
    "                        + odor_foul + odor_musty + odor_none + odor_pungent + odor_spicy \\\n",
    "                        + gill_color_black + gill_color_brown + gill_color_buff \\\n",
    "                        + gill_color_chocolate + gill_color_gray + gill_color_green \\\n",
    "                        + gill_color_orange + gill_color_pink + gill_color_purple \\\n",
    "                        + gill_color_red + gill_color_white + gill_color_yellow',\n",
    "                           df3, return_type='dataframe')   \n",
    "print (X_og.columns)\n",
    "X_og.head(3)"
   ]
  },
  {
   "cell_type": "code",
   "execution_count": 57,
   "metadata": {},
   "outputs": [
    {
     "data": {
      "text/plain": [
       "array([1., 0., 0., ..., 0., 1., 0.])"
      ]
     },
     "execution_count": 57,
     "metadata": {},
     "output_type": "execute_result"
    }
   ],
   "source": [
    "#flattening y into a 1-D array\n",
    "y_og = np.ravel(y_og)\n",
    "y_og"
   ]
  },
  {
   "cell_type": "code",
   "execution_count": 58,
   "metadata": {},
   "outputs": [
    {
     "name": "stderr",
     "output_type": "stream",
     "text": [
      "C:\\Users\\Minyeong\\Anaconda3\\lib\\site-packages\\sklearn\\linear_model\\logistic.py:433: FutureWarning: Default solver will be changed to 'lbfgs' in 0.22. Specify a solver to silence this warning.\n",
      "  FutureWarning)\n"
     ]
    },
    {
     "data": {
      "text/plain": [
       "0.9881831610044313"
      ]
     },
     "execution_count": 58,
     "metadata": {},
     "output_type": "execute_result"
    }
   ],
   "source": [
    "#instantiating a logistic regression model, and fitting with X_og and y_og\n",
    "model2 = LogisticRegression()\n",
    "model2 = model2.fit(X_og, y_og)\n",
    "\n",
    "#checking the accurcy on the training set\n",
    "model2.score(X_og, y_og)"
   ]
  },
  {
   "cell_type": "markdown",
   "metadata": {},
   "source": [
    "Based on above, by using 'odor' and 'gill_color' variables together as predicotrs, the model became better in terms of accuracy as we can predict if the mushroom is poisonous or not with 98.82% accuracy, which is higher accuracy than 98.52% by using 'odor' variable alone."
   ]
  },
  {
   "cell_type": "markdown",
   "metadata": {},
   "source": [
    "### 3) Using 'odor' and 'cap_color' variables as predictor : In the EDA step above, I found that 'cap_color' can be a predictor with caution, as there are overlapped cap color for both 'edible' and 'poisonous' mushrooms. However, I want to examine if combining 'cap_color' and 'odor' can make a better model to predict the mushroom's edibility."
   ]
  },
  {
   "cell_type": "code",
   "execution_count": 59,
   "metadata": {},
   "outputs": [
    {
     "name": "stdout",
     "output_type": "stream",
     "text": [
      "Index(['Intercept', 'odor_almond', 'odor_anise', 'odor_creosote', 'odor_fishy',\n",
      "       'odor_foul', 'odor_musty', 'odor_none', 'odor_pungent', 'odor_spicy',\n",
      "       'cap_color_brown', 'cap_color_buff', 'cap_color_cinnamon',\n",
      "       'cap_color_gray', 'cap_color_green', 'cap_color_pink',\n",
      "       'cap_color_purple', 'cap_color_red', 'cap_color_white',\n",
      "       'cap_color_yellow'],\n",
      "      dtype='object')\n"
     ]
    },
    {
     "data": {
      "text/html": [
       "<div>\n",
       "<style scoped>\n",
       "    .dataframe tbody tr th:only-of-type {\n",
       "        vertical-align: middle;\n",
       "    }\n",
       "\n",
       "    .dataframe tbody tr th {\n",
       "        vertical-align: top;\n",
       "    }\n",
       "\n",
       "    .dataframe thead th {\n",
       "        text-align: right;\n",
       "    }\n",
       "</style>\n",
       "<table border=\"1\" class=\"dataframe\">\n",
       "  <thead>\n",
       "    <tr style=\"text-align: right;\">\n",
       "      <th></th>\n",
       "      <th>Intercept</th>\n",
       "      <th>odor_almond</th>\n",
       "      <th>odor_anise</th>\n",
       "      <th>odor_creosote</th>\n",
       "      <th>odor_fishy</th>\n",
       "      <th>odor_foul</th>\n",
       "      <th>odor_musty</th>\n",
       "      <th>odor_none</th>\n",
       "      <th>odor_pungent</th>\n",
       "      <th>odor_spicy</th>\n",
       "      <th>cap_color_brown</th>\n",
       "      <th>cap_color_buff</th>\n",
       "      <th>cap_color_cinnamon</th>\n",
       "      <th>cap_color_gray</th>\n",
       "      <th>cap_color_green</th>\n",
       "      <th>cap_color_pink</th>\n",
       "      <th>cap_color_purple</th>\n",
       "      <th>cap_color_red</th>\n",
       "      <th>cap_color_white</th>\n",
       "      <th>cap_color_yellow</th>\n",
       "    </tr>\n",
       "  </thead>\n",
       "  <tbody>\n",
       "    <tr>\n",
       "      <th>0</th>\n",
       "      <td>1.0</td>\n",
       "      <td>0.0</td>\n",
       "      <td>0.0</td>\n",
       "      <td>0.0</td>\n",
       "      <td>0.0</td>\n",
       "      <td>0.0</td>\n",
       "      <td>0.0</td>\n",
       "      <td>0.0</td>\n",
       "      <td>1.0</td>\n",
       "      <td>0.0</td>\n",
       "      <td>1.0</td>\n",
       "      <td>0.0</td>\n",
       "      <td>0.0</td>\n",
       "      <td>0.0</td>\n",
       "      <td>0.0</td>\n",
       "      <td>0.0</td>\n",
       "      <td>0.0</td>\n",
       "      <td>0.0</td>\n",
       "      <td>0.0</td>\n",
       "      <td>0.0</td>\n",
       "    </tr>\n",
       "    <tr>\n",
       "      <th>1</th>\n",
       "      <td>1.0</td>\n",
       "      <td>1.0</td>\n",
       "      <td>0.0</td>\n",
       "      <td>0.0</td>\n",
       "      <td>0.0</td>\n",
       "      <td>0.0</td>\n",
       "      <td>0.0</td>\n",
       "      <td>0.0</td>\n",
       "      <td>0.0</td>\n",
       "      <td>0.0</td>\n",
       "      <td>0.0</td>\n",
       "      <td>0.0</td>\n",
       "      <td>0.0</td>\n",
       "      <td>0.0</td>\n",
       "      <td>0.0</td>\n",
       "      <td>0.0</td>\n",
       "      <td>0.0</td>\n",
       "      <td>0.0</td>\n",
       "      <td>0.0</td>\n",
       "      <td>1.0</td>\n",
       "    </tr>\n",
       "    <tr>\n",
       "      <th>2</th>\n",
       "      <td>1.0</td>\n",
       "      <td>0.0</td>\n",
       "      <td>1.0</td>\n",
       "      <td>0.0</td>\n",
       "      <td>0.0</td>\n",
       "      <td>0.0</td>\n",
       "      <td>0.0</td>\n",
       "      <td>0.0</td>\n",
       "      <td>0.0</td>\n",
       "      <td>0.0</td>\n",
       "      <td>0.0</td>\n",
       "      <td>0.0</td>\n",
       "      <td>0.0</td>\n",
       "      <td>0.0</td>\n",
       "      <td>0.0</td>\n",
       "      <td>0.0</td>\n",
       "      <td>0.0</td>\n",
       "      <td>0.0</td>\n",
       "      <td>1.0</td>\n",
       "      <td>0.0</td>\n",
       "    </tr>\n",
       "  </tbody>\n",
       "</table>\n",
       "</div>"
      ],
      "text/plain": [
       "   Intercept  odor_almond  odor_anise  odor_creosote  odor_fishy  odor_foul  \\\n",
       "0        1.0          0.0         0.0            0.0         0.0        0.0   \n",
       "1        1.0          1.0         0.0            0.0         0.0        0.0   \n",
       "2        1.0          0.0         1.0            0.0         0.0        0.0   \n",
       "\n",
       "   odor_musty  odor_none  odor_pungent  odor_spicy  cap_color_brown  \\\n",
       "0         0.0        0.0           1.0         0.0              1.0   \n",
       "1         0.0        0.0           0.0         0.0              0.0   \n",
       "2         0.0        0.0           0.0         0.0              0.0   \n",
       "\n",
       "   cap_color_buff  cap_color_cinnamon  cap_color_gray  cap_color_green  \\\n",
       "0             0.0                 0.0             0.0              0.0   \n",
       "1             0.0                 0.0             0.0              0.0   \n",
       "2             0.0                 0.0             0.0              0.0   \n",
       "\n",
       "   cap_color_pink  cap_color_purple  cap_color_red  cap_color_white  \\\n",
       "0             0.0               0.0            0.0              0.0   \n",
       "1             0.0               0.0            0.0              0.0   \n",
       "2             0.0               0.0            0.0              1.0   \n",
       "\n",
       "   cap_color_yellow  \n",
       "0               0.0  \n",
       "1               1.0  \n",
       "2               0.0  "
      ]
     },
     "execution_count": 59,
     "metadata": {},
     "output_type": "execute_result"
    }
   ],
   "source": [
    "#creating dataframes with an intercept column and dummy variables\n",
    "y_oc, X_oc = dmatrices('edibility ~ odor_almond + odor_anise + odor_creosote + odor_fishy \\\n",
    "                        + odor_foul + odor_musty + odor_none + odor_pungent + odor_spicy \\\n",
    "                        + cap_color_brown + cap_color_buff + cap_color_cinnamon \\\n",
    "                        + cap_color_gray + cap_color_green + cap_color_pink \\\n",
    "                        + cap_color_purple + cap_color_red + cap_color_white + cap_color_yellow',\n",
    "                           df3, return_type='dataframe')   \n",
    "print (X_oc.columns)\n",
    "X_oc.head(3)"
   ]
  },
  {
   "cell_type": "code",
   "execution_count": 60,
   "metadata": {},
   "outputs": [
    {
     "data": {
      "text/plain": [
       "array([1., 0., 0., ..., 0., 1., 0.])"
      ]
     },
     "execution_count": 60,
     "metadata": {},
     "output_type": "execute_result"
    }
   ],
   "source": [
    "#flattening y into a 1-D array\n",
    "y_oc = np.ravel(y_oc)\n",
    "y_oc"
   ]
  },
  {
   "cell_type": "code",
   "execution_count": 61,
   "metadata": {},
   "outputs": [
    {
     "name": "stderr",
     "output_type": "stream",
     "text": [
      "C:\\Users\\Minyeong\\Anaconda3\\lib\\site-packages\\sklearn\\linear_model\\logistic.py:433: FutureWarning: Default solver will be changed to 'lbfgs' in 0.22. Specify a solver to silence this warning.\n",
      "  FutureWarning)\n"
     ]
    },
    {
     "data": {
      "text/plain": [
       "0.9852289512555391"
      ]
     },
     "execution_count": 61,
     "metadata": {},
     "output_type": "execute_result"
    }
   ],
   "source": [
    "#instantiating a logistic regression model, and fitting with X_oc and y_oc\n",
    "model3 = LogisticRegression()\n",
    "model3 = model3.fit(X_oc, y_oc)\n",
    "\n",
    "#checking the accurcy on the training set\n",
    "model3.score(X_oc, y_oc)"
   ]
  },
  {
   "cell_type": "markdown",
   "metadata": {},
   "source": [
    "Based on above, by using 'odor' and 'cap_color' variables together as predicotrs, the model did not become better in terms of accuracy as we can predict if the mushroom is poisonous or not with 98.52% accuracy, which is the same as 98.52% by using 'odor' variable alone."
   ]
  },
  {
   "cell_type": "markdown",
   "metadata": {},
   "source": [
    "### 4) Using 'gill-color' and 'cap_color' variables as predictor : In the EDA step above, I found that 'gill_color' is a good predictor besides 'odor', but 'cap_color' can be a predictor with caution, as there are overlapped cap color for both 'edible' and 'poisonous' mushrooms. However, I want to examine if combining 'gill_color' and 'cap_color' can make a model any better to predict the mushroom's edibility."
   ]
  },
  {
   "cell_type": "code",
   "execution_count": 62,
   "metadata": {},
   "outputs": [
    {
     "name": "stdout",
     "output_type": "stream",
     "text": [
      "Index(['Intercept', 'gill_color_black', 'gill_color_brown', 'gill_color_buff',\n",
      "       'gill_color_chocolate', 'gill_color_gray', 'gill_color_green',\n",
      "       'gill_color_orange', 'gill_color_pink', 'gill_color_purple',\n",
      "       'gill_color_red', 'gill_color_white', 'gill_color_yellow',\n",
      "       'cap_color_brown', 'cap_color_buff', 'cap_color_cinnamon',\n",
      "       'cap_color_gray', 'cap_color_green', 'cap_color_pink',\n",
      "       'cap_color_purple', 'cap_color_red', 'cap_color_white',\n",
      "       'cap_color_yellow'],\n",
      "      dtype='object')\n"
     ]
    },
    {
     "data": {
      "text/html": [
       "<div>\n",
       "<style scoped>\n",
       "    .dataframe tbody tr th:only-of-type {\n",
       "        vertical-align: middle;\n",
       "    }\n",
       "\n",
       "    .dataframe tbody tr th {\n",
       "        vertical-align: top;\n",
       "    }\n",
       "\n",
       "    .dataframe thead th {\n",
       "        text-align: right;\n",
       "    }\n",
       "</style>\n",
       "<table border=\"1\" class=\"dataframe\">\n",
       "  <thead>\n",
       "    <tr style=\"text-align: right;\">\n",
       "      <th></th>\n",
       "      <th>Intercept</th>\n",
       "      <th>gill_color_black</th>\n",
       "      <th>gill_color_brown</th>\n",
       "      <th>gill_color_buff</th>\n",
       "      <th>gill_color_chocolate</th>\n",
       "      <th>gill_color_gray</th>\n",
       "      <th>gill_color_green</th>\n",
       "      <th>gill_color_orange</th>\n",
       "      <th>gill_color_pink</th>\n",
       "      <th>gill_color_purple</th>\n",
       "      <th>...</th>\n",
       "      <th>cap_color_brown</th>\n",
       "      <th>cap_color_buff</th>\n",
       "      <th>cap_color_cinnamon</th>\n",
       "      <th>cap_color_gray</th>\n",
       "      <th>cap_color_green</th>\n",
       "      <th>cap_color_pink</th>\n",
       "      <th>cap_color_purple</th>\n",
       "      <th>cap_color_red</th>\n",
       "      <th>cap_color_white</th>\n",
       "      <th>cap_color_yellow</th>\n",
       "    </tr>\n",
       "  </thead>\n",
       "  <tbody>\n",
       "    <tr>\n",
       "      <th>0</th>\n",
       "      <td>1.0</td>\n",
       "      <td>1.0</td>\n",
       "      <td>0.0</td>\n",
       "      <td>0.0</td>\n",
       "      <td>0.0</td>\n",
       "      <td>0.0</td>\n",
       "      <td>0.0</td>\n",
       "      <td>0.0</td>\n",
       "      <td>0.0</td>\n",
       "      <td>0.0</td>\n",
       "      <td>...</td>\n",
       "      <td>1.0</td>\n",
       "      <td>0.0</td>\n",
       "      <td>0.0</td>\n",
       "      <td>0.0</td>\n",
       "      <td>0.0</td>\n",
       "      <td>0.0</td>\n",
       "      <td>0.0</td>\n",
       "      <td>0.0</td>\n",
       "      <td>0.0</td>\n",
       "      <td>0.0</td>\n",
       "    </tr>\n",
       "    <tr>\n",
       "      <th>1</th>\n",
       "      <td>1.0</td>\n",
       "      <td>1.0</td>\n",
       "      <td>0.0</td>\n",
       "      <td>0.0</td>\n",
       "      <td>0.0</td>\n",
       "      <td>0.0</td>\n",
       "      <td>0.0</td>\n",
       "      <td>0.0</td>\n",
       "      <td>0.0</td>\n",
       "      <td>0.0</td>\n",
       "      <td>...</td>\n",
       "      <td>0.0</td>\n",
       "      <td>0.0</td>\n",
       "      <td>0.0</td>\n",
       "      <td>0.0</td>\n",
       "      <td>0.0</td>\n",
       "      <td>0.0</td>\n",
       "      <td>0.0</td>\n",
       "      <td>0.0</td>\n",
       "      <td>0.0</td>\n",
       "      <td>1.0</td>\n",
       "    </tr>\n",
       "    <tr>\n",
       "      <th>2</th>\n",
       "      <td>1.0</td>\n",
       "      <td>0.0</td>\n",
       "      <td>1.0</td>\n",
       "      <td>0.0</td>\n",
       "      <td>0.0</td>\n",
       "      <td>0.0</td>\n",
       "      <td>0.0</td>\n",
       "      <td>0.0</td>\n",
       "      <td>0.0</td>\n",
       "      <td>0.0</td>\n",
       "      <td>...</td>\n",
       "      <td>0.0</td>\n",
       "      <td>0.0</td>\n",
       "      <td>0.0</td>\n",
       "      <td>0.0</td>\n",
       "      <td>0.0</td>\n",
       "      <td>0.0</td>\n",
       "      <td>0.0</td>\n",
       "      <td>0.0</td>\n",
       "      <td>1.0</td>\n",
       "      <td>0.0</td>\n",
       "    </tr>\n",
       "  </tbody>\n",
       "</table>\n",
       "<p>3 rows × 23 columns</p>\n",
       "</div>"
      ],
      "text/plain": [
       "   Intercept  gill_color_black  gill_color_brown  gill_color_buff  \\\n",
       "0        1.0               1.0               0.0              0.0   \n",
       "1        1.0               1.0               0.0              0.0   \n",
       "2        1.0               0.0               1.0              0.0   \n",
       "\n",
       "   gill_color_chocolate  gill_color_gray  gill_color_green  gill_color_orange  \\\n",
       "0                   0.0              0.0               0.0                0.0   \n",
       "1                   0.0              0.0               0.0                0.0   \n",
       "2                   0.0              0.0               0.0                0.0   \n",
       "\n",
       "   gill_color_pink  gill_color_purple        ...         cap_color_brown  \\\n",
       "0              0.0                0.0        ...                     1.0   \n",
       "1              0.0                0.0        ...                     0.0   \n",
       "2              0.0                0.0        ...                     0.0   \n",
       "\n",
       "   cap_color_buff  cap_color_cinnamon  cap_color_gray  cap_color_green  \\\n",
       "0             0.0                 0.0             0.0              0.0   \n",
       "1             0.0                 0.0             0.0              0.0   \n",
       "2             0.0                 0.0             0.0              0.0   \n",
       "\n",
       "   cap_color_pink  cap_color_purple  cap_color_red  cap_color_white  \\\n",
       "0             0.0               0.0            0.0              0.0   \n",
       "1             0.0               0.0            0.0              0.0   \n",
       "2             0.0               0.0            0.0              1.0   \n",
       "\n",
       "   cap_color_yellow  \n",
       "0               0.0  \n",
       "1               1.0  \n",
       "2               0.0  \n",
       "\n",
       "[3 rows x 23 columns]"
      ]
     },
     "execution_count": 62,
     "metadata": {},
     "output_type": "execute_result"
    }
   ],
   "source": [
    "#creating dataframes with an intercept column and dummy variables\n",
    "y_gc, X_gc = dmatrices('edibility ~ gill_color_black + gill_color_brown + gill_color_buff \\\n",
    "                        + gill_color_chocolate + gill_color_gray + gill_color_green \\\n",
    "                        + gill_color_orange + gill_color_pink + gill_color_purple \\\n",
    "                        + gill_color_red + gill_color_white + gill_color_yellow \\\n",
    "                        + cap_color_brown + cap_color_buff + cap_color_cinnamon \\\n",
    "                        + cap_color_gray + cap_color_green + cap_color_pink \\\n",
    "                        + cap_color_purple + cap_color_red + cap_color_white + cap_color_yellow',\n",
    "                        df3, return_type='dataframe')   \n",
    "print (X_gc.columns)\n",
    "X_gc.head(3)"
   ]
  },
  {
   "cell_type": "code",
   "execution_count": 63,
   "metadata": {},
   "outputs": [
    {
     "data": {
      "text/plain": [
       "array([1., 0., 0., ..., 0., 1., 0.])"
      ]
     },
     "execution_count": 63,
     "metadata": {},
     "output_type": "execute_result"
    }
   ],
   "source": [
    "#flattening y into a 1-D array\n",
    "y_gc = np.ravel(y_gc)\n",
    "y_gc"
   ]
  },
  {
   "cell_type": "code",
   "execution_count": 64,
   "metadata": {},
   "outputs": [
    {
     "name": "stderr",
     "output_type": "stream",
     "text": [
      "C:\\Users\\Minyeong\\Anaconda3\\lib\\site-packages\\sklearn\\linear_model\\logistic.py:433: FutureWarning: Default solver will be changed to 'lbfgs' in 0.22. Specify a solver to silence this warning.\n",
      "  FutureWarning)\n"
     ]
    },
    {
     "data": {
      "text/plain": [
       "0.8441654357459379"
      ]
     },
     "execution_count": 64,
     "metadata": {},
     "output_type": "execute_result"
    }
   ],
   "source": [
    "#instantiating a logistic regression model, and fitting with X_gc and y_gc\n",
    "model4 = LogisticRegression()\n",
    "model4 = model4.fit(X_gc, y_gc)\n",
    "\n",
    "#checking the accurcy on the training set\n",
    "model4.score(X_gc, y_gc)"
   ]
  },
  {
   "cell_type": "markdown",
   "metadata": {},
   "source": [
    "Based on above, by using 'gill_color' and 'cap_color' variables together as predicotrs, the model did not become any better in terms of accuracy as we can predict if the mushroom is poisonous or not with 84.42% accuracy, which is the lower than any other models' accuracy so far."
   ]
  },
  {
   "cell_type": "markdown",
   "metadata": {},
   "source": [
    "### 5) Using 'odor', 'gill-color' and 'cap_color' variables as predictor : In the EDA step above, I found that 'odor and 'gill_color' are good predictors, but 'cap_color' can be a predictor with caution, as there are overlapped cap color for both 'edible' and 'poisonous' mushrooms. This time, I want to examine if combining all of the three 'odor', 'gill_color' and 'cap_color' variables together can make a better model to predict the mushroom's edibility."
   ]
  },
  {
   "cell_type": "code",
   "execution_count": 65,
   "metadata": {},
   "outputs": [
    {
     "name": "stdout",
     "output_type": "stream",
     "text": [
      "Index(['Intercept', 'odor_almond', 'odor_anise', 'odor_creosote', 'odor_fishy',\n",
      "       'odor_foul', 'odor_musty', 'odor_none', 'odor_pungent', 'odor_spicy',\n",
      "       'gill_color_black', 'gill_color_brown', 'gill_color_buff',\n",
      "       'gill_color_chocolate', 'gill_color_gray', 'gill_color_green',\n",
      "       'gill_color_orange', 'gill_color_pink', 'gill_color_purple',\n",
      "       'gill_color_red', 'gill_color_white', 'gill_color_yellow',\n",
      "       'cap_color_brown', 'cap_color_buff', 'cap_color_cinnamon',\n",
      "       'cap_color_gray', 'cap_color_green', 'cap_color_pink',\n",
      "       'cap_color_purple', 'cap_color_red', 'cap_color_white',\n",
      "       'cap_color_yellow'],\n",
      "      dtype='object')\n"
     ]
    },
    {
     "data": {
      "text/html": [
       "<div>\n",
       "<style scoped>\n",
       "    .dataframe tbody tr th:only-of-type {\n",
       "        vertical-align: middle;\n",
       "    }\n",
       "\n",
       "    .dataframe tbody tr th {\n",
       "        vertical-align: top;\n",
       "    }\n",
       "\n",
       "    .dataframe thead th {\n",
       "        text-align: right;\n",
       "    }\n",
       "</style>\n",
       "<table border=\"1\" class=\"dataframe\">\n",
       "  <thead>\n",
       "    <tr style=\"text-align: right;\">\n",
       "      <th></th>\n",
       "      <th>Intercept</th>\n",
       "      <th>odor_almond</th>\n",
       "      <th>odor_anise</th>\n",
       "      <th>odor_creosote</th>\n",
       "      <th>odor_fishy</th>\n",
       "      <th>odor_foul</th>\n",
       "      <th>odor_musty</th>\n",
       "      <th>odor_none</th>\n",
       "      <th>odor_pungent</th>\n",
       "      <th>odor_spicy</th>\n",
       "      <th>...</th>\n",
       "      <th>cap_color_brown</th>\n",
       "      <th>cap_color_buff</th>\n",
       "      <th>cap_color_cinnamon</th>\n",
       "      <th>cap_color_gray</th>\n",
       "      <th>cap_color_green</th>\n",
       "      <th>cap_color_pink</th>\n",
       "      <th>cap_color_purple</th>\n",
       "      <th>cap_color_red</th>\n",
       "      <th>cap_color_white</th>\n",
       "      <th>cap_color_yellow</th>\n",
       "    </tr>\n",
       "  </thead>\n",
       "  <tbody>\n",
       "    <tr>\n",
       "      <th>0</th>\n",
       "      <td>1.0</td>\n",
       "      <td>0.0</td>\n",
       "      <td>0.0</td>\n",
       "      <td>0.0</td>\n",
       "      <td>0.0</td>\n",
       "      <td>0.0</td>\n",
       "      <td>0.0</td>\n",
       "      <td>0.0</td>\n",
       "      <td>1.0</td>\n",
       "      <td>0.0</td>\n",
       "      <td>...</td>\n",
       "      <td>1.0</td>\n",
       "      <td>0.0</td>\n",
       "      <td>0.0</td>\n",
       "      <td>0.0</td>\n",
       "      <td>0.0</td>\n",
       "      <td>0.0</td>\n",
       "      <td>0.0</td>\n",
       "      <td>0.0</td>\n",
       "      <td>0.0</td>\n",
       "      <td>0.0</td>\n",
       "    </tr>\n",
       "    <tr>\n",
       "      <th>1</th>\n",
       "      <td>1.0</td>\n",
       "      <td>1.0</td>\n",
       "      <td>0.0</td>\n",
       "      <td>0.0</td>\n",
       "      <td>0.0</td>\n",
       "      <td>0.0</td>\n",
       "      <td>0.0</td>\n",
       "      <td>0.0</td>\n",
       "      <td>0.0</td>\n",
       "      <td>0.0</td>\n",
       "      <td>...</td>\n",
       "      <td>0.0</td>\n",
       "      <td>0.0</td>\n",
       "      <td>0.0</td>\n",
       "      <td>0.0</td>\n",
       "      <td>0.0</td>\n",
       "      <td>0.0</td>\n",
       "      <td>0.0</td>\n",
       "      <td>0.0</td>\n",
       "      <td>0.0</td>\n",
       "      <td>1.0</td>\n",
       "    </tr>\n",
       "    <tr>\n",
       "      <th>2</th>\n",
       "      <td>1.0</td>\n",
       "      <td>0.0</td>\n",
       "      <td>1.0</td>\n",
       "      <td>0.0</td>\n",
       "      <td>0.0</td>\n",
       "      <td>0.0</td>\n",
       "      <td>0.0</td>\n",
       "      <td>0.0</td>\n",
       "      <td>0.0</td>\n",
       "      <td>0.0</td>\n",
       "      <td>...</td>\n",
       "      <td>0.0</td>\n",
       "      <td>0.0</td>\n",
       "      <td>0.0</td>\n",
       "      <td>0.0</td>\n",
       "      <td>0.0</td>\n",
       "      <td>0.0</td>\n",
       "      <td>0.0</td>\n",
       "      <td>0.0</td>\n",
       "      <td>1.0</td>\n",
       "      <td>0.0</td>\n",
       "    </tr>\n",
       "  </tbody>\n",
       "</table>\n",
       "<p>3 rows × 32 columns</p>\n",
       "</div>"
      ],
      "text/plain": [
       "   Intercept  odor_almond  odor_anise  odor_creosote  odor_fishy  odor_foul  \\\n",
       "0        1.0          0.0         0.0            0.0         0.0        0.0   \n",
       "1        1.0          1.0         0.0            0.0         0.0        0.0   \n",
       "2        1.0          0.0         1.0            0.0         0.0        0.0   \n",
       "\n",
       "   odor_musty  odor_none  odor_pungent  odor_spicy        ...         \\\n",
       "0         0.0        0.0           1.0         0.0        ...          \n",
       "1         0.0        0.0           0.0         0.0        ...          \n",
       "2         0.0        0.0           0.0         0.0        ...          \n",
       "\n",
       "   cap_color_brown  cap_color_buff  cap_color_cinnamon  cap_color_gray  \\\n",
       "0              1.0             0.0                 0.0             0.0   \n",
       "1              0.0             0.0                 0.0             0.0   \n",
       "2              0.0             0.0                 0.0             0.0   \n",
       "\n",
       "   cap_color_green  cap_color_pink  cap_color_purple  cap_color_red  \\\n",
       "0              0.0             0.0               0.0            0.0   \n",
       "1              0.0             0.0               0.0            0.0   \n",
       "2              0.0             0.0               0.0            0.0   \n",
       "\n",
       "   cap_color_white  cap_color_yellow  \n",
       "0              0.0               0.0  \n",
       "1              0.0               1.0  \n",
       "2              1.0               0.0  \n",
       "\n",
       "[3 rows x 32 columns]"
      ]
     },
     "execution_count": 65,
     "metadata": {},
     "output_type": "execute_result"
    }
   ],
   "source": [
    "#creating dataframes with an intercept column and dummy variables\n",
    "y_ogc, X_ogc = dmatrices('edibility ~ odor_almond + odor_anise + odor_creosote + odor_fishy \\\n",
    "                        + odor_foul + odor_musty + odor_none + odor_pungent + odor_spicy \\\n",
    "                        + gill_color_black + gill_color_brown + gill_color_buff \\\n",
    "                        + gill_color_chocolate + gill_color_gray + gill_color_green \\\n",
    "                        + gill_color_orange + gill_color_pink + gill_color_purple \\\n",
    "                        + gill_color_red + gill_color_white + gill_color_yellow \\\n",
    "                        + cap_color_brown + cap_color_buff + cap_color_cinnamon \\\n",
    "                        + cap_color_gray + cap_color_green + cap_color_pink \\\n",
    "                        + cap_color_purple + cap_color_red + cap_color_white + cap_color_yellow',\n",
    "                        df3, return_type='dataframe')   \n",
    "print (X_ogc.columns)\n",
    "X_ogc.head(3)"
   ]
  },
  {
   "cell_type": "code",
   "execution_count": 66,
   "metadata": {},
   "outputs": [
    {
     "data": {
      "text/plain": [
       "array([1., 0., 0., ..., 0., 1., 0.])"
      ]
     },
     "execution_count": 66,
     "metadata": {},
     "output_type": "execute_result"
    }
   ],
   "source": [
    "#flattening y into a 1-D array\n",
    "y_ogc = np.ravel(y_ogc)\n",
    "y_ogc"
   ]
  },
  {
   "cell_type": "code",
   "execution_count": 67,
   "metadata": {},
   "outputs": [
    {
     "name": "stderr",
     "output_type": "stream",
     "text": [
      "C:\\Users\\Minyeong\\Anaconda3\\lib\\site-packages\\sklearn\\linear_model\\logistic.py:433: FutureWarning: Default solver will be changed to 'lbfgs' in 0.22. Specify a solver to silence this warning.\n",
      "  FutureWarning)\n"
     ]
    },
    {
     "data": {
      "text/plain": [
       "0.9881831610044313"
      ]
     },
     "execution_count": 67,
     "metadata": {},
     "output_type": "execute_result"
    }
   ],
   "source": [
    "#instantiating a logistic regression model, and fitting with X_ogc and y_ogc\n",
    "model5 = LogisticRegression()\n",
    "model5 = model5.fit(X_ogc, y_ogc)\n",
    "\n",
    "#checking the accurcy on the training set\n",
    "model5.score(X_ogc, y_ogc)"
   ]
  },
  {
   "cell_type": "markdown",
   "metadata": {},
   "source": [
    "Based on above, by using all of the three 'odor', 'gill_color', 'cap_color variables together as predicotrs, the model became better in terms of accuracy as we can predict if the mushroom is poisonous or not with 98.82% accuracy, which is higher accuracy than 98.52% by using 'odor' variable alone."
   ]
  },
  {
   "cell_type": "code",
   "execution_count": 68,
   "metadata": {},
   "outputs": [
    {
     "data": {
      "text/html": [
       "<div>\n",
       "<style scoped>\n",
       "    .dataframe tbody tr th:only-of-type {\n",
       "        vertical-align: middle;\n",
       "    }\n",
       "\n",
       "    .dataframe tbody tr th {\n",
       "        vertical-align: top;\n",
       "    }\n",
       "\n",
       "    .dataframe thead th {\n",
       "        text-align: right;\n",
       "    }\n",
       "</style>\n",
       "<table border=\"1\" class=\"dataframe\">\n",
       "  <thead>\n",
       "    <tr style=\"text-align: right;\">\n",
       "      <th></th>\n",
       "      <th>0</th>\n",
       "      <th>1</th>\n",
       "    </tr>\n",
       "  </thead>\n",
       "  <tbody>\n",
       "    <tr>\n",
       "      <th>0</th>\n",
       "      <td>Intercept</td>\n",
       "      <td>[0.6977134576135609]</td>\n",
       "    </tr>\n",
       "    <tr>\n",
       "      <th>1</th>\n",
       "      <td>odor_almond</td>\n",
       "      <td>[-7.013884515336485]</td>\n",
       "    </tr>\n",
       "    <tr>\n",
       "      <th>2</th>\n",
       "      <td>odor_anise</td>\n",
       "      <td>[-7.013884515336486]</td>\n",
       "    </tr>\n",
       "    <tr>\n",
       "      <th>3</th>\n",
       "      <td>odor_creosote</td>\n",
       "      <td>[3.924602203127732]</td>\n",
       "    </tr>\n",
       "    <tr>\n",
       "      <th>4</th>\n",
       "      <td>odor_fishy</td>\n",
       "      <td>[1.8207770238032293]</td>\n",
       "    </tr>\n",
       "    <tr>\n",
       "      <th>5</th>\n",
       "      <td>odor_foul</td>\n",
       "      <td>[5.597302269835393]</td>\n",
       "    </tr>\n",
       "    <tr>\n",
       "      <th>6</th>\n",
       "      <td>odor_musty</td>\n",
       "      <td>[1.9044427281962881]</td>\n",
       "    </tr>\n",
       "    <tr>\n",
       "      <th>7</th>\n",
       "      <td>odor_none</td>\n",
       "      <td>[-4.408624090963256]</td>\n",
       "    </tr>\n",
       "    <tr>\n",
       "      <th>8</th>\n",
       "      <td>odor_pungent</td>\n",
       "      <td>[4.066205330485595]</td>\n",
       "    </tr>\n",
       "    <tr>\n",
       "      <th>9</th>\n",
       "      <td>odor_spicy</td>\n",
       "      <td>[1.8207770238032273]</td>\n",
       "    </tr>\n",
       "    <tr>\n",
       "      <th>10</th>\n",
       "      <td>gill_color_black</td>\n",
       "      <td>[-1.3383404291890173]</td>\n",
       "    </tr>\n",
       "    <tr>\n",
       "      <th>11</th>\n",
       "      <td>gill_color_brown</td>\n",
       "      <td>[-1.5019586239748925]</td>\n",
       "    </tr>\n",
       "    <tr>\n",
       "      <th>12</th>\n",
       "      <td>gill_color_buff</td>\n",
       "      <td>[3.6752531065526735]</td>\n",
       "    </tr>\n",
       "    <tr>\n",
       "      <th>13</th>\n",
       "      <td>gill_color_chocolate</td>\n",
       "      <td>[-0.9152961022528773]</td>\n",
       "    </tr>\n",
       "    <tr>\n",
       "      <th>14</th>\n",
       "      <td>gill_color_gray</td>\n",
       "      <td>[0.9483977327415295]</td>\n",
       "    </tr>\n",
       "    <tr>\n",
       "      <th>15</th>\n",
       "      <td>gill_color_green</td>\n",
       "      <td>[3.628825179326641]</td>\n",
       "    </tr>\n",
       "    <tr>\n",
       "      <th>16</th>\n",
       "      <td>gill_color_orange</td>\n",
       "      <td>[-0.7659539098145073]</td>\n",
       "    </tr>\n",
       "    <tr>\n",
       "      <th>17</th>\n",
       "      <td>gill_color_pink</td>\n",
       "      <td>[-1.1985976778063623]</td>\n",
       "    </tr>\n",
       "    <tr>\n",
       "      <th>18</th>\n",
       "      <td>gill_color_purple</td>\n",
       "      <td>[-1.1994266249541283]</td>\n",
       "    </tr>\n",
       "    <tr>\n",
       "      <th>19</th>\n",
       "      <td>gill_color_red</td>\n",
       "      <td>[-1.8652673468916479]</td>\n",
       "    </tr>\n",
       "    <tr>\n",
       "      <th>20</th>\n",
       "      <td>gill_color_white</td>\n",
       "      <td>[0.6618202402782027]</td>\n",
       "    </tr>\n",
       "    <tr>\n",
       "      <th>21</th>\n",
       "      <td>gill_color_yellow</td>\n",
       "      <td>[0.5682579135992294]</td>\n",
       "    </tr>\n",
       "    <tr>\n",
       "      <th>22</th>\n",
       "      <td>cap_color_brown</td>\n",
       "      <td>[-0.6404996900810483]</td>\n",
       "    </tr>\n",
       "    <tr>\n",
       "      <th>23</th>\n",
       "      <td>cap_color_buff</td>\n",
       "      <td>[1.6862646618161594]</td>\n",
       "    </tr>\n",
       "    <tr>\n",
       "      <th>24</th>\n",
       "      <td>cap_color_cinnamon</td>\n",
       "      <td>[-0.8009821526909088]</td>\n",
       "    </tr>\n",
       "    <tr>\n",
       "      <th>25</th>\n",
       "      <td>cap_color_gray</td>\n",
       "      <td>[-1.324071875333984]</td>\n",
       "    </tr>\n",
       "    <tr>\n",
       "      <th>26</th>\n",
       "      <td>cap_color_green</td>\n",
       "      <td>[-0.3814595552261805]</td>\n",
       "    </tr>\n",
       "    <tr>\n",
       "      <th>27</th>\n",
       "      <td>cap_color_pink</td>\n",
       "      <td>[1.49153767866838]</td>\n",
       "    </tr>\n",
       "    <tr>\n",
       "      <th>28</th>\n",
       "      <td>cap_color_purple</td>\n",
       "      <td>[-0.3814595552261805]</td>\n",
       "    </tr>\n",
       "    <tr>\n",
       "      <th>29</th>\n",
       "      <td>cap_color_red</td>\n",
       "      <td>[-1.4688135327343017]</td>\n",
       "    </tr>\n",
       "    <tr>\n",
       "      <th>30</th>\n",
       "      <td>cap_color_white</td>\n",
       "      <td>[0.45299569503301684]</td>\n",
       "    </tr>\n",
       "    <tr>\n",
       "      <th>31</th>\n",
       "      <td>cap_color_yellow</td>\n",
       "      <td>[2.064201783389914]</td>\n",
       "    </tr>\n",
       "  </tbody>\n",
       "</table>\n",
       "</div>"
      ],
      "text/plain": [
       "                       0                      1\n",
       "0              Intercept   [0.6977134576135609]\n",
       "1            odor_almond   [-7.013884515336485]\n",
       "2             odor_anise   [-7.013884515336486]\n",
       "3          odor_creosote    [3.924602203127732]\n",
       "4             odor_fishy   [1.8207770238032293]\n",
       "5              odor_foul    [5.597302269835393]\n",
       "6             odor_musty   [1.9044427281962881]\n",
       "7              odor_none   [-4.408624090963256]\n",
       "8           odor_pungent    [4.066205330485595]\n",
       "9             odor_spicy   [1.8207770238032273]\n",
       "10      gill_color_black  [-1.3383404291890173]\n",
       "11      gill_color_brown  [-1.5019586239748925]\n",
       "12       gill_color_buff   [3.6752531065526735]\n",
       "13  gill_color_chocolate  [-0.9152961022528773]\n",
       "14       gill_color_gray   [0.9483977327415295]\n",
       "15      gill_color_green    [3.628825179326641]\n",
       "16     gill_color_orange  [-0.7659539098145073]\n",
       "17       gill_color_pink  [-1.1985976778063623]\n",
       "18     gill_color_purple  [-1.1994266249541283]\n",
       "19        gill_color_red  [-1.8652673468916479]\n",
       "20      gill_color_white   [0.6618202402782027]\n",
       "21     gill_color_yellow   [0.5682579135992294]\n",
       "22       cap_color_brown  [-0.6404996900810483]\n",
       "23        cap_color_buff   [1.6862646618161594]\n",
       "24    cap_color_cinnamon  [-0.8009821526909088]\n",
       "25        cap_color_gray   [-1.324071875333984]\n",
       "26       cap_color_green  [-0.3814595552261805]\n",
       "27        cap_color_pink     [1.49153767866838]\n",
       "28      cap_color_purple  [-0.3814595552261805]\n",
       "29         cap_color_red  [-1.4688135327343017]\n",
       "30       cap_color_white  [0.45299569503301684]\n",
       "31      cap_color_yellow    [2.064201783389914]"
      ]
     },
     "execution_count": 68,
     "metadata": {},
     "output_type": "execute_result"
    }
   ],
   "source": [
    "#examining the coefficients\n",
    "pd.DataFrame(list(zip(X_ogc.columns, np.transpose(model5.coef_))))"
   ]
  },
  {
   "cell_type": "markdown",
   "metadata": {},
   "source": [
    "Based on above, increases in being 'smelly' mushroom correspond to a decrease in the likelihood of edibility. Fragrant or no odor such as 'almond', 'anise', 'none' are good indicator of being edible, and \"bad\" smell such as 'foul', ''pungent', 'creosote', 'musty', 'fishy', 'spicy' are indicator of being poisonous mushroom. <br> For the gill_color variable, the lowest likelihood of being poisonous mushroom corresponds to the 'red', since the coefficient is the lowest. The most likelihood of being poisonous mushroom corresponds to 'buff', 'green', 'gray', 'white', 'yellow' in order, and the most likelihood of being edible mushroom corresponds to 'red', 'brown', 'balck', 'purple', 'pink', 'chocolate', 'orange' in order.<br> For the cap_color variable, the most likelihood of being poisonous mushroom corresponds to the \"yellow\" since the coefficient is the highest. 'yellow', 'buff', 'pink', 'white' are more likely to be poisonous, and 'red', 'gray', 'cinnamon', 'brown', 'purple','green' are more likely to be edible. "
   ]
  },
  {
   "cell_type": "markdown",
   "metadata": {},
   "source": [
    "### Model evaluation using a validation set: I have trained and tested on the same data set so far, and now I will split the data into a training set and a testing set and check the accuracy."
   ]
  },
  {
   "cell_type": "code",
   "execution_count": 69,
   "metadata": {},
   "outputs": [
    {
     "data": {
      "text/html": [
       "<div>\n",
       "<style scoped>\n",
       "    .dataframe tbody tr th:only-of-type {\n",
       "        vertical-align: middle;\n",
       "    }\n",
       "\n",
       "    .dataframe tbody tr th {\n",
       "        vertical-align: top;\n",
       "    }\n",
       "\n",
       "    .dataframe thead th {\n",
       "        text-align: right;\n",
       "    }\n",
       "</style>\n",
       "<table border=\"1\" class=\"dataframe\">\n",
       "  <thead>\n",
       "    <tr style=\"text-align: right;\">\n",
       "      <th></th>\n",
       "      <th>odor_almond</th>\n",
       "      <th>odor_anise</th>\n",
       "      <th>odor_creosote</th>\n",
       "      <th>odor_fishy</th>\n",
       "      <th>odor_foul</th>\n",
       "      <th>odor_musty</th>\n",
       "      <th>odor_none</th>\n",
       "      <th>odor_pungent</th>\n",
       "      <th>odor_spicy</th>\n",
       "      <th>cap_color_brown</th>\n",
       "      <th>...</th>\n",
       "      <th>gill_color_buff</th>\n",
       "      <th>gill_color_chocolate</th>\n",
       "      <th>gill_color_gray</th>\n",
       "      <th>gill_color_green</th>\n",
       "      <th>gill_color_orange</th>\n",
       "      <th>gill_color_pink</th>\n",
       "      <th>gill_color_purple</th>\n",
       "      <th>gill_color_red</th>\n",
       "      <th>gill_color_white</th>\n",
       "      <th>gill_color_yellow</th>\n",
       "    </tr>\n",
       "  </thead>\n",
       "  <tbody>\n",
       "    <tr>\n",
       "      <th>0</th>\n",
       "      <td>0</td>\n",
       "      <td>0</td>\n",
       "      <td>0</td>\n",
       "      <td>0</td>\n",
       "      <td>0</td>\n",
       "      <td>0</td>\n",
       "      <td>0</td>\n",
       "      <td>1</td>\n",
       "      <td>0</td>\n",
       "      <td>1</td>\n",
       "      <td>...</td>\n",
       "      <td>0</td>\n",
       "      <td>0</td>\n",
       "      <td>0</td>\n",
       "      <td>0</td>\n",
       "      <td>0</td>\n",
       "      <td>0</td>\n",
       "      <td>0</td>\n",
       "      <td>0</td>\n",
       "      <td>0</td>\n",
       "      <td>0</td>\n",
       "    </tr>\n",
       "    <tr>\n",
       "      <th>1</th>\n",
       "      <td>1</td>\n",
       "      <td>0</td>\n",
       "      <td>0</td>\n",
       "      <td>0</td>\n",
       "      <td>0</td>\n",
       "      <td>0</td>\n",
       "      <td>0</td>\n",
       "      <td>0</td>\n",
       "      <td>0</td>\n",
       "      <td>0</td>\n",
       "      <td>...</td>\n",
       "      <td>0</td>\n",
       "      <td>0</td>\n",
       "      <td>0</td>\n",
       "      <td>0</td>\n",
       "      <td>0</td>\n",
       "      <td>0</td>\n",
       "      <td>0</td>\n",
       "      <td>0</td>\n",
       "      <td>0</td>\n",
       "      <td>0</td>\n",
       "    </tr>\n",
       "    <tr>\n",
       "      <th>2</th>\n",
       "      <td>0</td>\n",
       "      <td>1</td>\n",
       "      <td>0</td>\n",
       "      <td>0</td>\n",
       "      <td>0</td>\n",
       "      <td>0</td>\n",
       "      <td>0</td>\n",
       "      <td>0</td>\n",
       "      <td>0</td>\n",
       "      <td>0</td>\n",
       "      <td>...</td>\n",
       "      <td>0</td>\n",
       "      <td>0</td>\n",
       "      <td>0</td>\n",
       "      <td>0</td>\n",
       "      <td>0</td>\n",
       "      <td>0</td>\n",
       "      <td>0</td>\n",
       "      <td>0</td>\n",
       "      <td>0</td>\n",
       "      <td>0</td>\n",
       "    </tr>\n",
       "  </tbody>\n",
       "</table>\n",
       "<p>3 rows × 31 columns</p>\n",
       "</div>"
      ],
      "text/plain": [
       "   odor_almond  odor_anise  odor_creosote  odor_fishy  odor_foul  odor_musty  \\\n",
       "0            0           0              0           0          0           0   \n",
       "1            1           0              0           0          0           0   \n",
       "2            0           1              0           0          0           0   \n",
       "\n",
       "   odor_none  odor_pungent  odor_spicy  cap_color_brown        ...          \\\n",
       "0          0             1           0                1        ...           \n",
       "1          0             0           0                0        ...           \n",
       "2          0             0           0                0        ...           \n",
       "\n",
       "   gill_color_buff  gill_color_chocolate  gill_color_gray  gill_color_green  \\\n",
       "0                0                     0                0                 0   \n",
       "1                0                     0                0                 0   \n",
       "2                0                     0                0                 0   \n",
       "\n",
       "   gill_color_orange  gill_color_pink  gill_color_purple  gill_color_red  \\\n",
       "0                  0                0                  0               0   \n",
       "1                  0                0                  0               0   \n",
       "2                  0                0                  0               0   \n",
       "\n",
       "   gill_color_white  gill_color_yellow  \n",
       "0                 0                  0  \n",
       "1                 0                  0  \n",
       "2                 0                  0  \n",
       "\n",
       "[3 rows x 31 columns]"
      ]
     },
     "execution_count": 69,
     "metadata": {},
     "output_type": "execute_result"
    }
   ],
   "source": [
    "#sanity check\n",
    "X.head(3)"
   ]
  },
  {
   "cell_type": "code",
   "execution_count": 70,
   "metadata": {},
   "outputs": [
    {
     "data": {
      "text/plain": [
       "(8124, 31)"
      ]
     },
     "execution_count": 70,
     "metadata": {},
     "output_type": "execute_result"
    }
   ],
   "source": [
    "X.shape"
   ]
  },
  {
   "cell_type": "code",
   "execution_count": 71,
   "metadata": {},
   "outputs": [
    {
     "data": {
      "text/html": [
       "<div>\n",
       "<style scoped>\n",
       "    .dataframe tbody tr th:only-of-type {\n",
       "        vertical-align: middle;\n",
       "    }\n",
       "\n",
       "    .dataframe tbody tr th {\n",
       "        vertical-align: top;\n",
       "    }\n",
       "\n",
       "    .dataframe thead th {\n",
       "        text-align: right;\n",
       "    }\n",
       "</style>\n",
       "<table border=\"1\" class=\"dataframe\">\n",
       "  <thead>\n",
       "    <tr style=\"text-align: right;\">\n",
       "      <th></th>\n",
       "      <th>edibility</th>\n",
       "    </tr>\n",
       "  </thead>\n",
       "  <tbody>\n",
       "    <tr>\n",
       "      <th>0</th>\n",
       "      <td>1</td>\n",
       "    </tr>\n",
       "    <tr>\n",
       "      <th>1</th>\n",
       "      <td>0</td>\n",
       "    </tr>\n",
       "    <tr>\n",
       "      <th>2</th>\n",
       "      <td>0</td>\n",
       "    </tr>\n",
       "  </tbody>\n",
       "</table>\n",
       "</div>"
      ],
      "text/plain": [
       "   edibility\n",
       "0          1\n",
       "1          0\n",
       "2          0"
      ]
     },
     "execution_count": 71,
     "metadata": {},
     "output_type": "execute_result"
    }
   ],
   "source": [
    "#sanity check\n",
    "y.head(3)"
   ]
  },
  {
   "cell_type": "code",
   "execution_count": 72,
   "metadata": {},
   "outputs": [
    {
     "data": {
      "text/plain": [
       "array([1, 0, 0, ..., 0, 1, 0], dtype=int64)"
      ]
     },
     "execution_count": 72,
     "metadata": {},
     "output_type": "execute_result"
    }
   ],
   "source": [
    "#flattening y into a 1-D array\n",
    "y = np.ravel(y)\n",
    "y"
   ]
  },
  {
   "cell_type": "code",
   "execution_count": 73,
   "metadata": {},
   "outputs": [
    {
     "data": {
      "text/plain": [
       "(8124,)"
      ]
     },
     "execution_count": 73,
     "metadata": {},
     "output_type": "execute_result"
    }
   ],
   "source": [
    "y.shape"
   ]
  },
  {
   "cell_type": "code",
   "execution_count": 74,
   "metadata": {},
   "outputs": [
    {
     "name": "stderr",
     "output_type": "stream",
     "text": [
      "C:\\Users\\Minyeong\\Anaconda3\\lib\\site-packages\\sklearn\\linear_model\\logistic.py:433: FutureWarning: Default solver will be changed to 'lbfgs' in 0.22. Specify a solver to silence this warning.\n",
      "  FutureWarning)\n"
     ]
    },
    {
     "data": {
      "text/plain": [
       "LogisticRegression(C=1.0, class_weight=None, dual=False, fit_intercept=True,\n",
       "          intercept_scaling=1, max_iter=100, multi_class='warn',\n",
       "          n_jobs=None, penalty='l2', random_state=None, solver='warn',\n",
       "          tol=0.0001, verbose=0, warm_start=False)"
      ]
     },
     "execution_count": 74,
     "metadata": {},
     "output_type": "execute_result"
    }
   ],
   "source": [
    "import sklearn\n",
    "from sklearn.model_selection import train_test_split\n",
    "\n",
    "# evaluating the model by splitting into train and test sets, using 75% of dataset as training set, 25% as test set\n",
    "X_train, X_test, y_train, y_test = train_test_split(X, y, test_size=0.25, random_state=4) \n",
    "model6 = LogisticRegression()\n",
    "model6.fit(X_train, y_train)"
   ]
  },
  {
   "cell_type": "code",
   "execution_count": 75,
   "metadata": {},
   "outputs": [
    {
     "name": "stdout",
     "output_type": "stream",
     "text": [
      "[0 1 1 ... 0 0 1]\n"
     ]
    },
    {
     "data": {
      "text/plain": [
       "2031"
      ]
     },
     "execution_count": 75,
     "metadata": {},
     "output_type": "execute_result"
    }
   ],
   "source": [
    "#predicting class labels for the test set\n",
    "predicted = model6.predict(X_test)\n",
    "print (predicted)\n",
    "len(predicted)"
   ]
  },
  {
   "cell_type": "code",
   "execution_count": 76,
   "metadata": {},
   "outputs": [
    {
     "name": "stdout",
     "output_type": "stream",
     "text": [
      "[[9.96172658e-01 3.82734162e-03]\n",
      " [4.47019627e-02 9.55298037e-01]\n",
      " [7.58095235e-05 9.99924190e-01]\n",
      " ...\n",
      " [9.84897910e-01 1.51020897e-02]\n",
      " [9.96732168e-01 3.26783192e-03]\n",
      " [1.00018743e-02 9.89998126e-01]]\n"
     ]
    },
    {
     "data": {
      "text/plain": [
       "2031"
      ]
     },
     "execution_count": 76,
     "metadata": {},
     "output_type": "execute_result"
    }
   ],
   "source": [
    "#generating class probabilities\n",
    "probs = model6.predict_proba(X_test)\n",
    "print (probs)\n",
    "len(probs)"
   ]
  },
  {
   "cell_type": "code",
   "execution_count": 77,
   "metadata": {},
   "outputs": [
    {
     "data": {
      "text/html": [
       "<div>\n",
       "<style scoped>\n",
       "    .dataframe tbody tr th:only-of-type {\n",
       "        vertical-align: middle;\n",
       "    }\n",
       "\n",
       "    .dataframe tbody tr th {\n",
       "        vertical-align: top;\n",
       "    }\n",
       "\n",
       "    .dataframe thead th {\n",
       "        text-align: right;\n",
       "    }\n",
       "</style>\n",
       "<table border=\"1\" class=\"dataframe\">\n",
       "  <thead>\n",
       "    <tr style=\"text-align: right;\">\n",
       "      <th></th>\n",
       "      <th>0</th>\n",
       "      <th>1</th>\n",
       "    </tr>\n",
       "  </thead>\n",
       "  <tbody>\n",
       "    <tr>\n",
       "      <th>0</th>\n",
       "      <td>0</td>\n",
       "      <td>[0.99617265837527, 0.0038273416247299255]</td>\n",
       "    </tr>\n",
       "    <tr>\n",
       "      <th>1</th>\n",
       "      <td>1</td>\n",
       "      <td>[0.04470196271652971, 0.9552980372834703]</td>\n",
       "    </tr>\n",
       "    <tr>\n",
       "      <th>2</th>\n",
       "      <td>1</td>\n",
       "      <td>[7.580952351915471e-05, 0.9999241904764808]</td>\n",
       "    </tr>\n",
       "    <tr>\n",
       "      <th>3</th>\n",
       "      <td>0</td>\n",
       "      <td>[0.9848979103386909, 0.015102089661309118]</td>\n",
       "    </tr>\n",
       "    <tr>\n",
       "      <th>4</th>\n",
       "      <td>1</td>\n",
       "      <td>[0.0001563757832008239, 0.9998436242167992]</td>\n",
       "    </tr>\n",
       "    <tr>\n",
       "      <th>5</th>\n",
       "      <td>0</td>\n",
       "      <td>[0.9806485394715245, 0.019351460528475452]</td>\n",
       "    </tr>\n",
       "    <tr>\n",
       "      <th>6</th>\n",
       "      <td>0</td>\n",
       "      <td>[0.9848979103386909, 0.015102089661309118]</td>\n",
       "    </tr>\n",
       "    <tr>\n",
       "      <th>7</th>\n",
       "      <td>0</td>\n",
       "      <td>[0.9564587148213479, 0.04354128517865213]</td>\n",
       "    </tr>\n",
       "    <tr>\n",
       "      <th>8</th>\n",
       "      <td>1</td>\n",
       "      <td>[0.013703486652130392, 0.9862965133478696]</td>\n",
       "    </tr>\n",
       "    <tr>\n",
       "      <th>9</th>\n",
       "      <td>0</td>\n",
       "      <td>[0.9525313843439336, 0.047468615656066394]</td>\n",
       "    </tr>\n",
       "    <tr>\n",
       "      <th>10</th>\n",
       "      <td>1</td>\n",
       "      <td>[7.580952351915471e-05, 0.9999241904764808]</td>\n",
       "    </tr>\n",
       "    <tr>\n",
       "      <th>11</th>\n",
       "      <td>0</td>\n",
       "      <td>[0.9911757209594154, 0.00882427904058457]</td>\n",
       "    </tr>\n",
       "    <tr>\n",
       "      <th>12</th>\n",
       "      <td>0</td>\n",
       "      <td>[0.9872386796447807, 0.012761320355219282]</td>\n",
       "    </tr>\n",
       "    <tr>\n",
       "      <th>13</th>\n",
       "      <td>0</td>\n",
       "      <td>[0.9711412338851064, 0.028858766114893578]</td>\n",
       "    </tr>\n",
       "    <tr>\n",
       "      <th>14</th>\n",
       "      <td>0</td>\n",
       "      <td>[0.9927105170786262, 0.00728948292137382]</td>\n",
       "    </tr>\n",
       "    <tr>\n",
       "      <th>15</th>\n",
       "      <td>0</td>\n",
       "      <td>[0.9975522432792611, 0.0024477567207389543]</td>\n",
       "    </tr>\n",
       "    <tr>\n",
       "      <th>16</th>\n",
       "      <td>0</td>\n",
       "      <td>[0.9875777440281477, 0.012422255971852345]</td>\n",
       "    </tr>\n",
       "    <tr>\n",
       "      <th>17</th>\n",
       "      <td>0</td>\n",
       "      <td>[0.9954643256855924, 0.004535674314407633]</td>\n",
       "    </tr>\n",
       "    <tr>\n",
       "      <th>18</th>\n",
       "      <td>0</td>\n",
       "      <td>[0.9910302330910732, 0.008969766908926775]</td>\n",
       "    </tr>\n",
       "    <tr>\n",
       "      <th>19</th>\n",
       "      <td>0</td>\n",
       "      <td>[0.9711412338851064, 0.028858766114893578]</td>\n",
       "    </tr>\n",
       "    <tr>\n",
       "      <th>20</th>\n",
       "      <td>0</td>\n",
       "      <td>[0.9975522432792611, 0.0024477567207389543]</td>\n",
       "    </tr>\n",
       "    <tr>\n",
       "      <th>21</th>\n",
       "      <td>0</td>\n",
       "      <td>[0.9906881949774653, 0.00931180502253473]</td>\n",
       "    </tr>\n",
       "    <tr>\n",
       "      <th>22</th>\n",
       "      <td>0</td>\n",
       "      <td>[0.9906881949774653, 0.00931180502253473]</td>\n",
       "    </tr>\n",
       "    <tr>\n",
       "      <th>23</th>\n",
       "      <td>0</td>\n",
       "      <td>[0.99617265837527, 0.0038273416247299255]</td>\n",
       "    </tr>\n",
       "    <tr>\n",
       "      <th>24</th>\n",
       "      <td>0</td>\n",
       "      <td>[0.987687024227137, 0.012312975772863013]</td>\n",
       "    </tr>\n",
       "    <tr>\n",
       "      <th>25</th>\n",
       "      <td>1</td>\n",
       "      <td>[0.002642290072733533, 0.9973577099272665]</td>\n",
       "    </tr>\n",
       "    <tr>\n",
       "      <th>26</th>\n",
       "      <td>1</td>\n",
       "      <td>[7.580952351915471e-05, 0.9999241904764808]</td>\n",
       "    </tr>\n",
       "    <tr>\n",
       "      <th>27</th>\n",
       "      <td>0</td>\n",
       "      <td>[0.9977147902382557, 0.0022852097617443367]</td>\n",
       "    </tr>\n",
       "    <tr>\n",
       "      <th>28</th>\n",
       "      <td>0</td>\n",
       "      <td>[0.9932820841110858, 0.006717915888914195]</td>\n",
       "    </tr>\n",
       "    <tr>\n",
       "      <th>29</th>\n",
       "      <td>0</td>\n",
       "      <td>[0.9943233065412312, 0.005676693458768754]</td>\n",
       "    </tr>\n",
       "    <tr>\n",
       "      <th>...</th>\n",
       "      <td>...</td>\n",
       "      <td>...</td>\n",
       "    </tr>\n",
       "    <tr>\n",
       "      <th>2001</th>\n",
       "      <td>0</td>\n",
       "      <td>[0.9975522432792611, 0.0024477567207389543]</td>\n",
       "    </tr>\n",
       "    <tr>\n",
       "      <th>2002</th>\n",
       "      <td>1</td>\n",
       "      <td>[7.580952351915471e-05, 0.9999241904764808]</td>\n",
       "    </tr>\n",
       "    <tr>\n",
       "      <th>2003</th>\n",
       "      <td>1</td>\n",
       "      <td>[0.005435546325386675, 0.9945644536746133]</td>\n",
       "    </tr>\n",
       "    <tr>\n",
       "      <th>2004</th>\n",
       "      <td>0</td>\n",
       "      <td>[0.9298989687051558, 0.0701010312948443]</td>\n",
       "    </tr>\n",
       "    <tr>\n",
       "      <th>2005</th>\n",
       "      <td>1</td>\n",
       "      <td>[0.015487785167085044, 0.984512214832915]</td>\n",
       "    </tr>\n",
       "    <tr>\n",
       "      <th>2006</th>\n",
       "      <td>0</td>\n",
       "      <td>[0.9932820841110858, 0.006717915888914195]</td>\n",
       "    </tr>\n",
       "    <tr>\n",
       "      <th>2007</th>\n",
       "      <td>0</td>\n",
       "      <td>[0.9977147902382557, 0.0022852097617443367]</td>\n",
       "    </tr>\n",
       "    <tr>\n",
       "      <th>2008</th>\n",
       "      <td>0</td>\n",
       "      <td>[0.9806485394715245, 0.019351460528475452]</td>\n",
       "    </tr>\n",
       "    <tr>\n",
       "      <th>2009</th>\n",
       "      <td>1</td>\n",
       "      <td>[0.013703486652130392, 0.9862965133478696]</td>\n",
       "    </tr>\n",
       "    <tr>\n",
       "      <th>2010</th>\n",
       "      <td>0</td>\n",
       "      <td>[0.9957028786740801, 0.004297121325919868]</td>\n",
       "    </tr>\n",
       "    <tr>\n",
       "      <th>2011</th>\n",
       "      <td>0</td>\n",
       "      <td>[0.9932820841110858, 0.006717915888914195]</td>\n",
       "    </tr>\n",
       "    <tr>\n",
       "      <th>2012</th>\n",
       "      <td>0</td>\n",
       "      <td>[0.9946888959860136, 0.005311104013986351]</td>\n",
       "    </tr>\n",
       "    <tr>\n",
       "      <th>2013</th>\n",
       "      <td>1</td>\n",
       "      <td>[0.0004975291687696615, 0.9995024708312303]</td>\n",
       "    </tr>\n",
       "    <tr>\n",
       "      <th>2014</th>\n",
       "      <td>1</td>\n",
       "      <td>[0.0006840912559996637, 0.9993159087440003]</td>\n",
       "    </tr>\n",
       "    <tr>\n",
       "      <th>2015</th>\n",
       "      <td>0</td>\n",
       "      <td>[0.9932820841110858, 0.006717915888914195]</td>\n",
       "    </tr>\n",
       "    <tr>\n",
       "      <th>2016</th>\n",
       "      <td>0</td>\n",
       "      <td>[0.9967321680834241, 0.0032678319165758587]</td>\n",
       "    </tr>\n",
       "    <tr>\n",
       "      <th>2017</th>\n",
       "      <td>0</td>\n",
       "      <td>[0.9502892267375944, 0.049710773262405604]</td>\n",
       "    </tr>\n",
       "    <tr>\n",
       "      <th>2018</th>\n",
       "      <td>1</td>\n",
       "      <td>[7.580952351915471e-05, 0.9999241904764808]</td>\n",
       "    </tr>\n",
       "    <tr>\n",
       "      <th>2019</th>\n",
       "      <td>0</td>\n",
       "      <td>[0.9636559066643062, 0.03634409333569381]</td>\n",
       "    </tr>\n",
       "    <tr>\n",
       "      <th>2020</th>\n",
       "      <td>0</td>\n",
       "      <td>[0.9946888959860136, 0.005311104013986351]</td>\n",
       "    </tr>\n",
       "    <tr>\n",
       "      <th>2021</th>\n",
       "      <td>0</td>\n",
       "      <td>[0.9496851369557516, 0.050314863044248335]</td>\n",
       "    </tr>\n",
       "    <tr>\n",
       "      <th>2022</th>\n",
       "      <td>1</td>\n",
       "      <td>[0.016337390098226545, 0.9836626099017735]</td>\n",
       "    </tr>\n",
       "    <tr>\n",
       "      <th>2023</th>\n",
       "      <td>1</td>\n",
       "      <td>[0.005435546325386675, 0.9945644536746133]</td>\n",
       "    </tr>\n",
       "    <tr>\n",
       "      <th>2024</th>\n",
       "      <td>1</td>\n",
       "      <td>[0.005340904400323532, 0.9946590955996765]</td>\n",
       "    </tr>\n",
       "    <tr>\n",
       "      <th>2025</th>\n",
       "      <td>1</td>\n",
       "      <td>[0.00217506523795008, 0.9978249347620499]</td>\n",
       "    </tr>\n",
       "    <tr>\n",
       "      <th>2026</th>\n",
       "      <td>0</td>\n",
       "      <td>[0.9955089968270915, 0.004491003172908552]</td>\n",
       "    </tr>\n",
       "    <tr>\n",
       "      <th>2027</th>\n",
       "      <td>0</td>\n",
       "      <td>[0.97526918154753, 0.0247308184524701]</td>\n",
       "    </tr>\n",
       "    <tr>\n",
       "      <th>2028</th>\n",
       "      <td>0</td>\n",
       "      <td>[0.9848979103386909, 0.015102089661309118]</td>\n",
       "    </tr>\n",
       "    <tr>\n",
       "      <th>2029</th>\n",
       "      <td>0</td>\n",
       "      <td>[0.9967321680834241, 0.0032678319165758587]</td>\n",
       "    </tr>\n",
       "    <tr>\n",
       "      <th>2030</th>\n",
       "      <td>1</td>\n",
       "      <td>[0.010001874314573667, 0.9899981256854263]</td>\n",
       "    </tr>\n",
       "  </tbody>\n",
       "</table>\n",
       "<p>2031 rows × 2 columns</p>\n",
       "</div>"
      ],
      "text/plain": [
       "      0                                            1\n",
       "0     0    [0.99617265837527, 0.0038273416247299255]\n",
       "1     1    [0.04470196271652971, 0.9552980372834703]\n",
       "2     1  [7.580952351915471e-05, 0.9999241904764808]\n",
       "3     0   [0.9848979103386909, 0.015102089661309118]\n",
       "4     1  [0.0001563757832008239, 0.9998436242167992]\n",
       "5     0   [0.9806485394715245, 0.019351460528475452]\n",
       "6     0   [0.9848979103386909, 0.015102089661309118]\n",
       "7     0    [0.9564587148213479, 0.04354128517865213]\n",
       "8     1   [0.013703486652130392, 0.9862965133478696]\n",
       "9     0   [0.9525313843439336, 0.047468615656066394]\n",
       "10    1  [7.580952351915471e-05, 0.9999241904764808]\n",
       "11    0    [0.9911757209594154, 0.00882427904058457]\n",
       "12    0   [0.9872386796447807, 0.012761320355219282]\n",
       "13    0   [0.9711412338851064, 0.028858766114893578]\n",
       "14    0    [0.9927105170786262, 0.00728948292137382]\n",
       "15    0  [0.9975522432792611, 0.0024477567207389543]\n",
       "16    0   [0.9875777440281477, 0.012422255971852345]\n",
       "17    0   [0.9954643256855924, 0.004535674314407633]\n",
       "18    0   [0.9910302330910732, 0.008969766908926775]\n",
       "19    0   [0.9711412338851064, 0.028858766114893578]\n",
       "20    0  [0.9975522432792611, 0.0024477567207389543]\n",
       "21    0    [0.9906881949774653, 0.00931180502253473]\n",
       "22    0    [0.9906881949774653, 0.00931180502253473]\n",
       "23    0    [0.99617265837527, 0.0038273416247299255]\n",
       "24    0    [0.987687024227137, 0.012312975772863013]\n",
       "25    1   [0.002642290072733533, 0.9973577099272665]\n",
       "26    1  [7.580952351915471e-05, 0.9999241904764808]\n",
       "27    0  [0.9977147902382557, 0.0022852097617443367]\n",
       "28    0   [0.9932820841110858, 0.006717915888914195]\n",
       "29    0   [0.9943233065412312, 0.005676693458768754]\n",
       "...  ..                                          ...\n",
       "2001  0  [0.9975522432792611, 0.0024477567207389543]\n",
       "2002  1  [7.580952351915471e-05, 0.9999241904764808]\n",
       "2003  1   [0.005435546325386675, 0.9945644536746133]\n",
       "2004  0     [0.9298989687051558, 0.0701010312948443]\n",
       "2005  1    [0.015487785167085044, 0.984512214832915]\n",
       "2006  0   [0.9932820841110858, 0.006717915888914195]\n",
       "2007  0  [0.9977147902382557, 0.0022852097617443367]\n",
       "2008  0   [0.9806485394715245, 0.019351460528475452]\n",
       "2009  1   [0.013703486652130392, 0.9862965133478696]\n",
       "2010  0   [0.9957028786740801, 0.004297121325919868]\n",
       "2011  0   [0.9932820841110858, 0.006717915888914195]\n",
       "2012  0   [0.9946888959860136, 0.005311104013986351]\n",
       "2013  1  [0.0004975291687696615, 0.9995024708312303]\n",
       "2014  1  [0.0006840912559996637, 0.9993159087440003]\n",
       "2015  0   [0.9932820841110858, 0.006717915888914195]\n",
       "2016  0  [0.9967321680834241, 0.0032678319165758587]\n",
       "2017  0   [0.9502892267375944, 0.049710773262405604]\n",
       "2018  1  [7.580952351915471e-05, 0.9999241904764808]\n",
       "2019  0    [0.9636559066643062, 0.03634409333569381]\n",
       "2020  0   [0.9946888959860136, 0.005311104013986351]\n",
       "2021  0   [0.9496851369557516, 0.050314863044248335]\n",
       "2022  1   [0.016337390098226545, 0.9836626099017735]\n",
       "2023  1   [0.005435546325386675, 0.9945644536746133]\n",
       "2024  1   [0.005340904400323532, 0.9946590955996765]\n",
       "2025  1    [0.00217506523795008, 0.9978249347620499]\n",
       "2026  0   [0.9955089968270915, 0.004491003172908552]\n",
       "2027  0       [0.97526918154753, 0.0247308184524701]\n",
       "2028  0   [0.9848979103386909, 0.015102089661309118]\n",
       "2029  0  [0.9967321680834241, 0.0032678319165758587]\n",
       "2030  1   [0.010001874314573667, 0.9899981256854263]\n",
       "\n",
       "[2031 rows x 2 columns]"
      ]
     },
     "execution_count": 77,
     "metadata": {},
     "output_type": "execute_result"
    }
   ],
   "source": [
    "#examining the predicted class labels and probabilities\n",
    "pd.DataFrame(list(zip(np.transpose(predicted), (probs))))"
   ]
  },
  {
   "cell_type": "markdown",
   "metadata": {},
   "source": [
    "Based on above, the classifier is predicting a 1 (poisonous) when the probability in the second column is close to 1."
   ]
  },
  {
   "cell_type": "markdown",
   "metadata": {},
   "source": [
    "### Generating evaluation metrics"
   ]
  },
  {
   "cell_type": "code",
   "execution_count": 78,
   "metadata": {},
   "outputs": [
    {
     "name": "stdout",
     "output_type": "stream",
     "text": [
      "0.9886755292959133\n",
      "0.9992083341443002\n"
     ]
    }
   ],
   "source": [
    "from sklearn import metrics\n",
    "\n",
    "# generating evaluation metrics\n",
    "print (metrics.accuracy_score(y_test, predicted))\n",
    "print (metrics.roc_auc_score(y_test, probs[:, 1]))"
   ]
  },
  {
   "cell_type": "markdown",
   "metadata": {},
   "source": [
    "Based on above, the accuracy is now 99%, which is better than using the same data for training and predicting with which the accuracy was 98.82%."
   ]
  },
  {
   "cell_type": "markdown",
   "metadata": {},
   "source": [
    "### Generating confusion matrix and a classification report"
   ]
  },
  {
   "cell_type": "code",
   "execution_count": 79,
   "metadata": {},
   "outputs": [
    {
     "name": "stdout",
     "output_type": "stream",
     "text": [
      "[[1076    0]\n",
      " [  23  932]]\n",
      "              precision    recall  f1-score   support\n",
      "\n",
      "           0       0.98      1.00      0.99      1076\n",
      "           1       1.00      0.98      0.99       955\n",
      "\n",
      "   micro avg       0.99      0.99      0.99      2031\n",
      "   macro avg       0.99      0.99      0.99      2031\n",
      "weighted avg       0.99      0.99      0.99      2031\n",
      "\n"
     ]
    }
   ],
   "source": [
    "# generating the confusion matrix and a classification report\n",
    "print (metrics.confusion_matrix(y_test, predicted))\n",
    "print (metrics.classification_report(y_test, predicted))"
   ]
  },
  {
   "cell_type": "markdown",
   "metadata": {},
   "source": [
    "The confusion_matrix function evaluates classification accuracy by computing the confusion matrix with each row corresponding to the true class. Among 2031 test data points, 1076 data points were correctly predicted as edible mushroom, and 932 data points were correctly predicted as poisonous mushroom while 23 data points were predicted as edible when they are actually poisonous. <br>For the classification report, the reported averages include micro average (averaging the total true positives, false negatives and false positives), macro average (averaging the unweighted mean per label), weighted average (averaging the support-weighted mean per label). In binary classification, recall of the positive class is also known as “sensitivity”; recall of the negative class is “specificity”. The f1-score gives me the harmonic mean of precision and recall. The scores corresponding to either 'edible'(class '0') or 'poisonous'(class '1') tells me the accuracy of the classifier in classifying the data points in each class, which is 0.99 for both classes as shown above. 1076 data points among 2031 test data points were classified as 'edible'(class '0') and 955 data points were classified as 'poisonou'(class '1'). Hence, by using train_test_split, the model could predict the mushroom's edibility with better accuracy of 99%, than using the same data for training and predicting with which the accuracy was 98.82%."
   ]
  },
  {
   "cell_type": "markdown",
   "metadata": {},
   "source": [
    "### Model evaluation using cross-validation"
   ]
  },
  {
   "cell_type": "code",
   "execution_count": 80,
   "metadata": {},
   "outputs": [
    {
     "data": {
      "text/html": [
       "<div>\n",
       "<style scoped>\n",
       "    .dataframe tbody tr th:only-of-type {\n",
       "        vertical-align: middle;\n",
       "    }\n",
       "\n",
       "    .dataframe tbody tr th {\n",
       "        vertical-align: top;\n",
       "    }\n",
       "\n",
       "    .dataframe thead th {\n",
       "        text-align: right;\n",
       "    }\n",
       "</style>\n",
       "<table border=\"1\" class=\"dataframe\">\n",
       "  <thead>\n",
       "    <tr style=\"text-align: right;\">\n",
       "      <th></th>\n",
       "      <th>odor_almond</th>\n",
       "      <th>odor_anise</th>\n",
       "      <th>odor_creosote</th>\n",
       "      <th>odor_fishy</th>\n",
       "      <th>odor_foul</th>\n",
       "      <th>odor_musty</th>\n",
       "      <th>odor_none</th>\n",
       "      <th>odor_pungent</th>\n",
       "      <th>odor_spicy</th>\n",
       "      <th>cap_color_brown</th>\n",
       "      <th>...</th>\n",
       "      <th>gill_color_buff</th>\n",
       "      <th>gill_color_chocolate</th>\n",
       "      <th>gill_color_gray</th>\n",
       "      <th>gill_color_green</th>\n",
       "      <th>gill_color_orange</th>\n",
       "      <th>gill_color_pink</th>\n",
       "      <th>gill_color_purple</th>\n",
       "      <th>gill_color_red</th>\n",
       "      <th>gill_color_white</th>\n",
       "      <th>gill_color_yellow</th>\n",
       "    </tr>\n",
       "  </thead>\n",
       "  <tbody>\n",
       "    <tr>\n",
       "      <th>0</th>\n",
       "      <td>0</td>\n",
       "      <td>0</td>\n",
       "      <td>0</td>\n",
       "      <td>0</td>\n",
       "      <td>0</td>\n",
       "      <td>0</td>\n",
       "      <td>0</td>\n",
       "      <td>1</td>\n",
       "      <td>0</td>\n",
       "      <td>1</td>\n",
       "      <td>...</td>\n",
       "      <td>0</td>\n",
       "      <td>0</td>\n",
       "      <td>0</td>\n",
       "      <td>0</td>\n",
       "      <td>0</td>\n",
       "      <td>0</td>\n",
       "      <td>0</td>\n",
       "      <td>0</td>\n",
       "      <td>0</td>\n",
       "      <td>0</td>\n",
       "    </tr>\n",
       "    <tr>\n",
       "      <th>1</th>\n",
       "      <td>1</td>\n",
       "      <td>0</td>\n",
       "      <td>0</td>\n",
       "      <td>0</td>\n",
       "      <td>0</td>\n",
       "      <td>0</td>\n",
       "      <td>0</td>\n",
       "      <td>0</td>\n",
       "      <td>0</td>\n",
       "      <td>0</td>\n",
       "      <td>...</td>\n",
       "      <td>0</td>\n",
       "      <td>0</td>\n",
       "      <td>0</td>\n",
       "      <td>0</td>\n",
       "      <td>0</td>\n",
       "      <td>0</td>\n",
       "      <td>0</td>\n",
       "      <td>0</td>\n",
       "      <td>0</td>\n",
       "      <td>0</td>\n",
       "    </tr>\n",
       "    <tr>\n",
       "      <th>2</th>\n",
       "      <td>0</td>\n",
       "      <td>1</td>\n",
       "      <td>0</td>\n",
       "      <td>0</td>\n",
       "      <td>0</td>\n",
       "      <td>0</td>\n",
       "      <td>0</td>\n",
       "      <td>0</td>\n",
       "      <td>0</td>\n",
       "      <td>0</td>\n",
       "      <td>...</td>\n",
       "      <td>0</td>\n",
       "      <td>0</td>\n",
       "      <td>0</td>\n",
       "      <td>0</td>\n",
       "      <td>0</td>\n",
       "      <td>0</td>\n",
       "      <td>0</td>\n",
       "      <td>0</td>\n",
       "      <td>0</td>\n",
       "      <td>0</td>\n",
       "    </tr>\n",
       "  </tbody>\n",
       "</table>\n",
       "<p>3 rows × 31 columns</p>\n",
       "</div>"
      ],
      "text/plain": [
       "   odor_almond  odor_anise  odor_creosote  odor_fishy  odor_foul  odor_musty  \\\n",
       "0            0           0              0           0          0           0   \n",
       "1            1           0              0           0          0           0   \n",
       "2            0           1              0           0          0           0   \n",
       "\n",
       "   odor_none  odor_pungent  odor_spicy  cap_color_brown        ...          \\\n",
       "0          0             1           0                1        ...           \n",
       "1          0             0           0                0        ...           \n",
       "2          0             0           0                0        ...           \n",
       "\n",
       "   gill_color_buff  gill_color_chocolate  gill_color_gray  gill_color_green  \\\n",
       "0                0                     0                0                 0   \n",
       "1                0                     0                0                 0   \n",
       "2                0                     0                0                 0   \n",
       "\n",
       "   gill_color_orange  gill_color_pink  gill_color_purple  gill_color_red  \\\n",
       "0                  0                0                  0               0   \n",
       "1                  0                0                  0               0   \n",
       "2                  0                0                  0               0   \n",
       "\n",
       "   gill_color_white  gill_color_yellow  \n",
       "0                 0                  0  \n",
       "1                 0                  0  \n",
       "2                 0                  0  \n",
       "\n",
       "[3 rows x 31 columns]"
      ]
     },
     "execution_count": 80,
     "metadata": {},
     "output_type": "execute_result"
    }
   ],
   "source": [
    "#sanity check\n",
    "X.head(3)"
   ]
  },
  {
   "cell_type": "code",
   "execution_count": 81,
   "metadata": {},
   "outputs": [
    {
     "data": {
      "text/plain": [
       "(8124, 31)"
      ]
     },
     "execution_count": 81,
     "metadata": {},
     "output_type": "execute_result"
    }
   ],
   "source": [
    "X.shape"
   ]
  },
  {
   "cell_type": "code",
   "execution_count": 82,
   "metadata": {},
   "outputs": [
    {
     "data": {
      "text/plain": [
       "array([1, 0, 0, ..., 0, 1, 0], dtype=int64)"
      ]
     },
     "execution_count": 82,
     "metadata": {},
     "output_type": "execute_result"
    }
   ],
   "source": [
    "#sanity check\n",
    "y"
   ]
  },
  {
   "cell_type": "code",
   "execution_count": 83,
   "metadata": {},
   "outputs": [
    {
     "data": {
      "text/plain": [
       "(8124,)"
      ]
     },
     "execution_count": 83,
     "metadata": {},
     "output_type": "execute_result"
    }
   ],
   "source": [
    "y.shape"
   ]
  },
  {
   "cell_type": "code",
   "execution_count": 84,
   "metadata": {},
   "outputs": [
    {
     "name": "stderr",
     "output_type": "stream",
     "text": [
      "C:\\Users\\Minyeong\\Anaconda3\\lib\\site-packages\\sklearn\\linear_model\\logistic.py:433: FutureWarning: Default solver will be changed to 'lbfgs' in 0.22. Specify a solver to silence this warning.\n",
      "  FutureWarning)\n",
      "C:\\Users\\Minyeong\\Anaconda3\\lib\\site-packages\\sklearn\\linear_model\\logistic.py:433: FutureWarning: Default solver will be changed to 'lbfgs' in 0.22. Specify a solver to silence this warning.\n",
      "  FutureWarning)\n",
      "C:\\Users\\Minyeong\\Anaconda3\\lib\\site-packages\\sklearn\\linear_model\\logistic.py:433: FutureWarning: Default solver will be changed to 'lbfgs' in 0.22. Specify a solver to silence this warning.\n",
      "  FutureWarning)\n",
      "C:\\Users\\Minyeong\\Anaconda3\\lib\\site-packages\\sklearn\\linear_model\\logistic.py:433: FutureWarning: Default solver will be changed to 'lbfgs' in 0.22. Specify a solver to silence this warning.\n",
      "  FutureWarning)\n",
      "C:\\Users\\Minyeong\\Anaconda3\\lib\\site-packages\\sklearn\\linear_model\\logistic.py:433: FutureWarning: Default solver will be changed to 'lbfgs' in 0.22. Specify a solver to silence this warning.\n",
      "  FutureWarning)\n",
      "C:\\Users\\Minyeong\\Anaconda3\\lib\\site-packages\\sklearn\\linear_model\\logistic.py:433: FutureWarning: Default solver will be changed to 'lbfgs' in 0.22. Specify a solver to silence this warning.\n",
      "  FutureWarning)\n",
      "C:\\Users\\Minyeong\\Anaconda3\\lib\\site-packages\\sklearn\\linear_model\\logistic.py:433: FutureWarning: Default solver will be changed to 'lbfgs' in 0.22. Specify a solver to silence this warning.\n",
      "  FutureWarning)\n",
      "C:\\Users\\Minyeong\\Anaconda3\\lib\\site-packages\\sklearn\\linear_model\\logistic.py:433: FutureWarning: Default solver will be changed to 'lbfgs' in 0.22. Specify a solver to silence this warning.\n",
      "  FutureWarning)\n"
     ]
    },
    {
     "name": "stdout",
     "output_type": "stream",
     "text": [
      "[0.76383764 0.99876999 0.99507995 0.98769988 0.95325953 0.9495695\n",
      " 1.         1.         0.93341554 0.99630086]\n"
     ]
    },
    {
     "name": "stderr",
     "output_type": "stream",
     "text": [
      "C:\\Users\\Minyeong\\Anaconda3\\lib\\site-packages\\sklearn\\linear_model\\logistic.py:433: FutureWarning: Default solver will be changed to 'lbfgs' in 0.22. Specify a solver to silence this warning.\n",
      "  FutureWarning)\n",
      "C:\\Users\\Minyeong\\Anaconda3\\lib\\site-packages\\sklearn\\linear_model\\logistic.py:433: FutureWarning: Default solver will be changed to 'lbfgs' in 0.22. Specify a solver to silence this warning.\n",
      "  FutureWarning)\n"
     ]
    }
   ],
   "source": [
    "from sklearn.model_selection import cross_val_score\n",
    "\n",
    "#evaluating the model using 10-fold(generally recommended) cross-validation, by dividing the observations into 10.\n",
    "scores = cross_val_score(LogisticRegression(), X, y, scoring='accuracy', cv=10)\n",
    "print (scores)"
   ]
  },
  {
   "cell_type": "code",
   "execution_count": 85,
   "metadata": {},
   "outputs": [
    {
     "name": "stdout",
     "output_type": "stream",
     "text": [
      "0.9577932881671603\n"
     ]
    }
   ],
   "source": [
    "#calculating average accuracy as an estimate of out-of-sample accuracy\n",
    "print (scores.mean())"
   ]
  },
  {
   "cell_type": "markdown",
   "metadata": {},
   "source": [
    "Based on above, the average accuracy for out-of-sample prediction is 95.78% when using cross-validation. For my dataset, by using train_test_split, the Logistic regression model turned out to predict the mushroom's edibility with the best accuracy of 99%, compared with using the same data set for both training and predicting with the accuracy of 98.82%, and using the 10-fold cross-validation with the accuracy of 95.78%."
   ]
  },
  {
   "cell_type": "markdown",
   "metadata": {},
   "source": [
    "### Phase II - 3) Clearly state your conclusions along with any recommendations for further analysis."
   ]
  },
  {
   "cell_type": "markdown",
   "metadata": {},
   "source": [
    " In conclusion, the logistic regression model that I used to predict the mushroom's edibility was accurate enough as evaluated above. From the EDA steps above, I could find that 'odor' variable is going to be an accurate predictor to see if mushroom is edible or poisonous. 'odor' variable alone could predict if the mushroom is poisonous or not with 98.52% accuracy. By combining 'gill_color\" variable, the model became better by predicting the edibility with 98.82% accuracy than using 'odor' varialbe alone. However, by combining 'cap_color' with either 'odor' or 'gill_color' did not make the model better in terms of accuracy. When combining all of the three 'odor', 'gill_color', 'cap_color' varialbes together, the model's accuracy was 98.82%, which is higher accuracy than 98.52% by using 'odor' varialbe alone. Therefore, I can conclude that besides 'odor' variable, 'gill_color' is the best predictor of whether a particular mushroom is poisonous or edible. <br> For further analysis, I want to try KNeighborsClassifier model to compare the accuracy with the Logistric regression model that I have used in this project. <br>Also I would recommend to select the best attributes(independent variables) after evaluating them by exploratory data analysis(EDA), instead of using \"domain knowledge\" that I used in this project, such as suggestions from WildFoodUK(https://www.wildfooduk.com/articles/how-to-tell-the-difference-between-poisonous-and-edible-mushrooms/) on how to avoid poisonous muchroom. Because we selected a subset of dataset before EDA, we did not have a chance to evaluate every single independent variable in the dataset before we selected the independent variables to analyze in this project. Hence, by selecting the best attributes after the EDA for further analysis, I will be able to make the model even better predict the response variable with better accuracy."
   ]
  }
 ],
 "metadata": {
  "kernelspec": {
   "display_name": "Python 3",
   "language": "python",
   "name": "python3"
  },
  "language_info": {
   "codemirror_mode": {
    "name": "ipython",
    "version": 3
   },
   "file_extension": ".py",
   "mimetype": "text/x-python",
   "name": "python",
   "nbconvert_exporter": "python",
   "pygments_lexer": "ipython3",
   "version": "3.7.1"
  }
 },
 "nbformat": 4,
 "nbformat_minor": 2
}
