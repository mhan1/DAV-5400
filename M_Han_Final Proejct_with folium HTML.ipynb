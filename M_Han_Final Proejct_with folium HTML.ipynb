{
 "cells": [
  {
   "cell_type": "markdown",
   "metadata": {},
   "source": [
    "# Final Project"
   ]
  },
  {
   "cell_type": "markdown",
   "metadata": {},
   "source": [
    "## Introduction\n",
    " In the state of New York, New York City which comprises five boroughs such as Manhattan, Queens, Brooklyn, Bronx and Staten Island, is the largest city in the United States. The estimated population for New York City is 8.6 million in 2017, and it is expected to reach 9 million by 2040. In order to serve this huge population, the number of open restaurants in New York City should be high enough, as we can easily imagine. As of December 31 of 2017, there are 26.7K open restaurants in New York City. This plethora of eateries offered in New York City can overwhelm New Yorkers when they need to decide where to go and what to eat. In addition, the average American eats about 4.2 commercially prepared meals per week as of 2017, in other words, as a nation, Americans eat out between four and five times a week on average which is equivalent to 18.2 meals in a month. \n",
    "\n",
    " Considering all of these, I was motivated to analyze the open restaurants in New York City, to provide New Yorkers with valuable insights regarding where to eat based on sound grounding. Despite the fact that there are a lot of reviews of restaurants available at our finger tip, it is hard to know if the restaurants of interest comply with the City and State food safety regulations through most of those reviews by customers that many people rely on when they eat outside the home. Hence, I expect my research questions in this project to help New Yorkers and visitors make better decisions when they consider eating out in New York City."
   ]
  },
  {
   "cell_type": "markdown",
   "metadata": {},
   "source": [
    "## Research Questions\n",
    "\n",
    "I want to divide my research questions by two different perspectives for better clarity.\n",
    "One is for recommended restaurants, and another is for restaurants to avoid.\n",
    "\n",
    "For recommended restaurants,\n",
    "<br>\n",
    "1) What are the restaurants that are compliant with the City and State food safety regulations in NYC?\n",
    "<br>\n",
    "2) Are those restaurants getting better over time and/or keep hygiene constantly?\n",
    "<br>\n",
    "3) What does Yelp say about the best restaurant in terms of star rating and reviews?\n",
    "\n",
    "For restaurants to avoid,\n",
    "<br>\n",
    "1) What are the restaurants that are not compliant with the City and State food safety regulations in NYC?\n",
    "<br>\n",
    "2) Are those restaurants getting any better over time?\n",
    "<br>\n",
    "3) What does Yelp say about the worst restaurant in terms of star rating and reviews?\n",
    "\n",
    "Additional question by using the best restaurants recommended by Yelp,\n",
    "<br>Are the top 10 best restaurants recommended by Yelp compliant with the food safety regulation?  \n",
    "\n",
    "By answering above research questions, I can find insights on which restaurants in New York City are complying with the food safety regulations and also which restaurants are favored by the customers. This insigt will be a sound grounding for me to recommend these restaurants to those who struggle with deciding where to eat outside the home. Additionally, I will be able to find out if those recommended restaurants keep their hygiene over the years constantly. On the other hand, the restaurants to avoid will be analyzed as well in the same way that I will perform for the recommended restaurants with opposite values for each parameter to consider. The answers to the research questions will be a great help for those who seek reasonable foundations to rely on when they eat out, instead of solely depending on lay opinions or reviews."
   ]
  },
  {
   "cell_type": "markdown",
   "metadata": {},
   "source": [
    "## Data to be Used\n",
    "\n",
    "The first dataset containing the Department of Health and Mental Hygiene New York City Restaurant Inspection Results will be downloaded from NYC OpenData website in CSV format, and I will load this dataset into Jupyter notebook for analysis.\n",
    "Because of the limitations of Github repository(100MB), I truncated the dataset to contain the records from May 2017, and also deleted rows that contain missing values.\n",
    "<br>\n",
    "The second dataset containing the reviews of restaurants from Yelp.com will be read as JSON format accessible via the web API.\n",
    "\n",
    "#### Attribute information\n",
    "\n",
    "1. CAMIS: Unique identifier for the establishment (restaurant)\n",
    "2. DBA: Establishment (restaurant) name\n",
    "3. BORO: Borough of establishment (restaurant) location\n",
    "4. BUILDING: Building number for establishment (restaurant) location\n",
    "5. STREET: Street name for establishment (restaurant) location\n",
    "6. ZIPCODE: Zip code of establishment (restaurant) location\n",
    "7. PHONE: Phone number\n",
    "8. CUISINE DESCRIPTION: Establishment (restaurant) cuisine\n",
    "9. INSPECTION DATE\t　\n",
    "10. ACTION: Action associated with each establishment (restaurant) inspection\n",
    "11. VIOLATION CODE: Violation code associated with an establishment (restaurant) inspection\n",
    "12. VIOLATION DESCRIPTION: Violation description associated with an establishment  (restaurant) inspection\n",
    "13. CRITICAL FLAG: Indicator of critical violation\n",
    "14. SCORE: Total score for a particular inspection\n",
    "<br>  Restaurants with a score between 0 and 13 points earn an A, those with 14 to 27 points receive a B and those with 28\n",
    "or more a C.\n",
    "15. GRADE: Grade associated with the inspection<br>\n",
    "• N= Not Yet Graded<br>\n",
    "• A = Grade A<br>\n",
    "• B = Grade B<br>\n",
    "• C = Grade C<br>\n",
    "• Z = Grade Pending<br>\n",
    "• P=Grade Pending issued on re-opening following an initial inspection that resulted in a closure\n",
    "\n",
    "16. GRADE DATE: Date when grade was issued to the establishment (restaurant)\n",
    "17. RECORD DATE: Date record was added to dataset\n",
    "18. INSPECTION TYPE: A combination of the inspection program and the type of inspection performed"
   ]
  },
  {
   "cell_type": "markdown",
   "metadata": {},
   "source": [
    "## References\n",
    "\n",
    "1) DOHMH New York City Restaurant Inspection Results\n",
    "<br>\n",
    "https://data.cityofnewyork.us/Health/DOHMH-New-York-City-Restaurant-Inspection-Results/43nn-pn8j\n",
    "\n",
    "2) Get started with the Yelp Fusion API\n",
    "<br>\n",
    "https://www.yelp.com/developers/documentation/v3/get_started\n",
    "\n",
    "3) World Popultion Review\n",
    "<br>\n",
    "http://worldpopulationreview.com/us-cities/new-york-city-population/\n",
    "\n",
    "4) Burdens abound, but NYC restaurants' numbers are growing\n",
    "<br>\n",
    "https://www.crainsnewyork.com/article/20180412/BLOGS01/180419940/burdens-abound-but-nyc-restaurants-numbers-are-growing\n",
    "\n",
    "5) Don’t Eat Out as Often (188/365)\n",
    "<br>\n",
    "https://www.thesimpledollar.com/dont-eat-out-as-often-188365/\n",
    "\n",
    "6) How we score and grade\n",
    "<br>\n",
    "https://www1.nyc.gov/assets/doh/downloads/pdf/rii/how-we-score-grade.pdf"
   ]
  },
  {
   "cell_type": "markdown",
   "metadata": {},
   "source": [
    "## Approach\n",
    "\n",
    "First of all, I will conduct EDA(exploratory data analysis) to describe and/or validate my dataset. After that, I will transform my datasets into appropriate format for analysis(Data Wrangling).\n",
    "<br>\n",
    "For recommended restaurants,\n",
    "<br>\n",
    "1) What are the best restaurants that are compliant with the City and State food safety regulations?\n",
    "- I will extract the most recent inspection date, and then find the restaurants who received the lowest \"Score\" for the inspections. I will choose the top 5 restaurants.\n",
    "\n",
    "<br>\n",
    "2) Are those restaurants getting better over time and/or keep hygiene constantly?\n",
    "\n",
    "- I will create the line plot by using the \"Score\"(dependent variable) and \"Inspection Date\"(independent variable) columns as respective variables to see the trends over time.\n",
    "\n",
    "<br>\n",
    "3) What does Yelp say about the best restaurant in terms of star rating and review?\n",
    "\n",
    "- I will request data using Yelp API, which contains the star ratings and reveiws of the restaurant, by using the phone number and buisiness ID, respectively.\n",
    "\n",
    "- I will assess the star ratings and reviews and draw conclusions.\n",
    "\n",
    "For restaurants to avoid, I will conduct the same procedures as described above, using appropriate values for each parameter to consider. For example, I will use the highest \"SCORE\" to select the worst 5 restaurants in NYC.  \n",
    "\n",
    "In addition, the dataset from Yelp with respective \"best\" and \"worst\" restaurants described above will include the latitude and longitude in one of the columns, \"coordinates\". By using the latitude and longitude, I will generate the map(geoplots) to locate the best and worst restaurants in New York City.\n",
    "<br>\n",
    "Finally, I will assess if the best restaurants recommended by Yelp are compliant with the food safety regulations."
   ]
  },
  {
   "cell_type": "markdown",
   "metadata": {},
   "source": [
    "### Phase 1: Loading the data and Data wrangling"
   ]
  },
  {
   "cell_type": "code",
   "execution_count": 1,
   "metadata": {},
   "outputs": [],
   "source": [
    "#importing necessary libraries\n",
    "import pandas as pd\n",
    "import numpy as np\n",
    "import seaborn as sns\n",
    "import matplotlib.pyplot as plt"
   ]
  },
  {
   "cell_type": "code",
   "execution_count": 2,
   "metadata": {},
   "outputs": [],
   "source": [
    "#loading the data\n",
    "df = pd.read_csv('https://raw.githubusercontent.com/mhan1/analytical-programming/master/NYC_RESTAURANTS.csv')"
   ]
  },
  {
   "cell_type": "code",
   "execution_count": 3,
   "metadata": {},
   "outputs": [
    {
     "data": {
      "text/html": [
       "<div>\n",
       "<style scoped>\n",
       "    .dataframe tbody tr th:only-of-type {\n",
       "        vertical-align: middle;\n",
       "    }\n",
       "\n",
       "    .dataframe tbody tr th {\n",
       "        vertical-align: top;\n",
       "    }\n",
       "\n",
       "    .dataframe thead th {\n",
       "        text-align: right;\n",
       "    }\n",
       "</style>\n",
       "<table border=\"1\" class=\"dataframe\">\n",
       "  <thead>\n",
       "    <tr style=\"text-align: right;\">\n",
       "      <th></th>\n",
       "      <th>CAMIS</th>\n",
       "      <th>DBA</th>\n",
       "      <th>BORO</th>\n",
       "      <th>BUILDING</th>\n",
       "      <th>STREET</th>\n",
       "      <th>ZIPCODE</th>\n",
       "      <th>PHONE</th>\n",
       "      <th>CUISINE DESCRIPTION</th>\n",
       "      <th>INSPECTION DATE</th>\n",
       "      <th>ACTION</th>\n",
       "      <th>VIOLATION CODE</th>\n",
       "      <th>VIOLATION DESCRIPTION</th>\n",
       "      <th>CRITICAL FLAG</th>\n",
       "      <th>SCORE</th>\n",
       "      <th>GRADE</th>\n",
       "      <th>GRADE DATE</th>\n",
       "      <th>RECORD DATE</th>\n",
       "      <th>INSPECTION TYPE</th>\n",
       "    </tr>\n",
       "  </thead>\n",
       "  <tbody>\n",
       "    <tr>\n",
       "      <th>0</th>\n",
       "      <td>40366132</td>\n",
       "      <td>DENINO'S PIZZERIA TAVERN</td>\n",
       "      <td>STATEN ISLAND</td>\n",
       "      <td>524</td>\n",
       "      <td>PORT RICHMOND AVENUE</td>\n",
       "      <td>10302.0</td>\n",
       "      <td>7184429401</td>\n",
       "      <td>Pizza/Italian</td>\n",
       "      <td>5/1/2017</td>\n",
       "      <td>Violations were cited in the following area(s).</td>\n",
       "      <td>02B</td>\n",
       "      <td>Hot food item not held at or above 140Âº F.</td>\n",
       "      <td>Critical</td>\n",
       "      <td>10.0</td>\n",
       "      <td>A</td>\n",
       "      <td>5/1/2017</td>\n",
       "      <td>5/4/2019</td>\n",
       "      <td>Cycle Inspection / Re-inspection</td>\n",
       "    </tr>\n",
       "    <tr>\n",
       "      <th>1</th>\n",
       "      <td>40366132</td>\n",
       "      <td>DENINO'S PIZZERIA TAVERN</td>\n",
       "      <td>STATEN ISLAND</td>\n",
       "      <td>524</td>\n",
       "      <td>PORT RICHMOND AVENUE</td>\n",
       "      <td>10302.0</td>\n",
       "      <td>7184429401</td>\n",
       "      <td>Pizza/Italian</td>\n",
       "      <td>5/1/2017</td>\n",
       "      <td>Violations were cited in the following area(s).</td>\n",
       "      <td>10F</td>\n",
       "      <td>Non-food contact surface improperly constructe...</td>\n",
       "      <td>Not Critical</td>\n",
       "      <td>10.0</td>\n",
       "      <td>A</td>\n",
       "      <td>5/1/2017</td>\n",
       "      <td>5/4/2019</td>\n",
       "      <td>Cycle Inspection / Re-inspection</td>\n",
       "    </tr>\n",
       "    <tr>\n",
       "      <th>2</th>\n",
       "      <td>40367442</td>\n",
       "      <td>BUDDY'S WONDER BAR</td>\n",
       "      <td>STATEN ISLAND</td>\n",
       "      <td>17</td>\n",
       "      <td>HARRISON AVENUE</td>\n",
       "      <td>10302.0</td>\n",
       "      <td>7184429768</td>\n",
       "      <td>American</td>\n",
       "      <td>5/1/2017</td>\n",
       "      <td>Violations were cited in the following area(s).</td>\n",
       "      <td>04A</td>\n",
       "      <td>Food Protection Certificate not held by superv...</td>\n",
       "      <td>Critical</td>\n",
       "      <td>27.0</td>\n",
       "      <td>NaN</td>\n",
       "      <td>NaN</td>\n",
       "      <td>5/4/2019</td>\n",
       "      <td>Cycle Inspection / Initial Inspection</td>\n",
       "    </tr>\n",
       "    <tr>\n",
       "      <th>3</th>\n",
       "      <td>40367442</td>\n",
       "      <td>BUDDY'S WONDER BAR</td>\n",
       "      <td>STATEN ISLAND</td>\n",
       "      <td>17</td>\n",
       "      <td>HARRISON AVENUE</td>\n",
       "      <td>10302.0</td>\n",
       "      <td>7184429768</td>\n",
       "      <td>American</td>\n",
       "      <td>5/1/2017</td>\n",
       "      <td>Violations were cited in the following area(s).</td>\n",
       "      <td>04L</td>\n",
       "      <td>Evidence of mice or live mice present in facil...</td>\n",
       "      <td>Critical</td>\n",
       "      <td>27.0</td>\n",
       "      <td>NaN</td>\n",
       "      <td>NaN</td>\n",
       "      <td>5/4/2019</td>\n",
       "      <td>Cycle Inspection / Initial Inspection</td>\n",
       "    </tr>\n",
       "    <tr>\n",
       "      <th>4</th>\n",
       "      <td>40367442</td>\n",
       "      <td>BUDDY'S WONDER BAR</td>\n",
       "      <td>STATEN ISLAND</td>\n",
       "      <td>17</td>\n",
       "      <td>HARRISON AVENUE</td>\n",
       "      <td>10302.0</td>\n",
       "      <td>7184429768</td>\n",
       "      <td>American</td>\n",
       "      <td>5/1/2017</td>\n",
       "      <td>Violations were cited in the following area(s).</td>\n",
       "      <td>06D</td>\n",
       "      <td>Food contact surface not properly washed, rins...</td>\n",
       "      <td>Critical</td>\n",
       "      <td>27.0</td>\n",
       "      <td>NaN</td>\n",
       "      <td>NaN</td>\n",
       "      <td>5/4/2019</td>\n",
       "      <td>Cycle Inspection / Initial Inspection</td>\n",
       "    </tr>\n",
       "  </tbody>\n",
       "</table>\n",
       "</div>"
      ],
      "text/plain": [
       "      CAMIS                       DBA           BORO BUILDING  \\\n",
       "0  40366132  DENINO'S PIZZERIA TAVERN  STATEN ISLAND      524   \n",
       "1  40366132  DENINO'S PIZZERIA TAVERN  STATEN ISLAND      524   \n",
       "2  40367442        BUDDY'S WONDER BAR  STATEN ISLAND       17   \n",
       "3  40367442        BUDDY'S WONDER BAR  STATEN ISLAND       17   \n",
       "4  40367442        BUDDY'S WONDER BAR  STATEN ISLAND       17   \n",
       "\n",
       "                 STREET  ZIPCODE       PHONE CUISINE DESCRIPTION  \\\n",
       "0  PORT RICHMOND AVENUE  10302.0  7184429401       Pizza/Italian   \n",
       "1  PORT RICHMOND AVENUE  10302.0  7184429401       Pizza/Italian   \n",
       "2       HARRISON AVENUE  10302.0  7184429768            American   \n",
       "3       HARRISON AVENUE  10302.0  7184429768            American   \n",
       "4       HARRISON AVENUE  10302.0  7184429768            American   \n",
       "\n",
       "  INSPECTION DATE                                           ACTION  \\\n",
       "0        5/1/2017  Violations were cited in the following area(s).   \n",
       "1        5/1/2017  Violations were cited in the following area(s).   \n",
       "2        5/1/2017  Violations were cited in the following area(s).   \n",
       "3        5/1/2017  Violations were cited in the following area(s).   \n",
       "4        5/1/2017  Violations were cited in the following area(s).   \n",
       "\n",
       "  VIOLATION CODE                              VIOLATION DESCRIPTION  \\\n",
       "0            02B        Hot food item not held at or above 140Âº F.   \n",
       "1            10F  Non-food contact surface improperly constructe...   \n",
       "2            04A  Food Protection Certificate not held by superv...   \n",
       "3            04L  Evidence of mice or live mice present in facil...   \n",
       "4            06D  Food contact surface not properly washed, rins...   \n",
       "\n",
       "  CRITICAL FLAG  SCORE GRADE GRADE DATE RECORD DATE  \\\n",
       "0      Critical   10.0     A   5/1/2017    5/4/2019   \n",
       "1  Not Critical   10.0     A   5/1/2017    5/4/2019   \n",
       "2      Critical   27.0   NaN        NaN    5/4/2019   \n",
       "3      Critical   27.0   NaN        NaN    5/4/2019   \n",
       "4      Critical   27.0   NaN        NaN    5/4/2019   \n",
       "\n",
       "                         INSPECTION TYPE  \n",
       "0       Cycle Inspection / Re-inspection  \n",
       "1       Cycle Inspection / Re-inspection  \n",
       "2  Cycle Inspection / Initial Inspection  \n",
       "3  Cycle Inspection / Initial Inspection  \n",
       "4  Cycle Inspection / Initial Inspection  "
      ]
     },
     "execution_count": 3,
     "metadata": {},
     "output_type": "execute_result"
    }
   ],
   "source": [
    "#sanity check\n",
    "df.head()"
   ]
  },
  {
   "cell_type": "code",
   "execution_count": 4,
   "metadata": {},
   "outputs": [
    {
     "data": {
      "text/plain": [
       "(263755, 18)"
      ]
     },
     "execution_count": 4,
     "metadata": {},
     "output_type": "execute_result"
    }
   ],
   "source": [
    "#checking the number of rows and columns in df\n",
    "df.shape"
   ]
  },
  {
   "cell_type": "code",
   "execution_count": null,
   "metadata": {},
   "outputs": [
    {
     "data": {
      "text/plain": [
       "Index(['CAMIS', 'DBA', 'BORO', 'BUILDING', 'STREET', 'ZIPCODE', 'PHONE',\n",
       "       'CUISINE DESCRIPTION', 'INSPECTION DATE', 'ACTION', 'VIOLATION CODE',\n",
       "       'VIOLATION DESCRIPTION', 'CRITICAL FLAG', 'SCORE', 'GRADE',\n",
       "       'GRADE DATE', 'RECORD DATE', 'INSPECTION TYPE'],\n",
       "      dtype='object')"
      ]
     },
     "execution_count": 5,
     "metadata": {},
     "output_type": "execute_result"
    }
   ],
   "source": [
    "#cecking the columns in df\n",
    "df.columns"
   ]
  },
  {
   "cell_type": "code",
   "execution_count": null,
   "metadata": {},
   "outputs": [
    {
     "data": {
      "text/html": [
       "<div>\n",
       "<style scoped>\n",
       "    .dataframe tbody tr th:only-of-type {\n",
       "        vertical-align: middle;\n",
       "    }\n",
       "\n",
       "    .dataframe tbody tr th {\n",
       "        vertical-align: top;\n",
       "    }\n",
       "\n",
       "    .dataframe thead th {\n",
       "        text-align: right;\n",
       "    }\n",
       "</style>\n",
       "<table border=\"1\" class=\"dataframe\">\n",
       "  <thead>\n",
       "    <tr style=\"text-align: right;\">\n",
       "      <th></th>\n",
       "      <th>DBA</th>\n",
       "      <th>BORO</th>\n",
       "      <th>BUILDING</th>\n",
       "      <th>STREET</th>\n",
       "      <th>PHONE</th>\n",
       "      <th>CUISINE DESCRIPTION</th>\n",
       "      <th>INSPECTION DATE</th>\n",
       "      <th>ACTION</th>\n",
       "      <th>VIOLATION DESCRIPTION</th>\n",
       "      <th>SCORE</th>\n",
       "      <th>GRADE</th>\n",
       "    </tr>\n",
       "  </thead>\n",
       "  <tbody>\n",
       "    <tr>\n",
       "      <th>0</th>\n",
       "      <td>DENINO'S PIZZERIA TAVERN</td>\n",
       "      <td>STATEN ISLAND</td>\n",
       "      <td>524</td>\n",
       "      <td>PORT RICHMOND AVENUE</td>\n",
       "      <td>7184429401</td>\n",
       "      <td>Pizza/Italian</td>\n",
       "      <td>5/1/2017</td>\n",
       "      <td>Violations were cited in the following area(s).</td>\n",
       "      <td>Hot food item not held at or above 140Âº F.</td>\n",
       "      <td>10.0</td>\n",
       "      <td>A</td>\n",
       "    </tr>\n",
       "    <tr>\n",
       "      <th>1</th>\n",
       "      <td>DENINO'S PIZZERIA TAVERN</td>\n",
       "      <td>STATEN ISLAND</td>\n",
       "      <td>524</td>\n",
       "      <td>PORT RICHMOND AVENUE</td>\n",
       "      <td>7184429401</td>\n",
       "      <td>Pizza/Italian</td>\n",
       "      <td>5/1/2017</td>\n",
       "      <td>Violations were cited in the following area(s).</td>\n",
       "      <td>Non-food contact surface improperly constructe...</td>\n",
       "      <td>10.0</td>\n",
       "      <td>A</td>\n",
       "    </tr>\n",
       "    <tr>\n",
       "      <th>2</th>\n",
       "      <td>BUDDY'S WONDER BAR</td>\n",
       "      <td>STATEN ISLAND</td>\n",
       "      <td>17</td>\n",
       "      <td>HARRISON AVENUE</td>\n",
       "      <td>7184429768</td>\n",
       "      <td>American</td>\n",
       "      <td>5/1/2017</td>\n",
       "      <td>Violations were cited in the following area(s).</td>\n",
       "      <td>Food Protection Certificate not held by superv...</td>\n",
       "      <td>27.0</td>\n",
       "      <td>NaN</td>\n",
       "    </tr>\n",
       "  </tbody>\n",
       "</table>\n",
       "</div>"
      ],
      "text/plain": [
       "                        DBA           BORO BUILDING                STREET  \\\n",
       "0  DENINO'S PIZZERIA TAVERN  STATEN ISLAND      524  PORT RICHMOND AVENUE   \n",
       "1  DENINO'S PIZZERIA TAVERN  STATEN ISLAND      524  PORT RICHMOND AVENUE   \n",
       "2        BUDDY'S WONDER BAR  STATEN ISLAND       17       HARRISON AVENUE   \n",
       "\n",
       "        PHONE CUISINE DESCRIPTION INSPECTION DATE  \\\n",
       "0  7184429401       Pizza/Italian        5/1/2017   \n",
       "1  7184429401       Pizza/Italian        5/1/2017   \n",
       "2  7184429768            American        5/1/2017   \n",
       "\n",
       "                                            ACTION  \\\n",
       "0  Violations were cited in the following area(s).   \n",
       "1  Violations were cited in the following area(s).   \n",
       "2  Violations were cited in the following area(s).   \n",
       "\n",
       "                               VIOLATION DESCRIPTION  SCORE GRADE  \n",
       "0        Hot food item not held at or above 140Âº F.   10.0     A  \n",
       "1  Non-food contact surface improperly constructe...   10.0     A  \n",
       "2  Food Protection Certificate not held by superv...   27.0   NaN  "
      ]
     },
     "execution_count": 6,
     "metadata": {},
     "output_type": "execute_result"
    }
   ],
   "source": [
    "#creating a pandas DataFrame with a subset of the columns in the dataset.\n",
    "df1 = df[['DBA','BORO','BUILDING', 'STREET', 'PHONE', 'CUISINE DESCRIPTION', 'INSPECTION DATE', \n",
    "          'ACTION', 'VIOLATION DESCRIPTION', 'SCORE', 'GRADE']]\n",
    "df1.head(3)"
   ]
  },
  {
   "cell_type": "code",
   "execution_count": null,
   "metadata": {},
   "outputs": [
    {
     "name": "stdout",
     "output_type": "stream",
     "text": [
      "<class 'pandas.core.frame.DataFrame'>\n",
      "RangeIndex: 263755 entries, 0 to 263754\n",
      "Data columns (total 11 columns):\n",
      "DBA                      263751 non-null object\n",
      "BORO                     263755 non-null object\n",
      "BUILDING                 263596 non-null object\n",
      "STREET                   263755 non-null object\n",
      "PHONE                    263742 non-null object\n",
      "CUISINE DESCRIPTION      263755 non-null object\n",
      "INSPECTION DATE          263755 non-null object\n",
      "ACTION                   263755 non-null object\n",
      "VIOLATION DESCRIPTION    258164 non-null object\n",
      "SCORE                    252774 non-null float64\n",
      "GRADE                    132573 non-null object\n",
      "dtypes: float64(1), object(10)\n",
      "memory usage: 22.1+ MB\n"
     ]
    }
   ],
   "source": [
    "#printing the summary of df1\n",
    "df1.info()"
   ]
  },
  {
   "cell_type": "code",
   "execution_count": null,
   "metadata": {},
   "outputs": [
    {
     "data": {
      "text/plain": [
       "'5/1/2017'"
      ]
     },
     "execution_count": 8,
     "metadata": {},
     "output_type": "execute_result"
    }
   ],
   "source": [
    "#checking the first value of INSPECTION DATE column\n",
    "df1['INSPECTION DATE'][0]"
   ]
  },
  {
   "cell_type": "code",
   "execution_count": null,
   "metadata": {},
   "outputs": [
    {
     "data": {
      "text/plain": [
       "str"
      ]
     },
     "execution_count": 9,
     "metadata": {},
     "output_type": "execute_result"
    }
   ],
   "source": [
    "#checking the data type of INSEPCTION DATE column first value\n",
    "type(df1['INSPECTION DATE'][0])"
   ]
  },
  {
   "cell_type": "code",
   "execution_count": null,
   "metadata": {},
   "outputs": [],
   "source": [
    "#transforming the data type of INSPECTION DATE column into datetime\n",
    "df1['INSPECTION DATE'] = pd.to_datetime(df['INSPECTION DATE'])"
   ]
  },
  {
   "cell_type": "code",
   "execution_count": null,
   "metadata": {},
   "outputs": [],
   "source": [
    "#sanity check for the first value of INSPECTION DATE column\n",
    "df1['INSPECTION DATE'][0]"
   ]
  },
  {
   "cell_type": "code",
   "execution_count": null,
   "metadata": {},
   "outputs": [],
   "source": [
    "#checking the data type after converting into datetime\n",
    "type(df1['INSPECTION DATE'][0])"
   ]
  },
  {
   "cell_type": "code",
   "execution_count": null,
   "metadata": {},
   "outputs": [],
   "source": [
    "#checking the dataframe df1 summary\n",
    "df1.info()"
   ]
  },
  {
   "cell_type": "code",
   "execution_count": null,
   "metadata": {},
   "outputs": [],
   "source": [
    "#chekcing the description of df1 dataframe\n",
    "df1.describe()"
   ]
  },
  {
   "cell_type": "markdown",
   "metadata": {},
   "source": [
    "### Phase 2:Perform exploratory data analysis(EDA) - show the distribution of data for each of the columns you selected and include text describing your EDA findings."
   ]
  },
  {
   "cell_type": "code",
   "execution_count": null,
   "metadata": {},
   "outputs": [],
   "source": [
    "#descriptive statistics for df1 dataframe\n",
    "df1.describe()"
   ]
  },
  {
   "cell_type": "code",
   "execution_count": null,
   "metadata": {},
   "outputs": [],
   "source": [
    "#printing a concise summary of df1 dataframe\n",
    "df1.info()"
   ]
  },
  {
   "cell_type": "code",
   "execution_count": null,
   "metadata": {},
   "outputs": [],
   "source": [
    "#checking columns\n",
    "df1.columns"
   ]
  },
  {
   "cell_type": "code",
   "execution_count": null,
   "metadata": {},
   "outputs": [],
   "source": [
    "#renaming the 'DBA' and 'BORO' columns.\n",
    "df1.rename(columns={'DBA':'RESTAURANT', 'BORO':'BOROUGH'}, inplace = True)"
   ]
  },
  {
   "cell_type": "code",
   "execution_count": null,
   "metadata": {},
   "outputs": [],
   "source": [
    "#checking the columns in df1\n",
    "df1.columns"
   ]
  },
  {
   "cell_type": "code",
   "execution_count": null,
   "metadata": {},
   "outputs": [],
   "source": [
    "#identifying missing values, displaying the columns that have null values\n",
    "print(df1.isnull().any(axis=0))"
   ]
  },
  {
   "cell_type": "markdown",
   "metadata": {},
   "source": [
    "Based on above, DBA, BUILDING, PHONE, VIOLATION DESCRIPTION, SCORE, AND GRADE columns have null values.\n",
    "<br> According to \"How we score and grade\" by NYC Health department (https://www1.nyc.gov/assets/doh/downloads/pdf/rii/how-we-score-grade.pdf),\n",
    "<br> A restaurant has two chances to earn an A in every inspection\n",
    "cycle. If it doesn’t earn an A on the first inspection, it’s scored but\n",
    "ungraded. An inspector goes back to the restaurant\n",
    "unannounced, typically within a month, to inspect it again\n",
    "and the re-inspection is graded. If the grade is a B or C, the\n",
    "restaurant will receive a grade card and a grade pending card. It\n",
    "can post either card until it has an opportunity to be heard at\n",
    "the Office of Administrative Trials and Hearings Health\n",
    "Tribunal.\n",
    "<br>\n",
    "Hence, the null values in GRADE columns can be either \"scored but ungraded\", or in the \"pending\" status. Either way, these restaurants did not receive A grade on the first inspection. Therefore, I decided to leave those \"null\" values in the GRADE column as these indicate those restaurants are not \"A\" grade restaurants, at least, yet."
   ]
  },
  {
   "cell_type": "code",
   "execution_count": null,
   "metadata": {},
   "outputs": [],
   "source": [
    "#sanity check\n",
    "df1.head(3)"
   ]
  },
  {
   "cell_type": "markdown",
   "metadata": {},
   "source": [
    "### Distribution of 'BOROUGH'"
   ]
  },
  {
   "cell_type": "code",
   "execution_count": null,
   "metadata": {},
   "outputs": [],
   "source": [
    "#checking the BOROUGH column summary information\n",
    "df1['BOROUGH'].describe()"
   ]
  },
  {
   "cell_type": "code",
   "execution_count": null,
   "metadata": {},
   "outputs": [],
   "source": [
    "#checking unique values in BOROUGH column\n",
    "df1['BOROUGH'].unique()"
   ]
  },
  {
   "cell_type": "code",
   "execution_count": null,
   "metadata": {},
   "outputs": [],
   "source": [
    "#getting the value counts for the 'BOROUGH' variable, which is categorical data type.\n",
    "df1['BOROUGH'].value_counts()"
   ]
  },
  {
   "cell_type": "code",
   "execution_count": null,
   "metadata": {},
   "outputs": [],
   "source": [
    "#creating a bar plot of the 'BOROUGH' variable's value counts\n",
    "df1['BOROUGH'].value_counts().plot.bar(title = \"Freq Dist of BOROUGH\");"
   ]
  },
  {
   "cell_type": "markdown",
   "metadata": {},
   "source": [
    "Based on above, there are 103723 of inspected restaurants' records in Manhattan, which is the largest counts, and there are 9234 of inspected restaurants' records in STATEN ISLAND which is the smallest counts in the dataset."
   ]
  },
  {
   "cell_type": "markdown",
   "metadata": {},
   "source": [
    "### Distribution of 'RESTAURANT'"
   ]
  },
  {
   "cell_type": "code",
   "execution_count": null,
   "metadata": {},
   "outputs": [],
   "source": [
    "#checking the RESTAURANT column summary information\n",
    "df1['RESTAURANT'].describe()"
   ]
  },
  {
   "cell_type": "code",
   "execution_count": null,
   "metadata": {},
   "outputs": [],
   "source": [
    "#checking unique values in RESTAURANT column\n",
    "df1['RESTAURANT'].unique()"
   ]
  },
  {
   "cell_type": "code",
   "execution_count": null,
   "metadata": {},
   "outputs": [],
   "source": [
    "#getting the value counts for the 'RESTAURANT' variable, which is categorical data type.\n",
    "df1['RESTAURANT'].value_counts()"
   ]
  },
  {
   "cell_type": "markdown",
   "metadata": {},
   "source": [
    "Since there are total 20640 unique restaurants in the dataset as shown above, I will not plot the bar chart to show the distribution. Dunkin' donuts are the most frequent restaurant in the dataset, followed by Subway, Starbucks, and Mcdonald's."
   ]
  },
  {
   "cell_type": "markdown",
   "metadata": {},
   "source": [
    "### Distribution of SCORE"
   ]
  },
  {
   "cell_type": "code",
   "execution_count": null,
   "metadata": {},
   "outputs": [],
   "source": [
    "#checking the SCORE column summary information\n",
    "df1['SCORE'].describe()"
   ]
  },
  {
   "cell_type": "code",
   "execution_count": null,
   "metadata": {},
   "outputs": [],
   "source": [
    "df1['SCORE'].unique()"
   ]
  },
  {
   "cell_type": "code",
   "execution_count": null,
   "metadata": {},
   "outputs": [],
   "source": [
    "#checking the null values\n",
    "df1['SCORE'].isnull().any(axis=0)"
   ]
  },
  {
   "cell_type": "code",
   "execution_count": null,
   "metadata": {},
   "outputs": [],
   "source": [
    "#converting the null values into 0\n",
    "df1[\"SCORE\"].fillna(\"0\", inplace = True) "
   ]
  },
  {
   "cell_type": "code",
   "execution_count": null,
   "metadata": {},
   "outputs": [],
   "source": [
    "df1.head(2)"
   ]
  },
  {
   "cell_type": "code",
   "execution_count": null,
   "metadata": {},
   "outputs": [],
   "source": [
    "#converting SCORE column data type into integer.\n",
    "df1.SCORE = df1.SCORE.astype(int)"
   ]
  },
  {
   "cell_type": "code",
   "execution_count": null,
   "metadata": {},
   "outputs": [],
   "source": [
    "#histogram of 'SCORE' variable which is numeric data type.\n",
    "sns.distplot(df1.SCORE)\n",
    "plt.title('Distribution of SCORE')"
   ]
  },
  {
   "cell_type": "code",
   "execution_count": null,
   "metadata": {},
   "outputs": [],
   "source": [
    "sns.boxplot(df1.SCORE, orient = 'v', width=0.2)\n",
    "plt.title('Boxplot of SCORE')"
   ]
  },
  {
   "cell_type": "code",
   "execution_count": null,
   "metadata": {},
   "outputs": [],
   "source": [
    "#checking the SCORE column summary information\n",
    "df1['SCORE'].describe()"
   ]
  },
  {
   "cell_type": "markdown",
   "metadata": {},
   "source": [
    "Based on above, SCORE variable is right-skewed as the mean value is larger than the median. The mean score is 19.86, which indicates GRADE B. "
   ]
  },
  {
   "cell_type": "markdown",
   "metadata": {},
   "source": [
    "### Distribution of GRADE"
   ]
  },
  {
   "cell_type": "code",
   "execution_count": null,
   "metadata": {},
   "outputs": [],
   "source": [
    "#checking the GRADE column summary information\n",
    "df1['GRADE'].describe()"
   ]
  },
  {
   "cell_type": "code",
   "execution_count": null,
   "metadata": {},
   "outputs": [],
   "source": [
    "#checking unique values in GRADE column\n",
    "df1['GRADE'].unique()"
   ]
  },
  {
   "cell_type": "code",
   "execution_count": null,
   "metadata": {},
   "outputs": [],
   "source": [
    "#getting the value counts for the 'GRADE' variable, which is categorical data type.\n",
    "df1['GRADE'].value_counts()"
   ]
  },
  {
   "cell_type": "code",
   "execution_count": null,
   "metadata": {},
   "outputs": [],
   "source": [
    "#creating a bar plot of the 'GRADE' variable's value counts\n",
    "df1['GRADE'].value_counts().plot.bar(title = \"Freq Dist of GRADE\");"
   ]
  },
  {
   "cell_type": "markdown",
   "metadata": {},
   "source": [
    "Based on above, 102827 of inspected restaurants received A grade, which is the most frequent grade, and there are some pending grades such as Z, P, G, and \"Not Yet Graded\". The details about how Health department score and grade was described above, and also it can be found in the link: https://www1.nyc.gov/assets/doh/downloads/pdf/rii/how-we-score-grade.pdf"
   ]
  },
  {
   "cell_type": "markdown",
   "metadata": {},
   "source": [
    "### Phase 3: Find the restaurants that received the lowest SCORE and the best GRADE in NYC."
   ]
  },
  {
   "cell_type": "code",
   "execution_count": null,
   "metadata": {},
   "outputs": [],
   "source": [
    "#sanity check\n",
    "df1.head(2)"
   ]
  },
  {
   "cell_type": "code",
   "execution_count": null,
   "metadata": {},
   "outputs": [],
   "source": [
    "#checking the INSPECTIN DATE column\n",
    "df1['INSPECTION DATE'].describe()"
   ]
  },
  {
   "cell_type": "code",
   "execution_count": null,
   "metadata": {},
   "outputs": [],
   "source": [
    "#finding the most recent inspection date\n",
    "df1['INSPECTION DATE'].sort_values(ascending=False).head()"
   ]
  },
  {
   "cell_type": "markdown",
   "metadata": {},
   "source": [
    "Based on above, 2019-05-02 is the most recent INSPECTION DATE in the dataset, so I will use this date to find the \"best\" restaurant based on the SCORE and GRADE in each borough."
   ]
  },
  {
   "cell_type": "code",
   "execution_count": null,
   "metadata": {},
   "outputs": [],
   "source": [
    "#extracting the data which was inspected on 2019-05-02\n",
    "df2 = pd.DataFrame(df1.loc[df1['INSPECTION DATE'] == '2019-05-02'])\n",
    "df2.head(3)"
   ]
  },
  {
   "cell_type": "code",
   "execution_count": null,
   "metadata": {},
   "outputs": [],
   "source": [
    "#checking the number of rows and columns\n",
    "df2.shape"
   ]
  },
  {
   "cell_type": "code",
   "execution_count": null,
   "metadata": {},
   "outputs": [],
   "source": [
    "#grouping by 'BOROUGH' and 'RESTAURANT', and then calculating the mean of 'SCORE' column.\n",
    "grouped_df2 = df2.groupby(['BOROUGH', 'RESTAURANT', 'GRADE'])['SCORE'].agg([('Average Score', 'mean')]).sort_values(by=['Average Score'], ascending=True)\n",
    "grouped_df2.head(5)"
   ]
  },
  {
   "cell_type": "markdown",
   "metadata": {},
   "source": [
    "Recommended restaurants: Based on above table, MILK BAR NOLITA, SUBWAY, CROWN FRIED CHICKEN, CAFE TO GO, NATHAN'S FAMOUS are the best 5 restaurants in terms of lowest SCORE as of 2019-05-02, which means they are compliant with the City and State food safety regulations."
   ]
  },
  {
   "cell_type": "markdown",
   "metadata": {},
   "source": [
    "### Phase 4: Find the restaurants that received the highest SCORE and the worst GRADE in NYC."
   ]
  },
  {
   "cell_type": "code",
   "execution_count": null,
   "metadata": {},
   "outputs": [],
   "source": [
    "grouped_df2.tail(5)"
   ]
  },
  {
   "cell_type": "markdown",
   "metadata": {},
   "source": [
    "Restaurants to avoid: Based on above table, SOUTHERN GIRLS SOUL FOOD  is the worst restaurant scoring 119 as of 2019-05-02, followed by EMMY SQUARED, GOURMET PARK, TOBY'S ESTATE COFFEE BUSHWICK, and LUCKY. They are definitely not compliant with the City and State food safety regulations, and we need to avoid these restaurants."
   ]
  },
  {
   "cell_type": "markdown",
   "metadata": {},
   "source": [
    "### Phase 5: Assess the best and the worst restaurants' compliance with the food safety regulations over time, respectively."
   ]
  },
  {
   "cell_type": "code",
   "execution_count": null,
   "metadata": {},
   "outputs": [],
   "source": [
    "#replacing the charcter(') into (-) in RESTAURANT column\n",
    "df1['RESTAURANT'] = df1['RESTAURANT'].str.replace(\"'\", \"-\")"
   ]
  },
  {
   "cell_type": "code",
   "execution_count": null,
   "metadata": {},
   "outputs": [],
   "source": [
    "#extracting the data which contain the best restaurants\n",
    "df2_best = df1[df1['RESTAURANT'].isin(['NATHAN-S FAMOUS', 'CAFE TO GO', 'CROWN FRIED CHICKEN', 'SUBWAY', 'MILK BAR NOLITA'])]\n",
    "df2_best"
   ]
  },
  {
   "cell_type": "code",
   "execution_count": null,
   "metadata": {},
   "outputs": [],
   "source": [
    "#extracting the year from 'INSPECTINO DATE' column\n",
    "df2_best['INSPECTION DATE'] = df2_best['INSPECTION DATE'].map(lambda x: x.year)"
   ]
  },
  {
   "cell_type": "code",
   "execution_count": null,
   "metadata": {},
   "outputs": [],
   "source": [
    "#creating a line chart to visualize the trend\n",
    "plt.figure(figsize=(15,12))\n",
    "sns.pointplot(x='INSPECTION DATE', y='SCORE', hue='RESTAURANT', data=df2_best);"
   ]
  },
  {
   "cell_type": "markdown",
   "metadata": {},
   "source": [
    "Based on above line chart, MILK BAR NOLITA, NATHAN-S FAMOUS, CROWN FRIEND CHICKEN restaurants have improved their compliance with the City and State food safety regulations since 2018. SUBWAY and CAFE TO GO have not been improving their compliance with the food safety regulations since 2017, even though they received A grade in 2019."
   ]
  },
  {
   "cell_type": "code",
   "execution_count": null,
   "metadata": {},
   "outputs": [],
   "source": [
    "#extracting the data which contain the worst restaurants\n",
    "df2_worst = df1[df1['RESTAURANT'].isin(['LUCKY', 'TOBY-S ESTATE COFFEE BUSHWICK', 'GOURMET PARK', \n",
    "                                        'EMMY SQUARED', 'SOUTHERN GIRLS SOUL FOOD'])]\n",
    "df2_worst"
   ]
  },
  {
   "cell_type": "code",
   "execution_count": null,
   "metadata": {},
   "outputs": [],
   "source": [
    "#extracting the year from 'INSPECTINO DATE' column\n",
    "df2_worst['INSPECTION DATE'] = df2_worst['INSPECTION DATE'].map(lambda x: x.year)"
   ]
  },
  {
   "cell_type": "code",
   "execution_count": null,
   "metadata": {},
   "outputs": [],
   "source": [
    "#creating a line chart to visualize the trend\n",
    "plt.figure(figsize=(15,12))\n",
    "sns.pointplot(x='INSPECTION DATE', y='SCORE', hue='RESTAURANT', data=df2_worst);"
   ]
  },
  {
   "cell_type": "markdown",
   "metadata": {},
   "source": [
    "Based on above line chart, SOUTHEN GIRLS SOUL FOOD, EMMY SQUARED have been getting worse in terms of compliance with the food safety regulations over time, and the other three restaurants such as GOURMET PARK, TOBY-S ESTATE COFFEE BUSHWICK, LUCKY have not been inspected in 2017 and 2018, and their inspection results in 2019 indicated they were not compliant with the food safety regulations. We should not go to these \"worst\" restaurants for our own safety/health reasons."
   ]
  },
  {
   "cell_type": "markdown",
   "metadata": {},
   "source": [
    "### Phase 6: Assess the star ratings and  reviews from Yelp for the best and the worst restaurants, respectively."
   ]
  },
  {
   "cell_type": "markdown",
   "metadata": {},
   "source": [
    "### The best restaurant's ratings, review_counts, and coordinates"
   ]
  },
  {
   "cell_type": "code",
   "execution_count": null,
   "metadata": {},
   "outputs": [],
   "source": [
    "#importing necessary libraries\n",
    "import requests\n",
    "import json"
   ]
  },
  {
   "cell_type": "code",
   "execution_count": null,
   "metadata": {},
   "outputs": [],
   "source": [
    "#api-endpoint\n",
    "api_key = '4ZV6k_jsCYOmslVsz-SDQgRCYsOngFjXx6vbdY-09nDR6UsSEDjVXu-wgDCJDnVSAVTjYBr1PZFsm00JOFfYRzaavn_ObxoflOlWJCO3SON5Z1q5lIgZXx_REEawXHYx'\n",
    "headers = {'Authorization': 'Bearer %s' % api_key}"
   ]
  },
  {
   "cell_type": "code",
   "execution_count": null,
   "metadata": {},
   "outputs": [],
   "source": [
    "#using phone number to request CROWN FRIED CHICKEN (one of the best) restaurant from Yelp (other best restaurants unavailable)\n",
    "url1='https://api.yelp.com/v3/businesses/search/phone'\n",
    "params1 = {'phone':'+13474058729'}\n",
    "req1 = requests.get(url1, params=params1, headers=headers)\n",
    "data1 = req1.json()\n",
    "data1"
   ]
  },
  {
   "cell_type": "code",
   "execution_count": null,
   "metadata": {},
   "outputs": [],
   "source": [
    "#extracting the values(elements) in the 'businesses' key from data1 dict.\n",
    "data1 = data1['businesses']\n",
    "data1"
   ]
  },
  {
   "cell_type": "code",
   "execution_count": null,
   "metadata": {},
   "outputs": [],
   "source": [
    "#converting data1 to pandas DataFrame.\n",
    "data1_df = pd.DataFrame(data1)\n",
    "data1_df"
   ]
  },
  {
   "cell_type": "code",
   "execution_count": null,
   "metadata": {},
   "outputs": [],
   "source": [
    "#separating the coordinates into latitude and longitude\n",
    "best_loc = data1_df['coordinates'].apply(pd.Series)\n",
    "best_loc"
   ]
  },
  {
   "cell_type": "markdown",
   "metadata": {},
   "source": [
    "Based on data1_df, CROWN FRIED CHICKEN has star rating of 1.5 and the review_count is only 4 according to Yelp, even though the restaurant inspection result describes this restaurant as one of the top 5 in terms of compliance with the food safety regulations. I will further investigate the review comments on Yelp in the later steps.\n",
    "<br>\n",
    "Also, above table best_loc shows the latitude and the longitude of one of the best restaurant, CROWN FRIED CHICKEN. I will plot it on the map after I obtain the latitude and the longitude of the worst restaurant, SOUTHERN GIRLS SOUL FOOD."
   ]
  },
  {
   "cell_type": "markdown",
   "metadata": {},
   "source": [
    "### The worst restaurant's ratings, review_counts, and coordinates"
   ]
  },
  {
   "cell_type": "code",
   "execution_count": null,
   "metadata": {},
   "outputs": [],
   "source": [
    "#using phone number to request SOUTHERN GIRLS SOUL FOOD (the worst) restaurant from Yelp\n",
    "url2='https://api.yelp.com/v3/businesses/search/phone'\n",
    "params2 = {'phone':'+17189490400'}\n",
    "req2 = requests.get(url2, params=params2, headers=headers)\n",
    "data2 = req2.json()\n",
    "data2"
   ]
  },
  {
   "cell_type": "code",
   "execution_count": null,
   "metadata": {},
   "outputs": [],
   "source": [
    "#extracting the values(elements) in the 'businesses' key from data2 dict.\n",
    "data2 = data2['businesses']\n",
    "data2"
   ]
  },
  {
   "cell_type": "code",
   "execution_count": null,
   "metadata": {},
   "outputs": [],
   "source": [
    "#converting data2 to pandas DataFrame.\n",
    "data2_df = pd.DataFrame(data2)\n",
    "data2_df"
   ]
  },
  {
   "cell_type": "code",
   "execution_count": null,
   "metadata": {},
   "outputs": [],
   "source": [
    "#separating the coordinates into latitude and longitude\n",
    "worst_loc = data2_df['coordinates'].apply(pd.Series)\n",
    "worst_loc"
   ]
  },
  {
   "cell_type": "markdown",
   "metadata": {},
   "source": [
    "Based on data2_df, SOUTHERN GIRLS SOUL FOOD has star rating of 2.5 and the review_count is 73 according to Yelp, even though the restaurant inspection result describes this restaurant as one of the worst in terms of compliance with the food safety regulations. I will further investigate the review comments on Yelp in the later steps.<br> This is surprising because the star rating of the best restaurant CROWN FRIED CHICKEN was 1.5 and the review_count was only 4 according to Yelp as described above.<br> \n",
    "The table worst_loc above shows the latitude and the longitude of one of the worst restaurant, SOUTHERN GIRLS SOUL FOOD. I will plot the best restaurant and the worst restaurant on the map as below."
   ]
  },
  {
   "cell_type": "code",
   "execution_count": null,
   "metadata": {},
   "outputs": [],
   "source": [
    "#combining the two dataframes, best_loc and worst_loc into one\n",
    "location_df = best_loc.append(worst_loc, ignore_index=True)\n",
    "location_df"
   ]
  },
  {
   "cell_type": "code",
   "execution_count": null,
   "metadata": {},
   "outputs": [],
   "source": [
    "#combining the two dataframes, data1_df and data2_df into one\n",
    "data12_df = data1_df.append(data2_df, ignore_index=True)\n",
    "data12_df"
   ]
  },
  {
   "cell_type": "code",
   "execution_count": null,
   "metadata": {},
   "outputs": [],
   "source": [
    "#concatenating the two dataframes\n",
    "concat_df = pd.concat([location_df, data12_df], axis=1, sort=False)\n",
    "concat_df"
   ]
  },
  {
   "cell_type": "code",
   "execution_count": null,
   "metadata": {},
   "outputs": [],
   "source": [
    "#declaring a list that is to be converted into a column \n",
    "best_worst = ['the best restaurant', 'the worst restaurant'] \n",
    "  \n",
    "#using 'recommendation' as the column name and equating it to the list \n",
    "concat_df['recommendation'] = best_worst\n",
    "concat_df"
   ]
  },
  {
   "cell_type": "code",
   "execution_count": null,
   "metadata": {},
   "outputs": [],
   "source": [
    "#importing necessary libraries\n",
    "import folium \n",
    "import pandas as pd \n",
    "\n",
    "#Making an empty map using New York Coordinates: 40.7128° N, 74.0060° W\n",
    "m = folium.Map(location=[40.71, -74.0060], tiles=\"OpenStreetMap\", zoom_start=11) \n",
    "\n",
    "#adding marker one by one on the map \n",
    "for i in range(0,len(concat_df)): \n",
    "    my_string = 'recommendation: {}, phone: {}'.format(concat_df.iloc[i]['recommendation'], concat_df.iloc[i]['phone'])\n",
    "    folium.Marker([concat_df.iloc[i]['latitude'], concat_df.iloc[i]['longitude']], tooltip=concat_df.iloc[i]['name'], \n",
    "                  popup=my_string\n",
    "                  ).add_to(m) \n",
    "m\n",
    "\n",
    "# Save it as html\n",
    "m.save('nyc_restaurants_map.html')\n",
    "\n",
    "from IPython.display import HTML\n",
    "HTML('<iframe src=nyc_restaurants_map.html width=700 height=450></iframe>')"
   ]
  },
  {
   "cell_type": "markdown",
   "metadata": {},
   "source": [
    "On the map above, I showed the best restaurant and the worst restaurant that has popup displaying the recommendation such as \"best\" or \"worst\" and the phone number respectively, as well as the tooltip that displays the respective restaurant name."
   ]
  },
  {
   "cell_type": "markdown",
   "metadata": {},
   "source": [
    "### Phase 7: Assess the review comments from Yelp for the best and the worst restaurants, respectively."
   ]
  },
  {
   "cell_type": "markdown",
   "metadata": {},
   "source": [
    "### The best restaurant, CROWN FRIED CHICKEN reviews"
   ]
  },
  {
   "cell_type": "code",
   "execution_count": null,
   "metadata": {},
   "outputs": [],
   "source": [
    "#requesting the CROWN FRIED CHICKEN review comments from Yelp\n",
    "url3 = \"https://api.yelp.com/v3/businesses/Rl7CGxslRTQ1hF5GfvYXNw/reviews\"\n",
    "req3 = requests.get(url3, headers=headers)\n",
    "data3 = req3.json()\n",
    "data3"
   ]
  },
  {
   "cell_type": "code",
   "execution_count": null,
   "metadata": {},
   "outputs": [],
   "source": [
    "#extracting the values(elements) in the 'reviews' key from data3 dict.\n",
    "data3 = data3['reviews']\n",
    "data3"
   ]
  },
  {
   "cell_type": "code",
   "execution_count": null,
   "metadata": {},
   "outputs": [],
   "source": [
    "#converting data3 to pandas DataFrame.\n",
    "data3_df = pd.DataFrame(data3)\n",
    "data3_df"
   ]
  },
  {
   "cell_type": "markdown",
   "metadata": {},
   "source": [
    "Based on the text column in above data3_df table, the reviews were not good. One of the review said this place was disgusting, and another review said there was a mouse trap and found a fly in cheese burger. However, both of these reviews were created on April 12, 2018. The restaurant inspection date that I used to assess was May 2, 2019, which means the CROWN FRIED CHICKEN restaurant made an effort to improve their compliance with the food safety regulations. This also matches with the result that I drew based on the line chart above."
   ]
  },
  {
   "cell_type": "markdown",
   "metadata": {},
   "source": [
    "### The worst restaurant, SOUTHERN GIRLS SOUL FOOD reviews"
   ]
  },
  {
   "cell_type": "code",
   "execution_count": null,
   "metadata": {},
   "outputs": [],
   "source": [
    "#requesting the SOUTHERN GIRLS SOUL FOOD review comments from Yelp\n",
    "url4 = \"https://api.yelp.com/v3/businesses/EaXnHlHPntg7of31PlfWgA/reviews\"\n",
    "req4 = requests.get(url4, headers=headers)\n",
    "data4 = req4.json()\n",
    "data4"
   ]
  },
  {
   "cell_type": "code",
   "execution_count": null,
   "metadata": {},
   "outputs": [],
   "source": [
    "#extracting the values(elements) in the 'reviews' key from data4 dict.\n",
    "data4 = data4['reviews']\n",
    "data4"
   ]
  },
  {
   "cell_type": "code",
   "execution_count": null,
   "metadata": {},
   "outputs": [],
   "source": [
    "#converting data4 to pandas DataFrame.\n",
    "data4_df = pd.DataFrame(data4)\n",
    "data4_df"
   ]
  },
  {
   "cell_type": "markdown",
   "metadata": {},
   "source": [
    "Based on the text column in above data4_df table, the reviews are not consistent. One review that gave 4 star rating said it was well worth the drive to get some quality time and good soul food. However, the other two reviews gave 1 star ratings, respectively, and one review said the reviewer was going to state nice things before going into the restaurant, and another review said if he/she could give 0 star he/she would, because of the taste of food.\n",
    "These reviews were all posted in 2019, and based on the line chart above, SOUTHERN GIRLS SOUL FOOD have been getting worse since 2018. Hence, even though one of the recent reviewer said it was well worth the drive for the quality time and good soul food, I would not recommend this restauarant, as the reviewer did not say about food safety, and the restaurant inspection result showed this restaurant received the highest violation score in May 2, 2019."
   ]
  },
  {
   "cell_type": "markdown",
   "metadata": {},
   "source": [
    "Considering altogether, I could find that the reviews and the star ratings from Yelp do not always match with the restaurant inspection result. Some reviewers gave a high star rating because of the taste of food, not mentioning their compliance with the food safety regulations. Hence, I would suggest that we shoud take into account the restaurant inspection result before we go to the restaurant, instead of solely relying on the star ratings and reviews on the Yelp, because great taste or service or convenient distance do not guarantee the safety of food they serve."
   ]
  },
  {
   "cell_type": "markdown",
   "metadata": {},
   "source": [
    "### Phase 8: Assess the inspection results of the Yelp's best restaurants in NYC"
   ]
  },
  {
   "cell_type": "markdown",
   "metadata": {},
   "source": [
    "### Lastly, I will assess the inspection results of the best restaurants in NYC recommended by Yelp, to see if there is discrepancy."
   ]
  },
  {
   "cell_type": "code",
   "execution_count": null,
   "metadata": {},
   "outputs": [],
   "source": [
    "#importing the best restaurants in New York City from Yelp.com\n",
    "params = {'term':'restaurant','location':'New York City'}\n",
    "url5 = 'https://api.yelp.com/v3/businesses/search'"
   ]
  },
  {
   "cell_type": "code",
   "execution_count": null,
   "metadata": {},
   "outputs": [],
   "source": [
    "#sending get requst to extract New York City restaurants and saving the response as req5, response object.\n",
    "req5 = requests.get(url5, params=params, headers=headers)\n",
    "req5"
   ]
  },
  {
   "cell_type": "code",
   "execution_count": null,
   "metadata": {},
   "outputs": [],
   "source": [
    "#returning a dictionary containing JSON parsed into native Python objects using the response object's json method.\n",
    "data5 = req5.json()\n",
    "data5"
   ]
  },
  {
   "cell_type": "code",
   "execution_count": null,
   "metadata": {},
   "outputs": [],
   "source": [
    "#extracting the values(elements) in the 'businesses' key from data5 dict.\n",
    "data5 = data5['businesses']\n",
    "data5"
   ]
  },
  {
   "cell_type": "code",
   "execution_count": null,
   "metadata": {},
   "outputs": [],
   "source": [
    "#converting data5 into dataframe\n",
    "data5_df = pd.DataFrame(data5)\n",
    "data5_df.head()"
   ]
  },
  {
   "cell_type": "markdown",
   "metadata": {},
   "source": [
    "Above data5_df shows the best restaurants in New York recommended by Yelp.com(https://www.yelp.com/search?cflt=restaurants&find_loc=New+York%2C+NY). I will check above five restaurants' inspectino results as below."
   ]
  },
  {
   "cell_type": "code",
   "execution_count": null,
   "metadata": {},
   "outputs": [],
   "source": [
    "#creating a dataframe with a subset of columns in data5_df\n",
    "yelp_best = data5_df[['name','phone','rating', 'review_count']]\n",
    "yelp_best.head(10)"
   ]
  },
  {
   "cell_type": "markdown",
   "metadata": {},
   "source": [
    "Above table shows the best 10 restaurants in New York suggested by Yelp.com."
   ]
  },
  {
   "cell_type": "code",
   "execution_count": null,
   "metadata": {},
   "outputs": [],
   "source": [
    "#extracting the data which contain the top 10 Yelp's recommended restaurants in df1, using phone number\n",
    "inspect_df = df1[df1['PHONE'].isin(['7184839950', '2125332962', '6467915400', '6468580470', '6468337532', '7184513825', \n",
    "                                    '2122545370', '2127305848', '2128371616', '2125644430'])]\n",
    "inspect_df"
   ]
  },
  {
   "cell_type": "code",
   "execution_count": null,
   "metadata": {},
   "outputs": [],
   "source": [
    "#extracting the year from 'INSPECTINO DATE' column\n",
    "inspect_df['INSPECTION DATE'] = inspect_df['INSPECTION DATE'].map(lambda x: x.year)"
   ]
  },
  {
   "cell_type": "code",
   "execution_count": null,
   "metadata": {},
   "outputs": [],
   "source": [
    "#grouping by 'RESTAURANT','STREET',GRADE','INSPECTION DATE' and then calculating the mean of 'SCORE' column.\n",
    "grouped_inspect_df = inspect_df.groupby(['RESTAURANT','STREET', 'GRADE', 'INSPECTION DATE'])['SCORE'].agg([('Average Score', 'mean')]).sort_values(by=['RESTAURANT'], ascending=False)\n",
    "grouped_inspect_df"
   ]
  },
  {
   "cell_type": "markdown",
   "metadata": {},
   "source": [
    "Except the three restaurants that do not have matched phone number in the inspection result dataset df1, we can see the GRADE for each of the Yelp's best restaurants. Among the seven restaurants in the table, only three restaurants received A GRADE in 2019, two were not inspected in 2019, and two restaurants received pending grade in 2019. This result also confirms that Yelp's best restaurants are not necessarily compliant with the City and State food safety regulations."
   ]
  },
  {
   "cell_type": "markdown",
   "metadata": {},
   "source": [
    "### Phase 9: Conclusions"
   ]
  },
  {
   "cell_type": "markdown",
   "metadata": {},
   "source": [
    "In conclusion, restaurants that we see as the best restaurants on Yelp.com do not necessarily have the best inspection results. Yelp's star ratings and revews are frequently used to decide where to eat ouside home in our everyday life, however, by doing this project, I learned that the Yelp's star ratings and reviews do not guarantee the respective restaurant's compliance with the City and State food safety regulations. Hence, I would suggest that we should refer to the Health Department's restaurant inspection result once we pick a restaurant based on the Yelp. Although Yelp is a good starting point to search for the restaurant quickly, I think the end-point should be the Helath Department's restaurant inspection result to ensure that we are having food that is safe to eat, and prepared in safe environments."
   ]
  }
 ],
 "metadata": {
  "kernelspec": {
   "display_name": "Python 3",
   "language": "python",
   "name": "python3"
  },
  "language_info": {
   "codemirror_mode": {
    "name": "ipython",
    "version": 3
   },
   "file_extension": ".py",
   "mimetype": "text/x-python",
   "name": "python",
   "nbconvert_exporter": "python",
   "pygments_lexer": "ipython3",
   "version": "3.7.1"
  }
 },
 "nbformat": 4,
 "nbformat_minor": 2
}
